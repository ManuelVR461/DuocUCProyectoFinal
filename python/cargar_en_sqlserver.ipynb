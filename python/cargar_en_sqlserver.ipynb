{
 "cells": [
  {
   "cell_type": "markdown",
   "metadata": {},
   "source": [
    "# requisitos\n",
    "pip install pandas sqlalchemy pyodbc\n",
    "https://learn.microsoft.com/en-us/sql/connect/odbc/download-odbc-driver-for-sql-server?view=sql-server-ver16"
   ]
  },
  {
   "cell_type": "code",
   "execution_count": 3,
   "metadata": {},
   "outputs": [],
   "source": [
    "import pandas as pd\n",
    "import os\n",
    "import sqlalchemy\n",
    "from sqlalchemy.engine import URL\n",
    "import time"
   ]
  },
  {
   "cell_type": "code",
   "execution_count": 5,
   "metadata": {},
   "outputs": [
    {
     "name": "stdout",
     "output_type": "stream",
     "text": [
      "data\\limpios\n"
     ]
    }
   ],
   "source": [
    "# Configuración de la conexión a la base de datos Azure SQL Server\n",
    "# Driver={ODBC Driver 18 for SQL Server};Server=tcp:duoclab.database.windows.net,1433;Database=mercadopublico;Uid=adm;Pwd={your_password_here};Encrypt=yes;TrustServerCertificate=no;Connection Timeout=30;\n",
    "server = 'tcp:localhost'\n",
    "database = 'mercadopublico'\n",
    "username = 'lab'\n",
    "password = 'lab'\n",
    "driver = '{ODBC Driver 18 for SQL Server}'\n",
    "conn_string = f\"DRIVER={driver};SERVER={server};PORT=1433;DATABASE={database};UID={username};PWD={password};Encrypt=yes;TrustServerCertificate=yes;Connection Timeout=30;\"\n",
    "\n",
    "conn_url = URL.create(\"mssql+pyodbc\", query={\"odbc_connect\": conn_string})\n",
    "conn = sqlalchemy.create_engine(conn_url)\n",
    "\n",
    "# conn = pyodbc.connect(connection_string)\n",
    "\n",
    "# Directorio que contiene los archivos CSV\n",
    "\n",
    "directorio = os.path.join('data', 'limpios')\n",
    "print(directorio)"
   ]
  },
  {
   "cell_type": "code",
   "execution_count": 6,
   "metadata": {},
   "outputs": [],
   "source": [
    "# Lista para almacenar los nombres de los archivos CSV en el directorio\n",
    "archivos_csv = [archivo for archivo in os.listdir(directorio) if archivo.endswith('.csv')]\n",
    "archivos_csv = ['2018.csv', '2019.csv', '2020.csv', '2021.csv', '2022.csv', '2023.csv']\n",
    "archivos_csv = ['2014.csv', '2013.csv', '2012.csv', '2011.csv', '2010.csv', '2009.csv', '2008.csv', '2007.csv']"
   ]
  },
  {
   "cell_type": "code",
   "execution_count": 7,
   "metadata": {},
   "outputs": [
    {
     "name": "stderr",
     "output_type": "stream",
     "text": [
      "C:\\Users\\victo\\AppData\\Local\\Temp\\ipykernel_16876\\909781316.py:5: DtypeWarning: Columns (9,21) have mixed types. Specify dtype option on import or set low_memory=False.\n",
      "  datos = pd.read_csv(ruta_archivo, encoding='utf-8')\n"
     ]
    },
    {
     "name": "stdout",
     "output_type": "stream",
     "text": [
      "Cargando 2014.csv\n"
     ]
    }
   ],
   "source": [
    "# Iterar sobre los archivos CSV en el directorio\n",
    "for archivo in archivos_csv:\n",
    "    # Leer el archivo CSV en un DataFrame usando pandas\n",
    "    ruta_archivo = os.path.join(directorio, archivo)\n",
    "    datos = pd.read_csv(ruta_archivo, encoding='utf-8')\n",
    "\n",
    "    # Convertir campos de cadenas a ANSI\n",
    "    # datos = datos.applymap(lambda x: x.encode('ansi', errors='ignore').decode('ansi'))\n",
    "\n",
    "    # Guardar los registros en la tabla de la base de datos\n",
    "    print(f\"Cargando {archivo}\")\n",
    "    start_time = time.time()\n",
    "    datos.to_sql('licitaciones', conn, schema='dbo', if_exists='append', index=False)\n",
    "    elapsed_time = time.time() - start_time\n",
    "    print(f\"*********** {elapsed_time:.2f} segundos grabando en BD\")\n",
    "    del datos\n",
    "\n"
   ]
  },
  {
   "cell_type": "code",
   "execution_count": 15,
   "metadata": {},
   "outputs": [],
   "source": [
    "# Cerrar la conexión a la base de datos\n",
    "conn.dispose()"
   ]
  },
  {
   "cell_type": "code",
   "execution_count": 10,
   "metadata": {},
   "outputs": [
    {
     "name": "stdout",
     "output_type": "stream",
     "text": [
      "accion nandu\n",
      "accion nandu\n"
     ]
    }
   ],
   "source": []
  },
  {
   "cell_type": "code",
   "execution_count": null,
   "metadata": {},
   "outputs": [],
   "source": []
  }
 ],
 "metadata": {
  "kernelspec": {
   "display_name": "Python 3",
   "language": "python",
   "name": "python3"
  },
  "language_info": {
   "codemirror_mode": {
    "name": "ipython",
    "version": 3
   },
   "file_extension": ".py",
   "mimetype": "text/x-python",
   "name": "python",
   "nbconvert_exporter": "python",
   "pygments_lexer": "ipython3",
   "version": "3.12.0"
  }
 },
 "nbformat": 4,
 "nbformat_minor": 2
}
