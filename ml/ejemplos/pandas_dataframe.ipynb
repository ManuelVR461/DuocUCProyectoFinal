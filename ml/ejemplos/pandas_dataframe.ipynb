{
 "cells": [
  {
   "cell_type": "code",
   "execution_count": 2,
   "metadata": {},
   "outputs": [
    {
     "name": "stdout",
     "output_type": "stream",
     "text": [
      "Requirement already satisfied: pydot in c:\\users\\victo\\appdata\\local\\programs\\python\\python39\\lib\\site-packages (1.4.2)\n",
      "Requirement already satisfied: pyparsing>=2.1.4 in c:\\users\\victo\\appdata\\local\\programs\\python\\python39\\lib\\site-packages (from pydot) (3.1.1)\n",
      "Requirement already satisfied: pandas in c:\\users\\victo\\appdata\\local\\programs\\python\\python39\\lib\\site-packages (2.1.2)\n",
      "Requirement already satisfied: numpy<2,>=1.22.4 in c:\\users\\victo\\appdata\\local\\programs\\python\\python39\\lib\\site-packages (from pandas) (1.26.1)\n",
      "Requirement already satisfied: python-dateutil>=2.8.2 in c:\\users\\victo\\appdata\\local\\programs\\python\\python39\\lib\\site-packages (from pandas) (2.8.2)\n",
      "Requirement already satisfied: pytz>=2020.1 in c:\\users\\victo\\appdata\\local\\programs\\python\\python39\\lib\\site-packages (from pandas) (2023.3.post1)\n",
      "Requirement already satisfied: tzdata>=2022.1 in c:\\users\\victo\\appdata\\local\\programs\\python\\python39\\lib\\site-packages (from pandas) (2023.3)\n",
      "Requirement already satisfied: six>=1.5 in c:\\users\\victo\\appdata\\local\\programs\\python\\python39\\lib\\site-packages (from python-dateutil>=2.8.2->pandas) (1.16.0)\n",
      "Requirement already satisfied: tensorflow in c:\\users\\victo\\appdata\\local\\programs\\python\\python39\\lib\\site-packages (2.14.0)\n",
      "Requirement already satisfied: tensorflow-intel==2.14.0 in c:\\users\\victo\\appdata\\local\\programs\\python\\python39\\lib\\site-packages (from tensorflow) (2.14.0)\n",
      "Requirement already satisfied: absl-py>=1.0.0 in c:\\users\\victo\\appdata\\local\\programs\\python\\python39\\lib\\site-packages (from tensorflow-intel==2.14.0->tensorflow) (2.0.0)\n",
      "Requirement already satisfied: astunparse>=1.6.0 in c:\\users\\victo\\appdata\\local\\programs\\python\\python39\\lib\\site-packages (from tensorflow-intel==2.14.0->tensorflow) (1.6.3)\n",
      "Requirement already satisfied: flatbuffers>=23.5.26 in c:\\users\\victo\\appdata\\local\\programs\\python\\python39\\lib\\site-packages (from tensorflow-intel==2.14.0->tensorflow) (23.5.26)\n",
      "Requirement already satisfied: gast!=0.5.0,!=0.5.1,!=0.5.2,>=0.2.1 in c:\\users\\victo\\appdata\\local\\programs\\python\\python39\\lib\\site-packages (from tensorflow-intel==2.14.0->tensorflow) (0.5.4)\n",
      "Requirement already satisfied: google-pasta>=0.1.1 in c:\\users\\victo\\appdata\\local\\programs\\python\\python39\\lib\\site-packages (from tensorflow-intel==2.14.0->tensorflow) (0.2.0)\n",
      "Requirement already satisfied: h5py>=2.9.0 in c:\\users\\victo\\appdata\\local\\programs\\python\\python39\\lib\\site-packages (from tensorflow-intel==2.14.0->tensorflow) (3.10.0)\n",
      "Requirement already satisfied: libclang>=13.0.0 in c:\\users\\victo\\appdata\\local\\programs\\python\\python39\\lib\\site-packages (from tensorflow-intel==2.14.0->tensorflow) (16.0.6)\n",
      "Requirement already satisfied: ml-dtypes==0.2.0 in c:\\users\\victo\\appdata\\local\\programs\\python\\python39\\lib\\site-packages (from tensorflow-intel==2.14.0->tensorflow) (0.2.0)\n",
      "Requirement already satisfied: numpy>=1.23.5 in c:\\users\\victo\\appdata\\local\\programs\\python\\python39\\lib\\site-packages (from tensorflow-intel==2.14.0->tensorflow) (1.26.1)\n",
      "Requirement already satisfied: opt-einsum>=2.3.2 in c:\\users\\victo\\appdata\\local\\programs\\python\\python39\\lib\\site-packages (from tensorflow-intel==2.14.0->tensorflow) (3.3.0)\n",
      "Requirement already satisfied: packaging in c:\\users\\victo\\appdata\\local\\programs\\python\\python39\\lib\\site-packages (from tensorflow-intel==2.14.0->tensorflow) (23.2)\n",
      "Requirement already satisfied: protobuf!=4.21.0,!=4.21.1,!=4.21.2,!=4.21.3,!=4.21.4,!=4.21.5,<5.0.0dev,>=3.20.3 in c:\\users\\victo\\appdata\\local\\programs\\python\\python39\\lib\\site-packages (from tensorflow-intel==2.14.0->tensorflow) (4.25.0)\n",
      "Requirement already satisfied: setuptools in c:\\users\\victo\\appdata\\local\\programs\\python\\python39\\lib\\site-packages (from tensorflow-intel==2.14.0->tensorflow) (49.2.1)\n",
      "Requirement already satisfied: six>=1.12.0 in c:\\users\\victo\\appdata\\local\\programs\\python\\python39\\lib\\site-packages (from tensorflow-intel==2.14.0->tensorflow) (1.16.0)\n",
      "Requirement already satisfied: termcolor>=1.1.0 in c:\\users\\victo\\appdata\\local\\programs\\python\\python39\\lib\\site-packages (from tensorflow-intel==2.14.0->tensorflow) (2.3.0)\n",
      "Requirement already satisfied: typing-extensions>=3.6.6 in c:\\users\\victo\\appdata\\local\\programs\\python\\python39\\lib\\site-packages (from tensorflow-intel==2.14.0->tensorflow) (4.8.0)\n",
      "Requirement already satisfied: wrapt<1.15,>=1.11.0 in c:\\users\\victo\\appdata\\local\\programs\\python\\python39\\lib\\site-packages (from tensorflow-intel==2.14.0->tensorflow) (1.14.1)\n",
      "Requirement already satisfied: tensorflow-io-gcs-filesystem>=0.23.1 in c:\\users\\victo\\appdata\\local\\programs\\python\\python39\\lib\\site-packages (from tensorflow-intel==2.14.0->tensorflow) (0.31.0)\n",
      "Requirement already satisfied: grpcio<2.0,>=1.24.3 in c:\\users\\victo\\appdata\\local\\programs\\python\\python39\\lib\\site-packages (from tensorflow-intel==2.14.0->tensorflow) (1.59.2)\n",
      "Requirement already satisfied: tensorboard<2.15,>=2.14 in c:\\users\\victo\\appdata\\local\\programs\\python\\python39\\lib\\site-packages (from tensorflow-intel==2.14.0->tensorflow) (2.14.1)\n",
      "Requirement already satisfied: tensorflow-estimator<2.15,>=2.14.0 in c:\\users\\victo\\appdata\\local\\programs\\python\\python39\\lib\\site-packages (from tensorflow-intel==2.14.0->tensorflow) (2.14.0)\n",
      "Requirement already satisfied: keras<2.15,>=2.14.0 in c:\\users\\victo\\appdata\\local\\programs\\python\\python39\\lib\\site-packages (from tensorflow-intel==2.14.0->tensorflow) (2.14.0)\n",
      "Requirement already satisfied: wheel<1.0,>=0.23.0 in c:\\users\\victo\\appdata\\local\\programs\\python\\python39\\lib\\site-packages (from astunparse>=1.6.0->tensorflow-intel==2.14.0->tensorflow) (0.41.3)\n",
      "Requirement already satisfied: google-auth<3,>=1.6.3 in c:\\users\\victo\\appdata\\local\\programs\\python\\python39\\lib\\site-packages (from tensorboard<2.15,>=2.14->tensorflow-intel==2.14.0->tensorflow) (2.23.4)\n",
      "Requirement already satisfied: google-auth-oauthlib<1.1,>=0.5 in c:\\users\\victo\\appdata\\local\\programs\\python\\python39\\lib\\site-packages (from tensorboard<2.15,>=2.14->tensorflow-intel==2.14.0->tensorflow) (1.0.0)\n",
      "Requirement already satisfied: markdown>=2.6.8 in c:\\users\\victo\\appdata\\local\\programs\\python\\python39\\lib\\site-packages (from tensorboard<2.15,>=2.14->tensorflow-intel==2.14.0->tensorflow) (3.5.1)\n",
      "Requirement already satisfied: requests<3,>=2.21.0 in c:\\users\\victo\\appdata\\local\\programs\\python\\python39\\lib\\site-packages (from tensorboard<2.15,>=2.14->tensorflow-intel==2.14.0->tensorflow) (2.31.0)\n",
      "Requirement already satisfied: tensorboard-data-server<0.8.0,>=0.7.0 in c:\\users\\victo\\appdata\\local\\programs\\python\\python39\\lib\\site-packages (from tensorboard<2.15,>=2.14->tensorflow-intel==2.14.0->tensorflow) (0.7.2)\n",
      "Requirement already satisfied: werkzeug>=1.0.1 in c:\\users\\victo\\appdata\\local\\programs\\python\\python39\\lib\\site-packages (from tensorboard<2.15,>=2.14->tensorflow-intel==2.14.0->tensorflow) (3.0.1)\n",
      "Requirement already satisfied: cachetools<6.0,>=2.0.0 in c:\\users\\victo\\appdata\\local\\programs\\python\\python39\\lib\\site-packages (from google-auth<3,>=1.6.3->tensorboard<2.15,>=2.14->tensorflow-intel==2.14.0->tensorflow) (5.3.2)\n",
      "Requirement already satisfied: pyasn1-modules>=0.2.1 in c:\\users\\victo\\appdata\\local\\programs\\python\\python39\\lib\\site-packages (from google-auth<3,>=1.6.3->tensorboard<2.15,>=2.14->tensorflow-intel==2.14.0->tensorflow) (0.3.0)\n",
      "Requirement already satisfied: rsa<5,>=3.1.4 in c:\\users\\victo\\appdata\\local\\programs\\python\\python39\\lib\\site-packages (from google-auth<3,>=1.6.3->tensorboard<2.15,>=2.14->tensorflow-intel==2.14.0->tensorflow) (4.9)\n",
      "Requirement already satisfied: requests-oauthlib>=0.7.0 in c:\\users\\victo\\appdata\\local\\programs\\python\\python39\\lib\\site-packages (from google-auth-oauthlib<1.1,>=0.5->tensorboard<2.15,>=2.14->tensorflow-intel==2.14.0->tensorflow) (1.3.1)\n",
      "Requirement already satisfied: importlib-metadata>=4.4 in c:\\users\\victo\\appdata\\local\\programs\\python\\python39\\lib\\site-packages (from markdown>=2.6.8->tensorboard<2.15,>=2.14->tensorflow-intel==2.14.0->tensorflow) (6.8.0)\n",
      "Requirement already satisfied: charset-normalizer<4,>=2 in c:\\users\\victo\\appdata\\local\\programs\\python\\python39\\lib\\site-packages (from requests<3,>=2.21.0->tensorboard<2.15,>=2.14->tensorflow-intel==2.14.0->tensorflow) (3.3.2)\n",
      "Requirement already satisfied: idna<4,>=2.5 in c:\\users\\victo\\appdata\\local\\programs\\python\\python39\\lib\\site-packages (from requests<3,>=2.21.0->tensorboard<2.15,>=2.14->tensorflow-intel==2.14.0->tensorflow) (3.4)\n",
      "Requirement already satisfied: urllib3<3,>=1.21.1 in c:\\users\\victo\\appdata\\local\\programs\\python\\python39\\lib\\site-packages (from requests<3,>=2.21.0->tensorboard<2.15,>=2.14->tensorflow-intel==2.14.0->tensorflow) (2.0.7)\n",
      "Requirement already satisfied: certifi>=2017.4.17 in c:\\users\\victo\\appdata\\local\\programs\\python\\python39\\lib\\site-packages (from requests<3,>=2.21.0->tensorboard<2.15,>=2.14->tensorflow-intel==2.14.0->tensorflow) (2023.7.22)\n",
      "Requirement already satisfied: MarkupSafe>=2.1.1 in c:\\users\\victo\\appdata\\local\\programs\\python\\python39\\lib\\site-packages (from werkzeug>=1.0.1->tensorboard<2.15,>=2.14->tensorflow-intel==2.14.0->tensorflow) (2.1.3)\n",
      "Requirement already satisfied: zipp>=0.5 in c:\\users\\victo\\appdata\\local\\programs\\python\\python39\\lib\\site-packages (from importlib-metadata>=4.4->markdown>=2.6.8->tensorboard<2.15,>=2.14->tensorflow-intel==2.14.0->tensorflow) (3.17.0)\n",
      "Requirement already satisfied: pyasn1<0.6.0,>=0.4.6 in c:\\users\\victo\\appdata\\local\\programs\\python\\python39\\lib\\site-packages (from pyasn1-modules>=0.2.1->google-auth<3,>=1.6.3->tensorboard<2.15,>=2.14->tensorflow-intel==2.14.0->tensorflow) (0.5.0)\n",
      "Requirement already satisfied: oauthlib>=3.0.0 in c:\\users\\victo\\appdata\\local\\programs\\python\\python39\\lib\\site-packages (from requests-oauthlib>=0.7.0->google-auth-oauthlib<1.1,>=0.5->tensorboard<2.15,>=2.14->tensorflow-intel==2.14.0->tensorflow) (3.2.2)\n"
     ]
    }
   ],
   "source": [
    "# Requisitos\n",
    "# IMPORTANTE: En Windows Utilizar Python de 3.6 a 3.9, es requisito de tensorflow\n",
    "# https://graphviz.gitlab.io/download/\n",
    "!pip install pydot\n",
    "!pip install pandas\n",
    "!pip install tensorflow"
   ]
  },
  {
   "cell_type": "markdown",
   "metadata": {
    "id": "zwBCE43Cv3PH"
   },
   "source": [
    "##### Copyright 2019 The TensorFlow Authors.\n",
    "\n",
    "Licensed under the Apache License, Version 2.0 (the \"License\");"
   ]
  },
  {
   "cell_type": "code",
   "execution_count": 3,
   "metadata": {
    "cellView": "form",
    "execution": {
     "iopub.execute_input": "2023-09-30T01:24:48.666478Z",
     "iopub.status.busy": "2023-09-30T01:24:48.665933Z",
     "iopub.status.idle": "2023-09-30T01:24:48.669995Z",
     "shell.execute_reply": "2023-09-30T01:24:48.669450Z"
    },
    "id": "fOad0I2cv569"
   },
   "outputs": [],
   "source": [
    "#@title Licensed under the Apache License, Version 2.0 (the \"License\");\n",
    "# you may not use this file except in compliance with the License.\n",
    "# You may obtain a copy of the License at\n",
    "#\n",
    "# https://www.apache.org/licenses/LICENSE-2.0\n",
    "#\n",
    "# Unless required by applicable law or agreed to in writing, software\n",
    "# distributed under the License is distributed on an \"AS IS\" BASIS,\n",
    "# WITHOUT WARRANTIES OR CONDITIONS OF ANY KIND, either express or implied.\n",
    "# See the License for the specific language governing permissions and\n",
    "# limitations under the License."
   ]
  },
  {
   "cell_type": "markdown",
   "metadata": {
    "id": "YQB7yiF6v9GR"
   },
   "source": [
    "# Load a pandas DataFrame"
   ]
  },
  {
   "cell_type": "markdown",
   "metadata": {
    "id": "Oqa952X4wQKK"
   },
   "source": [
    "<table class=\"tfo-notebook-buttons\" align=\"left\">\n",
    "  <td>\n",
    "    <a target=\"_blank\" href=\"https://www.tensorflow.org/tutorials/load_data/pandas_dataframe\"><img src=\"https://www.tensorflow.org/images/tf_logo_32px.png\" />View on TensorFlow.org</a>\n",
    "  </td>\n",
    "  <td>\n",
    "    <a target=\"_blank\" href=\"https://colab.research.google.com/github/tensorflow/docs/blob/master/site/en/tutorials/load_data/pandas_dataframe.ipynb\"><img src=\"https://www.tensorflow.org/images/colab_logo_32px.png\" />Run in Google Colab</a>\n",
    "  </td>\n",
    "  <td>\n",
    "    <a target=\"_blank\" href=\"https://github.com/tensorflow/docs/blob/master/site/en/tutorials/load_data/pandas_dataframe.ipynb\"><img src=\"https://www.tensorflow.org/images/GitHub-Mark-32px.png\" />View source on GitHub</a>\n",
    "  </td>\n",
    "  <td>\n",
    "    <a href=\"https://storage.googleapis.com/tensorflow_docs/docs/site/en/tutorials/load_data/pandas_dataframe.ipynb\"><img src=\"https://www.tensorflow.org/images/download_logo_32px.png\" />Download notebook</a>\n",
    "  </td>\n",
    "</table>"
   ]
  },
  {
   "cell_type": "markdown",
   "metadata": {
    "id": "UmyEaf4Awl2v"
   },
   "source": [
    "This tutorial provides examples of how to load <a href=\"https://pandas.pydata.org/docs/reference/api/pandas.DataFrame.html\" class=\"external\">pandas DataFrames</a> into TensorFlow.\n",
    "\n",
    "You will use a small <a href=\"https://archive.ics.uci.edu/ml/datasets/heart+Disease\" class=\"external\">heart disease dataset</a> provided by the UCI Machine Learning Repository. There are several hundred rows in the CSV. Each row describes a patient, and each column describes an attribute. You will use this information to predict whether a patient has heart disease, which is a binary classification task."
   ]
  },
  {
   "cell_type": "markdown",
   "metadata": {
    "id": "iiyC7HkqxlUD"
   },
   "source": [
    "## Read data using pandas"
   ]
  },
  {
   "cell_type": "code",
   "execution_count": 4,
   "metadata": {
    "execution": {
     "iopub.execute_input": "2023-09-30T01:24:48.673816Z",
     "iopub.status.busy": "2023-09-30T01:24:48.673225Z",
     "iopub.status.idle": "2023-09-30T01:24:51.013416Z",
     "shell.execute_reply": "2023-09-30T01:24:51.012726Z"
    },
    "id": "5IoRbCA2n0_V"
   },
   "outputs": [],
   "source": [
    "import pandas as pd\n",
    "import tensorflow as tf\n",
    "\n",
    "SHUFFLE_BUFFER = 500\n",
    "BATCH_SIZE = 2"
   ]
  },
  {
   "cell_type": "markdown",
   "metadata": {
    "id": "-2kBGy_pxn47"
   },
   "source": [
    "Download the CSV file containing the heart disease dataset:"
   ]
  },
  {
   "cell_type": "code",
   "execution_count": 5,
   "metadata": {
    "execution": {
     "iopub.execute_input": "2023-09-30T01:24:51.017692Z",
     "iopub.status.busy": "2023-09-30T01:24:51.017296Z",
     "iopub.status.idle": "2023-09-30T01:24:51.092287Z",
     "shell.execute_reply": "2023-09-30T01:24:51.091629Z"
    },
    "id": "VS4w2LePn9g3"
   },
   "outputs": [],
   "source": [
    "csv_file = tf.keras.utils.get_file('heart.csv', 'https://storage.googleapis.com/download.tensorflow.org/data/heart.csv')"
   ]
  },
  {
   "cell_type": "markdown",
   "metadata": {
    "id": "6BXRPD2-xtQ1"
   },
   "source": [
    "Read the CSV file using pandas:"
   ]
  },
  {
   "cell_type": "code",
   "execution_count": 6,
   "metadata": {
    "execution": {
     "iopub.execute_input": "2023-09-30T01:24:51.095840Z",
     "iopub.status.busy": "2023-09-30T01:24:51.095279Z",
     "iopub.status.idle": "2023-09-30T01:24:51.101266Z",
     "shell.execute_reply": "2023-09-30T01:24:51.100707Z"
    },
    "id": "UEfJ8TcMpe-2"
   },
   "outputs": [],
   "source": [
    "df = pd.read_csv(csv_file)"
   ]
  },
  {
   "cell_type": "markdown",
   "metadata": {
    "id": "4K873P-Pp8c7"
   },
   "source": [
    "This is what the data looks like:"
   ]
  },
  {
   "cell_type": "code",
   "execution_count": 54,
   "metadata": {
    "execution": {
     "iopub.execute_input": "2023-09-30T01:24:51.104836Z",
     "iopub.status.busy": "2023-09-30T01:24:51.104309Z",
     "iopub.status.idle": "2023-09-30T01:24:51.117243Z",
     "shell.execute_reply": "2023-09-30T01:24:51.116656Z"
    },
    "id": "8FkK6QIRpjd4"
   },
   "outputs": [
    {
     "data": {
      "text/html": [
       "<div>\n",
       "<style scoped>\n",
       "    .dataframe tbody tr th:only-of-type {\n",
       "        vertical-align: middle;\n",
       "    }\n",
       "\n",
       "    .dataframe tbody tr th {\n",
       "        vertical-align: top;\n",
       "    }\n",
       "\n",
       "    .dataframe thead th {\n",
       "        text-align: right;\n",
       "    }\n",
       "</style>\n",
       "<table border=\"1\" class=\"dataframe\">\n",
       "  <thead>\n",
       "    <tr style=\"text-align: right;\">\n",
       "      <th></th>\n",
       "      <th>age</th>\n",
       "      <th>sex</th>\n",
       "      <th>cp</th>\n",
       "      <th>trestbps</th>\n",
       "      <th>chol</th>\n",
       "      <th>fbs</th>\n",
       "      <th>restecg</th>\n",
       "      <th>thalach</th>\n",
       "      <th>exang</th>\n",
       "      <th>oldpeak</th>\n",
       "      <th>slope</th>\n",
       "      <th>ca</th>\n",
       "      <th>thal</th>\n",
       "    </tr>\n",
       "  </thead>\n",
       "  <tbody>\n",
       "    <tr>\n",
       "      <th>0</th>\n",
       "      <td>63</td>\n",
       "      <td>1</td>\n",
       "      <td>1</td>\n",
       "      <td>145</td>\n",
       "      <td>233</td>\n",
       "      <td>1</td>\n",
       "      <td>2</td>\n",
       "      <td>150</td>\n",
       "      <td>0</td>\n",
       "      <td>2.3</td>\n",
       "      <td>3</td>\n",
       "      <td>0</td>\n",
       "      <td>fixed</td>\n",
       "    </tr>\n",
       "    <tr>\n",
       "      <th>1</th>\n",
       "      <td>67</td>\n",
       "      <td>1</td>\n",
       "      <td>4</td>\n",
       "      <td>160</td>\n",
       "      <td>286</td>\n",
       "      <td>0</td>\n",
       "      <td>2</td>\n",
       "      <td>108</td>\n",
       "      <td>1</td>\n",
       "      <td>1.5</td>\n",
       "      <td>2</td>\n",
       "      <td>3</td>\n",
       "      <td>normal</td>\n",
       "    </tr>\n",
       "    <tr>\n",
       "      <th>2</th>\n",
       "      <td>67</td>\n",
       "      <td>1</td>\n",
       "      <td>4</td>\n",
       "      <td>120</td>\n",
       "      <td>229</td>\n",
       "      <td>0</td>\n",
       "      <td>2</td>\n",
       "      <td>129</td>\n",
       "      <td>1</td>\n",
       "      <td>2.6</td>\n",
       "      <td>2</td>\n",
       "      <td>2</td>\n",
       "      <td>reversible</td>\n",
       "    </tr>\n",
       "    <tr>\n",
       "      <th>3</th>\n",
       "      <td>37</td>\n",
       "      <td>1</td>\n",
       "      <td>3</td>\n",
       "      <td>130</td>\n",
       "      <td>250</td>\n",
       "      <td>0</td>\n",
       "      <td>0</td>\n",
       "      <td>187</td>\n",
       "      <td>0</td>\n",
       "      <td>3.5</td>\n",
       "      <td>3</td>\n",
       "      <td>0</td>\n",
       "      <td>normal</td>\n",
       "    </tr>\n",
       "    <tr>\n",
       "      <th>4</th>\n",
       "      <td>41</td>\n",
       "      <td>0</td>\n",
       "      <td>2</td>\n",
       "      <td>130</td>\n",
       "      <td>204</td>\n",
       "      <td>0</td>\n",
       "      <td>2</td>\n",
       "      <td>172</td>\n",
       "      <td>0</td>\n",
       "      <td>1.4</td>\n",
       "      <td>1</td>\n",
       "      <td>0</td>\n",
       "      <td>normal</td>\n",
       "    </tr>\n",
       "    <tr>\n",
       "      <th>...</th>\n",
       "      <td>...</td>\n",
       "      <td>...</td>\n",
       "      <td>...</td>\n",
       "      <td>...</td>\n",
       "      <td>...</td>\n",
       "      <td>...</td>\n",
       "      <td>...</td>\n",
       "      <td>...</td>\n",
       "      <td>...</td>\n",
       "      <td>...</td>\n",
       "      <td>...</td>\n",
       "      <td>...</td>\n",
       "      <td>...</td>\n",
       "    </tr>\n",
       "    <tr>\n",
       "      <th>298</th>\n",
       "      <td>52</td>\n",
       "      <td>1</td>\n",
       "      <td>1</td>\n",
       "      <td>118</td>\n",
       "      <td>186</td>\n",
       "      <td>0</td>\n",
       "      <td>2</td>\n",
       "      <td>190</td>\n",
       "      <td>0</td>\n",
       "      <td>0.0</td>\n",
       "      <td>2</td>\n",
       "      <td>0</td>\n",
       "      <td>fixed</td>\n",
       "    </tr>\n",
       "    <tr>\n",
       "      <th>299</th>\n",
       "      <td>43</td>\n",
       "      <td>0</td>\n",
       "      <td>4</td>\n",
       "      <td>132</td>\n",
       "      <td>341</td>\n",
       "      <td>1</td>\n",
       "      <td>2</td>\n",
       "      <td>136</td>\n",
       "      <td>1</td>\n",
       "      <td>3.0</td>\n",
       "      <td>2</td>\n",
       "      <td>0</td>\n",
       "      <td>reversible</td>\n",
       "    </tr>\n",
       "    <tr>\n",
       "      <th>300</th>\n",
       "      <td>65</td>\n",
       "      <td>1</td>\n",
       "      <td>4</td>\n",
       "      <td>135</td>\n",
       "      <td>254</td>\n",
       "      <td>0</td>\n",
       "      <td>2</td>\n",
       "      <td>127</td>\n",
       "      <td>0</td>\n",
       "      <td>2.8</td>\n",
       "      <td>2</td>\n",
       "      <td>1</td>\n",
       "      <td>reversible</td>\n",
       "    </tr>\n",
       "    <tr>\n",
       "      <th>301</th>\n",
       "      <td>48</td>\n",
       "      <td>1</td>\n",
       "      <td>4</td>\n",
       "      <td>130</td>\n",
       "      <td>256</td>\n",
       "      <td>1</td>\n",
       "      <td>2</td>\n",
       "      <td>150</td>\n",
       "      <td>1</td>\n",
       "      <td>0.0</td>\n",
       "      <td>1</td>\n",
       "      <td>2</td>\n",
       "      <td>reversible</td>\n",
       "    </tr>\n",
       "    <tr>\n",
       "      <th>302</th>\n",
       "      <td>63</td>\n",
       "      <td>0</td>\n",
       "      <td>4</td>\n",
       "      <td>150</td>\n",
       "      <td>407</td>\n",
       "      <td>0</td>\n",
       "      <td>2</td>\n",
       "      <td>154</td>\n",
       "      <td>0</td>\n",
       "      <td>4.0</td>\n",
       "      <td>2</td>\n",
       "      <td>3</td>\n",
       "      <td>reversible</td>\n",
       "    </tr>\n",
       "  </tbody>\n",
       "</table>\n",
       "<p>303 rows × 13 columns</p>\n",
       "</div>"
      ],
      "text/plain": [
       "     age  sex  cp  trestbps  chol  fbs  restecg  thalach  exang  oldpeak  \\\n",
       "0     63    1   1       145   233    1        2      150      0      2.3   \n",
       "1     67    1   4       160   286    0        2      108      1      1.5   \n",
       "2     67    1   4       120   229    0        2      129      1      2.6   \n",
       "3     37    1   3       130   250    0        0      187      0      3.5   \n",
       "4     41    0   2       130   204    0        2      172      0      1.4   \n",
       "..   ...  ...  ..       ...   ...  ...      ...      ...    ...      ...   \n",
       "298   52    1   1       118   186    0        2      190      0      0.0   \n",
       "299   43    0   4       132   341    1        2      136      1      3.0   \n",
       "300   65    1   4       135   254    0        2      127      0      2.8   \n",
       "301   48    1   4       130   256    1        2      150      1      0.0   \n",
       "302   63    0   4       150   407    0        2      154      0      4.0   \n",
       "\n",
       "     slope  ca        thal  \n",
       "0        3   0       fixed  \n",
       "1        2   3      normal  \n",
       "2        2   2  reversible  \n",
       "3        3   0      normal  \n",
       "4        1   0      normal  \n",
       "..     ...  ..         ...  \n",
       "298      2   0       fixed  \n",
       "299      2   0  reversible  \n",
       "300      2   1  reversible  \n",
       "301      1   2  reversible  \n",
       "302      2   3  reversible  \n",
       "\n",
       "[303 rows x 13 columns]"
      ]
     },
     "execution_count": 54,
     "metadata": {},
     "output_type": "execute_result"
    }
   ],
   "source": [
    "df"
   ]
  },
  {
   "cell_type": "code",
   "execution_count": 8,
   "metadata": {
    "execution": {
     "iopub.execute_input": "2023-09-30T01:24:51.120558Z",
     "iopub.status.busy": "2023-09-30T01:24:51.120047Z",
     "iopub.status.idle": "2023-09-30T01:24:51.124912Z",
     "shell.execute_reply": "2023-09-30T01:24:51.124344Z"
    },
    "id": "_MOAKz654CT5"
   },
   "outputs": [
    {
     "data": {
      "text/plain": [
       "age           int64\n",
       "sex           int64\n",
       "cp            int64\n",
       "trestbps      int64\n",
       "chol          int64\n",
       "fbs           int64\n",
       "restecg       int64\n",
       "thalach       int64\n",
       "exang         int64\n",
       "oldpeak     float64\n",
       "slope         int64\n",
       "ca            int64\n",
       "thal         object\n",
       "target        int64\n",
       "dtype: object"
      ]
     },
     "execution_count": 8,
     "metadata": {},
     "output_type": "execute_result"
    }
   ],
   "source": [
    "df.dtypes"
   ]
  },
  {
   "cell_type": "markdown",
   "metadata": {
    "id": "jVyGjKvnqGlb"
   },
   "source": [
    "You will build models to predict the label contained in the `target` column."
   ]
  },
  {
   "cell_type": "code",
   "execution_count": 9,
   "metadata": {
    "execution": {
     "iopub.execute_input": "2023-09-30T01:24:51.127849Z",
     "iopub.status.busy": "2023-09-30T01:24:51.127624Z",
     "iopub.status.idle": "2023-09-30T01:24:51.131010Z",
     "shell.execute_reply": "2023-09-30T01:24:51.130462Z"
    },
    "id": "2wwhILm1ycSp"
   },
   "outputs": [],
   "source": [
    "target = df.pop('target')"
   ]
  },
  {
   "cell_type": "markdown",
   "metadata": {
    "id": "vFGv9fgjDeao"
   },
   "source": [
    "## A DataFrame as an array"
   ]
  },
  {
   "cell_type": "markdown",
   "metadata": {
    "id": "xNxJ41MafiB-"
   },
   "source": [
    "If your data has a uniform datatype, or `dtype`, it's possible to use a pandas DataFrame anywhere you could use a NumPy array. This works because the `pandas.DataFrame` class supports the `__array__` protocol, and TensorFlow's `tf.convert_to_tensor` function accepts objects that support the protocol.\n",
    "\n",
    "Take the numeric features from the dataset (skip the categorical features for now):"
   ]
  },
  {
   "cell_type": "code",
   "execution_count": 10,
   "metadata": {
    "execution": {
     "iopub.execute_input": "2023-09-30T01:24:51.134283Z",
     "iopub.status.busy": "2023-09-30T01:24:51.133919Z",
     "iopub.status.idle": "2023-09-30T01:24:51.141860Z",
     "shell.execute_reply": "2023-09-30T01:24:51.141319Z"
    },
    "id": "b9VlFGAie3K0"
   },
   "outputs": [
    {
     "data": {
      "text/html": [
       "<div>\n",
       "<style scoped>\n",
       "    .dataframe tbody tr th:only-of-type {\n",
       "        vertical-align: middle;\n",
       "    }\n",
       "\n",
       "    .dataframe tbody tr th {\n",
       "        vertical-align: top;\n",
       "    }\n",
       "\n",
       "    .dataframe thead th {\n",
       "        text-align: right;\n",
       "    }\n",
       "</style>\n",
       "<table border=\"1\" class=\"dataframe\">\n",
       "  <thead>\n",
       "    <tr style=\"text-align: right;\">\n",
       "      <th></th>\n",
       "      <th>age</th>\n",
       "      <th>thalach</th>\n",
       "      <th>trestbps</th>\n",
       "      <th>chol</th>\n",
       "      <th>oldpeak</th>\n",
       "    </tr>\n",
       "  </thead>\n",
       "  <tbody>\n",
       "    <tr>\n",
       "      <th>0</th>\n",
       "      <td>63</td>\n",
       "      <td>150</td>\n",
       "      <td>145</td>\n",
       "      <td>233</td>\n",
       "      <td>2.3</td>\n",
       "    </tr>\n",
       "    <tr>\n",
       "      <th>1</th>\n",
       "      <td>67</td>\n",
       "      <td>108</td>\n",
       "      <td>160</td>\n",
       "      <td>286</td>\n",
       "      <td>1.5</td>\n",
       "    </tr>\n",
       "    <tr>\n",
       "      <th>2</th>\n",
       "      <td>67</td>\n",
       "      <td>129</td>\n",
       "      <td>120</td>\n",
       "      <td>229</td>\n",
       "      <td>2.6</td>\n",
       "    </tr>\n",
       "    <tr>\n",
       "      <th>3</th>\n",
       "      <td>37</td>\n",
       "      <td>187</td>\n",
       "      <td>130</td>\n",
       "      <td>250</td>\n",
       "      <td>3.5</td>\n",
       "    </tr>\n",
       "    <tr>\n",
       "      <th>4</th>\n",
       "      <td>41</td>\n",
       "      <td>172</td>\n",
       "      <td>130</td>\n",
       "      <td>204</td>\n",
       "      <td>1.4</td>\n",
       "    </tr>\n",
       "  </tbody>\n",
       "</table>\n",
       "</div>"
      ],
      "text/plain": [
       "   age  thalach  trestbps  chol  oldpeak\n",
       "0   63      150       145   233      2.3\n",
       "1   67      108       160   286      1.5\n",
       "2   67      129       120   229      2.6\n",
       "3   37      187       130   250      3.5\n",
       "4   41      172       130   204      1.4"
      ]
     },
     "execution_count": 10,
     "metadata": {},
     "output_type": "execute_result"
    }
   ],
   "source": [
    "numeric_feature_names = ['age', 'thalach', 'trestbps',  'chol', 'oldpeak']\n",
    "numeric_features = df[numeric_feature_names]\n",
    "numeric_features.head()"
   ]
  },
  {
   "cell_type": "markdown",
   "metadata": {
    "id": "Xe1CMRvSpR_R"
   },
   "source": [
    "The DataFrame can be converted to a NumPy array using the `DataFrame.values` property or `numpy.array(df)`. To convert it to a tensor, use `tf.convert_to_tensor`:"
   ]
  },
  {
   "cell_type": "code",
   "execution_count": 11,
   "metadata": {
    "execution": {
     "iopub.execute_input": "2023-09-30T01:24:51.144878Z",
     "iopub.status.busy": "2023-09-30T01:24:51.144651Z",
     "iopub.status.idle": "2023-09-30T01:24:51.737838Z",
     "shell.execute_reply": "2023-09-30T01:24:51.737206Z"
    },
    "id": "OVv6Nwc9oDBU"
   },
   "outputs": [
    {
     "data": {
      "text/plain": [
       "<tf.Tensor: shape=(303, 5), dtype=float64, numpy=\n",
       "array([[ 63. , 150. , 145. , 233. ,   2.3],\n",
       "       [ 67. , 108. , 160. , 286. ,   1.5],\n",
       "       [ 67. , 129. , 120. , 229. ,   2.6],\n",
       "       ...,\n",
       "       [ 65. , 127. , 135. , 254. ,   2.8],\n",
       "       [ 48. , 150. , 130. , 256. ,   0. ],\n",
       "       [ 63. , 154. , 150. , 407. ,   4. ]])>"
      ]
     },
     "execution_count": 11,
     "metadata": {},
     "output_type": "execute_result"
    }
   ],
   "source": [
    "tf.convert_to_tensor(numeric_features)"
   ]
  },
  {
   "cell_type": "markdown",
   "metadata": {
    "id": "7iRYvoTrr1_G"
   },
   "source": [
    "In general, if an object can be converted to a tensor with `tf.convert_to_tensor` it can be passed anywhere you can pass a `tf.Tensor`."
   ]
  },
  {
   "cell_type": "markdown",
   "metadata": {
    "id": "RVF7_Z-Mp-qD"
   },
   "source": [
    "### With Model.fit"
   ]
  },
  {
   "cell_type": "markdown",
   "metadata": {
    "id": "Vqkc9gIapQNu"
   },
   "source": [
    "A DataFrame, interpreted as a single tensor, can be used directly as an argument to the `Model.fit` method.\n",
    "\n",
    "Below is an example of training a model on the numeric features of the dataset."
   ]
  },
  {
   "cell_type": "markdown",
   "metadata": {
    "id": "u8M3oYHZgH_t"
   },
   "source": [
    "The first step is to normalize the input ranges. Use a `tf.keras.layers.Normalization` layer for that.\n",
    "\n",
    "To set the layer's mean and standard-deviation before running it be sure to call the `Normalization.adapt` method:"
   ]
  },
  {
   "cell_type": "code",
   "execution_count": 12,
   "metadata": {
    "execution": {
     "iopub.execute_input": "2023-09-30T01:24:51.741644Z",
     "iopub.status.busy": "2023-09-30T01:24:51.741204Z",
     "iopub.status.idle": "2023-09-30T01:24:51.966557Z",
     "shell.execute_reply": "2023-09-30T01:24:51.965840Z"
    },
    "id": "88XTmyEdgkJn"
   },
   "outputs": [],
   "source": [
    "normalizer = tf.keras.layers.Normalization(axis=-1)\n",
    "normalizer.adapt(numeric_features)"
   ]
  },
  {
   "cell_type": "markdown",
   "metadata": {
    "id": "_D7JqUtnYCnb"
   },
   "source": [
    "Call the layer on the first three rows of the DataFrame to visualize an example of the output from this layer:"
   ]
  },
  {
   "cell_type": "code",
   "execution_count": 13,
   "metadata": {
    "execution": {
     "iopub.execute_input": "2023-09-30T01:24:51.970817Z",
     "iopub.status.busy": "2023-09-30T01:24:51.970241Z",
     "iopub.status.idle": "2023-09-30T01:24:51.981046Z",
     "shell.execute_reply": "2023-09-30T01:24:51.980404Z"
    },
    "id": "jOwzIG-DhB0y"
   },
   "outputs": [
    {
     "data": {
      "text/plain": [
       "<tf.Tensor: shape=(3, 5), dtype=float32, numpy=\n",
       "array([[ 0.93383914,  0.03480718,  0.74578077, -0.26008666,  1.0680453 ],\n",
       "       [ 1.3782105 , -1.7806165 ,  1.5923285 ,  0.7573878 ,  0.38022864],\n",
       "       [ 1.3782105 , -0.87290466, -0.6651321 , -0.3368772 ,  1.3259765 ]],\n",
       "      dtype=float32)>"
      ]
     },
     "execution_count": 13,
     "metadata": {},
     "output_type": "execute_result"
    }
   ],
   "source": [
    "normalizer(numeric_features.iloc[:3])"
   ]
  },
  {
   "cell_type": "markdown",
   "metadata": {
    "id": "KWKcuVZJh-HY"
   },
   "source": [
    "Use the normalization layer as the first layer of a simple model:"
   ]
  },
  {
   "cell_type": "code",
   "execution_count": 14,
   "metadata": {
    "execution": {
     "iopub.execute_input": "2023-09-30T01:24:51.984380Z",
     "iopub.status.busy": "2023-09-30T01:24:51.984135Z",
     "iopub.status.idle": "2023-09-30T01:24:51.988260Z",
     "shell.execute_reply": "2023-09-30T01:24:51.987596Z"
    },
    "id": "lu-bni-nh6mX"
   },
   "outputs": [],
   "source": [
    "def get_basic_model():\n",
    "  model = tf.keras.Sequential([\n",
    "    normalizer,\n",
    "    tf.keras.layers.Dense(10, activation='relu'),\n",
    "    tf.keras.layers.Dense(10, activation='relu'),\n",
    "    tf.keras.layers.Dense(1)\n",
    "  ])\n",
    "\n",
    "  model.compile(optimizer='adam',\n",
    "                loss=tf.keras.losses.BinaryCrossentropy(from_logits=True),\n",
    "                metrics=['accuracy'])\n",
    "  return model"
   ]
  },
  {
   "cell_type": "markdown",
   "metadata": {
    "id": "ntGi6ngYitob"
   },
   "source": [
    "When you pass the DataFrame as the `x` argument to `Model.fit`, Keras treats the DataFrame as it would a NumPy array:"
   ]
  },
  {
   "cell_type": "code",
   "execution_count": 15,
   "metadata": {
    "execution": {
     "iopub.execute_input": "2023-09-30T01:24:51.991450Z",
     "iopub.status.busy": "2023-09-30T01:24:51.990878Z",
     "iopub.status.idle": "2023-09-30T01:24:56.025481Z",
     "shell.execute_reply": "2023-09-30T01:24:56.024818Z"
    },
    "id": "XMjM-eddiNNT"
   },
   "outputs": [
    {
     "name": "stdout",
     "output_type": "stream",
     "text": [
      "Epoch 1/15\n"
     ]
    },
    {
     "name": "stdout",
     "output_type": "stream",
     "text": [
      "152/152 [==============================] - 0s 655us/step - loss: 0.6134 - accuracy: 0.7261\n",
      "Epoch 2/15\n",
      "152/152 [==============================] - 0s 724us/step - loss: 0.5205 - accuracy: 0.7459\n",
      "Epoch 3/15\n",
      "152/152 [==============================] - 0s 587us/step - loss: 0.4810 - accuracy: 0.7492\n",
      "Epoch 4/15\n",
      "152/152 [==============================] - 0s 611us/step - loss: 0.4597 - accuracy: 0.7690\n",
      "Epoch 5/15\n",
      "152/152 [==============================] - 0s 583us/step - loss: 0.4453 - accuracy: 0.7624\n",
      "Epoch 6/15\n",
      "152/152 [==============================] - 0s 621us/step - loss: 0.4376 - accuracy: 0.7822\n",
      "Epoch 7/15\n",
      "152/152 [==============================] - 0s 652us/step - loss: 0.4311 - accuracy: 0.7789\n",
      "Epoch 8/15\n",
      "152/152 [==============================] - 0s 517us/step - loss: 0.4273 - accuracy: 0.7855\n",
      "Epoch 9/15\n",
      "152/152 [==============================] - 0s 623us/step - loss: 0.4242 - accuracy: 0.7822\n",
      "Epoch 10/15\n",
      "152/152 [==============================] - 0s 621us/step - loss: 0.4217 - accuracy: 0.7855\n",
      "Epoch 11/15\n",
      "152/152 [==============================] - 0s 621us/step - loss: 0.4218 - accuracy: 0.7921\n",
      "Epoch 12/15\n",
      "152/152 [==============================] - 0s 621us/step - loss: 0.4188 - accuracy: 0.7888\n",
      "Epoch 13/15\n",
      "152/152 [==============================] - 0s 621us/step - loss: 0.4169 - accuracy: 0.7855\n",
      "Epoch 14/15\n",
      "152/152 [==============================] - 0s 622us/step - loss: 0.4159 - accuracy: 0.7921\n",
      "Epoch 15/15\n",
      "152/152 [==============================] - 0s 746us/step - loss: 0.4153 - accuracy: 0.7888\n"
     ]
    },
    {
     "data": {
      "text/plain": [
       "<keras.src.callbacks.History at 0x191c8e854f0>"
      ]
     },
     "execution_count": 15,
     "metadata": {},
     "output_type": "execute_result"
    }
   ],
   "source": [
    "model = get_basic_model()\n",
    "model.fit(numeric_features, target, epochs=15, batch_size=BATCH_SIZE)"
   ]
  },
  {
   "cell_type": "markdown",
   "metadata": {
    "id": "EjtQbsRPEoJT"
   },
   "source": [
    "### With tf.data"
   ]
  },
  {
   "cell_type": "markdown",
   "metadata": {
    "id": "nSjV5gy3EsVv"
   },
   "source": [
    "If you want to apply `tf.data` transformations to a DataFrame of a uniform `dtype`, the `Dataset.from_tensor_slices` method will create a dataset that iterates over the rows of the DataFrame. Each row is initially a vector of values. To train a model, you need `(inputs, labels)` pairs, so pass `(features, labels)` and `Dataset.from_tensor_slices` will return the needed pairs of slices:"
   ]
  },
  {
   "cell_type": "code",
   "execution_count": 16,
   "metadata": {
    "execution": {
     "iopub.execute_input": "2023-09-30T01:24:56.029187Z",
     "iopub.status.busy": "2023-09-30T01:24:56.028655Z",
     "iopub.status.idle": "2023-09-30T01:24:56.048608Z",
     "shell.execute_reply": "2023-09-30T01:24:56.047866Z"
    },
    "id": "FCphpgdRGikx"
   },
   "outputs": [
    {
     "name": "stdout",
     "output_type": "stream",
     "text": [
      "(<tf.Tensor: shape=(5,), dtype=float64, numpy=array([ 63. , 150. , 145. , 233. ,   2.3])>, <tf.Tensor: shape=(), dtype=int64, numpy=0>)\n",
      "(<tf.Tensor: shape=(5,), dtype=float64, numpy=array([ 67. , 108. , 160. , 286. ,   1.5])>, <tf.Tensor: shape=(), dtype=int64, numpy=1>)\n",
      "(<tf.Tensor: shape=(5,), dtype=float64, numpy=array([ 67. , 129. , 120. , 229. ,   2.6])>, <tf.Tensor: shape=(), dtype=int64, numpy=0>)\n"
     ]
    }
   ],
   "source": [
    "numeric_dataset = tf.data.Dataset.from_tensor_slices((numeric_features, target))\n",
    "\n",
    "for row in numeric_dataset.take(3):\n",
    "  print(row)"
   ]
  },
  {
   "cell_type": "code",
   "execution_count": 17,
   "metadata": {
    "execution": {
     "iopub.execute_input": "2023-09-30T01:24:56.051984Z",
     "iopub.status.busy": "2023-09-30T01:24:56.051451Z",
     "iopub.status.idle": "2023-09-30T01:24:59.752197Z",
     "shell.execute_reply": "2023-09-30T01:24:59.751487Z"
    },
    "id": "lStkN86gEkCe"
   },
   "outputs": [
    {
     "name": "stdout",
     "output_type": "stream",
     "text": [
      "Epoch 1/15\n"
     ]
    },
    {
     "name": "stdout",
     "output_type": "stream",
     "text": [
      "152/152 [==============================] - 0s 643us/step - loss: 0.6554 - accuracy: 0.7261\n",
      "Epoch 2/15\n",
      "152/152 [==============================] - 0s 623us/step - loss: 0.5516 - accuracy: 0.7261\n",
      "Epoch 3/15\n",
      "152/152 [==============================] - 0s 621us/step - loss: 0.4835 - accuracy: 0.7294\n",
      "Epoch 4/15\n",
      "152/152 [==============================] - 0s 626us/step - loss: 0.4544 - accuracy: 0.7393\n",
      "Epoch 5/15\n",
      "152/152 [==============================] - 0s 621us/step - loss: 0.4429 - accuracy: 0.7525\n",
      "Epoch 6/15\n",
      "152/152 [==============================] - 0s 621us/step - loss: 0.4340 - accuracy: 0.7756\n",
      "Epoch 7/15\n",
      "152/152 [==============================] - 0s 517us/step - loss: 0.4301 - accuracy: 0.7822\n",
      "Epoch 8/15\n",
      "152/152 [==============================] - 0s 517us/step - loss: 0.4275 - accuracy: 0.7789\n",
      "Epoch 9/15\n",
      "152/152 [==============================] - 0s 517us/step - loss: 0.4259 - accuracy: 0.7822\n",
      "Epoch 10/15\n",
      "152/152 [==============================] - 0s 593us/step - loss: 0.4228 - accuracy: 0.7855\n",
      "Epoch 11/15\n",
      "152/152 [==============================] - 0s 638us/step - loss: 0.4212 - accuracy: 0.7921\n",
      "Epoch 12/15\n",
      "152/152 [==============================] - 0s 621us/step - loss: 0.4194 - accuracy: 0.7855\n",
      "Epoch 13/15\n",
      "152/152 [==============================] - 0s 621us/step - loss: 0.4179 - accuracy: 0.7822\n",
      "Epoch 14/15\n",
      "152/152 [==============================] - 0s 657us/step - loss: 0.4176 - accuracy: 0.7855\n",
      "Epoch 15/15\n",
      "152/152 [==============================] - 0s 551us/step - loss: 0.4155 - accuracy: 0.7822\n"
     ]
    },
    {
     "data": {
      "text/plain": [
       "<keras.src.callbacks.History at 0x191ca0bab80>"
      ]
     },
     "execution_count": 17,
     "metadata": {},
     "output_type": "execute_result"
    }
   ],
   "source": [
    "numeric_batches = numeric_dataset.shuffle(1000).batch(BATCH_SIZE)\n",
    "\n",
    "model = get_basic_model()\n",
    "model.fit(numeric_batches, epochs=15)"
   ]
  },
  {
   "cell_type": "markdown",
   "metadata": {
    "id": "NRASs9IIESWQ"
   },
   "source": [
    "## A DataFrame as a dictionary"
   ]
  },
  {
   "cell_type": "markdown",
   "metadata": {
    "id": "NQcp7kiPF8TP"
   },
   "source": [
    "When you start dealing with heterogeneous data, it is no longer possible to treat the DataFrame as if it were a single array. TensorFlow tensors require that all elements have the same `dtype`.\n",
    "\n",
    "So, in this case, you need to start treating it as a dictionary of columns, where each column has a uniform `dtype`. A DataFrame is a lot like a dictionary of arrays, so typically all you need to do is cast the DataFrame to a Python dict. Many important TensorFlow APIs support (nested-)dictionaries of arrays as inputs."
   ]
  },
  {
   "cell_type": "markdown",
   "metadata": {
    "id": "9y5UMKL8bury"
   },
   "source": [
    "`tf.data` input pipelines handle this quite well. All `tf.data` operations handle dictionaries and tuples automatically. So, to make a dataset of dictionary-examples from a DataFrame, just cast it to a dict before slicing it with `Dataset.from_tensor_slices`:"
   ]
  },
  {
   "cell_type": "code",
   "execution_count": 18,
   "metadata": {
    "execution": {
     "iopub.execute_input": "2023-09-30T01:24:59.756052Z",
     "iopub.status.busy": "2023-09-30T01:24:59.755411Z",
     "iopub.status.idle": "2023-09-30T01:24:59.765224Z",
     "shell.execute_reply": "2023-09-30T01:24:59.764638Z"
    },
    "id": "U3QDo-jwHYXc"
   },
   "outputs": [],
   "source": [
    "numeric_dict_ds = tf.data.Dataset.from_tensor_slices((dict(numeric_features), target))"
   ]
  },
  {
   "cell_type": "markdown",
   "metadata": {
    "id": "yyEERK9ldIi_"
   },
   "source": [
    "Here are the first three examples from that dataset:"
   ]
  },
  {
   "cell_type": "code",
   "execution_count": 19,
   "metadata": {
    "execution": {
     "iopub.execute_input": "2023-09-30T01:24:59.768542Z",
     "iopub.status.busy": "2023-09-30T01:24:59.768074Z",
     "iopub.status.idle": "2023-09-30T01:24:59.781389Z",
     "shell.execute_reply": "2023-09-30T01:24:59.780803Z"
    },
    "id": "q0tDwk0VdH6D"
   },
   "outputs": [
    {
     "name": "stdout",
     "output_type": "stream",
     "text": [
      "({'age': <tf.Tensor: shape=(), dtype=int64, numpy=63>, 'thalach': <tf.Tensor: shape=(), dtype=int64, numpy=150>, 'trestbps': <tf.Tensor: shape=(), dtype=int64, numpy=145>, 'chol': <tf.Tensor: shape=(), dtype=int64, numpy=233>, 'oldpeak': <tf.Tensor: shape=(), dtype=float64, numpy=2.3>}, <tf.Tensor: shape=(), dtype=int64, numpy=0>)\n",
      "({'age': <tf.Tensor: shape=(), dtype=int64, numpy=67>, 'thalach': <tf.Tensor: shape=(), dtype=int64, numpy=108>, 'trestbps': <tf.Tensor: shape=(), dtype=int64, numpy=160>, 'chol': <tf.Tensor: shape=(), dtype=int64, numpy=286>, 'oldpeak': <tf.Tensor: shape=(), dtype=float64, numpy=1.5>}, <tf.Tensor: shape=(), dtype=int64, numpy=1>)\n",
      "({'age': <tf.Tensor: shape=(), dtype=int64, numpy=67>, 'thalach': <tf.Tensor: shape=(), dtype=int64, numpy=129>, 'trestbps': <tf.Tensor: shape=(), dtype=int64, numpy=120>, 'chol': <tf.Tensor: shape=(), dtype=int64, numpy=229>, 'oldpeak': <tf.Tensor: shape=(), dtype=float64, numpy=2.6>}, <tf.Tensor: shape=(), dtype=int64, numpy=0>)\n"
     ]
    }
   ],
   "source": [
    "for row in numeric_dict_ds.take(3):\n",
    "  print(row)"
   ]
  },
  {
   "cell_type": "markdown",
   "metadata": {
    "id": "DEAM6HAFxlMy"
   },
   "source": [
    "### Dictionaries with Keras"
   ]
  },
  {
   "cell_type": "markdown",
   "metadata": {
    "id": "dnoyoWLWx07i"
   },
   "source": [
    "Typically, Keras models and layers expect a single input tensor, but these classes can accept and return nested structures of dictionaries, tuples and tensors. These structures are known as \"nests\" (refer to the `tf.nest` module for details).\n",
    "\n",
    "There are two equivalent ways you can write a Keras model that accepts a dictionary as input."
   ]
  },
  {
   "cell_type": "markdown",
   "metadata": {
    "id": "5xUTrm0apDTr"
   },
   "source": [
    "#### 1. The Model-subclass style\n",
    "\n",
    "You write a subclass of `tf.keras.Model` (or `tf.keras.Layer`). You directly handle the inputs, and create the outputs:"
   ]
  },
  {
   "cell_type": "code",
   "execution_count": 20,
   "metadata": {
    "execution": {
     "iopub.execute_input": "2023-09-30T01:24:59.785049Z",
     "iopub.status.busy": "2023-09-30T01:24:59.784448Z",
     "iopub.status.idle": "2023-09-30T01:24:59.788318Z",
     "shell.execute_reply": "2023-09-30T01:24:59.787666Z"
    },
    "id": "Zc3HV99CFRWL"
   },
   "outputs": [],
   "source": [
    "def stack_dict(inputs, fun=tf.stack):\n",
    "  values = []\n",
    "  for key in sorted(inputs.keys()):\n",
    "    values.append(tf.cast(inputs[key], tf.float32))\n",
    "  return fun(values, axis=-1)"
   ]
  },
  {
   "cell_type": "code",
   "execution_count": 21,
   "metadata": {
    "execution": {
     "iopub.execute_input": "2023-09-30T01:24:59.791789Z",
     "iopub.status.busy": "2023-09-30T01:24:59.791260Z",
     "iopub.status.idle": "2023-09-30T01:24:59.977513Z",
     "shell.execute_reply": "2023-09-30T01:24:59.976845Z"
    },
    "id": "Rz4Cg6WpzNzi"
   },
   "outputs": [],
   "source": [
    "#@title\n",
    "class MyModel(tf.keras.Model):\n",
    "  def __init__(self):\n",
    "    # Create all the internal layers in init.\n",
    "    super().__init__()\n",
    "\n",
    "    self.normalizer = tf.keras.layers.Normalization(axis=-1)\n",
    "\n",
    "    self.seq = tf.keras.Sequential([\n",
    "      self.normalizer,\n",
    "      tf.keras.layers.Dense(10, activation='relu'),\n",
    "      tf.keras.layers.Dense(10, activation='relu'),\n",
    "      tf.keras.layers.Dense(1)\n",
    "    ])\n",
    "\n",
    "  def adapt(self, inputs):\n",
    "    # Stack the inputs and `adapt` the normalization layer.\n",
    "    inputs = stack_dict(inputs)\n",
    "    self.normalizer.adapt(inputs)\n",
    "\n",
    "  def call(self, inputs):\n",
    "    # Stack the inputs\n",
    "    inputs = stack_dict(inputs)\n",
    "    # Run them through all the layers.\n",
    "    result = self.seq(inputs)\n",
    "\n",
    "    return result\n",
    "\n",
    "model = MyModel()\n",
    "\n",
    "model.adapt(dict(numeric_features))\n",
    "\n",
    "model.compile(optimizer='adam',\n",
    "              loss=tf.keras.losses.BinaryCrossentropy(from_logits=True),\n",
    "              metrics=['accuracy'],\n",
    "              run_eagerly=True)"
   ]
  },
  {
   "cell_type": "markdown",
   "metadata": {
    "id": "hMLXNEDF_tu2"
   },
   "source": [
    "This model can accept either a dictionary of columns or a dataset of dictionary-elements for training:"
   ]
  },
  {
   "cell_type": "code",
   "execution_count": 22,
   "metadata": {
    "execution": {
     "iopub.execute_input": "2023-09-30T01:24:59.981891Z",
     "iopub.status.busy": "2023-09-30T01:24:59.981285Z",
     "iopub.status.idle": "2023-09-30T01:25:17.171226Z",
     "shell.execute_reply": "2023-09-30T01:25:17.170533Z"
    },
    "id": "v3xEjtHY8gZG"
   },
   "outputs": [
    {
     "name": "stdout",
     "output_type": "stream",
     "text": [
      "Epoch 1/5\n",
      "152/152 [==============================] - 2s 12ms/step - loss: 0.6011 - accuracy: 0.7294\n",
      "Epoch 2/5\n",
      "152/152 [==============================] - 2s 12ms/step - loss: 0.5030 - accuracy: 0.7294\n",
      "Epoch 3/5\n",
      "152/152 [==============================] - 2s 11ms/step - loss: 0.4667 - accuracy: 0.7360\n",
      "Epoch 4/5\n",
      "152/152 [==============================] - 2s 12ms/step - loss: 0.4511 - accuracy: 0.7426\n",
      "Epoch 5/5\n",
      "152/152 [==============================] - 2s 11ms/step - loss: 0.4414 - accuracy: 0.7558\n"
     ]
    },
    {
     "data": {
      "text/plain": [
       "<keras.src.callbacks.History at 0x191caa79c70>"
      ]
     },
     "execution_count": 22,
     "metadata": {},
     "output_type": "execute_result"
    }
   ],
   "source": [
    "model.fit(dict(numeric_features), target, epochs=5, batch_size=BATCH_SIZE)"
   ]
  },
  {
   "cell_type": "code",
   "execution_count": 23,
   "metadata": {
    "execution": {
     "iopub.execute_input": "2023-09-30T01:25:17.174886Z",
     "iopub.status.busy": "2023-09-30T01:25:17.174308Z",
     "iopub.status.idle": "2023-09-30T01:25:32.439227Z",
     "shell.execute_reply": "2023-09-30T01:25:32.438550Z"
    },
    "id": "73wgiTaVAA2F"
   },
   "outputs": [
    {
     "name": "stdout",
     "output_type": "stream",
     "text": [
      "Epoch 1/5\n",
      "  1/152 [..............................] - ETA: 2s - loss: 0.2190 - accuracy: 1.0000"
     ]
    },
    {
     "name": "stdout",
     "output_type": "stream",
     "text": [
      "152/152 [==============================] - 2s 10ms/step - loss: 0.4362 - accuracy: 0.7657\n",
      "Epoch 2/5\n",
      "152/152 [==============================] - 2s 11ms/step - loss: 0.4341 - accuracy: 0.7690\n",
      "Epoch 3/5\n",
      "152/152 [==============================] - 2s 10ms/step - loss: 0.4299 - accuracy: 0.7822\n",
      "Epoch 4/5\n",
      "152/152 [==============================] - 2s 10ms/step - loss: 0.4280 - accuracy: 0.7888\n",
      "Epoch 5/5\n",
      "152/152 [==============================] - 2s 10ms/step - loss: 0.4251 - accuracy: 0.7921\n"
     ]
    },
    {
     "data": {
      "text/plain": [
       "<keras.src.callbacks.History at 0x191cbae76a0>"
      ]
     },
     "execution_count": 23,
     "metadata": {},
     "output_type": "execute_result"
    }
   ],
   "source": [
    "numeric_dict_batches = numeric_dict_ds.shuffle(SHUFFLE_BUFFER).batch(BATCH_SIZE)\n",
    "model.fit(numeric_dict_batches, epochs=5)"
   ]
  },
  {
   "cell_type": "markdown",
   "metadata": {
    "id": "-xDB3HLZGzAb"
   },
   "source": [
    "Here are the predictions for the first three examples:"
   ]
  },
  {
   "cell_type": "code",
   "execution_count": 24,
   "metadata": {
    "execution": {
     "iopub.execute_input": "2023-09-30T01:25:32.442701Z",
     "iopub.status.busy": "2023-09-30T01:25:32.442420Z",
     "iopub.status.idle": "2023-09-30T01:25:32.521687Z",
     "shell.execute_reply": "2023-09-30T01:25:32.521024Z"
    },
    "id": "xtolTQA-GpBW"
   },
   "outputs": [
    {
     "name": "stdout",
     "output_type": "stream",
     "text": [
      "1/1 [==============================] - 0s 16ms/step\n"
     ]
    },
    {
     "data": {
      "text/plain": [
       "array([[[0.01930612]],\n",
       "\n",
       "       [[0.36060554]],\n",
       "\n",
       "       [[0.3800438 ]]], dtype=float32)"
      ]
     },
     "execution_count": 24,
     "metadata": {},
     "output_type": "execute_result"
    }
   ],
   "source": [
    "model.predict(dict(numeric_features.iloc[:3]))"
   ]
  },
  {
   "cell_type": "markdown",
   "metadata": {
    "id": "QIIdxIYm13Ik"
   },
   "source": [
    "#### 2. The Keras functional style"
   ]
  },
  {
   "cell_type": "code",
   "execution_count": 25,
   "metadata": {
    "execution": {
     "iopub.execute_input": "2023-09-30T01:25:32.525579Z",
     "iopub.status.busy": "2023-09-30T01:25:32.524813Z",
     "iopub.status.idle": "2023-09-30T01:25:32.534838Z",
     "shell.execute_reply": "2023-09-30T01:25:32.534184Z"
    },
    "id": "DG_bmO0sS_G5"
   },
   "outputs": [
    {
     "data": {
      "text/plain": [
       "{'age': <KerasTensor: shape=(None, 1) dtype=float32 (created by layer 'age')>,\n",
       " 'thalach': <KerasTensor: shape=(None, 1) dtype=float32 (created by layer 'thalach')>,\n",
       " 'trestbps': <KerasTensor: shape=(None, 1) dtype=float32 (created by layer 'trestbps')>,\n",
       " 'chol': <KerasTensor: shape=(None, 1) dtype=float32 (created by layer 'chol')>,\n",
       " 'oldpeak': <KerasTensor: shape=(None, 1) dtype=float32 (created by layer 'oldpeak')>}"
      ]
     },
     "execution_count": 25,
     "metadata": {},
     "output_type": "execute_result"
    }
   ],
   "source": [
    "inputs = {}\n",
    "for name, column in numeric_features.items():\n",
    "  inputs[name] = tf.keras.Input(\n",
    "      shape=(1,), name=name, dtype=tf.float32)\n",
    "\n",
    "inputs"
   ]
  },
  {
   "cell_type": "code",
   "execution_count": 26,
   "metadata": {
    "execution": {
     "iopub.execute_input": "2023-09-30T01:25:32.538333Z",
     "iopub.status.busy": "2023-09-30T01:25:32.537628Z",
     "iopub.status.idle": "2023-09-30T01:25:32.752640Z",
     "shell.execute_reply": "2023-09-30T01:25:32.751866Z"
    },
    "id": "9iXU9oem12dL"
   },
   "outputs": [],
   "source": [
    "x = stack_dict(inputs, fun=tf.concat)\n",
    "\n",
    "normalizer = tf.keras.layers.Normalization(axis=-1)\n",
    "normalizer.adapt(stack_dict(dict(numeric_features)))\n",
    "\n",
    "x = normalizer(x)\n",
    "x = tf.keras.layers.Dense(10, activation='relu')(x)\n",
    "x = tf.keras.layers.Dense(10, activation='relu')(x)\n",
    "x = tf.keras.layers.Dense(1)(x)\n",
    "\n",
    "model = tf.keras.Model(inputs, x)\n",
    "\n",
    "model.compile(optimizer='adam',\n",
    "              loss=tf.keras.losses.BinaryCrossentropy(from_logits=True),\n",
    "              metrics=['accuracy'],\n",
    "              run_eagerly=True)"
   ]
  },
  {
   "cell_type": "code",
   "execution_count": 27,
   "metadata": {
    "execution": {
     "iopub.execute_input": "2023-09-30T01:25:32.756540Z",
     "iopub.status.busy": "2023-09-30T01:25:32.756029Z",
     "iopub.status.idle": "2023-09-30T01:25:32.916755Z",
     "shell.execute_reply": "2023-09-30T01:25:32.915908Z"
    },
    "id": "xrAxmuJrEwnf"
   },
   "outputs": [
    {
     "data": {
      "image/png": "[encoded data removed]",
      "text/plain": [
       "<IPython.core.display.Image object>"
      ]
     },
     "execution_count": 27,
     "metadata": {},
     "output_type": "execute_result"
    }
   ],
   "source": [
    "tf.keras.utils.plot_model(model, rankdir=\"LR\", show_shapes=True)"
   ]
  },
  {
   "cell_type": "markdown",
   "metadata": {
    "id": "UYtoAOIzCFY1"
   },
   "source": [
    "You can train the functional model the same way as the model subclass:"
   ]
  },
  {
   "cell_type": "code",
   "execution_count": 28,
   "metadata": {
    "execution": {
     "iopub.execute_input": "2023-09-30T01:25:32.920710Z",
     "iopub.status.busy": "2023-09-30T01:25:32.920435Z",
     "iopub.status.idle": "2023-09-30T01:25:49.140252Z",
     "shell.execute_reply": "2023-09-30T01:25:49.139512Z"
    },
    "id": "yAwjPq7I_ehX"
   },
   "outputs": [
    {
     "name": "stdout",
     "output_type": "stream",
     "text": [
      "Epoch 1/5\n"
     ]
    },
    {
     "name": "stdout",
     "output_type": "stream",
     "text": [
      "152/152 [==============================] - 2s 11ms/step - loss: 0.6897 - accuracy: 0.7261\n",
      "Epoch 2/5\n",
      "152/152 [==============================] - 2s 11ms/step - loss: 0.6026 - accuracy: 0.7261\n",
      "Epoch 3/5\n",
      "152/152 [==============================] - 2s 11ms/step - loss: 0.5327 - accuracy: 0.7261\n",
      "Epoch 4/5\n",
      "152/152 [==============================] - 2s 11ms/step - loss: 0.4973 - accuracy: 0.7261\n",
      "Epoch 5/5\n",
      "152/152 [==============================] - 2s 11ms/step - loss: 0.4782 - accuracy: 0.7261\n"
     ]
    },
    {
     "data": {
      "text/plain": [
       "<keras.src.callbacks.History at 0x191cbc0f820>"
      ]
     },
     "execution_count": 28,
     "metadata": {},
     "output_type": "execute_result"
    }
   ],
   "source": [
    "model.fit(dict(numeric_features), target, epochs=5, batch_size=BATCH_SIZE)"
   ]
  },
  {
   "cell_type": "code",
   "execution_count": 29,
   "metadata": {
    "execution": {
     "iopub.execute_input": "2023-09-30T01:25:49.144037Z",
     "iopub.status.busy": "2023-09-30T01:25:49.143327Z",
     "iopub.status.idle": "2023-09-30T01:26:05.443667Z",
     "shell.execute_reply": "2023-09-30T01:26:05.442949Z"
    },
    "id": "brwodxxVApO_"
   },
   "outputs": [
    {
     "name": "stdout",
     "output_type": "stream",
     "text": [
      "Epoch 1/5\n",
      "152/152 [==============================] - 2s 11ms/step - loss: 0.4678 - accuracy: 0.7261\n",
      "Epoch 2/5\n",
      "152/152 [==============================] - 2s 11ms/step - loss: 0.4607 - accuracy: 0.7261\n",
      "Epoch 3/5\n",
      "152/152 [==============================] - 2s 11ms/step - loss: 0.4546 - accuracy: 0.7393\n",
      "Epoch 4/5\n",
      "152/152 [==============================] - 2s 11ms/step - loss: 0.4501 - accuracy: 0.7492\n",
      "Epoch 5/5\n",
      "152/152 [==============================] - 2s 11ms/step - loss: 0.4457 - accuracy: 0.7558\n"
     ]
    },
    {
     "data": {
      "text/plain": [
       "<keras.src.callbacks.History at 0x191cbae7640>"
      ]
     },
     "execution_count": 29,
     "metadata": {},
     "output_type": "execute_result"
    }
   ],
   "source": [
    "numeric_dict_batches = numeric_dict_ds.shuffle(SHUFFLE_BUFFER).batch(BATCH_SIZE)\n",
    "model.fit(numeric_dict_batches, epochs=5)"
   ]
  },
  {
   "cell_type": "markdown",
   "metadata": {
    "id": "xhn0Bt_Xw4nO"
   },
   "source": [
    "## Full example"
   ]
  },
  {
   "cell_type": "markdown",
   "metadata": {
    "id": "zYQ5fDaRxRWQ"
   },
   "source": [
    "If you're passing a heterogeneous DataFrame to Keras, each column may need unique preprocessing. You could do this preprocessing directly in the DataFrame, but for a model to work correctly, inputs always need to be preprocessed the same way. So, the best approach is to build the preprocessing into the model. [Keras preprocessing layers](https://www.tensorflow.org/guide/keras/preprocessing_layers) cover many common tasks."
   ]
  },
  {
   "cell_type": "markdown",
   "metadata": {
    "id": "BFsDZeu-BQ-h"
   },
   "source": [
    "### Build the preprocessing head"
   ]
  },
  {
   "cell_type": "markdown",
   "metadata": {
    "id": "C6aVQN4Gw-Va"
   },
   "source": [
    "In this dataset some of the \"integer\" features in the raw data are actually Categorical indices. These indices are not really ordered numeric values (refer to the <a href=\"https://archive.ics.uci.edu/ml/datasets/heart+Disease\" class=\"external\">the dataset description</a> for details). Because these are unordered they are inappropriate to feed directly to the model; the model would interpret them as being ordered. To use these inputs you'll need to encode them, either as one-hot vectors or embedding vectors. The same applies to string-categorical features.\n",
    "\n",
    "Note: If you have many features that need identical preprocessing it's more efficient to concatenate them together before applying the preprocessing.\n",
    "\n",
    "Binary features on the other hand do not generally need to be encoded or normalized.\n",
    "\n",
    "Start by by creating a list of the features that fall into each group:"
   ]
  },
  {
   "cell_type": "code",
   "execution_count": 30,
   "metadata": {
    "execution": {
     "iopub.execute_input": "2023-09-30T01:26:05.447812Z",
     "iopub.status.busy": "2023-09-30T01:26:05.447192Z",
     "iopub.status.idle": "2023-09-30T01:26:05.450767Z",
     "shell.execute_reply": "2023-09-30T01:26:05.450171Z"
    },
    "id": "IH2VCyLBPYX8"
   },
   "outputs": [],
   "source": [
    "binary_feature_names = ['sex', 'fbs', 'exang']"
   ]
  },
  {
   "cell_type": "code",
   "execution_count": 31,
   "metadata": {
    "execution": {
     "iopub.execute_input": "2023-09-30T01:26:05.454091Z",
     "iopub.status.busy": "2023-09-30T01:26:05.453496Z",
     "iopub.status.idle": "2023-09-30T01:26:05.456950Z",
     "shell.execute_reply": "2023-09-30T01:26:05.456358Z"
    },
    "id": "Pxh4FPucOpDz"
   },
   "outputs": [],
   "source": [
    "categorical_feature_names = ['cp', 'restecg', 'slope', 'thal', 'ca']"
   ]
  },
  {
   "cell_type": "markdown",
   "metadata": {
    "id": "HRcC8WkyamJb"
   },
   "source": [
    "The next step is to build a preprocessing model that will apply appropriate preprocessing to each input and concatenate the results.\n",
    "\n",
    "This section uses the [Keras Functional API](https://www.tensorflow.org/guide/keras/functional) to implement  the preprocessing. You start by creating one `tf.keras.Input` for each column of the dataframe:"
   ]
  },
  {
   "cell_type": "code",
   "execution_count": 32,
   "metadata": {
    "execution": {
     "iopub.execute_input": "2023-09-30T01:26:05.459947Z",
     "iopub.status.busy": "2023-09-30T01:26:05.459334Z",
     "iopub.status.idle": "2023-09-30T01:26:05.476173Z",
     "shell.execute_reply": "2023-09-30T01:26:05.475548Z"
    },
    "id": "D3OeiteJbWvI"
   },
   "outputs": [],
   "source": [
    "inputs = {}\n",
    "for name, column in df.items():\n",
    "  if type(column[0]) == str:\n",
    "    dtype = tf.string\n",
    "  elif (name in categorical_feature_names or\n",
    "        name in binary_feature_names):\n",
    "    dtype = tf.int64\n",
    "  else:\n",
    "    dtype = tf.float32\n",
    "\n",
    "  inputs[name] = tf.keras.Input(shape=(), name=name, dtype=dtype)"
   ]
  },
  {
   "cell_type": "code",
   "execution_count": 33,
   "metadata": {
    "execution": {
     "iopub.execute_input": "2023-09-30T01:26:05.478955Z",
     "iopub.status.busy": "2023-09-30T01:26:05.478570Z",
     "iopub.status.idle": "2023-09-30T01:26:05.483112Z",
     "shell.execute_reply": "2023-09-30T01:26:05.482556Z"
    },
    "id": "5N3vBMjidpx6"
   },
   "outputs": [
    {
     "data": {
      "text/plain": [
       "{'age': <KerasTensor: shape=(None,) dtype=float32 (created by layer 'age')>,\n",
       " 'sex': <KerasTensor: shape=(None,) dtype=int64 (created by layer 'sex')>,\n",
       " 'cp': <KerasTensor: shape=(None,) dtype=int64 (created by layer 'cp')>,\n",
       " 'trestbps': <KerasTensor: shape=(None,) dtype=float32 (created by layer 'trestbps')>,\n",
       " 'chol': <KerasTensor: shape=(None,) dtype=float32 (created by layer 'chol')>,\n",
       " 'fbs': <KerasTensor: shape=(None,) dtype=int64 (created by layer 'fbs')>,\n",
       " 'restecg': <KerasTensor: shape=(None,) dtype=int64 (created by layer 'restecg')>,\n",
       " 'thalach': <KerasTensor: shape=(None,) dtype=float32 (created by layer 'thalach')>,\n",
       " 'exang': <KerasTensor: shape=(None,) dtype=int64 (created by layer 'exang')>,\n",
       " 'oldpeak': <KerasTensor: shape=(None,) dtype=float32 (created by layer 'oldpeak')>,\n",
       " 'slope': <KerasTensor: shape=(None,) dtype=int64 (created by layer 'slope')>,\n",
       " 'ca': <KerasTensor: shape=(None,) dtype=int64 (created by layer 'ca')>,\n",
       " 'thal': <KerasTensor: shape=(None,) dtype=string (created by layer 'thal')>}"
      ]
     },
     "execution_count": 33,
     "metadata": {},
     "output_type": "execute_result"
    }
   ],
   "source": [
    "inputs"
   ]
  },
  {
   "cell_type": "markdown",
   "metadata": {
    "id": "_EEmzxinyhI4"
   },
   "source": [
    "For each input you'll apply some transformations using Keras layers and TensorFlow ops. Each feature starts as a batch of scalars (`shape=(batch,)`). The output for each  should be a batch of `tf.float32` vectors (`shape=(batch, n)`). The last step will concatenate all those vectors together.\n"
   ]
  },
  {
   "cell_type": "markdown",
   "metadata": {
    "id": "ubBDazjNFWiF"
   },
   "source": [
    "#### Binary inputs\n",
    "\n",
    "Since the binary inputs don't need any preprocessing, just add the vector axis, cast them to `float32` and add them to the list of preprocessed inputs:"
   ]
  },
  {
   "cell_type": "code",
   "execution_count": 34,
   "metadata": {
    "execution": {
     "iopub.execute_input": "2023-09-30T01:26:05.486388Z",
     "iopub.status.busy": "2023-09-30T01:26:05.485849Z",
     "iopub.status.idle": "2023-09-30T01:26:05.510037Z",
     "shell.execute_reply": "2023-09-30T01:26:05.509481Z"
    },
    "id": "tmAIkOIid-Mp"
   },
   "outputs": [
    {
     "data": {
      "text/plain": [
       "[<KerasTensor: shape=(None, 1) dtype=float32 (created by layer 'tf.cast_5')>,\n",
       " <KerasTensor: shape=(None, 1) dtype=float32 (created by layer 'tf.cast_6')>,\n",
       " <KerasTensor: shape=(None, 1) dtype=float32 (created by layer 'tf.cast_7')>]"
      ]
     },
     "execution_count": 34,
     "metadata": {},
     "output_type": "execute_result"
    }
   ],
   "source": [
    "preprocessed = []\n",
    "\n",
    "for name in binary_feature_names:\n",
    "  inp = inputs[name]\n",
    "  inp = inp[:, tf.newaxis]\n",
    "  float_value = tf.cast(inp, tf.float32)\n",
    "  preprocessed.append(float_value)\n",
    "\n",
    "preprocessed"
   ]
  },
  {
   "cell_type": "markdown",
   "metadata": {
    "id": "ZHQcdtG1GN7E"
   },
   "source": [
    "#### Numeric inputs\n",
    "\n",
    "Like in the earlier section you'll want to run these numeric inputs through a `tf.keras.layers.Normalization` layer before using them. The difference is that this time they're input as a dict. The code below collects the numeric features from the DataFrame, stacks them together and passes those to the `Normalization.adapt` method."
   ]
  },
  {
   "cell_type": "code",
   "execution_count": 35,
   "metadata": {
    "execution": {
     "iopub.execute_input": "2023-09-30T01:26:05.512695Z",
     "iopub.status.busy": "2023-09-30T01:26:05.512470Z",
     "iopub.status.idle": "2023-09-30T01:26:05.681986Z",
     "shell.execute_reply": "2023-09-30T01:26:05.681223Z"
    },
    "id": "UC9LaIBNIK5V"
   },
   "outputs": [],
   "source": [
    "normalizer = tf.keras.layers.Normalization(axis=-1)\n",
    "normalizer.adapt(stack_dict(dict(numeric_features)))"
   ]
  },
  {
   "cell_type": "markdown",
   "metadata": {
    "id": "S537tideIpeh"
   },
   "source": [
    "The code below stacks the numeric features and runs them through the normalization layer."
   ]
  },
  {
   "cell_type": "code",
   "execution_count": 36,
   "metadata": {
    "execution": {
     "iopub.execute_input": "2023-09-30T01:26:05.686139Z",
     "iopub.status.busy": "2023-09-30T01:26:05.685495Z",
     "iopub.status.idle": "2023-09-30T01:26:05.710331Z",
     "shell.execute_reply": "2023-09-30T01:26:05.709698Z"
    },
    "id": "U8MJiFpPK5uD"
   },
   "outputs": [
    {
     "data": {
      "text/plain": [
       "[<KerasTensor: shape=(None, 1) dtype=float32 (created by layer 'tf.cast_5')>,\n",
       " <KerasTensor: shape=(None, 1) dtype=float32 (created by layer 'tf.cast_6')>,\n",
       " <KerasTensor: shape=(None, 1) dtype=float32 (created by layer 'tf.cast_7')>,\n",
       " <KerasTensor: shape=(None, 5) dtype=float32 (created by layer 'normalization_3')>]"
      ]
     },
     "execution_count": 36,
     "metadata": {},
     "output_type": "execute_result"
    }
   ],
   "source": [
    "numeric_inputs = {}\n",
    "for name in numeric_feature_names:\n",
    "  numeric_inputs[name]=inputs[name]\n",
    "\n",
    "numeric_inputs = stack_dict(numeric_inputs)\n",
    "numeric_normalized = normalizer(numeric_inputs)\n",
    "\n",
    "preprocessed.append(numeric_normalized)\n",
    "\n",
    "preprocessed"
   ]
  },
  {
   "cell_type": "markdown",
   "metadata": {
    "id": "G5f-VzASKPF7"
   },
   "source": [
    "#### Categorical features"
   ]
  },
  {
   "cell_type": "markdown",
   "metadata": {
    "id": "Z3wcFs1oKVao"
   },
   "source": [
    "To use categorical features you'll first need to encode them into either binary vectors or embeddings. Since these features only contain a small number of categories, convert the inputs directly to one-hot vectors using the `output_mode='one_hot'` option, supported by both the `tf.keras.layers.StringLookup` and `tf.keras.layers.IntegerLookup` layers.\n",
    "\n",
    "Here is an example of how these layers work:"
   ]
  },
  {
   "cell_type": "code",
   "execution_count": 37,
   "metadata": {
    "execution": {
     "iopub.execute_input": "2023-09-30T01:26:05.713889Z",
     "iopub.status.busy": "2023-09-30T01:26:05.713269Z",
     "iopub.status.idle": "2023-09-30T01:26:05.737045Z",
     "shell.execute_reply": "2023-09-30T01:26:05.736418Z"
    },
    "id": "vXleJfBRS9xr"
   },
   "outputs": [
    {
     "data": {
      "text/plain": [
       "<tf.Tensor: shape=(5, 4), dtype=float32, numpy=\n",
       "array([[0., 0., 0., 1.],\n",
       "       [0., 1., 0., 0.],\n",
       "       [0., 1., 0., 0.],\n",
       "       [0., 0., 1., 0.],\n",
       "       [1., 0., 0., 0.]], dtype=float32)>"
      ]
     },
     "execution_count": 37,
     "metadata": {},
     "output_type": "execute_result"
    }
   ],
   "source": [
    "vocab = ['a','b','c']\n",
    "lookup = tf.keras.layers.StringLookup(vocabulary=vocab, output_mode='one_hot')\n",
    "lookup(['c','a','a','b','zzz'])"
   ]
  },
  {
   "cell_type": "code",
   "execution_count": 38,
   "metadata": {
    "execution": {
     "iopub.execute_input": "2023-09-30T01:26:05.739853Z",
     "iopub.status.busy": "2023-09-30T01:26:05.739601Z",
     "iopub.status.idle": "2023-09-30T01:26:05.753143Z",
     "shell.execute_reply": "2023-09-30T01:26:05.752499Z"
    },
    "id": "kRnsFYJiSVmH"
   },
   "outputs": [
    {
     "data": {
      "text/plain": [
       "<tf.Tensor: shape=(3, 5), dtype=float32, numpy=\n",
       "array([[1., 0., 0., 0., 0.],\n",
       "       [0., 0., 1., 0., 0.],\n",
       "       [0., 1., 0., 0., 0.]], dtype=float32)>"
      ]
     },
     "execution_count": 38,
     "metadata": {},
     "output_type": "execute_result"
    }
   ],
   "source": [
    "vocab = [1,4,7,99]\n",
    "lookup = tf.keras.layers.IntegerLookup(vocabulary=vocab, output_mode='one_hot')\n",
    "\n",
    "lookup([-1,4,1])"
   ]
  },
  {
   "cell_type": "markdown",
   "metadata": {
    "id": "est6aCFBZDVs"
   },
   "source": [
    "To determine the vocabulary for each input, create a layer to convert that vocabulary to a one-hot vector:"
   ]
  },
  {
   "cell_type": "code",
   "execution_count": 39,
   "metadata": {
    "execution": {
     "iopub.execute_input": "2023-09-30T01:26:05.756240Z",
     "iopub.status.busy": "2023-09-30T01:26:05.755976Z",
     "iopub.status.idle": "2023-09-30T01:26:05.847332Z",
     "shell.execute_reply": "2023-09-30T01:26:05.846664Z"
    },
    "id": "HELhoFlo0H9Q"
   },
   "outputs": [
    {
     "name": "stdout",
     "output_type": "stream",
     "text": [
      "name: cp\n",
      "vocab: [0, 1, 2, 3, 4]\n",
      "\n",
      "name: restecg\n",
      "vocab: [0, 1, 2]\n",
      "\n",
      "name: slope\n",
      "vocab: [1, 2, 3]\n",
      "\n",
      "name: thal\n",
      "vocab: ['1', '2', 'fixed', 'normal', 'reversible']\n",
      "\n",
      "name: ca\n",
      "vocab: [0, 1, 2, 3]\n",
      "\n"
     ]
    }
   ],
   "source": [
    "for name in categorical_feature_names:\n",
    "  vocab = sorted(set(df[name]))\n",
    "  print(f'name: {name}')\n",
    "  print(f'vocab: {vocab}\\n')\n",
    "\n",
    "  if type(vocab[0]) is str:\n",
    "    lookup = tf.keras.layers.StringLookup(vocabulary=vocab, output_mode='one_hot')\n",
    "  else:\n",
    "    lookup = tf.keras.layers.IntegerLookup(vocabulary=vocab, output_mode='one_hot')\n",
    "\n",
    "  x = inputs[name][:, tf.newaxis]\n",
    "  x = lookup(x)\n",
    "  preprocessed.append(x)"
   ]
  },
  {
   "cell_type": "markdown",
   "metadata": {
    "id": "PzMMkwNBa2pK"
   },
   "source": [
    "#### Assemble the preprocessing head"
   ]
  },
  {
   "cell_type": "markdown",
   "metadata": {
    "id": "GaQ-_pEQbCE8"
   },
   "source": [
    "At this point `preprocessed` is just a Python list of all the preprocessing results, each result has a shape of `(batch_size, depth)`:"
   ]
  },
  {
   "cell_type": "code",
   "execution_count": 40,
   "metadata": {
    "execution": {
     "iopub.execute_input": "2023-09-30T01:26:05.851471Z",
     "iopub.status.busy": "2023-09-30T01:26:05.850821Z",
     "iopub.status.idle": "2023-09-30T01:26:05.855599Z",
     "shell.execute_reply": "2023-09-30T01:26:05.854922Z"
    },
    "id": "LlLaq_BVRlnO"
   },
   "outputs": [
    {
     "data": {
      "text/plain": [
       "[<KerasTensor: shape=(None, 1) dtype=float32 (created by layer 'tf.cast_5')>,\n",
       " <KerasTensor: shape=(None, 1) dtype=float32 (created by layer 'tf.cast_6')>,\n",
       " <KerasTensor: shape=(None, 1) dtype=float32 (created by layer 'tf.cast_7')>,\n",
       " <KerasTensor: shape=(None, 5) dtype=float32 (created by layer 'normalization_3')>,\n",
       " <KerasTensor: shape=(None, 6) dtype=float32 (created by layer 'integer_lookup_1')>,\n",
       " <KerasTensor: shape=(None, 4) dtype=float32 (created by layer 'integer_lookup_2')>,\n",
       " <KerasTensor: shape=(None, 4) dtype=float32 (created by layer 'integer_lookup_3')>,\n",
       " <KerasTensor: shape=(None, 6) dtype=float32 (created by layer 'string_lookup_1')>,\n",
       " <KerasTensor: shape=(None, 5) dtype=float32 (created by layer 'integer_lookup_4')>]"
      ]
     },
     "execution_count": 40,
     "metadata": {},
     "output_type": "execute_result"
    }
   ],
   "source": [
    "preprocessed"
   ]
  },
  {
   "cell_type": "markdown",
   "metadata": {
    "id": "U9lYYHIXbYv-"
   },
   "source": [
    "Concatenate all the preprocessed features along the `depth` axis, so each dictionary-example is converted into a single vector. The vector contains categorical features, numeric features, and categorical one-hot features:"
   ]
  },
  {
   "cell_type": "code",
   "execution_count": 41,
   "metadata": {
    "execution": {
     "iopub.execute_input": "2023-09-30T01:26:05.858917Z",
     "iopub.status.busy": "2023-09-30T01:26:05.858276Z",
     "iopub.status.idle": "2023-09-30T01:26:05.869927Z",
     "shell.execute_reply": "2023-09-30T01:26:05.869347Z"
    },
    "id": "j2I8vpQh313w"
   },
   "outputs": [
    {
     "data": {
      "text/plain": [
       "<KerasTensor: shape=(None, 33) dtype=float32 (created by layer 'tf.concat_1')>"
      ]
     },
     "execution_count": 41,
     "metadata": {},
     "output_type": "execute_result"
    }
   ],
   "source": [
    "preprocesssed_result = tf.concat(preprocessed, axis=-1)\n",
    "preprocesssed_result"
   ]
  },
  {
   "cell_type": "markdown",
   "metadata": {
    "id": "OBFowyJtb0WB"
   },
   "source": [
    "Now create a model out of that calculation so it can be reused:"
   ]
  },
  {
   "cell_type": "code",
   "execution_count": 42,
   "metadata": {
    "execution": {
     "iopub.execute_input": "2023-09-30T01:26:05.873289Z",
     "iopub.status.busy": "2023-09-30T01:26:05.872691Z",
     "iopub.status.idle": "2023-09-30T01:26:05.881723Z",
     "shell.execute_reply": "2023-09-30T01:26:05.881126Z"
    },
    "id": "rHQBFHwE37TO"
   },
   "outputs": [],
   "source": [
    "preprocessor = tf.keras.Model(inputs, preprocesssed_result)"
   ]
  },
  {
   "cell_type": "code",
   "execution_count": 43,
   "metadata": {
    "execution": {
     "iopub.execute_input": "2023-09-30T01:26:05.885182Z",
     "iopub.status.busy": "2023-09-30T01:26:05.884549Z",
     "iopub.status.idle": "2023-09-30T01:26:06.376353Z",
     "shell.execute_reply": "2023-09-30T01:26:06.375409Z"
    },
    "id": "ViMARQ-f6zfx"
   },
   "outputs": [
    {
     "data": {
      "image/png": "[encoded data removed]",
      "text/plain": [
       "<IPython.core.display.Image object>"
      ]
     },
     "execution_count": 43,
     "metadata": {},
     "output_type": "execute_result"
    }
   ],
   "source": [
    "tf.keras.utils.plot_model(preprocessor, rankdir=\"LR\", show_shapes=True)"
   ]
  },
  {
   "cell_type": "markdown",
   "metadata": {
    "id": "IURRtL_WZbht"
   },
   "source": [
    "To test the preprocessor, use the <a href=\"https://pandas.pydata.org/pandas-docs/stable/reference/api/pandas.DataFrame.iloc.html\" class=\"external\">DataFrame.iloc</a> accessor to slice the first example from the DataFrame. Then convert it to a dictionary and pass the dictionary to the preprocessor. The result is a single vector containing the binary features, normalized numeric features and the one-hot categorical features, in that order:"
   ]
  },
  {
   "cell_type": "code",
   "execution_count": 44,
   "metadata": {
    "execution": {
     "iopub.execute_input": "2023-09-30T01:26:06.382867Z",
     "iopub.status.busy": "2023-09-30T01:26:06.382226Z",
     "iopub.status.idle": "2023-09-30T01:26:06.413798Z",
     "shell.execute_reply": "2023-09-30T01:26:06.413139Z"
    },
    "id": "QjBzCKsZUj0y"
   },
   "outputs": [
    {
     "data": {
      "text/plain": [
       "<tf.Tensor: shape=(1, 33), dtype=float32, numpy=\n",
       "array([[ 1.        ,  1.        ,  0.        ,  0.93383914, -0.26008666,\n",
       "         1.0680453 ,  0.03480718,  0.74578077,  0.        ,  0.        ,\n",
       "         1.        ,  0.        ,  0.        ,  0.        ,  0.        ,\n",
       "         0.        ,  0.        ,  1.        ,  0.        ,  0.        ,\n",
       "         0.        ,  1.        ,  0.        ,  0.        ,  0.        ,\n",
       "         1.        ,  0.        ,  0.        ,  0.        ,  1.        ,\n",
       "         0.        ,  0.        ,  0.        ]], dtype=float32)>"
      ]
     },
     "execution_count": 44,
     "metadata": {},
     "output_type": "execute_result"
    }
   ],
   "source": [
    "preprocessor(dict(df.iloc[:1]))"
   ]
  },
  {
   "cell_type": "markdown",
   "metadata": {
    "id": "bB9C0XJkyQEk"
   },
   "source": [
    "### Create and train a model"
   ]
  },
  {
   "cell_type": "markdown",
   "metadata": {
    "id": "WfU_FFXMbKGM"
   },
   "source": [
    "Now build the main body of the model. Use the same configuration as in the previous example: A couple of `Dense` rectified-linear layers and a `Dense(1)` output layer for the classification."
   ]
  },
  {
   "cell_type": "code",
   "execution_count": 45,
   "metadata": {
    "execution": {
     "iopub.execute_input": "2023-09-30T01:26:06.416953Z",
     "iopub.status.busy": "2023-09-30T01:26:06.416722Z",
     "iopub.status.idle": "2023-09-30T01:26:06.426685Z",
     "shell.execute_reply": "2023-09-30T01:26:06.426079Z"
    },
    "id": "75OxXTnfboKN"
   },
   "outputs": [],
   "source": [
    "body = tf.keras.Sequential([\n",
    "  tf.keras.layers.Dense(10, activation='relu'),\n",
    "  tf.keras.layers.Dense(10, activation='relu'),\n",
    "  tf.keras.layers.Dense(1)\n",
    "])"
   ]
  },
  {
   "cell_type": "markdown",
   "metadata": {
    "id": "MpD6WNX5_zh5"
   },
   "source": [
    "Now put the two pieces together using the Keras functional API."
   ]
  },
  {
   "cell_type": "code",
   "execution_count": 46,
   "metadata": {
    "execution": {
     "iopub.execute_input": "2023-09-30T01:26:06.430210Z",
     "iopub.status.busy": "2023-09-30T01:26:06.429655Z",
     "iopub.status.idle": "2023-09-30T01:26:06.434201Z",
     "shell.execute_reply": "2023-09-30T01:26:06.433576Z"
    },
    "id": "_TY_BuVMbNcB"
   },
   "outputs": [
    {
     "data": {
      "text/plain": [
       "{'age': <KerasTensor: shape=(None,) dtype=float32 (created by layer 'age')>,\n",
       " 'sex': <KerasTensor: shape=(None,) dtype=int64 (created by layer 'sex')>,\n",
       " 'cp': <KerasTensor: shape=(None,) dtype=int64 (created by layer 'cp')>,\n",
       " 'trestbps': <KerasTensor: shape=(None,) dtype=float32 (created by layer 'trestbps')>,\n",
       " 'chol': <KerasTensor: shape=(None,) dtype=float32 (created by layer 'chol')>,\n",
       " 'fbs': <KerasTensor: shape=(None,) dtype=int64 (created by layer 'fbs')>,\n",
       " 'restecg': <KerasTensor: shape=(None,) dtype=int64 (created by layer 'restecg')>,\n",
       " 'thalach': <KerasTensor: shape=(None,) dtype=float32 (created by layer 'thalach')>,\n",
       " 'exang': <KerasTensor: shape=(None,) dtype=int64 (created by layer 'exang')>,\n",
       " 'oldpeak': <KerasTensor: shape=(None,) dtype=float32 (created by layer 'oldpeak')>,\n",
       " 'slope': <KerasTensor: shape=(None,) dtype=int64 (created by layer 'slope')>,\n",
       " 'ca': <KerasTensor: shape=(None,) dtype=int64 (created by layer 'ca')>,\n",
       " 'thal': <KerasTensor: shape=(None,) dtype=string (created by layer 'thal')>}"
      ]
     },
     "execution_count": 46,
     "metadata": {},
     "output_type": "execute_result"
    }
   ],
   "source": [
    "inputs"
   ]
  },
  {
   "cell_type": "code",
   "execution_count": 47,
   "metadata": {
    "execution": {
     "iopub.execute_input": "2023-09-30T01:26:06.437266Z",
     "iopub.status.busy": "2023-09-30T01:26:06.436799Z",
     "iopub.status.idle": "2023-09-30T01:26:06.516419Z",
     "shell.execute_reply": "2023-09-30T01:26:06.515721Z"
    },
    "id": "iin2kvA9bDpz"
   },
   "outputs": [
    {
     "data": {
      "text/plain": [
       "<KerasTensor: shape=(None, 33) dtype=float32 (created by layer 'model_1')>"
      ]
     },
     "execution_count": 47,
     "metadata": {},
     "output_type": "execute_result"
    }
   ],
   "source": [
    "x = preprocessor(inputs)\n",
    "x"
   ]
  },
  {
   "cell_type": "code",
   "execution_count": 48,
   "metadata": {
    "execution": {
     "iopub.execute_input": "2023-09-30T01:26:06.519153Z",
     "iopub.status.busy": "2023-09-30T01:26:06.518937Z",
     "iopub.status.idle": "2023-09-30T01:26:06.556555Z",
     "shell.execute_reply": "2023-09-30T01:26:06.555955Z"
    },
    "id": "FQd9PcPRpkP4"
   },
   "outputs": [
    {
     "data": {
      "text/plain": [
       "<KerasTensor: shape=(None, 1) dtype=float32 (created by layer 'sequential_3')>"
      ]
     },
     "execution_count": 48,
     "metadata": {},
     "output_type": "execute_result"
    }
   ],
   "source": [
    "result = body(x)\n",
    "result"
   ]
  },
  {
   "cell_type": "code",
   "execution_count": 49,
   "metadata": {
    "execution": {
     "iopub.execute_input": "2023-09-30T01:26:06.559500Z",
     "iopub.status.busy": "2023-09-30T01:26:06.559061Z",
     "iopub.status.idle": "2023-09-30T01:26:06.571700Z",
     "shell.execute_reply": "2023-09-30T01:26:06.571111Z"
    },
    "id": "v_KerrXabhgP"
   },
   "outputs": [],
   "source": [
    "model = tf.keras.Model(inputs, result)\n",
    "\n",
    "model.compile(optimizer='adam',\n",
    "                loss=tf.keras.losses.BinaryCrossentropy(from_logits=True),\n",
    "                metrics=['accuracy'])"
   ]
  },
  {
   "cell_type": "markdown",
   "metadata": {
    "id": "S1MR-XD9kC6C"
   },
   "source": [
    "This model expects a dictionary of inputs. The simplest way to pass it the data is to convert the DataFrame to a dict and pass that dict as the `x` argument to `Model.fit`:"
   ]
  },
  {
   "cell_type": "code",
   "execution_count": 50,
   "metadata": {
    "execution": {
     "iopub.execute_input": "2023-09-30T01:26:06.574980Z",
     "iopub.status.busy": "2023-09-30T01:26:06.574508Z",
     "iopub.status.idle": "2023-09-30T01:26:08.882091Z",
     "shell.execute_reply": "2023-09-30T01:26:08.881326Z"
    },
    "id": "ybDzNUheqxJw"
   },
   "outputs": [
    {
     "name": "stdout",
     "output_type": "stream",
     "text": [
      "Epoch 1/5\n"
     ]
    },
    {
     "name": "stdout",
     "output_type": "stream",
     "text": [
      "152/152 [==============================] - 1s 782us/step - loss: 0.6229 - accuracy: 0.7195\n",
      "Epoch 2/5\n",
      "152/152 [==============================] - 0s 900us/step - loss: 0.4641 - accuracy: 0.7426\n",
      "Epoch 3/5\n",
      "152/152 [==============================] - 0s 734us/step - loss: 0.3806 - accuracy: 0.7723\n",
      "Epoch 4/5\n",
      "152/152 [==============================] - 0s 817us/step - loss: 0.3393 - accuracy: 0.8020\n",
      "Epoch 5/5\n",
      "152/152 [==============================] - 0s 824us/step - loss: 0.3104 - accuracy: 0.8284\n"
     ]
    }
   ],
   "source": [
    "history = model.fit(dict(df), target, epochs=5, batch_size=BATCH_SIZE)"
   ]
  },
  {
   "cell_type": "markdown",
   "metadata": {
    "id": "dacoEIB_BSsL"
   },
   "source": [
    "Using `tf.data` works as well:"
   ]
  },
  {
   "cell_type": "code",
   "execution_count": 51,
   "metadata": {
    "execution": {
     "iopub.execute_input": "2023-09-30T01:26:08.885634Z",
     "iopub.status.busy": "2023-09-30T01:26:08.885358Z",
     "iopub.status.idle": "2023-09-30T01:26:08.903387Z",
     "shell.execute_reply": "2023-09-30T01:26:08.902787Z"
    },
    "id": "rYadV3wwE4G3"
   },
   "outputs": [],
   "source": [
    "ds = tf.data.Dataset.from_tensor_slices((\n",
    "    dict(df),\n",
    "    target\n",
    "))\n",
    "\n",
    "ds = ds.batch(BATCH_SIZE)"
   ]
  },
  {
   "cell_type": "code",
   "execution_count": 52,
   "metadata": {
    "execution": {
     "iopub.execute_input": "2023-09-30T01:26:08.906698Z",
     "iopub.status.busy": "2023-09-30T01:26:08.906231Z",
     "iopub.status.idle": "2023-09-30T01:26:08.923113Z",
     "shell.execute_reply": "2023-09-30T01:26:08.922475Z"
    },
    "id": "2YIpp2r0bv-6"
   },
   "outputs": [
    {
     "name": "stdout",
     "output_type": "stream",
     "text": [
      "{'age': <tf.Tensor: shape=(2,), dtype=int64, numpy=array([63, 67], dtype=int64)>,\n",
      " 'ca': <tf.Tensor: shape=(2,), dtype=int64, numpy=array([0, 3], dtype=int64)>,\n",
      " 'chol': <tf.Tensor: shape=(2,), dtype=int64, numpy=array([233, 286], dtype=int64)>,\n",
      " 'cp': <tf.Tensor: shape=(2,), dtype=int64, numpy=array([1, 4], dtype=int64)>,\n",
      " 'exang': <tf.Tensor: shape=(2,), dtype=int64, numpy=array([0, 1], dtype=int64)>,\n",
      " 'fbs': <tf.Tensor: shape=(2,), dtype=int64, numpy=array([1, 0], dtype=int64)>,\n",
      " 'oldpeak': <tf.Tensor: shape=(2,), dtype=float64, numpy=array([2.3, 1.5])>,\n",
      " 'restecg': <tf.Tensor: shape=(2,), dtype=int64, numpy=array([2, 2], dtype=int64)>,\n",
      " 'sex': <tf.Tensor: shape=(2,), dtype=int64, numpy=array([1, 1], dtype=int64)>,\n",
      " 'slope': <tf.Tensor: shape=(2,), dtype=int64, numpy=array([3, 2], dtype=int64)>,\n",
      " 'thal': <tf.Tensor: shape=(2,), dtype=string, numpy=array([b'fixed', b'normal'], dtype=object)>,\n",
      " 'thalach': <tf.Tensor: shape=(2,), dtype=int64, numpy=array([150, 108], dtype=int64)>,\n",
      " 'trestbps': <tf.Tensor: shape=(2,), dtype=int64, numpy=array([145, 160], dtype=int64)>}\n",
      "\n",
      "tf.Tensor([0 1], shape=(2,), dtype=int64)\n"
     ]
    }
   ],
   "source": [
    "import pprint\n",
    "\n",
    "for x, y in ds.take(1):\n",
    "  pprint.pprint(x)\n",
    "  print()\n",
    "  print(y)"
   ]
  },
  {
   "cell_type": "code",
   "execution_count": 53,
   "metadata": {
    "execution": {
     "iopub.execute_input": "2023-09-30T01:26:08.926528Z",
     "iopub.status.busy": "2023-09-30T01:26:08.925928Z",
     "iopub.status.idle": "2023-09-30T01:26:10.780124Z",
     "shell.execute_reply": "2023-09-30T01:26:10.779220Z"
    },
    "id": "NMT-AevGFmdu"
   },
   "outputs": [
    {
     "name": "stdout",
     "output_type": "stream",
     "text": [
      "Epoch 1/5\n",
      "152/152 [==============================] - 0s 865us/step - loss: 0.2947 - accuracy: 0.8416\n",
      "Epoch 2/5\n",
      "152/152 [==============================] - 0s 828us/step - loss: 0.2835 - accuracy: 0.8581\n",
      "Epoch 3/5\n",
      "152/152 [==============================] - 0s 895us/step - loss: 0.2751 - accuracy: 0.8680\n",
      "Epoch 4/5\n",
      "152/152 [==============================] - 0s 782us/step - loss: 0.2683 - accuracy: 0.8614\n",
      "Epoch 5/5\n",
      "152/152 [==============================] - 0s 900us/step - loss: 0.2626 - accuracy: 0.8647\n"
     ]
    }
   ],
   "source": [
    "history = model.fit(ds, epochs=5)"
   ]
  }
 ],
 "metadata": {
  "colab": {
   "collapsed_sections": [],
   "name": "pandas_dataframe.ipynb",
   "toc_visible": true
  },
  "kernelspec": {
   "display_name": "Python 3",
   "name": "python3"
  },
  "language_info": {
   "codemirror_mode": {
    "name": "ipython",
    "version": 3
   },
   "file_extension": ".py",
   "mimetype": "text/x-python",
   "name": "python",
   "nbconvert_exporter": "python",
   "pygments_lexer": "ipython3",
   "version": "3.9.0"
  }
 },
 "nbformat": 4,
 "nbformat_minor": 0
}
