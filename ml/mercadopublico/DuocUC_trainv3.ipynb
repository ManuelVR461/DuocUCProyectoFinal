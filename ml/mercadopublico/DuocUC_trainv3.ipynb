{
 "cells": [
  {
   "cell_type": "code",
   "execution_count": null,
   "metadata": {},
   "outputs": [],
   "source": [
    "!pip install missingno\n",
    "!pip install tqdm\n"
   ]
  },
  {
   "cell_type": "code",
   "execution_count": 1,
   "id": "2e093b05-1a2b-4ac0-befe-29fb1279c40c",
   "metadata": {},
   "outputs": [],
   "source": [
    "import os\n",
    "import numpy as np\n",
    "import pandas as pd\n",
    "\n",
    "import warnings\n",
    "warnings.filterwarnings(\"ignore\")\n",
    "\n",
    "%matplotlib inline\n",
    "\n",
    "archivo_csv = 'fact_licitacion-2007_2023-full.csv'\n",
    "directorio_data = os.path.join('..', '..', 'data')"
   ]
  },
  {
   "cell_type": "code",
   "execution_count": 2,
   "id": "f0c86125-dfe8-4bee-b8c4-77f42a795305",
   "metadata": {},
   "outputs": [
    {
     "data": {
      "text/plain": [
       "(12126458, 11)"
      ]
     },
     "execution_count": 2,
     "metadata": {},
     "output_type": "execute_result"
    }
   ],
   "source": [
    "ruta_archivo = os.path.join(directorio_data, archivo_csv)\n",
    "df_csv = pd.read_csv(ruta_archivo, encoding=\"ISO-8859-1\", delimiter=\",\")\n",
    "df_csv.shape"
   ]
  },
  {
   "cell_type": "code",
   "execution_count": 3,
   "id": "9c80b685-eeae-4d5d-8322-c4c493f70fc7",
   "metadata": {},
   "outputs": [],
   "source": [
    "df = df_csv.copy()"
   ]
  },
  {
   "cell_type": "code",
   "execution_count": 4,
   "id": "ec694043-951d-42e6-80f6-d0d531bd74c6",
   "metadata": {},
   "outputs": [],
   "source": [
    "# Convertir 'id_fecha' a formato de fecha y ordenar de forma ascendente\n",
    "df['id_fecha'] = pd.to_datetime(df['id_fecha'], format='%Y%m%d')\n",
    "df = df.sort_values(by='id_fecha')"
   ]
  },
  {
   "cell_type": "code",
   "execution_count": 5,
   "id": "379f182e-3d51-421c-8d90-55a093015416",
   "metadata": {},
   "outputs": [],
   "source": [
    "# 1. Crear características de fecha\n",
    "df['mes'] = df['id_fecha'].dt.month\n",
    "df['trimestre'] = df['id_fecha'].dt.quarter\n",
    "df['anio'] = df['id_fecha'].dt.year"
   ]
  },
  {
   "cell_type": "code",
   "execution_count": 6,
   "id": "c4b7f0a0-6bde-4681-8624-c0246512ec1c",
   "metadata": {},
   "outputs": [
    {
     "data": {
      "text/html": [
       "<div>\n",
       "<style scoped>\n",
       "    .dataframe tbody tr th:only-of-type {\n",
       "        vertical-align: middle;\n",
       "    }\n",
       "\n",
       "    .dataframe tbody tr th {\n",
       "        vertical-align: top;\n",
       "    }\n",
       "\n",
       "    .dataframe thead th {\n",
       "        text-align: right;\n",
       "    }\n",
       "</style>\n",
       "<table border=\"1\" class=\"dataframe\">\n",
       "  <thead>\n",
       "    <tr style=\"text-align: right;\">\n",
       "      <th></th>\n",
       "      <th>anio</th>\n",
       "      <th>mes</th>\n",
       "      <th>id_producto</th>\n",
       "      <th>monto_adjudicado_usd</th>\n",
       "    </tr>\n",
       "  </thead>\n",
       "  <tbody>\n",
       "    <tr>\n",
       "      <th>0</th>\n",
       "      <td>2007</td>\n",
       "      <td>1</td>\n",
       "      <td>10101601</td>\n",
       "      <td>2.332242e+02</td>\n",
       "    </tr>\n",
       "    <tr>\n",
       "      <th>1</th>\n",
       "      <td>2007</td>\n",
       "      <td>1</td>\n",
       "      <td>10101701</td>\n",
       "      <td>1.465283e+01</td>\n",
       "    </tr>\n",
       "    <tr>\n",
       "      <th>2</th>\n",
       "      <td>2007</td>\n",
       "      <td>1</td>\n",
       "      <td>10101901</td>\n",
       "      <td>2.312631e+00</td>\n",
       "    </tr>\n",
       "    <tr>\n",
       "      <th>3</th>\n",
       "      <td>2007</td>\n",
       "      <td>1</td>\n",
       "      <td>10121502</td>\n",
       "      <td>2.459899e+01</td>\n",
       "    </tr>\n",
       "    <tr>\n",
       "      <th>4</th>\n",
       "      <td>2007</td>\n",
       "      <td>1</td>\n",
       "      <td>10121604</td>\n",
       "      <td>1.062330e+02</td>\n",
       "    </tr>\n",
       "    <tr>\n",
       "      <th>...</th>\n",
       "      <td>...</td>\n",
       "      <td>...</td>\n",
       "      <td>...</td>\n",
       "      <td>...</td>\n",
       "    </tr>\n",
       "    <tr>\n",
       "      <th>1079538</th>\n",
       "      <td>2023</td>\n",
       "      <td>6</td>\n",
       "      <td>94121513</td>\n",
       "      <td>6.111767e+04</td>\n",
       "    </tr>\n",
       "    <tr>\n",
       "      <th>1079539</th>\n",
       "      <td>2023</td>\n",
       "      <td>6</td>\n",
       "      <td>94121802</td>\n",
       "      <td>3.149039e+05</td>\n",
       "    </tr>\n",
       "    <tr>\n",
       "      <th>1079540</th>\n",
       "      <td>2023</td>\n",
       "      <td>6</td>\n",
       "      <td>101101001</td>\n",
       "      <td>1.474686e+06</td>\n",
       "    </tr>\n",
       "    <tr>\n",
       "      <th>1079541</th>\n",
       "      <td>2023</td>\n",
       "      <td>6</td>\n",
       "      <td>102101001</td>\n",
       "      <td>2.067456e+06</td>\n",
       "    </tr>\n",
       "    <tr>\n",
       "      <th>1079542</th>\n",
       "      <td>2023</td>\n",
       "      <td>6</td>\n",
       "      <td>104101001</td>\n",
       "      <td>1.189657e+07</td>\n",
       "    </tr>\n",
       "  </tbody>\n",
       "</table>\n",
       "<p>1079543 rows × 4 columns</p>\n",
       "</div>"
      ],
      "text/plain": [
       "         anio  mes  id_producto  monto_adjudicado_usd\n",
       "0        2007    1     10101601          2.332242e+02\n",
       "1        2007    1     10101701          1.465283e+01\n",
       "2        2007    1     10101901          2.312631e+00\n",
       "3        2007    1     10121502          2.459899e+01\n",
       "4        2007    1     10121604          1.062330e+02\n",
       "...       ...  ...          ...                   ...\n",
       "1079538  2023    6     94121513          6.111767e+04\n",
       "1079539  2023    6     94121802          3.149039e+05\n",
       "1079540  2023    6    101101001          1.474686e+06\n",
       "1079541  2023    6    102101001          2.067456e+06\n",
       "1079542  2023    6    104101001          1.189657e+07\n",
       "\n",
       "[1079543 rows x 4 columns]"
      ]
     },
     "execution_count": 6,
     "metadata": {},
     "output_type": "execute_result"
    }
   ],
   "source": [
    "# Agrupa y suma la cantidad de productos por zona\n",
    "nombre_columna_objetivo = 'monto_adjudicado_usd'\n",
    "df_group = df.groupby(['anio','mes','id_producto'])[nombre_columna_objetivo].sum().reset_index()\n",
    "df_group"
   ]
  },
  {
   "cell_type": "code",
   "execution_count": 7,
   "id": "e92d6986-05c6-44ee-81ac-c7eeddc50789",
   "metadata": {},
   "outputs": [
    {
     "name": "stdout",
     "output_type": "stream",
     "text": [
      "id_producto : int64 -> int32\n",
      "mes : int32 -> int32\n",
      "anio : int32 -> int32\n",
      "monto_adjudicado_usd : float64 -> int32\n"
     ]
    }
   ],
   "source": [
    "#los valores de cantidades deben ser valores enteros\n",
    "col_set_int = ['id_producto','mes','anio',nombre_columna_objetivo]\n",
    "\n",
    "#col_set_int = [nombre_columna_objetivo]\n",
    "\n",
    "for col in col_set_int:\n",
    "    antes = df_group[col].dtype\n",
    "    df_group[col] = df_group[col].astype(int)\n",
    "    despues = df_group[col].dtype\n",
    "    print(f'{col} : {antes} -> {despues}')"
   ]
  },
  {
   "cell_type": "code",
   "execution_count": 8,
   "id": "6442e1ec-4a13-4896-84bf-e3f67605ee8a",
   "metadata": {},
   "outputs": [
    {
     "name": "stdout",
     "output_type": "stream",
     "text": [
      "<class 'pandas.core.frame.DataFrame'>\n",
      "RangeIndex: 1079543 entries, 0 to 1079542\n",
      "Data columns (total 4 columns):\n",
      " #   Column                Non-Null Count    Dtype\n",
      "---  ------                --------------    -----\n",
      " 0   anio                  1079543 non-null  int32\n",
      " 1   mes                   1079543 non-null  int32\n",
      " 2   id_producto           1079543 non-null  int32\n",
      " 3   monto_adjudicado_usd  1079543 non-null  int32\n",
      "dtypes: int32(4)\n",
      "memory usage: 16.5 MB\n"
     ]
    }
   ],
   "source": [
    "df_group.info()"
   ]
  },
  {
   "cell_type": "code",
   "execution_count": null,
   "id": "728042f0-ad6c-4d10-92e4-21e0a503e84b",
   "metadata": {},
   "outputs": [],
   "source": [
    "df_group.describe()"
   ]
  },
  {
   "cell_type": "code",
   "execution_count": 9,
   "metadata": {},
   "outputs": [],
   "source": [
    "df_group = df_group.query(nombre_columna_objetivo + ' >= 0')"
   ]
  },
  {
   "cell_type": "code",
   "execution_count": null,
   "metadata": {},
   "outputs": [],
   "source": [
    "df_group.describe()"
   ]
  },
  {
   "cell_type": "code",
   "execution_count": null,
   "metadata": {},
   "outputs": [],
   "source": [
    "resultados = df_group.groupby('id_producto')[nombre_columna_objetivo].agg(['mean', 'std', 'count'])\n"
   ]
  },
  {
   "cell_type": "code",
   "execution_count": null,
   "metadata": {},
   "outputs": [],
   "source": [
    "resultados"
   ]
  },
  {
   "cell_type": "code",
   "execution_count": 10,
   "id": "99e50daf-aff6-479a-910d-b811a413b468",
   "metadata": {},
   "outputs": [],
   "source": [
    "# Calcula el primer y tercer cuartil (Q1 y Q3) de la columna 'cantidad_adjudicada'\n",
    "Q1 = df_group[nombre_columna_objetivo].quantile(0.25)\n",
    "Q3 = df_group[nombre_columna_objetivo].quantile(0.75)\n",
    "\n",
    "# Calcula el rango intercuartil (IQR)\n",
    "IQR = Q3 - Q1\n",
    "\n",
    "# Define un factor multiplicativo para ajustar el umbral (por ejemplo, 1.5 veces el IQR)\n",
    "factor_umbral = 1.5\n",
    "\n",
    "# Calcula el valor umbral\n",
    "umbral = Q3 + factor_umbral * IQR\n",
    "\n",
    "\n",
    "# Crea una nueva columna llamada 'segmento' en función del valor umbral\n",
    "df_group['segmento'] = [1 if x < umbral else 2 for x in df_group[nombre_columna_objetivo]]\n"
   ]
  },
  {
   "cell_type": "code",
   "execution_count": 11,
   "id": "c23b1208-dca8-4e02-a0b1-6d16bbbcfe49",
   "metadata": {},
   "outputs": [
    {
     "name": "stdout",
     "output_type": "stream",
     "text": [
      "[(908074, 5), (171417, 5)]\n"
     ]
    }
   ],
   "source": [
    "df_segm_1 = df_group[df_group['segmento'] == 1]\n",
    "df_segm_2 = df_group[df_group['segmento'] == 2]\n",
    "print([df_segm_1.shape,df_segm_2.shape])"
   ]
  },
  {
   "cell_type": "code",
   "execution_count": null,
   "metadata": {},
   "outputs": [],
   "source": [
    "df_segm_1"
   ]
  },
  {
   "cell_type": "code",
   "execution_count": null,
   "metadata": {},
   "outputs": [],
   "source": [
    "\n",
    "# Supongamos que tienes un DataFrame llamado 'df' y quieres encontrar la fila con el valor máximo en la columna 'monto_adjudicado_usd'\n",
    "max_index = df_segm_1[nombre_columna_objetivo].idxmax()  # Encuentra el índice del valor máximo\n",
    " \n",
    "# Accede a la fila correspondiente\n",
    "fila_max = df_segm_1.loc[max_index]\n",
    " \n",
    "# Ahora 'fila_max' contiene la fila con el valor máximo en la columna 'monto_adjudicado_usd'\n",
    "print(fila_max)\n",
    "\n",
    "# Borra la fila con el índice encontrado\n",
    "df_segm_1 = df_segm_1.drop(max_index)"
   ]
  },
  {
   "cell_type": "code",
   "execution_count": 12,
   "metadata": {},
   "outputs": [
    {
     "data": {
      "text/plain": [
       "{'whiskers': [<matplotlib.lines.Line2D at 0x25671c81a90>,\n",
       "  <matplotlib.lines.Line2D at 0x25671c81d30>],\n",
       " 'caps': [<matplotlib.lines.Line2D at 0x25671c81fd0>,\n",
       "  <matplotlib.lines.Line2D at 0x25671c9f2b0>],\n",
       " 'boxes': [<matplotlib.lines.Line2D at 0x25671c817f0>],\n",
       " 'medians': [<matplotlib.lines.Line2D at 0x25671c9f550>],\n",
       " 'fliers': [<matplotlib.lines.Line2D at 0x25671c9f7f0>],\n",
       " 'means': []}"
      ]
     },
     "execution_count": 12,
     "metadata": {},
     "output_type": "execute_result"
    },
    {
     "data": {
      "image/png": "[encoded data removed]",
      "text/plain": [
       "<Figure size 640x480 with 1 Axes>"
      ]
     },
     "metadata": {},
     "output_type": "display_data"
    }
   ],
   "source": [
    "import matplotlib.pyplot as plt\n",
    "plt.boxplot(df_segm_2[nombre_columna_objetivo])"
   ]
  },
  {
   "cell_type": "code",
   "execution_count": 13,
   "id": "0ef68e76-a60e-401f-82f0-43b093bfdb91",
   "metadata": {},
   "outputs": [
    {
     "name": "stdout",
     "output_type": "stream",
     "text": [
      "X: (908074, 3) y: (908074,)\n"
     ]
    }
   ],
   "source": [
    "# Separamos las variables independientes y dependiente\n",
    "X_df = df_segm_1.drop(columns=[nombre_columna_objetivo,'segmento'])\n",
    "y_df = df_segm_1[nombre_columna_objetivo]\n",
    "print(f'X: {X_df.shape} y: {y_df.shape}')"
   ]
  },
  {
   "cell_type": "code",
   "execution_count": 14,
   "id": "cf9cd0cf-2d0d-4f79-8b28-17c7acd351bf",
   "metadata": {},
   "outputs": [
    {
     "name": "stdout",
     "output_type": "stream",
     "text": [
      "Tamaño set de entrenamientos: X: (726459, 3) y: (726459,)\n",
      "Tamaño set de validacion: X: (90807, 3) y: (90807,)\n",
      "Tamaño set de prueba: X: (90808, 3) y: (90808,)\n"
     ]
    }
   ],
   "source": [
    "from sklearn.model_selection import train_test_split\n",
    "\n",
    "X_train, X_test, y_train, y_test = train_test_split(X_df, y_df, test_size=0.2, random_state=42)\n",
    "X_valid, X_test, y_valid, y_test = train_test_split(X_test, y_test, test_size=0.5, random_state=42)\n",
    "\n",
    "print(f'Tamaño set de entrenamientos: X: {X_train.shape} y: {y_train.shape}')\n",
    "print(f'Tamaño set de validacion: X: {X_valid.shape} y: {y_valid.shape}')\n",
    "print(f'Tamaño set de prueba: X: {X_test.shape} y: {y_test.shape}')"
   ]
  },
  {
   "cell_type": "code",
   "execution_count": 15,
   "id": "37b79c88-a30e-44ec-b1f2-c9e2e9b42315",
   "metadata": {},
   "outputs": [],
   "source": [
    "score_models = []\n",
    "X_train_scaled = X_train.copy()\n",
    "X_valid_scaled = X_valid.copy()\n",
    "X_test_scaled = X_test.copy()"
   ]
  },
  {
   "cell_type": "code",
   "execution_count": 16,
   "id": "a42c76c5-7aa3-4e43-9994-f736d9befbff",
   "metadata": {},
   "outputs": [],
   "source": [
    "# Aplicar Min-Max Scaling a las características (X)\n",
    "from sklearn.preprocessing import MinMaxScaler\n",
    "scaler = MinMaxScaler()\n",
    "X_train_scaled = scaler.fit_transform(X_train)\n",
    "X_valid_scaled = scaler.transform(X_valid)\n",
    "X_test_scaled = scaler.transform(X_test)"
   ]
  },
  {
   "cell_type": "code",
   "execution_count": 17,
   "id": "2150a52f-bd6f-4c05-b91c-30c53895d1a4",
   "metadata": {},
   "outputs": [
    {
     "data": {
      "text/html": [
       "<div>\n",
       "<style scoped>\n",
       "    .dataframe tbody tr th:only-of-type {\n",
       "        vertical-align: middle;\n",
       "    }\n",
       "\n",
       "    .dataframe tbody tr th {\n",
       "        vertical-align: top;\n",
       "    }\n",
       "\n",
       "    .dataframe thead tr th {\n",
       "        text-align: left;\n",
       "    }\n",
       "</style>\n",
       "<table border=\"1\" class=\"dataframe\">\n",
       "  <thead>\n",
       "    <tr>\n",
       "      <th></th>\n",
       "      <th>anio</th>\n",
       "      <th>mes</th>\n",
       "      <th>id_producto</th>\n",
       "    </tr>\n",
       "  </thead>\n",
       "  <tbody>\n",
       "    <tr>\n",
       "      <th>0</th>\n",
       "      <td>0.6250</td>\n",
       "      <td>0.363636</td>\n",
       "      <td>0.446066</td>\n",
       "    </tr>\n",
       "    <tr>\n",
       "      <th>1</th>\n",
       "      <td>0.0625</td>\n",
       "      <td>0.363636</td>\n",
       "      <td>0.189228</td>\n",
       "    </tr>\n",
       "    <tr>\n",
       "      <th>2</th>\n",
       "      <td>0.3750</td>\n",
       "      <td>0.818182</td>\n",
       "      <td>0.357514</td>\n",
       "    </tr>\n",
       "    <tr>\n",
       "      <th>3</th>\n",
       "      <td>0.2500</td>\n",
       "      <td>0.454545</td>\n",
       "      <td>0.358299</td>\n",
       "    </tr>\n",
       "    <tr>\n",
       "      <th>4</th>\n",
       "      <td>0.4375</td>\n",
       "      <td>0.090909</td>\n",
       "      <td>0.467194</td>\n",
       "    </tr>\n",
       "  </tbody>\n",
       "</table>\n",
       "</div>"
      ],
      "text/plain": [
       "     anio       mes id_producto\n",
       "0  0.6250  0.363636    0.446066\n",
       "1  0.0625  0.363636    0.189228\n",
       "2  0.3750  0.818182    0.357514\n",
       "3  0.2500  0.454545    0.358299\n",
       "4  0.4375  0.090909    0.467194"
      ]
     },
     "execution_count": 17,
     "metadata": {},
     "output_type": "execute_result"
    }
   ],
   "source": [
    "df_train_scaled = pd.DataFrame(X_train_scaled, columns=[X_train.columns])\n",
    "df_train_scaled.head()"
   ]
  },
  {
   "cell_type": "markdown",
   "id": "241077d3-8531-4e1a-8daf-462ad1bccbb5",
   "metadata": {},
   "source": [
    "### Redes Neuronales"
   ]
  },
  {
   "cell_type": "code",
   "execution_count": null,
   "id": "f20078a8-d4b7-4c94-94eb-8709c62c9262",
   "metadata": {},
   "outputs": [],
   "source": [
    "import keras.backend as K\n",
    "K.clear_session()"
   ]
  },
  {
   "cell_type": "code",
   "execution_count": null,
   "id": "860c426c-0366-4f9e-bfb0-154cd1afd19d",
   "metadata": {},
   "outputs": [],
   "source": [
    "np.random.seed(461)\n",
    "import tensorflow as tf\n",
    "from tensorflow import keras\n",
    "from tensorflow.keras.layers import Dense\n",
    "\n",
    "model_nn = keras.Sequential([\n",
    "    Dense(3, activation='relu', input_shape=(X_train_scaled.shape[1],)),\n",
    "    Dense(6, activation='relu'),\n",
    "    Dense(1, activation='linear')\n",
    "])\n",
    "\n",
    "learning_rate = 0.002\n",
    "optimizer = keras.optimizers.Adam(learning_rate=learning_rate)\n",
    "model_nn.compile(loss='mean_absolute_error', optimizer=optimizer, metrics=[\"mae\"])  # Cambiar la métrica a 'mae'\n",
    "\n",
    "model_nn.summary()"
   ]
  },
  {
   "cell_type": "code",
   "execution_count": null,
   "id": "b6b8f580-4d20-4ba0-b8d8-82846668ef79",
   "metadata": {},
   "outputs": [],
   "source": [
    "#score = model_nn.fit(X_train_scaled, y_train, epochs=50, batch_size=64, verbose=1, shuffle=True)\n",
    "#score = model_nn.fit(X_train_scaled, y_train, epochs=50,  batch_size=32, validation_data=(X_valid_scaled, y_valid), verbose=1, shuffle=True)\n",
    "score = model_nn.fit(X_train_scaled, y_train, epochs=100, batch_size=32, validation_data=(X_valid_scaled, y_valid), verbose=1, shuffle=True)"
   ]
  },
  {
   "cell_type": "code",
   "execution_count": null,
   "id": "3b6cc3ff-7743-4369-a89b-d46adacc16ea",
   "metadata": {},
   "outputs": [],
   "source": [
    "score_models.append(score)\n",
    "print(\"SCORE: [%s] \" % score)"
   ]
  },
  {
   "cell_type": "code",
   "execution_count": null,
   "id": "bd4aa818-eb3f-41c9-90c7-bc0959a360cb",
   "metadata": {},
   "outputs": [],
   "source": [
    "model_nn.save('modelo_entrenado.h5')"
   ]
  },
  {
   "cell_type": "code",
   "execution_count": null,
   "id": "9e4a9748-affd-42e5-ab2c-9edd393096a9",
   "metadata": {},
   "outputs": [],
   "source": [
    "from tensorflow.keras.models import load_model\n",
    "\n",
    "# Carga el modelo desde el archivo guardado\n",
    "model_nn = load_model('modelo_entrenado.h5')\n",
    "\n",
    "# Continúa entrenando el modelo\n",
    "score = model_nn.fit(X_train_scaled, y_train, epochs=700, batch_size=32, validation_data=(X_valid_scaled, y_valid), verbose=1, shuffle=True)\n"
   ]
  },
  {
   "cell_type": "markdown",
   "id": "2b400b81-78a7-4b80-96d7-2a72d1eb89a9",
   "metadata": {},
   "source": [
    "### Regresión Lineal\n"
   ]
  },
  {
   "cell_type": "code",
   "execution_count": null,
   "id": "b360e7c8-898d-4361-a098-5d4e9b357a8d",
   "metadata": {},
   "outputs": [],
   "source": [
    "np.random.seed(461)\n",
    "from sklearn.linear_model import LinearRegression\n",
    "from sklearn.metrics import mean_squared_error, r2_score\n",
    "\n",
    "model_lr = LinearRegression()\n",
    "model_lr.fit(X_train_scaled, y_train)\n",
    "\n",
    "score = model_lr.score(X_valid_scaled, y_valid)\n",
    "score_models.append(score)\n",
    "\n",
    "predictions = model_lr.predict(X_test)\n",
    "mse_unidades = mean_squared_error(y_test, predictions)\n",
    "r2_unidades = r2_score(y_test, predictions)\n",
    "\n",
    "\n",
    "print(\"SCORE: [%s] \" % score)\n",
    "print(\"r2_unidades: [%s] \" % r2_unidades)"
   ]
  },
  {
   "cell_type": "markdown",
   "id": "6ffd1b2b-1845-4788-8710-c6d5a33524d3",
   "metadata": {},
   "source": [
    "### Regresión de Máquinas de Soporte Vectorial (SVM)"
   ]
  },
  {
   "cell_type": "code",
   "execution_count": null,
   "id": "b1b4f84f-fd5a-4ffc-a795-ad2f006edf17",
   "metadata": {},
   "outputs": [],
   "source": [
    "np.random.seed(461)\n",
    "from sklearn.svm import SVR\n",
    "\n",
    "model_svm = SVR(verbose=1)\n",
    "model_svm.fit(X_train_scaled, y_train)\n",
    "\n",
    "score = model_svm.score(X_valid_scaled, y_valid)\n",
    "score_models.append(score)\n",
    "print(\"SCORE: [%s] \" % score)"
   ]
  },
  {
   "cell_type": "markdown",
   "id": "709d9b5a-34f4-4ed2-8282-96ea368564c6",
   "metadata": {},
   "source": [
    "### Regresión de Bosques Aleatorios\n"
   ]
  },
  {
   "cell_type": "code",
   "execution_count": 18,
   "id": "cd1c8b6d-73be-4ba2-8b4c-182cd385f876",
   "metadata": {},
   "outputs": [
    {
     "name": "stderr",
     "output_type": "stream",
     "text": [
      "[Parallel(n_jobs=1)]: Done  49 tasks      | elapsed:   26.9s\n",
      "[Parallel(n_jobs=1)]: Done  49 tasks      | elapsed:    0.2s\n"
     ]
    },
    {
     "name": "stdout",
     "output_type": "stream",
     "text": [
      "SCORE: [0.07971631104229981] \n"
     ]
    }
   ],
   "source": [
    "np.random.seed(461)\n",
    "from sklearn.ensemble import RandomForestRegressor\n",
    "\n",
    "model_RF_Regressor = RandomForestRegressor(n_estimators=100, max_depth=10, random_state=7, verbose=1)\n",
    "model_RF_Regressor.fit(X_train_scaled, y_train)\n",
    "score = model_RF_Regressor.score(X_valid_scaled, y_valid)\n",
    "score_models.append(score)\n",
    "print(\"SCORE: [%s] \" % score)"
   ]
  },
  {
   "cell_type": "markdown",
   "id": "d8c28919-0e06-4019-9ab0-7d4b04075c30",
   "metadata": {},
   "source": [
    "#### Regresion logistica"
   ]
  },
  {
   "cell_type": "code",
   "execution_count": null,
   "id": "b2684e40-780b-4bea-a025-aeeb044c2025",
   "metadata": {},
   "outputs": [],
   "source": [
    "np.random.seed(461)\n",
    "from sklearn.linear_model import LogisticRegression\n",
    "\n",
    "model_rl = LogisticRegression()\n",
    "model_rl.fit(X_train_scaled, y_train)\n",
    "score = model_rl.score(X_valid_scaled, y_valid)\n",
    "score_models.append(score)\n",
    "print(\"SCORE: [%s] \" % score)\n"
   ]
  },
  {
   "cell_type": "code",
   "execution_count": null,
   "id": "bdc8be2a-bab8-496a-90bb-df39bea3b151",
   "metadata": {},
   "outputs": [],
   "source": [
    "print(score_models)"
   ]
  },
  {
   "cell_type": "code",
   "execution_count": null,
   "id": "cc2ad5a4-8e9d-480a-b15e-542bdecaa962",
   "metadata": {},
   "outputs": [],
   "source": [
    "from sklearn.metrics import r2_score\n",
    "\n",
    "predictions = model_lr.predict(X_valid_scaled)\n",
    "r2 = r2_score(y_valid, predictions)\n",
    "print(\"R^2 Score: %.2f\" % r2)"
   ]
  },
  {
   "cell_type": "code",
   "execution_count": null,
   "id": "84901e8b-21f3-46aa-ae9d-592a7302ac8e",
   "metadata": {},
   "outputs": [],
   "source": []
  }
 ],
 "metadata": {
  "kernelspec": {
   "display_name": "Python 3 (ipykernel)",
   "language": "python",
   "name": "python3"
  },
  "language_info": {
   "codemirror_mode": {
    "name": "ipython",
    "version": 3
   },
   "file_extension": ".py",
   "mimetype": "text/x-python",
   "name": "python",
   "nbconvert_exporter": "python",
   "pygments_lexer": "ipython3",
   "version": "3.9.0"
  }
 },
 "nbformat": 4,
 "nbformat_minor": 5
}
