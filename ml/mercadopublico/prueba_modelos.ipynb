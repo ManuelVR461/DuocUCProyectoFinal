{
 "cells": [
  {
   "cell_type": "code",
   "execution_count": 114,
   "metadata": {},
   "outputs": [],
   "source": [
    "import os\n",
    "import pandas as pd\n",
    "from sklearn.model_selection import train_test_split\n",
    "from sklearn.preprocessing import StandardScaler\n",
    "from sklearn.metrics import mean_squared_error\n",
    "import matplotlib.pyplot as plt\n",
    "import seaborn as sns\n",
    "from datetime import datetime, timedelta\n",
    "import tensorflow as tf\n",
    "from tensorflow import keras\n",
    "from tensorflow.keras.models import Sequential\n",
    "from tensorflow.keras.layers import Dense\n",
    "import numpy as np"
   ]
  },
  {
   "cell_type": "code",
   "execution_count": 17,
   "metadata": {},
   "outputs": [],
   "source": [
    "# Cargar el CSV\n",
    "archivo_csv = os.path.join('..', '..', 'data', 'fact_licitacion-2007_2023-full.csv')\n",
    "df_csv = pd.read_csv(archivo_csv, encoding=\"ISO-8859-1\", delimiter=\",\")"
   ]
  },
  {
   "cell_type": "code",
   "execution_count": 19,
   "metadata": {},
   "outputs": [],
   "source": [
    "df = df_csv.copy()"
   ]
  },
  {
   "cell_type": "code",
   "execution_count": 21,
   "metadata": {},
   "outputs": [],
   "source": [
    "# Convertir la fecha a tipo datetime\n",
    "df['id_fecha'] = pd.to_datetime(df['id_fecha'], format='%Y%m%d')\n",
    "\n",
    "# 1. Crear características de fecha\n",
    "df['mes'] = df['id_fecha'].dt.month\n",
    "df['año'] = df['id_fecha'].dt.year\n"
   ]
  },
  {
   "cell_type": "code",
   "execution_count": 93,
   "metadata": {},
   "outputs": [],
   "source": [
    "nombre_columna_objetivo = 'monto_adjudicado_usd'\n",
    "columnas_utilizadas = ['año', 'mes', 'id_producto', nombre_columna_objetivo]"
   ]
  },
  {
   "cell_type": "code",
   "execution_count": 94,
   "metadata": {},
   "outputs": [],
   "source": [
    "df = df.query(nombre_columna_objetivo + ' >= 0')"
   ]
  },
  {
   "cell_type": "code",
   "execution_count": 83,
   "metadata": {},
   "outputs": [],
   "source": [
    "def filtrar_por_desviacion_estandar(df, factor=1):\n",
    "    # Calcular la media y la desviación estándar para cada id_producto\n",
    "    grouped_stats = df.groupby('id_producto')['monto_adjudicado_usd'].agg(['mean', 'std', 'count']).reset_index()\n",
    "\n",
    "    # Calcular los límites inferior y superior para cada id_producto\n",
    "    grouped_stats['lower_limit'] = grouped_stats['mean'] - factor * grouped_stats['std']\n",
    "    grouped_stats['upper_limit'] = grouped_stats['mean'] + factor * grouped_stats['std']\n",
    "\n",
    "    # Fusionar los límites con el DataFrame original\n",
    "    df_merged = pd.merge(df, grouped_stats[['id_producto', 'lower_limit', 'upper_limit', 'count']], on='id_producto')\n",
    "\n",
    "    # quito los productos con pocos registros\n",
    "    meses = ((2022 - 2007) * 12) / 2\n",
    "    df_merged = df_merged.query('count > ' + str(meses))\n",
    "\n",
    "    # Filtrar los registros que están dentro del rango definido por los límites\n",
    "    df_filtered = df_merged[(df_merged['monto_adjudicado_usd'] >= df_merged['lower_limit']) & \n",
    "                            (df_merged['monto_adjudicado_usd'] <= df_merged['upper_limit'])]\n",
    "\n",
    "    return df_filtered"
   ]
  },
  {
   "cell_type": "code",
   "execution_count": 95,
   "metadata": {},
   "outputs": [],
   "source": [
    "df_filtrado  = filtrar_por_desviacion_estandar(df[columnas_utilizadas])"
   ]
  },
  {
   "cell_type": "code",
   "execution_count": 96,
   "metadata": {},
   "outputs": [],
   "source": [
    "# Visualizar los registros eliminados (opcional)\n",
    "df_eliminado = df[~df.index.isin(df_filtrado.index)]"
   ]
  },
  {
   "cell_type": "code",
   "execution_count": 97,
   "metadata": {},
   "outputs": [
    {
     "name": "stdout",
     "output_type": "stream",
     "text": [
      "(12126438, 14)\n",
      "(11681065, 7)\n",
      "(445391, 14)\n"
     ]
    }
   ],
   "source": [
    "print(df.shape)\n",
    "print(df_filtrado.shape)\n",
    "print(df_eliminado.shape)"
   ]
  },
  {
   "cell_type": "code",
   "execution_count": 98,
   "metadata": {},
   "outputs": [
    {
     "data": {
      "text/plain": [
       "{'whiskers': [<matplotlib.lines.Line2D at 0x28c2d167d90>,\n",
       "  <matplotlib.lines.Line2D at 0x28c2d160070>],\n",
       " 'caps': [<matplotlib.lines.Line2D at 0x28c2d160310>,\n",
       "  <matplotlib.lines.Line2D at 0x28c2d1605b0>],\n",
       " 'boxes': [<matplotlib.lines.Line2D at 0x28c2d167af0>],\n",
       " 'medians': [<matplotlib.lines.Line2D at 0x28c2d160850>],\n",
       " 'fliers': [<matplotlib.lines.Line2D at 0x28c2d160af0>],\n",
       " 'means': []}"
      ]
     },
     "execution_count": 98,
     "metadata": {},
     "output_type": "execute_result"
    },
    {
     "data": {
      "image/png": "[encoded data removed]",
      "text/plain": [
       "<Figure size 640x480 with 1 Axes>"
      ]
     },
     "metadata": {},
     "output_type": "display_data"
    }
   ],
   "source": [
    "plt.boxplot(df_filtrado[nombre_columna_objetivo])"
   ]
  },
  {
   "cell_type": "code",
   "execution_count": 99,
   "metadata": {},
   "outputs": [],
   "source": [
    "# Calcula el primer y tercer cuartil (Q1 y Q3) de la columna 'cantidad_adjudicada'\n",
    "Q1 = df_filtrado[nombre_columna_objetivo].quantile(0.25)\n",
    "Q3 = df_filtrado[nombre_columna_objetivo].quantile(0.75)\n",
    "\n",
    "# Calcula el rango intercuartil (IQR)\n",
    "IQR = Q3 - Q1\n",
    "\n",
    "# Define un factor multiplicativo para ajustar el umbral (por ejemplo, 1.5 veces el IQR)\n",
    "factor_umbral = 1.5\n",
    "\n",
    "# Calcula el valor umbral\n",
    "umbral = Q3 + factor_umbral * IQR\n",
    "\n",
    "\n",
    "# Crea una nueva columna llamada 'segmento' en función del valor umbral\n",
    "df_filtrado['segmento'] = [1 if x < umbral else 2 for x in df_filtrado[nombre_columna_objetivo]]"
   ]
  },
  {
   "cell_type": "code",
   "execution_count": 100,
   "metadata": {},
   "outputs": [
    {
     "name": "stdout",
     "output_type": "stream",
     "text": [
      "[(9945088, 8), (1735977, 8)]\n"
     ]
    }
   ],
   "source": [
    "df_segm_1 = df_filtrado[df_filtrado['segmento'] == 1]\n",
    "df_segm_2 = df_filtrado[df_filtrado['segmento'] == 2]\n",
    "print([df_segm_1.shape,df_segm_2.shape])"
   ]
  },
  {
   "cell_type": "code",
   "execution_count": 101,
   "metadata": {},
   "outputs": [
    {
     "data": {
      "text/html": [
       "<div>\n",
       "<style scoped>\n",
       "    .dataframe tbody tr th:only-of-type {\n",
       "        vertical-align: middle;\n",
       "    }\n",
       "\n",
       "    .dataframe tbody tr th {\n",
       "        vertical-align: top;\n",
       "    }\n",
       "\n",
       "    .dataframe thead th {\n",
       "        text-align: right;\n",
       "    }\n",
       "</style>\n",
       "<table border=\"1\" class=\"dataframe\">\n",
       "  <thead>\n",
       "    <tr style=\"text-align: right;\">\n",
       "      <th></th>\n",
       "      <th>año</th>\n",
       "      <th>mes</th>\n",
       "      <th>id_producto</th>\n",
       "      <th>monto_adjudicado_usd</th>\n",
       "      <th>lower_limit</th>\n",
       "      <th>upper_limit</th>\n",
       "      <th>count</th>\n",
       "      <th>segmento</th>\n",
       "    </tr>\n",
       "  </thead>\n",
       "  <tbody>\n",
       "    <tr>\n",
       "      <th>0</th>\n",
       "      <td>2007</td>\n",
       "      <td>1</td>\n",
       "      <td>51101720</td>\n",
       "      <td>181.310244</td>\n",
       "      <td>-5.843810e+03</td>\n",
       "      <td>7.359230e+03</td>\n",
       "      <td>2407</td>\n",
       "      <td>1</td>\n",
       "    </tr>\n",
       "    <tr>\n",
       "      <th>1</th>\n",
       "      <td>2007</td>\n",
       "      <td>1</td>\n",
       "      <td>51101720</td>\n",
       "      <td>49.952822</td>\n",
       "      <td>-5.843810e+03</td>\n",
       "      <td>7.359230e+03</td>\n",
       "      <td>2407</td>\n",
       "      <td>1</td>\n",
       "    </tr>\n",
       "    <tr>\n",
       "      <th>2</th>\n",
       "      <td>2007</td>\n",
       "      <td>1</td>\n",
       "      <td>51101720</td>\n",
       "      <td>46.252613</td>\n",
       "      <td>-5.843810e+03</td>\n",
       "      <td>7.359230e+03</td>\n",
       "      <td>2407</td>\n",
       "      <td>1</td>\n",
       "    </tr>\n",
       "    <tr>\n",
       "      <th>3</th>\n",
       "      <td>2007</td>\n",
       "      <td>2</td>\n",
       "      <td>51101720</td>\n",
       "      <td>27.882969</td>\n",
       "      <td>-5.843810e+03</td>\n",
       "      <td>7.359230e+03</td>\n",
       "      <td>2407</td>\n",
       "      <td>1</td>\n",
       "    </tr>\n",
       "    <tr>\n",
       "      <th>4</th>\n",
       "      <td>2007</td>\n",
       "      <td>2</td>\n",
       "      <td>51101720</td>\n",
       "      <td>50.897483</td>\n",
       "      <td>-5.843810e+03</td>\n",
       "      <td>7.359230e+03</td>\n",
       "      <td>2407</td>\n",
       "      <td>1</td>\n",
       "    </tr>\n",
       "    <tr>\n",
       "      <th>...</th>\n",
       "      <td>...</td>\n",
       "      <td>...</td>\n",
       "      <td>...</td>\n",
       "      <td>...</td>\n",
       "      <td>...</td>\n",
       "      <td>...</td>\n",
       "      <td>...</td>\n",
       "      <td>...</td>\n",
       "    </tr>\n",
       "    <tr>\n",
       "      <th>12124043</th>\n",
       "      <td>2022</td>\n",
       "      <td>1</td>\n",
       "      <td>101101001</td>\n",
       "      <td>0.001216</td>\n",
       "      <td>-6.855663e+06</td>\n",
       "      <td>1.121040e+07</td>\n",
       "      <td>2541</td>\n",
       "      <td>1</td>\n",
       "    </tr>\n",
       "    <tr>\n",
       "      <th>12124186</th>\n",
       "      <td>2022</td>\n",
       "      <td>3</td>\n",
       "      <td>101101001</td>\n",
       "      <td>0.001251</td>\n",
       "      <td>-6.855663e+06</td>\n",
       "      <td>1.121040e+07</td>\n",
       "      <td>2541</td>\n",
       "      <td>1</td>\n",
       "    </tr>\n",
       "    <tr>\n",
       "      <th>12124220</th>\n",
       "      <td>2022</td>\n",
       "      <td>3</td>\n",
       "      <td>101101001</td>\n",
       "      <td>0.001251</td>\n",
       "      <td>-6.855663e+06</td>\n",
       "      <td>1.121040e+07</td>\n",
       "      <td>2541</td>\n",
       "      <td>1</td>\n",
       "    </tr>\n",
       "    <tr>\n",
       "      <th>12124255</th>\n",
       "      <td>2022</td>\n",
       "      <td>3</td>\n",
       "      <td>101101001</td>\n",
       "      <td>0.001251</td>\n",
       "      <td>-6.855663e+06</td>\n",
       "      <td>1.121040e+07</td>\n",
       "      <td>2541</td>\n",
       "      <td>1</td>\n",
       "    </tr>\n",
       "    <tr>\n",
       "      <th>12124570</th>\n",
       "      <td>2023</td>\n",
       "      <td>1</td>\n",
       "      <td>101101001</td>\n",
       "      <td>0.001210</td>\n",
       "      <td>-6.855663e+06</td>\n",
       "      <td>1.121040e+07</td>\n",
       "      <td>2541</td>\n",
       "      <td>1</td>\n",
       "    </tr>\n",
       "  </tbody>\n",
       "</table>\n",
       "<p>9945088 rows × 8 columns</p>\n",
       "</div>"
      ],
      "text/plain": [
       "           año  mes  id_producto  monto_adjudicado_usd   lower_limit  \\\n",
       "0         2007    1     51101720            181.310244 -5.843810e+03   \n",
       "1         2007    1     51101720             49.952822 -5.843810e+03   \n",
       "2         2007    1     51101720             46.252613 -5.843810e+03   \n",
       "3         2007    2     51101720             27.882969 -5.843810e+03   \n",
       "4         2007    2     51101720             50.897483 -5.843810e+03   \n",
       "...        ...  ...          ...                   ...           ...   \n",
       "12124043  2022    1    101101001              0.001216 -6.855663e+06   \n",
       "12124186  2022    3    101101001              0.001251 -6.855663e+06   \n",
       "12124220  2022    3    101101001              0.001251 -6.855663e+06   \n",
       "12124255  2022    3    101101001              0.001251 -6.855663e+06   \n",
       "12124570  2023    1    101101001              0.001210 -6.855663e+06   \n",
       "\n",
       "           upper_limit  count  segmento  \n",
       "0         7.359230e+03   2407         1  \n",
       "1         7.359230e+03   2407         1  \n",
       "2         7.359230e+03   2407         1  \n",
       "3         7.359230e+03   2407         1  \n",
       "4         7.359230e+03   2407         1  \n",
       "...                ...    ...       ...  \n",
       "12124043  1.121040e+07   2541         1  \n",
       "12124186  1.121040e+07   2541         1  \n",
       "12124220  1.121040e+07   2541         1  \n",
       "12124255  1.121040e+07   2541         1  \n",
       "12124570  1.121040e+07   2541         1  \n",
       "\n",
       "[9945088 rows x 8 columns]"
      ]
     },
     "execution_count": 101,
     "metadata": {},
     "output_type": "execute_result"
    }
   ],
   "source": [
    "df_segm_1"
   ]
  },
  {
   "cell_type": "code",
   "execution_count": 102,
   "metadata": {},
   "outputs": [
    {
     "data": {
      "text/plain": [
       "(8464246, 7)"
      ]
     },
     "execution_count": 102,
     "metadata": {},
     "output_type": "execute_result"
    }
   ],
   "source": [
    "df_filtrado_segm_1  = filtrar_por_desviacion_estandar(df_segm_1[columnas_utilizadas])\n",
    "df_filtrado_segm_1.shape"
   ]
  },
  {
   "cell_type": "code",
   "execution_count": 103,
   "metadata": {},
   "outputs": [
    {
     "data": {
      "text/plain": [
       "{'whiskers': [<matplotlib.lines.Line2D at 0x28c2d1bd520>,\n",
       "  <matplotlib.lines.Line2D at 0x28c2d1bd7c0>],\n",
       " 'caps': [<matplotlib.lines.Line2D at 0x28c2d1bda60>,\n",
       "  <matplotlib.lines.Line2D at 0x28c2d1bdd00>],\n",
       " 'boxes': [<matplotlib.lines.Line2D at 0x28c2d1bd280>],\n",
       " 'medians': [<matplotlib.lines.Line2D at 0x28c2d1bdfa0>],\n",
       " 'fliers': [<matplotlib.lines.Line2D at 0x28c2d1c8280>],\n",
       " 'means': []}"
      ]
     },
     "execution_count": 103,
     "metadata": {},
     "output_type": "execute_result"
    },
    {
     "data": {
      "image/png": "[encoded data removed]",
      "text/plain": [
       "<Figure size 640x480 with 1 Axes>"
      ]
     },
     "metadata": {},
     "output_type": "display_data"
    }
   ],
   "source": [
    "plt.boxplot(df_filtrado_segm_1[nombre_columna_objetivo])"
   ]
  },
  {
   "cell_type": "code",
   "execution_count": 107,
   "metadata": {},
   "outputs": [],
   "source": [
    "# Dividir el conjunto de datos en características (X) y objetivo (y)\n",
    "X = df_filtrado_segm_1[['año', 'mes', 'id_producto']]\n",
    "y = df_filtrado_segm_1[nombre_columna_objetivo]"
   ]
  },
  {
   "cell_type": "code",
   "execution_count": 108,
   "metadata": {},
   "outputs": [
    {
     "name": "stdout",
     "output_type": "stream",
     "text": [
      "Tamaño set de entrenamientos: X: (6771396, 3) y: (6771396,)\n",
      "Tamaño set de validacion: X: (846425, 3) y: (846425,)\n",
      "Tamaño set de prueba: X: (846425, 3) y: (846425,)\n"
     ]
    }
   ],
   "source": [
    "# Dividir el conjunto de datos en entrenamiento y prueba\n",
    "X_train, X_test, y_train, y_test = train_test_split(X, y, test_size=0.2, random_state=42)\n",
    "\n",
    "X_train, X_test, y_train, y_test = train_test_split(X, y, test_size=0.2, random_state=42)\n",
    "X_valid, X_test, y_valid, y_test = train_test_split(X_test, y_test, test_size=0.5, random_state=42)\n",
    "\n",
    "print(f'Tamaño set de entrenamientos: X: {X_train.shape} y: {y_train.shape}')\n",
    "print(f'Tamaño set de validacion: X: {X_valid.shape} y: {y_valid.shape}')\n",
    "print(f'Tamaño set de prueba: X: {X_test.shape} y: {y_test.shape}')\n"
   ]
  },
  {
   "cell_type": "code",
   "execution_count": 109,
   "metadata": {},
   "outputs": [],
   "source": [
    "# Normalizar los datos\n",
    "scaler = StandardScaler()\n",
    "X_train_scaled = scaler.fit_transform(X_train)\n",
    "X_valid_scaled = scaler.transform(X_valid)\n",
    "X_test_scaled = scaler.transform(X_test)"
   ]
  },
  {
   "cell_type": "code",
   "execution_count": 110,
   "metadata": {},
   "outputs": [
    {
     "data": {
      "text/html": [
       "<div>\n",
       "<style scoped>\n",
       "    .dataframe tbody tr th:only-of-type {\n",
       "        vertical-align: middle;\n",
       "    }\n",
       "\n",
       "    .dataframe tbody tr th {\n",
       "        vertical-align: top;\n",
       "    }\n",
       "\n",
       "    .dataframe thead tr th {\n",
       "        text-align: left;\n",
       "    }\n",
       "</style>\n",
       "<table border=\"1\" class=\"dataframe\">\n",
       "  <thead>\n",
       "    <tr>\n",
       "      <th></th>\n",
       "      <th>año</th>\n",
       "      <th>mes</th>\n",
       "      <th>id_producto</th>\n",
       "    </tr>\n",
       "  </thead>\n",
       "  <tbody>\n",
       "    <tr>\n",
       "      <th>0</th>\n",
       "      <td>-0.790174</td>\n",
       "      <td>1.263573</td>\n",
       "      <td>-0.781741</td>\n",
       "    </tr>\n",
       "    <tr>\n",
       "      <th>1</th>\n",
       "      <td>-1.561330</td>\n",
       "      <td>0.096380</td>\n",
       "      <td>-0.270205</td>\n",
       "    </tr>\n",
       "    <tr>\n",
       "      <th>2</th>\n",
       "      <td>-0.019018</td>\n",
       "      <td>-1.362612</td>\n",
       "      <td>-1.887699</td>\n",
       "    </tr>\n",
       "    <tr>\n",
       "      <th>3</th>\n",
       "      <td>2.294449</td>\n",
       "      <td>-1.654411</td>\n",
       "      <td>0.053213</td>\n",
       "    </tr>\n",
       "    <tr>\n",
       "      <th>4</th>\n",
       "      <td>0.495085</td>\n",
       "      <td>-0.487217</td>\n",
       "      <td>-1.887699</td>\n",
       "    </tr>\n",
       "  </tbody>\n",
       "</table>\n",
       "</div>"
      ],
      "text/plain": [
       "        año       mes id_producto\n",
       "0 -0.790174  1.263573   -0.781741\n",
       "1 -1.561330  0.096380   -0.270205\n",
       "2 -0.019018 -1.362612   -1.887699\n",
       "3  2.294449 -1.654411    0.053213\n",
       "4  0.495085 -0.487217   -1.887699"
      ]
     },
     "execution_count": 110,
     "metadata": {},
     "output_type": "execute_result"
    }
   ],
   "source": [
    "df_train_scaled = pd.DataFrame(X_train_scaled, columns=[X_train.columns])\n",
    "df_train_scaled.head()"
   ]
  },
  {
   "cell_type": "code",
   "execution_count": null,
   "metadata": {},
   "outputs": [],
   "source": []
  },
  {
   "cell_type": "code",
   "execution_count": 113,
   "metadata": {},
   "outputs": [],
   "source": [
    "np.random.seed(461)\n",
    "\n",
    "# Construir el modelo de red neuronal con Keras\n",
    "model = Sequential([\n",
    "    Dense(64, activation='relu', input_shape=(X_train_scaled.shape[1],)),\n",
    "    Dense(32, activation='relu'),\n",
    "    Dense(1)  # Capa de salida, ya que es un problema de regresión\n",
    "])"
   ]
  },
  {
   "cell_type": "code",
   "execution_count": 115,
   "metadata": {},
   "outputs": [
    {
     "name": "stdout",
     "output_type": "stream",
     "text": [
      "Model: \"sequential_1\"\n",
      "_________________________________________________________________\n",
      " Layer (type)                Output Shape              Param #   \n",
      "=================================================================\n",
      " dense_3 (Dense)             (None, 64)                256       \n",
      "                                                                 \n",
      " dense_4 (Dense)             (None, 32)                2080      \n",
      "                                                                 \n",
      " dense_5 (Dense)             (None, 1)                 33        \n",
      "                                                                 \n",
      "=================================================================\n",
      "Total params: 2369 (9.25 KB)\n",
      "Trainable params: 2369 (9.25 KB)\n",
      "Non-trainable params: 0 (0.00 Byte)\n",
      "_________________________________________________________________\n"
     ]
    }
   ],
   "source": [
    "learning_rate = 0.002\n",
    "optimizer = keras.optimizers.Adam(learning_rate=learning_rate)\n",
    "model.compile(loss='mean_absolute_error', optimizer=optimizer, metrics=[\"mae\"])  # Cambiar la métrica a 'mae'\n",
    "\n",
    "model.summary()"
   ]
  },
  {
   "cell_type": "code",
   "execution_count": 26,
   "metadata": {},
   "outputs": [],
   "source": [
    "# Compilar el modelo\n",
    "# model.compile(optimizer='adam', loss='mean_squared_error')"
   ]
  },
  {
   "cell_type": "code",
   "execution_count": 118,
   "metadata": {},
   "outputs": [
    {
     "name": "stdout",
     "output_type": "stream",
     "text": [
      "Epoch 1/5\n",
      "211607/211607 [==============================] - 154s 727us/step - loss: 81.0697 - mae: 81.0697 - val_loss: 80.6278 - val_mae: 80.6278\n",
      "Epoch 2/5\n",
      "211607/211607 [==============================] - 191s 904us/step - loss: 80.8036 - mae: 80.8036 - val_loss: 80.9222 - val_mae: 80.9222\n",
      "Epoch 3/5\n",
      "211607/211607 [==============================] - 151s 715us/step - loss: 80.8177 - mae: 80.8177 - val_loss: 80.4571 - val_mae: 80.4571\n",
      "Epoch 4/5\n",
      "211607/211607 [==============================] - 141s 665us/step - loss: 80.6112 - mae: 80.6112 - val_loss: 80.3341 - val_mae: 80.3341\n",
      "Epoch 5/5\n",
      "211607/211607 [==============================] - 140s 661us/step - loss: 80.4876 - mae: 80.4876 - val_loss: 80.4062 - val_mae: 80.4062\n"
     ]
    }
   ],
   "source": [
    "# Entrenar el modelo\n",
    "# model.fit(X_train_scaled, y_train, epochs=50, batch_size=32, validation_split=0.2)\n",
    "score = model.fit(X_train_scaled, y_train, epochs=5, batch_size=32, validation_data=(X_valid_scaled, y_valid), verbose=1, shuffle=True)\n"
   ]
  },
  {
   "cell_type": "code",
   "execution_count": 121,
   "metadata": {},
   "outputs": [
    {
     "data": {
      "image/png": "[encoded data removed]",
      "text/plain": [
       "<Figure size 640x480 with 1 Axes>"
      ]
     },
     "metadata": {},
     "output_type": "display_data"
    }
   ],
   "source": [
    "# Extraer la pérdida y la validación de la pérdida del historial\n",
    "loss = score.history['loss']\n",
    "val_loss = score.history['val_loss']\n",
    "\n",
    "# Crear un gráfico de línea para visualizar la pérdida durante el entrenamiento\n",
    "epochs = range(1, len(loss) + 1)\n",
    "plt.plot(epochs, loss, 'b-', label='Training Loss')\n",
    "plt.plot(epochs, val_loss, 'g-', label='Validation Loss')\n",
    "plt.title('Training and Validation Loss')\n",
    "plt.xlabel('Epochs')\n",
    "plt.ylabel('Loss')\n",
    "plt.legend()\n",
    "plt.show()"
   ]
  }
 ],
 "metadata": {
  "kernelspec": {
   "display_name": "Python 3",
   "language": "python",
   "name": "python3"
  },
  "language_info": {
   "codemirror_mode": {
    "name": "ipython",
    "version": 3
   },
   "file_extension": ".py",
   "mimetype": "text/x-python",
   "name": "python",
   "nbconvert_exporter": "python",
   "pygments_lexer": "ipython3",
   "version": "3.9.0"
  }
 },
 "nbformat": 4,
 "nbformat_minor": 2
}
