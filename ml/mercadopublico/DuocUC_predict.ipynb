{
 "cells": [
  {
   "cell_type": "code",
   "execution_count": 1,
   "id": "2e093b05-1a2b-4ac0-befe-29fb1279c40c",
   "metadata": {},
   "outputs": [],
   "source": [
    "import os\n",
    "import numpy as np\n",
    "import pandas as pd\n",
    "import matplotlib.pyplot as plt\n",
    "import seaborn as sn\n",
    "from datetime import datetime, timedelta\n",
    "from tqdm import tqdm\n",
    "import missingno as msno\n",
    "import zipfile\n",
    "\n",
    "import warnings\n",
    "warnings.filterwarnings(\"ignore\")\n",
    "\n",
    "%matplotlib inline\n",
    "\n",
    "archivo_csv = 'fact_licitacion-2007_2023-full.csv'\n",
    "directorio_data = 'data/'"
   ]
  },
  {
   "cell_type": "code",
   "execution_count": 2,
   "id": "f0c86125-dfe8-4bee-b8c4-77f42a795305",
   "metadata": {},
   "outputs": [
    {
     "data": {
      "text/plain": [
       "(12126458, 11)"
      ]
     },
     "execution_count": 2,
     "metadata": {},
     "output_type": "execute_result"
    }
   ],
   "source": [
    "ruta_archivo = directorio_data + archivo_csv\n",
    "df_csv = pd.read_csv(ruta_archivo, encoding=\"ISO-8859-1\", delimiter=\",\")\n",
    "df_csv.shape"
   ]
  },
  {
   "cell_type": "code",
   "execution_count": 3,
   "id": "9c80b685-eeae-4d5d-8322-c4c493f70fc7",
   "metadata": {},
   "outputs": [],
   "source": [
    "df = df_csv.copy()"
   ]
  },
  {
   "cell_type": "code",
   "execution_count": 4,
   "id": "d90cacec-4f3a-4c72-8241-507b2b44a0ed",
   "metadata": {},
   "outputs": [
    {
     "data": {
      "text/html": [
       "<div>\n",
       "<style scoped>\n",
       "    .dataframe tbody tr th:only-of-type {\n",
       "        vertical-align: middle;\n",
       "    }\n",
       "\n",
       "    .dataframe tbody tr th {\n",
       "        vertical-align: top;\n",
       "    }\n",
       "\n",
       "    .dataframe thead th {\n",
       "        text-align: right;\n",
       "    }\n",
       "</style>\n",
       "<table border=\"1\" class=\"dataframe\">\n",
       "  <thead>\n",
       "    <tr style=\"text-align: right;\">\n",
       "      <th></th>\n",
       "      <th>id_fecha</th>\n",
       "      <th>id_rubro</th>\n",
       "      <th>id_sector</th>\n",
       "      <th>id_organismo</th>\n",
       "      <th>id_unidad</th>\n",
       "      <th>id_producto</th>\n",
       "      <th>id_zona</th>\n",
       "      <th>codigo_moneda</th>\n",
       "      <th>cantidad_adjudicada</th>\n",
       "      <th>monto_unitario_oferta_usd</th>\n",
       "      <th>monto_adjudicado_usd</th>\n",
       "    </tr>\n",
       "  </thead>\n",
       "  <tbody>\n",
       "    <tr>\n",
       "      <th>0</th>\n",
       "      <td>20070105</td>\n",
       "      <td>1986</td>\n",
       "      <td>5</td>\n",
       "      <td>100523</td>\n",
       "      <td>3762</td>\n",
       "      <td>51101720</td>\n",
       "      <td>8103</td>\n",
       "      <td>2</td>\n",
       "      <td>100.0</td>\n",
       "      <td>1.813102</td>\n",
       "      <td>181.310244</td>\n",
       "    </tr>\n",
       "    <tr>\n",
       "      <th>1</th>\n",
       "      <td>20070105</td>\n",
       "      <td>1986</td>\n",
       "      <td>5</td>\n",
       "      <td>100523</td>\n",
       "      <td>3762</td>\n",
       "      <td>51101720</td>\n",
       "      <td>8103</td>\n",
       "      <td>2</td>\n",
       "      <td>100.0</td>\n",
       "      <td>0.499528</td>\n",
       "      <td>49.952822</td>\n",
       "    </tr>\n",
       "    <tr>\n",
       "      <th>2</th>\n",
       "      <td>20070105</td>\n",
       "      <td>483</td>\n",
       "      <td>5</td>\n",
       "      <td>100523</td>\n",
       "      <td>3762</td>\n",
       "      <td>51101811</td>\n",
       "      <td>8103</td>\n",
       "      <td>2</td>\n",
       "      <td>6000.0</td>\n",
       "      <td>0.035152</td>\n",
       "      <td>210.911917</td>\n",
       "    </tr>\n",
       "    <tr>\n",
       "      <th>3</th>\n",
       "      <td>20070105</td>\n",
       "      <td>483</td>\n",
       "      <td>5</td>\n",
       "      <td>100523</td>\n",
       "      <td>3762</td>\n",
       "      <td>51101815</td>\n",
       "      <td>8103</td>\n",
       "      <td>2</td>\n",
       "      <td>20.0</td>\n",
       "      <td>2.386635</td>\n",
       "      <td>47.732697</td>\n",
       "    </tr>\n",
       "    <tr>\n",
       "      <th>4</th>\n",
       "      <td>20070105</td>\n",
       "      <td>483</td>\n",
       "      <td>5</td>\n",
       "      <td>100523</td>\n",
       "      <td>3762</td>\n",
       "      <td>51101815</td>\n",
       "      <td>8103</td>\n",
       "      <td>2</td>\n",
       "      <td>100.0</td>\n",
       "      <td>0.536530</td>\n",
       "      <td>53.653031</td>\n",
       "    </tr>\n",
       "  </tbody>\n",
       "</table>\n",
       "</div>"
      ],
      "text/plain": [
       "   id_fecha  id_rubro  id_sector  id_organismo  id_unidad  id_producto  \\\n",
       "0  20070105      1986          5        100523       3762     51101720   \n",
       "1  20070105      1986          5        100523       3762     51101720   \n",
       "2  20070105       483          5        100523       3762     51101811   \n",
       "3  20070105       483          5        100523       3762     51101815   \n",
       "4  20070105       483          5        100523       3762     51101815   \n",
       "\n",
       "   id_zona  codigo_moneda  cantidad_adjudicada  monto_unitario_oferta_usd  \\\n",
       "0     8103              2                100.0                   1.813102   \n",
       "1     8103              2                100.0                   0.499528   \n",
       "2     8103              2               6000.0                   0.035152   \n",
       "3     8103              2                 20.0                   2.386635   \n",
       "4     8103              2                100.0                   0.536530   \n",
       "\n",
       "   monto_adjudicado_usd  \n",
       "0            181.310244  \n",
       "1             49.952822  \n",
       "2            210.911917  \n",
       "3             47.732697  \n",
       "4             53.653031  "
      ]
     },
     "execution_count": 4,
     "metadata": {},
     "output_type": "execute_result"
    }
   ],
   "source": [
    "df.head()"
   ]
  },
  {
   "cell_type": "code",
   "execution_count": 5,
   "id": "967a1084-8d7d-4543-acda-ad785ee6c1a1",
   "metadata": {},
   "outputs": [
    {
     "data": {
      "text/plain": [
       "(12126458, 11)"
      ]
     },
     "execution_count": 5,
     "metadata": {},
     "output_type": "execute_result"
    }
   ],
   "source": [
    "df.shape"
   ]
  },
  {
   "cell_type": "code",
   "execution_count": 6,
   "id": "ec694043-951d-42e6-80f6-d0d531bd74c6",
   "metadata": {},
   "outputs": [],
   "source": [
    "# Convertir 'id_fecha' a formato de fecha y ordenar de forma ascendente\n",
    "df['id_fecha'] = pd.to_datetime(df['id_fecha'], format='%Y%m%d')\n",
    "df = df.sort_values(by='id_fecha')"
   ]
  },
  {
   "cell_type": "code",
   "execution_count": 7,
   "id": "379f182e-3d51-421c-8d90-55a093015416",
   "metadata": {},
   "outputs": [],
   "source": [
    "# 1. Crear características de fecha\n",
    "df['mes'] = df['id_fecha'].dt.month\n",
    "df['trimestre'] = df['id_fecha'].dt.quarter\n",
    "df['anio'] = df['id_fecha'].dt.year"
   ]
  },
  {
   "cell_type": "code",
   "execution_count": 8,
   "id": "6f60094f-1843-42fb-b164-166822657de2",
   "metadata": {},
   "outputs": [
    {
     "data": {
      "text/html": [
       "<div>\n",
       "<style scoped>\n",
       "    .dataframe tbody tr th:only-of-type {\n",
       "        vertical-align: middle;\n",
       "    }\n",
       "\n",
       "    .dataframe tbody tr th {\n",
       "        vertical-align: top;\n",
       "    }\n",
       "\n",
       "    .dataframe thead th {\n",
       "        text-align: right;\n",
       "    }\n",
       "</style>\n",
       "<table border=\"1\" class=\"dataframe\">\n",
       "  <thead>\n",
       "    <tr style=\"text-align: right;\">\n",
       "      <th></th>\n",
       "      <th>id_fecha</th>\n",
       "      <th>id_rubro</th>\n",
       "      <th>id_sector</th>\n",
       "      <th>id_organismo</th>\n",
       "      <th>id_unidad</th>\n",
       "      <th>id_producto</th>\n",
       "      <th>id_zona</th>\n",
       "      <th>codigo_moneda</th>\n",
       "      <th>cantidad_adjudicada</th>\n",
       "      <th>monto_unitario_oferta_usd</th>\n",
       "      <th>monto_adjudicado_usd</th>\n",
       "      <th>mes</th>\n",
       "      <th>trimestre</th>\n",
       "      <th>anio</th>\n",
       "    </tr>\n",
       "  </thead>\n",
       "  <tbody>\n",
       "    <tr>\n",
       "      <th>0</th>\n",
       "      <td>2007-01-05</td>\n",
       "      <td>1986</td>\n",
       "      <td>5</td>\n",
       "      <td>100523</td>\n",
       "      <td>3762</td>\n",
       "      <td>51101720</td>\n",
       "      <td>8103</td>\n",
       "      <td>2</td>\n",
       "      <td>100.0</td>\n",
       "      <td>1.813102</td>\n",
       "      <td>181.310244</td>\n",
       "      <td>1</td>\n",
       "      <td>1</td>\n",
       "      <td>2007</td>\n",
       "    </tr>\n",
       "    <tr>\n",
       "      <th>1</th>\n",
       "      <td>2007-01-05</td>\n",
       "      <td>1986</td>\n",
       "      <td>5</td>\n",
       "      <td>100523</td>\n",
       "      <td>3762</td>\n",
       "      <td>51101720</td>\n",
       "      <td>8103</td>\n",
       "      <td>2</td>\n",
       "      <td>100.0</td>\n",
       "      <td>0.499528</td>\n",
       "      <td>49.952822</td>\n",
       "      <td>1</td>\n",
       "      <td>1</td>\n",
       "      <td>2007</td>\n",
       "    </tr>\n",
       "    <tr>\n",
       "      <th>2</th>\n",
       "      <td>2007-01-05</td>\n",
       "      <td>483</td>\n",
       "      <td>5</td>\n",
       "      <td>100523</td>\n",
       "      <td>3762</td>\n",
       "      <td>51101811</td>\n",
       "      <td>8103</td>\n",
       "      <td>2</td>\n",
       "      <td>6000.0</td>\n",
       "      <td>0.035152</td>\n",
       "      <td>210.911917</td>\n",
       "      <td>1</td>\n",
       "      <td>1</td>\n",
       "      <td>2007</td>\n",
       "    </tr>\n",
       "    <tr>\n",
       "      <th>3</th>\n",
       "      <td>2007-01-05</td>\n",
       "      <td>483</td>\n",
       "      <td>5</td>\n",
       "      <td>100523</td>\n",
       "      <td>3762</td>\n",
       "      <td>51101815</td>\n",
       "      <td>8103</td>\n",
       "      <td>2</td>\n",
       "      <td>20.0</td>\n",
       "      <td>2.386635</td>\n",
       "      <td>47.732697</td>\n",
       "      <td>1</td>\n",
       "      <td>1</td>\n",
       "      <td>2007</td>\n",
       "    </tr>\n",
       "    <tr>\n",
       "      <th>4</th>\n",
       "      <td>2007-01-05</td>\n",
       "      <td>483</td>\n",
       "      <td>5</td>\n",
       "      <td>100523</td>\n",
       "      <td>3762</td>\n",
       "      <td>51101815</td>\n",
       "      <td>8103</td>\n",
       "      <td>2</td>\n",
       "      <td>100.0</td>\n",
       "      <td>0.536530</td>\n",
       "      <td>53.653031</td>\n",
       "      <td>1</td>\n",
       "      <td>1</td>\n",
       "      <td>2007</td>\n",
       "    </tr>\n",
       "  </tbody>\n",
       "</table>\n",
       "</div>"
      ],
      "text/plain": [
       "    id_fecha  id_rubro  id_sector  id_organismo  id_unidad  id_producto  \\\n",
       "0 2007-01-05      1986          5        100523       3762     51101720   \n",
       "1 2007-01-05      1986          5        100523       3762     51101720   \n",
       "2 2007-01-05       483          5        100523       3762     51101811   \n",
       "3 2007-01-05       483          5        100523       3762     51101815   \n",
       "4 2007-01-05       483          5        100523       3762     51101815   \n",
       "\n",
       "   id_zona  codigo_moneda  cantidad_adjudicada  monto_unitario_oferta_usd  \\\n",
       "0     8103              2                100.0                   1.813102   \n",
       "1     8103              2                100.0                   0.499528   \n",
       "2     8103              2               6000.0                   0.035152   \n",
       "3     8103              2                 20.0                   2.386635   \n",
       "4     8103              2                100.0                   0.536530   \n",
       "\n",
       "   monto_adjudicado_usd  mes  trimestre  anio  \n",
       "0            181.310244    1          1  2007  \n",
       "1             49.952822    1          1  2007  \n",
       "2            210.911917    1          1  2007  \n",
       "3             47.732697    1          1  2007  \n",
       "4             53.653031    1          1  2007  "
      ]
     },
     "execution_count": 8,
     "metadata": {},
     "output_type": "execute_result"
    }
   ],
   "source": [
    "df.head()"
   ]
  },
  {
   "cell_type": "code",
   "execution_count": 9,
   "id": "c4b7f0a0-6bde-4681-8624-c0246512ec1c",
   "metadata": {},
   "outputs": [
    {
     "data": {
      "text/html": [
       "<div>\n",
       "<style scoped>\n",
       "    .dataframe tbody tr th:only-of-type {\n",
       "        vertical-align: middle;\n",
       "    }\n",
       "\n",
       "    .dataframe tbody tr th {\n",
       "        vertical-align: top;\n",
       "    }\n",
       "\n",
       "    .dataframe thead th {\n",
       "        text-align: right;\n",
       "    }\n",
       "</style>\n",
       "<table border=\"1\" class=\"dataframe\">\n",
       "  <thead>\n",
       "    <tr style=\"text-align: right;\">\n",
       "      <th></th>\n",
       "      <th>anio</th>\n",
       "      <th>mes</th>\n",
       "      <th>id_zona</th>\n",
       "      <th>id_unidad</th>\n",
       "      <th>id_producto</th>\n",
       "      <th>id_sector</th>\n",
       "      <th>cantidad_adjudicada</th>\n",
       "    </tr>\n",
       "  </thead>\n",
       "  <tbody>\n",
       "    <tr>\n",
       "      <th>0</th>\n",
       "      <td>2007</td>\n",
       "      <td>1</td>\n",
       "      <td>3</td>\n",
       "      <td>5400</td>\n",
       "      <td>42143513</td>\n",
       "      <td>5</td>\n",
       "      <td>1.0</td>\n",
       "    </tr>\n",
       "    <tr>\n",
       "      <th>1</th>\n",
       "      <td>2007</td>\n",
       "      <td>1</td>\n",
       "      <td>5</td>\n",
       "      <td>1604</td>\n",
       "      <td>20121301</td>\n",
       "      <td>2</td>\n",
       "      <td>2300.0</td>\n",
       "    </tr>\n",
       "    <tr>\n",
       "      <th>2</th>\n",
       "      <td>2007</td>\n",
       "      <td>1</td>\n",
       "      <td>5</td>\n",
       "      <td>1604</td>\n",
       "      <td>31201512</td>\n",
       "      <td>2</td>\n",
       "      <td>120.0</td>\n",
       "    </tr>\n",
       "    <tr>\n",
       "      <th>3</th>\n",
       "      <td>2007</td>\n",
       "      <td>1</td>\n",
       "      <td>5</td>\n",
       "      <td>1604</td>\n",
       "      <td>41121707</td>\n",
       "      <td>2</td>\n",
       "      <td>200.0</td>\n",
       "    </tr>\n",
       "    <tr>\n",
       "      <th>4</th>\n",
       "      <td>2007</td>\n",
       "      <td>1</td>\n",
       "      <td>5</td>\n",
       "      <td>1604</td>\n",
       "      <td>41121803</td>\n",
       "      <td>2</td>\n",
       "      <td>4.0</td>\n",
       "    </tr>\n",
       "    <tr>\n",
       "      <th>...</th>\n",
       "      <td>...</td>\n",
       "      <td>...</td>\n",
       "      <td>...</td>\n",
       "      <td>...</td>\n",
       "      <td>...</td>\n",
       "      <td>...</td>\n",
       "      <td>...</td>\n",
       "    </tr>\n",
       "    <tr>\n",
       "      <th>6372870</th>\n",
       "      <td>2023</td>\n",
       "      <td>6</td>\n",
       "      <td>16305</td>\n",
       "      <td>5622</td>\n",
       "      <td>30222116</td>\n",
       "      <td>5</td>\n",
       "      <td>1.0</td>\n",
       "    </tr>\n",
       "    <tr>\n",
       "      <th>6372871</th>\n",
       "      <td>2023</td>\n",
       "      <td>6</td>\n",
       "      <td>16305</td>\n",
       "      <td>5622</td>\n",
       "      <td>51141604</td>\n",
       "      <td>5</td>\n",
       "      <td>600.0</td>\n",
       "    </tr>\n",
       "    <tr>\n",
       "      <th>6372872</th>\n",
       "      <td>2023</td>\n",
       "      <td>6</td>\n",
       "      <td>16305</td>\n",
       "      <td>5622</td>\n",
       "      <td>51181517</td>\n",
       "      <td>5</td>\n",
       "      <td>140000.0</td>\n",
       "    </tr>\n",
       "    <tr>\n",
       "      <th>6372873</th>\n",
       "      <td>2023</td>\n",
       "      <td>6</td>\n",
       "      <td>16305</td>\n",
       "      <td>5622</td>\n",
       "      <td>73171507</td>\n",
       "      <td>5</td>\n",
       "      <td>2.0</td>\n",
       "    </tr>\n",
       "    <tr>\n",
       "      <th>6372874</th>\n",
       "      <td>2023</td>\n",
       "      <td>6</td>\n",
       "      <td>16305</td>\n",
       "      <td>5622</td>\n",
       "      <td>80111715</td>\n",
       "      <td>5</td>\n",
       "      <td>653.0</td>\n",
       "    </tr>\n",
       "  </tbody>\n",
       "</table>\n",
       "<p>6372875 rows × 7 columns</p>\n",
       "</div>"
      ],
      "text/plain": [
       "         anio  mes  id_zona  id_unidad  id_producto  id_sector  \\\n",
       "0        2007    1        3       5400     42143513          5   \n",
       "1        2007    1        5       1604     20121301          2   \n",
       "2        2007    1        5       1604     31201512          2   \n",
       "3        2007    1        5       1604     41121707          2   \n",
       "4        2007    1        5       1604     41121803          2   \n",
       "...       ...  ...      ...        ...          ...        ...   \n",
       "6372870  2023    6    16305       5622     30222116          5   \n",
       "6372871  2023    6    16305       5622     51141604          5   \n",
       "6372872  2023    6    16305       5622     51181517          5   \n",
       "6372873  2023    6    16305       5622     73171507          5   \n",
       "6372874  2023    6    16305       5622     80111715          5   \n",
       "\n",
       "         cantidad_adjudicada  \n",
       "0                        1.0  \n",
       "1                     2300.0  \n",
       "2                      120.0  \n",
       "3                      200.0  \n",
       "4                        4.0  \n",
       "...                      ...  \n",
       "6372870                  1.0  \n",
       "6372871                600.0  \n",
       "6372872             140000.0  \n",
       "6372873                  2.0  \n",
       "6372874                653.0  \n",
       "\n",
       "[6372875 rows x 7 columns]"
      ]
     },
     "execution_count": 9,
     "metadata": {},
     "output_type": "execute_result"
    }
   ],
   "source": [
    "# Agrupa y suma la cantidad de productos por zona\n",
    "df_group = df.groupby(['anio','mes','id_zona','id_unidad','id_producto','id_sector'])['cantidad_adjudicada'].sum().reset_index()\n",
    "df_group"
   ]
  },
  {
   "cell_type": "code",
   "execution_count": 10,
   "id": "28261fc0-be12-4a5a-ba4d-fef8ac1032bc",
   "metadata": {},
   "outputs": [
    {
     "data": {
      "text/plain": [
       "dtype('O')"
      ]
     },
     "execution_count": 10,
     "metadata": {},
     "output_type": "execute_result"
    }
   ],
   "source": [
    "df_group['a_m_z_u_p_s'] = df_group['anio'].astype(str) + '_' + df_group['mes'].astype(str) + '_' + df_group['id_zona'].astype(str) + '_' + df_group['id_unidad'].astype(str) + '_' + df_group['id_producto'].astype(str) + '_' + df_group['id_sector'].astype(str)\n",
    "df_group['a_m_z_u_p_s'].dtype"
   ]
  },
  {
   "cell_type": "code",
   "execution_count": 11,
   "id": "188ddc6f-767e-4922-841e-70c1fa42e773",
   "metadata": {},
   "outputs": [
    {
     "data": {
      "text/html": [
       "<div>\n",
       "<style scoped>\n",
       "    .dataframe tbody tr th:only-of-type {\n",
       "        vertical-align: middle;\n",
       "    }\n",
       "\n",
       "    .dataframe tbody tr th {\n",
       "        vertical-align: top;\n",
       "    }\n",
       "\n",
       "    .dataframe thead th {\n",
       "        text-align: right;\n",
       "    }\n",
       "</style>\n",
       "<table border=\"1\" class=\"dataframe\">\n",
       "  <thead>\n",
       "    <tr style=\"text-align: right;\">\n",
       "      <th></th>\n",
       "      <th>cantidad_adjudicada</th>\n",
       "      <th>a_m_z_u_p_s</th>\n",
       "    </tr>\n",
       "  </thead>\n",
       "  <tbody>\n",
       "    <tr>\n",
       "      <th>0</th>\n",
       "      <td>1.0</td>\n",
       "      <td>2007_1_3_5400_42143513_5</td>\n",
       "    </tr>\n",
       "    <tr>\n",
       "      <th>1</th>\n",
       "      <td>2300.0</td>\n",
       "      <td>2007_1_5_1604_20121301_2</td>\n",
       "    </tr>\n",
       "    <tr>\n",
       "      <th>2</th>\n",
       "      <td>120.0</td>\n",
       "      <td>2007_1_5_1604_31201512_2</td>\n",
       "    </tr>\n",
       "    <tr>\n",
       "      <th>3</th>\n",
       "      <td>200.0</td>\n",
       "      <td>2007_1_5_1604_41121707_2</td>\n",
       "    </tr>\n",
       "    <tr>\n",
       "      <th>4</th>\n",
       "      <td>4.0</td>\n",
       "      <td>2007_1_5_1604_41121803_2</td>\n",
       "    </tr>\n",
       "  </tbody>\n",
       "</table>\n",
       "</div>"
      ],
      "text/plain": [
       "   cantidad_adjudicada               a_m_z_u_p_s\n",
       "0                  1.0  2007_1_3_5400_42143513_5\n",
       "1               2300.0  2007_1_5_1604_20121301_2\n",
       "2                120.0  2007_1_5_1604_31201512_2\n",
       "3                200.0  2007_1_5_1604_41121707_2\n",
       "4                  4.0  2007_1_5_1604_41121803_2"
      ]
     },
     "execution_count": 11,
     "metadata": {},
     "output_type": "execute_result"
    }
   ],
   "source": [
    "df_group = df_group.drop(columns=['anio','mes','id_zona','id_unidad','id_producto','id_sector'])\n",
    "df_group.head()"
   ]
  },
  {
   "cell_type": "code",
   "execution_count": null,
   "id": "b98b14db-41cc-4104-88c4-a65cdc37f8a7",
   "metadata": {},
   "outputs": [],
   "source": [
    "#df = df.drop(columns=['monto_unitario_oferta_usd','monto_adjudicado_usd'])\n",
    "#df.head()"
   ]
  },
  {
   "cell_type": "code",
   "execution_count": null,
   "id": "edc17d86-cc9a-47e3-afcc-af39634e055f",
   "metadata": {},
   "outputs": [],
   "source": [
    "#df_dim_temporal = df['unida_producto_zona'].drop_duplicates()\n",
    "#print(len(df_dim_temporal))"
   ]
  },
  {
   "cell_type": "code",
   "execution_count": 12,
   "id": "a80caaba-5dfa-4a76-b437-b1334c06c626",
   "metadata": {},
   "outputs": [
    {
     "data": {
      "text/html": [
       "<div>\n",
       "<style scoped>\n",
       "    .dataframe tbody tr th:only-of-type {\n",
       "        vertical-align: middle;\n",
       "    }\n",
       "\n",
       "    .dataframe tbody tr th {\n",
       "        vertical-align: top;\n",
       "    }\n",
       "\n",
       "    .dataframe thead th {\n",
       "        text-align: right;\n",
       "    }\n",
       "</style>\n",
       "<table border=\"1\" class=\"dataframe\">\n",
       "  <thead>\n",
       "    <tr style=\"text-align: right;\">\n",
       "      <th></th>\n",
       "      <th>Columna</th>\n",
       "      <th>Tipo</th>\n",
       "    </tr>\n",
       "  </thead>\n",
       "  <tbody>\n",
       "    <tr>\n",
       "      <th>0</th>\n",
       "      <td>cantidad_adjudicada</td>\n",
       "      <td>float64</td>\n",
       "    </tr>\n",
       "    <tr>\n",
       "      <th>1</th>\n",
       "      <td>a_m_z_u_p_s</td>\n",
       "      <td>object</td>\n",
       "    </tr>\n",
       "  </tbody>\n",
       "</table>\n",
       "</div>"
      ],
      "text/plain": [
       "               Columna     Tipo\n",
       "0  cantidad_adjudicada  float64\n",
       "1          a_m_z_u_p_s   object"
      ]
     },
     "execution_count": 12,
     "metadata": {},
     "output_type": "execute_result"
    }
   ],
   "source": [
    "dtypes = df_group.dtypes\n",
    "column_types = pd.DataFrame({'Columna': dtypes.index, 'Tipo': dtypes.values})\n",
    "column_types"
   ]
  },
  {
   "cell_type": "code",
   "execution_count": 16,
   "id": "e92d6986-05c6-44ee-81ac-c7eeddc50789",
   "metadata": {},
   "outputs": [
    {
     "name": "stdout",
     "output_type": "stream",
     "text": [
      "cantidad_adjudicada : int32 -> int32\n"
     ]
    }
   ],
   "source": [
    "#los valores de cantidades deben ser valores enteros\n",
    "#col_set_int = ['id_producto','mes','anio','id_unidad','id_zona','id_sector']\n",
    "\n",
    "col_set_int = ['cantidad_adjudicada']\n",
    "\n",
    "for col in col_set_int:\n",
    "    antes = df_group[col].dtype\n",
    "    df_group[col] = df_group[col].astype(int)\n",
    "    despues = df_group[col].dtype\n",
    "    print(f'{col} : {antes} -> {despues}')"
   ]
  },
  {
   "cell_type": "code",
   "execution_count": 17,
   "id": "2ec2df54-c24c-4b99-af40-41f4dc0bb1ae",
   "metadata": {},
   "outputs": [
    {
     "data": {
      "text/html": [
       "<div>\n",
       "<style scoped>\n",
       "    .dataframe tbody tr th:only-of-type {\n",
       "        vertical-align: middle;\n",
       "    }\n",
       "\n",
       "    .dataframe tbody tr th {\n",
       "        vertical-align: top;\n",
       "    }\n",
       "\n",
       "    .dataframe thead th {\n",
       "        text-align: right;\n",
       "    }\n",
       "</style>\n",
       "<table border=\"1\" class=\"dataframe\">\n",
       "  <thead>\n",
       "    <tr style=\"text-align: right;\">\n",
       "      <th></th>\n",
       "      <th>Columna</th>\n",
       "      <th>Tipo</th>\n",
       "    </tr>\n",
       "  </thead>\n",
       "  <tbody>\n",
       "    <tr>\n",
       "      <th>0</th>\n",
       "      <td>cantidad_adjudicada</td>\n",
       "      <td>int32</td>\n",
       "    </tr>\n",
       "    <tr>\n",
       "      <th>1</th>\n",
       "      <td>a_m_z_u_p_s</td>\n",
       "      <td>object</td>\n",
       "    </tr>\n",
       "  </tbody>\n",
       "</table>\n",
       "</div>"
      ],
      "text/plain": [
       "               Columna    Tipo\n",
       "0  cantidad_adjudicada   int32\n",
       "1          a_m_z_u_p_s  object"
      ]
     },
     "execution_count": 17,
     "metadata": {},
     "output_type": "execute_result"
    }
   ],
   "source": [
    "dtypes = df_group.dtypes\n",
    "column_types = pd.DataFrame({'Columna': dtypes.index, 'Tipo': dtypes.values})\n",
    "column_types"
   ]
  },
  {
   "cell_type": "code",
   "execution_count": 20,
   "id": "51ed9f6e-1b6b-4717-bd42-70766722ac09",
   "metadata": {},
   "outputs": [
    {
     "data": {
      "text/plain": [
       "(6372875, 2)"
      ]
     },
     "execution_count": 20,
     "metadata": {},
     "output_type": "execute_result"
    }
   ],
   "source": [
    "df_group.shape"
   ]
  },
  {
   "cell_type": "code",
   "execution_count": 18,
   "id": "d64dc352-6bca-4d85-b2ce-b980506cfe7d",
   "metadata": {},
   "outputs": [],
   "source": [
    "df_bkp = df_group.copy()"
   ]
  },
  {
   "cell_type": "code",
   "execution_count": 21,
   "id": "6c980a68-7747-45e3-b1af-6f796ab49a8c",
   "metadata": {},
   "outputs": [
    {
     "data": {
      "text/html": [
       "<div>\n",
       "<style scoped>\n",
       "    .dataframe tbody tr th:only-of-type {\n",
       "        vertical-align: middle;\n",
       "    }\n",
       "\n",
       "    .dataframe tbody tr th {\n",
       "        vertical-align: top;\n",
       "    }\n",
       "\n",
       "    .dataframe thead th {\n",
       "        text-align: right;\n",
       "    }\n",
       "</style>\n",
       "<table border=\"1\" class=\"dataframe\">\n",
       "  <thead>\n",
       "    <tr style=\"text-align: right;\">\n",
       "      <th></th>\n",
       "      <th>cantidad_adjudicada</th>\n",
       "      <th>a_m_z_u_p_s</th>\n",
       "    </tr>\n",
       "  </thead>\n",
       "  <tbody>\n",
       "    <tr>\n",
       "      <th>0</th>\n",
       "      <td>1</td>\n",
       "      <td>2007_1_3_5400_42143513_5</td>\n",
       "    </tr>\n",
       "    <tr>\n",
       "      <th>1</th>\n",
       "      <td>2300</td>\n",
       "      <td>2007_1_5_1604_20121301_2</td>\n",
       "    </tr>\n",
       "    <tr>\n",
       "      <th>2</th>\n",
       "      <td>120</td>\n",
       "      <td>2007_1_5_1604_31201512_2</td>\n",
       "    </tr>\n",
       "    <tr>\n",
       "      <th>3</th>\n",
       "      <td>200</td>\n",
       "      <td>2007_1_5_1604_41121707_2</td>\n",
       "    </tr>\n",
       "    <tr>\n",
       "      <th>4</th>\n",
       "      <td>4</td>\n",
       "      <td>2007_1_5_1604_41121803_2</td>\n",
       "    </tr>\n",
       "  </tbody>\n",
       "</table>\n",
       "</div>"
      ],
      "text/plain": [
       "   cantidad_adjudicada               a_m_z_u_p_s\n",
       "0                    1  2007_1_3_5400_42143513_5\n",
       "1                 2300  2007_1_5_1604_20121301_2\n",
       "2                  120  2007_1_5_1604_31201512_2\n",
       "3                  200  2007_1_5_1604_41121707_2\n",
       "4                    4  2007_1_5_1604_41121803_2"
      ]
     },
     "execution_count": 21,
     "metadata": {},
     "output_type": "execute_result"
    }
   ],
   "source": [
    "df_bkp.head()"
   ]
  },
  {
   "cell_type": "code",
   "execution_count": 22,
   "id": "4a7ab77f-599b-426e-9875-c1477a5ab6d3",
   "metadata": {},
   "outputs": [
    {
     "data": {
      "text/plain": [
       "0"
      ]
     },
     "execution_count": 22,
     "metadata": {},
     "output_type": "execute_result"
    }
   ],
   "source": [
    "df_bkp.duplicated().sum()"
   ]
  },
  {
   "cell_type": "code",
   "execution_count": 23,
   "id": "0ef68e76-a60e-401f-82f0-43b093bfdb91",
   "metadata": {},
   "outputs": [
    {
     "name": "stdout",
     "output_type": "stream",
     "text": [
      "X: (6372875, 1) y: (6372875,)\n"
     ]
    }
   ],
   "source": [
    "# Separamos las variables independientes y dependiente\n",
    "X_df = df_bkp.drop(columns=['cantidad_adjudicada'])\n",
    "y_df = df_bkp['cantidad_adjudicada']\n",
    "print(f'X: {X_df.shape} y: {y_df.shape}')"
   ]
  },
  {
   "cell_type": "code",
   "execution_count": 24,
   "id": "95ff712d-13b7-489d-9bb0-d0c57120aadd",
   "metadata": {},
   "outputs": [
    {
     "data": {
      "text/html": [
       "<div>\n",
       "<style scoped>\n",
       "    .dataframe tbody tr th:only-of-type {\n",
       "        vertical-align: middle;\n",
       "    }\n",
       "\n",
       "    .dataframe tbody tr th {\n",
       "        vertical-align: top;\n",
       "    }\n",
       "\n",
       "    .dataframe thead th {\n",
       "        text-align: right;\n",
       "    }\n",
       "</style>\n",
       "<table border=\"1\" class=\"dataframe\">\n",
       "  <thead>\n",
       "    <tr style=\"text-align: right;\">\n",
       "      <th></th>\n",
       "      <th>a_m_z_u_p_s</th>\n",
       "    </tr>\n",
       "  </thead>\n",
       "  <tbody>\n",
       "    <tr>\n",
       "      <th>0</th>\n",
       "      <td>2007_1_3_5400_42143513_5</td>\n",
       "    </tr>\n",
       "    <tr>\n",
       "      <th>1</th>\n",
       "      <td>2007_1_5_1604_20121301_2</td>\n",
       "    </tr>\n",
       "    <tr>\n",
       "      <th>2</th>\n",
       "      <td>2007_1_5_1604_31201512_2</td>\n",
       "    </tr>\n",
       "    <tr>\n",
       "      <th>3</th>\n",
       "      <td>2007_1_5_1604_41121707_2</td>\n",
       "    </tr>\n",
       "    <tr>\n",
       "      <th>4</th>\n",
       "      <td>2007_1_5_1604_41121803_2</td>\n",
       "    </tr>\n",
       "  </tbody>\n",
       "</table>\n",
       "</div>"
      ],
      "text/plain": [
       "                a_m_z_u_p_s\n",
       "0  2007_1_3_5400_42143513_5\n",
       "1  2007_1_5_1604_20121301_2\n",
       "2  2007_1_5_1604_31201512_2\n",
       "3  2007_1_5_1604_41121707_2\n",
       "4  2007_1_5_1604_41121803_2"
      ]
     },
     "execution_count": 24,
     "metadata": {},
     "output_type": "execute_result"
    }
   ],
   "source": [
    "X_df.head()"
   ]
  },
  {
   "cell_type": "code",
   "execution_count": 25,
   "id": "d0e3f66f-1d64-43a5-a002-eade5d2b332d",
   "metadata": {},
   "outputs": [
    {
     "data": {
      "text/plain": [
       "0       1\n",
       "1    2300\n",
       "2     120\n",
       "3     200\n",
       "4       4\n",
       "Name: cantidad_adjudicada, dtype: int32"
      ]
     },
     "execution_count": 25,
     "metadata": {},
     "output_type": "execute_result"
    }
   ],
   "source": [
    "y_df.head()"
   ]
  },
  {
   "cell_type": "code",
   "execution_count": 26,
   "id": "cf9cd0cf-2d0d-4f79-8b28-17c7acd351bf",
   "metadata": {},
   "outputs": [
    {
     "name": "stdout",
     "output_type": "stream",
     "text": [
      "Tamaño set de entrenamientos: X: (5098300, 1) y: (5098300,)\n",
      "Tamaño set de validacion: X: (637287, 1) y: (637287,)\n",
      "Tamaño set de prueba: X: (637288, 1) y: (637288,)\n"
     ]
    }
   ],
   "source": [
    "from sklearn.model_selection import train_test_split\n",
    "\n",
    "X_train, X_test, y_train, y_test = train_test_split(X_df, y_df, test_size=0.2, random_state=42)\n",
    "X_valid, X_test, y_valid, y_test = train_test_split(X_test, y_test, test_size=0.5, random_state=42)\n",
    "\n",
    "print(f'Tamaño set de entrenamientos: X: {X_train.shape} y: {y_train.shape}')\n",
    "print(f'Tamaño set de validacion: X: {X_valid.shape} y: {y_valid.shape}')\n",
    "print(f'Tamaño set de prueba: X: {X_test.shape} y: {y_test.shape}')"
   ]
  },
  {
   "cell_type": "code",
   "execution_count": 27,
   "id": "009d4137-05ff-4b5c-a12a-c36db842df31",
   "metadata": {},
   "outputs": [
    {
     "data": {
      "image/png": "[encoded data removed]",
      "text/plain": [
       "<Figure size 1600x300 with 1 Axes>"
      ]
     },
     "metadata": {},
     "output_type": "display_data"
    }
   ],
   "source": [
    "# Crear un índice para los datos de entrenamiento y prueba\n",
    "indice_entrenamiento = range(len(y_train))\n",
    "indice_valid = range(len(y_train), len(y_train) + len(y_valid))\n",
    "indice_prueba = range(len(y_train) + len(y_valid), len(y_train) + len(y_test) + len(y_valid))\n",
    "\n",
    "fig, ax = plt.subplots(figsize=(16, 3))\n",
    "ax.plot(indice_entrenamiento, y_train, label='Entrenamiento')\n",
    "ax.plot(indice_valid, y_valid, label='Validacion')\n",
    "ax.plot(indice_prueba, y_test, label='Prueba')\n",
    "ax.set_title('Covariable: cantidad_adjudicada')\n",
    "ax.set_xlabel('Índice de datos')\n",
    "ax.set_ylabel('Valor de cantidad_adjudicada')\n",
    "plt.legend()\n",
    "plt.show()"
   ]
  },
  {
   "cell_type": "code",
   "execution_count": 28,
   "id": "37b79c88-a30e-44ec-b1f2-c9e2e9b42315",
   "metadata": {},
   "outputs": [],
   "source": [
    "score_models = []\n",
    "X_train_scaled = X_train.copy()\n",
    "X_valid_scaled = X_valid.copy()\n",
    "X_test_scaled = X_test.copy()"
   ]
  },
  {
   "cell_type": "code",
   "execution_count": 29,
   "id": "a42c76c5-7aa3-4e43-9994-f736d9befbff",
   "metadata": {},
   "outputs": [],
   "source": [
    "# Aplicar Min-Max Scaling a las características (X)\n",
    "\n",
    "from sklearn.preprocessing import MinMaxScaler\n",
    "scaler = MinMaxScaler()\n",
    "\n",
    "#from sklearn.preprocessing import StandardScaler\n",
    "#scaler = StandardScaler()\n",
    "\n",
    "X_train_scaled = scaler.fit_transform(X_train)\n",
    "X_valid_scaled = scaler.transform(X_valid)\n",
    "X_test_scaled = scaler.transform(X_test)\n",
    "\n",
    "#for col in X_train.columns:\n",
    "#    print(col)\n",
    "#    X_train_scaled[col] = np.log1p(X_train_scaled[col])\n",
    "#    X_valid_scaled[col] = np.log1p(X_valid_scaled[col])\n",
    "#    X_test_scaled[col] = np.log1p(X_test_scaled[col])"
   ]
  },
  {
   "cell_type": "code",
   "execution_count": 30,
   "id": "2150a52f-bd6f-4c05-b91c-30c53895d1a4",
   "metadata": {},
   "outputs": [
    {
     "data": {
      "text/html": [
       "<div>\n",
       "<style scoped>\n",
       "    .dataframe tbody tr th:only-of-type {\n",
       "        vertical-align: middle;\n",
       "    }\n",
       "\n",
       "    .dataframe tbody tr th {\n",
       "        vertical-align: top;\n",
       "    }\n",
       "\n",
       "    .dataframe thead tr th {\n",
       "        text-align: left;\n",
       "    }\n",
       "</style>\n",
       "<table border=\"1\" class=\"dataframe\">\n",
       "  <thead>\n",
       "    <tr>\n",
       "      <th></th>\n",
       "      <th>a_m_z_u_p_s</th>\n",
       "    </tr>\n",
       "  </thead>\n",
       "  <tbody>\n",
       "    <tr>\n",
       "      <th>0</th>\n",
       "      <td>9.947583e-06</td>\n",
       "    </tr>\n",
       "    <tr>\n",
       "      <th>1</th>\n",
       "      <td>9.944626e-06</td>\n",
       "    </tr>\n",
       "    <tr>\n",
       "      <th>2</th>\n",
       "      <td>9.944577e-06</td>\n",
       "    </tr>\n",
       "    <tr>\n",
       "      <th>3</th>\n",
       "      <td>9.937708e-06</td>\n",
       "    </tr>\n",
       "    <tr>\n",
       "      <th>4</th>\n",
       "      <td>9.963762e-07</td>\n",
       "    </tr>\n",
       "  </tbody>\n",
       "</table>\n",
       "</div>"
      ],
      "text/plain": [
       "    a_m_z_u_p_s\n",
       "0  9.947583e-06\n",
       "1  9.944626e-06\n",
       "2  9.944577e-06\n",
       "3  9.937708e-06\n",
       "4  9.963762e-07"
      ]
     },
     "execution_count": 30,
     "metadata": {},
     "output_type": "execute_result"
    }
   ],
   "source": [
    "df_train_scaled = pd.DataFrame(X_train_scaled, columns=[X_train.columns])\n",
    "df_train_scaled.head()"
   ]
  },
  {
   "cell_type": "markdown",
   "id": "241077d3-8531-4e1a-8daf-462ad1bccbb5",
   "metadata": {},
   "source": [
    "### Redes Neuronales"
   ]
  },
  {
   "cell_type": "code",
   "execution_count": 31,
   "id": "860c426c-0366-4f9e-bfb0-154cd1afd19d",
   "metadata": {},
   "outputs": [
    {
     "name": "stdout",
     "output_type": "stream",
     "text": [
      "Model: \"sequential\"\n",
      "_________________________________________________________________\n",
      " Layer (type)                Output Shape              Param #   \n",
      "=================================================================\n",
      " dense (Dense)               (None, 64)                128       \n",
      "                                                                 \n",
      " dense_1 (Dense)             (None, 1)                 65        \n",
      "                                                                 \n",
      "=================================================================\n",
      "Total params: 193 (772.00 Byte)\n",
      "Trainable params: 193 (772.00 Byte)\n",
      "Non-trainable params: 0 (0.00 Byte)\n",
      "_________________________________________________________________\n"
     ]
    }
   ],
   "source": [
    "np.random.seed(461)\n",
    "import tensorflow as tf\n",
    "from tensorflow import keras\n",
    "from tensorflow.keras.layers import Dense, Dropout\n",
    "from tensorflow.keras.optimizers import Adam\n",
    "\n",
    "model_nn = keras.Sequential([\n",
    "    Dense(64, input_shape=(X_train_scaled.shape[1],)),\n",
    "    Dense(1)\n",
    "])\n",
    "\n",
    "learning_rate = 0.01\n",
    "optimizer = keras.optimizers.Adam(learning_rate=learning_rate)\n",
    "model_nn.compile(loss='mean_squared_error', optimizer=optimizer)\n",
    "\n",
    "#model_nn.compile(loss='mse', optimizer=optimizer, metrics=['mae'])\n",
    "model_nn.summary()"
   ]
  },
  {
   "cell_type": "code",
   "execution_count": 32,
   "id": "b6b8f580-4d20-4ba0-b8d8-82846668ef79",
   "metadata": {},
   "outputs": [
    {
     "name": "stdout",
     "output_type": "stream",
     "text": [
      "Epoch 1/100\n",
      "24934/79661 [========>.....................] - ETA: 1:41 - loss: 3740832366592.0000"
     ]
    },
    {
     "ename": "KeyboardInterrupt",
     "evalue": "",
     "output_type": "error",
     "traceback": [
      "\u001b[1;31m---------------------------------------------------------------------------\u001b[0m",
      "\u001b[1;31mKeyboardInterrupt\u001b[0m                         Traceback (most recent call last)",
      "Cell \u001b[1;32mIn[32], line 2\u001b[0m\n\u001b[0;32m      1\u001b[0m \u001b[38;5;66;03m#score = model_nn.fit(X_train_scaled, y_train, epochs=50, batch_size=64, verbose=1, shuffle=True)\u001b[39;00m\n\u001b[1;32m----> 2\u001b[0m score \u001b[38;5;241m=\u001b[39m \u001b[43mmodel_nn\u001b[49m\u001b[38;5;241;43m.\u001b[39;49m\u001b[43mfit\u001b[49m\u001b[43m(\u001b[49m\u001b[43mX_train_scaled\u001b[49m\u001b[43m,\u001b[49m\u001b[43m \u001b[49m\u001b[43my_train\u001b[49m\u001b[43m,\u001b[49m\u001b[43m \u001b[49m\u001b[43mepochs\u001b[49m\u001b[38;5;241;43m=\u001b[39;49m\u001b[38;5;241;43m100\u001b[39;49m\u001b[43m,\u001b[49m\u001b[43m \u001b[49m\u001b[43mbatch_size\u001b[49m\u001b[38;5;241;43m=\u001b[39;49m\u001b[38;5;241;43m64\u001b[39;49m\u001b[43m,\u001b[49m\u001b[43m \u001b[49m\u001b[43mvalidation_data\u001b[49m\u001b[38;5;241;43m=\u001b[39;49m\u001b[43m(\u001b[49m\u001b[43mX_valid_scaled\u001b[49m\u001b[43m,\u001b[49m\u001b[43m \u001b[49m\u001b[43my_valid\u001b[49m\u001b[43m)\u001b[49m\u001b[43m,\u001b[49m\u001b[43m \u001b[49m\u001b[43mverbose\u001b[49m\u001b[38;5;241;43m=\u001b[39;49m\u001b[38;5;241;43m1\u001b[39;49m\u001b[43m,\u001b[49m\u001b[43m \u001b[49m\u001b[43mshuffle\u001b[49m\u001b[38;5;241;43m=\u001b[39;49m\u001b[38;5;28;43;01mTrue\u001b[39;49;00m\u001b[43m)\u001b[49m\n",
      "File \u001b[1;32mD:\\proyectofinal\\env\\Lib\\site-packages\\keras\\src\\utils\\traceback_utils.py:65\u001b[0m, in \u001b[0;36mfilter_traceback.<locals>.error_handler\u001b[1;34m(*args, **kwargs)\u001b[0m\n\u001b[0;32m     63\u001b[0m filtered_tb \u001b[38;5;241m=\u001b[39m \u001b[38;5;28;01mNone\u001b[39;00m\n\u001b[0;32m     64\u001b[0m \u001b[38;5;28;01mtry\u001b[39;00m:\n\u001b[1;32m---> 65\u001b[0m     \u001b[38;5;28;01mreturn\u001b[39;00m \u001b[43mfn\u001b[49m\u001b[43m(\u001b[49m\u001b[38;5;241;43m*\u001b[39;49m\u001b[43margs\u001b[49m\u001b[43m,\u001b[49m\u001b[43m \u001b[49m\u001b[38;5;241;43m*\u001b[39;49m\u001b[38;5;241;43m*\u001b[39;49m\u001b[43mkwargs\u001b[49m\u001b[43m)\u001b[49m\n\u001b[0;32m     66\u001b[0m \u001b[38;5;28;01mexcept\u001b[39;00m \u001b[38;5;167;01mException\u001b[39;00m \u001b[38;5;28;01mas\u001b[39;00m e:\n\u001b[0;32m     67\u001b[0m     filtered_tb \u001b[38;5;241m=\u001b[39m _process_traceback_frames(e\u001b[38;5;241m.\u001b[39m__traceback__)\n",
      "File \u001b[1;32mD:\\proyectofinal\\env\\Lib\\site-packages\\keras\\src\\engine\\training.py:1783\u001b[0m, in \u001b[0;36mModel.fit\u001b[1;34m(self, x, y, batch_size, epochs, verbose, callbacks, validation_split, validation_data, shuffle, class_weight, sample_weight, initial_epoch, steps_per_epoch, validation_steps, validation_batch_size, validation_freq, max_queue_size, workers, use_multiprocessing)\u001b[0m\n\u001b[0;32m   1775\u001b[0m \u001b[38;5;28;01mwith\u001b[39;00m tf\u001b[38;5;241m.\u001b[39mprofiler\u001b[38;5;241m.\u001b[39mexperimental\u001b[38;5;241m.\u001b[39mTrace(\n\u001b[0;32m   1776\u001b[0m     \u001b[38;5;124m\"\u001b[39m\u001b[38;5;124mtrain\u001b[39m\u001b[38;5;124m\"\u001b[39m,\n\u001b[0;32m   1777\u001b[0m     epoch_num\u001b[38;5;241m=\u001b[39mepoch,\n\u001b[1;32m   (...)\u001b[0m\n\u001b[0;32m   1780\u001b[0m     _r\u001b[38;5;241m=\u001b[39m\u001b[38;5;241m1\u001b[39m,\n\u001b[0;32m   1781\u001b[0m ):\n\u001b[0;32m   1782\u001b[0m     callbacks\u001b[38;5;241m.\u001b[39mon_train_batch_begin(step)\n\u001b[1;32m-> 1783\u001b[0m     tmp_logs \u001b[38;5;241m=\u001b[39m \u001b[38;5;28;43mself\u001b[39;49m\u001b[38;5;241;43m.\u001b[39;49m\u001b[43mtrain_function\u001b[49m\u001b[43m(\u001b[49m\u001b[43miterator\u001b[49m\u001b[43m)\u001b[49m\n\u001b[0;32m   1784\u001b[0m     \u001b[38;5;28;01mif\u001b[39;00m data_handler\u001b[38;5;241m.\u001b[39mshould_sync:\n\u001b[0;32m   1785\u001b[0m         context\u001b[38;5;241m.\u001b[39masync_wait()\n",
      "File \u001b[1;32mD:\\proyectofinal\\env\\Lib\\site-packages\\tensorflow\\python\\util\\traceback_utils.py:150\u001b[0m, in \u001b[0;36mfilter_traceback.<locals>.error_handler\u001b[1;34m(*args, **kwargs)\u001b[0m\n\u001b[0;32m    148\u001b[0m filtered_tb \u001b[38;5;241m=\u001b[39m \u001b[38;5;28;01mNone\u001b[39;00m\n\u001b[0;32m    149\u001b[0m \u001b[38;5;28;01mtry\u001b[39;00m:\n\u001b[1;32m--> 150\u001b[0m   \u001b[38;5;28;01mreturn\u001b[39;00m \u001b[43mfn\u001b[49m\u001b[43m(\u001b[49m\u001b[38;5;241;43m*\u001b[39;49m\u001b[43margs\u001b[49m\u001b[43m,\u001b[49m\u001b[43m \u001b[49m\u001b[38;5;241;43m*\u001b[39;49m\u001b[38;5;241;43m*\u001b[39;49m\u001b[43mkwargs\u001b[49m\u001b[43m)\u001b[49m\n\u001b[0;32m    151\u001b[0m \u001b[38;5;28;01mexcept\u001b[39;00m \u001b[38;5;167;01mException\u001b[39;00m \u001b[38;5;28;01mas\u001b[39;00m e:\n\u001b[0;32m    152\u001b[0m   filtered_tb \u001b[38;5;241m=\u001b[39m _process_traceback_frames(e\u001b[38;5;241m.\u001b[39m__traceback__)\n",
      "File \u001b[1;32mD:\\proyectofinal\\env\\Lib\\site-packages\\tensorflow\\python\\eager\\polymorphic_function\\polymorphic_function.py:831\u001b[0m, in \u001b[0;36mFunction.__call__\u001b[1;34m(self, *args, **kwds)\u001b[0m\n\u001b[0;32m    828\u001b[0m compiler \u001b[38;5;241m=\u001b[39m \u001b[38;5;124m\"\u001b[39m\u001b[38;5;124mxla\u001b[39m\u001b[38;5;124m\"\u001b[39m \u001b[38;5;28;01mif\u001b[39;00m \u001b[38;5;28mself\u001b[39m\u001b[38;5;241m.\u001b[39m_jit_compile \u001b[38;5;28;01melse\u001b[39;00m \u001b[38;5;124m\"\u001b[39m\u001b[38;5;124mnonXla\u001b[39m\u001b[38;5;124m\"\u001b[39m\n\u001b[0;32m    830\u001b[0m \u001b[38;5;28;01mwith\u001b[39;00m OptionalXlaContext(\u001b[38;5;28mself\u001b[39m\u001b[38;5;241m.\u001b[39m_jit_compile):\n\u001b[1;32m--> 831\u001b[0m   result \u001b[38;5;241m=\u001b[39m \u001b[38;5;28;43mself\u001b[39;49m\u001b[38;5;241;43m.\u001b[39;49m\u001b[43m_call\u001b[49m\u001b[43m(\u001b[49m\u001b[38;5;241;43m*\u001b[39;49m\u001b[43margs\u001b[49m\u001b[43m,\u001b[49m\u001b[43m \u001b[49m\u001b[38;5;241;43m*\u001b[39;49m\u001b[38;5;241;43m*\u001b[39;49m\u001b[43mkwds\u001b[49m\u001b[43m)\u001b[49m\n\u001b[0;32m    833\u001b[0m new_tracing_count \u001b[38;5;241m=\u001b[39m \u001b[38;5;28mself\u001b[39m\u001b[38;5;241m.\u001b[39mexperimental_get_tracing_count()\n\u001b[0;32m    834\u001b[0m without_tracing \u001b[38;5;241m=\u001b[39m (tracing_count \u001b[38;5;241m==\u001b[39m new_tracing_count)\n",
      "File \u001b[1;32mD:\\proyectofinal\\env\\Lib\\site-packages\\tensorflow\\python\\eager\\polymorphic_function\\polymorphic_function.py:867\u001b[0m, in \u001b[0;36mFunction._call\u001b[1;34m(self, *args, **kwds)\u001b[0m\n\u001b[0;32m    864\u001b[0m   \u001b[38;5;28mself\u001b[39m\u001b[38;5;241m.\u001b[39m_lock\u001b[38;5;241m.\u001b[39mrelease()\n\u001b[0;32m    865\u001b[0m   \u001b[38;5;66;03m# In this case we have created variables on the first call, so we run the\u001b[39;00m\n\u001b[0;32m    866\u001b[0m   \u001b[38;5;66;03m# defunned version which is guaranteed to never create variables.\u001b[39;00m\n\u001b[1;32m--> 867\u001b[0m   \u001b[38;5;28;01mreturn\u001b[39;00m \u001b[43mtracing_compilation\u001b[49m\u001b[38;5;241;43m.\u001b[39;49m\u001b[43mcall_function\u001b[49m\u001b[43m(\u001b[49m\n\u001b[0;32m    868\u001b[0m \u001b[43m      \u001b[49m\u001b[43margs\u001b[49m\u001b[43m,\u001b[49m\u001b[43m \u001b[49m\u001b[43mkwds\u001b[49m\u001b[43m,\u001b[49m\u001b[43m \u001b[49m\u001b[38;5;28;43mself\u001b[39;49m\u001b[38;5;241;43m.\u001b[39;49m\u001b[43m_no_variable_creation_config\u001b[49m\n\u001b[0;32m    869\u001b[0m \u001b[43m  \u001b[49m\u001b[43m)\u001b[49m\n\u001b[0;32m    870\u001b[0m \u001b[38;5;28;01melif\u001b[39;00m \u001b[38;5;28mself\u001b[39m\u001b[38;5;241m.\u001b[39m_variable_creation_config \u001b[38;5;129;01mis\u001b[39;00m \u001b[38;5;129;01mnot\u001b[39;00m \u001b[38;5;28;01mNone\u001b[39;00m:\n\u001b[0;32m    871\u001b[0m   \u001b[38;5;66;03m# Release the lock early so that multiple threads can perform the call\u001b[39;00m\n\u001b[0;32m    872\u001b[0m   \u001b[38;5;66;03m# in parallel.\u001b[39;00m\n\u001b[0;32m    873\u001b[0m   \u001b[38;5;28mself\u001b[39m\u001b[38;5;241m.\u001b[39m_lock\u001b[38;5;241m.\u001b[39mrelease()\n",
      "File \u001b[1;32mD:\\proyectofinal\\env\\Lib\\site-packages\\tensorflow\\python\\eager\\polymorphic_function\\tracing_compilation.py:139\u001b[0m, in \u001b[0;36mcall_function\u001b[1;34m(args, kwargs, tracing_options)\u001b[0m\n\u001b[0;32m    137\u001b[0m bound_args \u001b[38;5;241m=\u001b[39m function\u001b[38;5;241m.\u001b[39mfunction_type\u001b[38;5;241m.\u001b[39mbind(\u001b[38;5;241m*\u001b[39margs, \u001b[38;5;241m*\u001b[39m\u001b[38;5;241m*\u001b[39mkwargs)\n\u001b[0;32m    138\u001b[0m flat_inputs \u001b[38;5;241m=\u001b[39m function\u001b[38;5;241m.\u001b[39mfunction_type\u001b[38;5;241m.\u001b[39munpack_inputs(bound_args)\n\u001b[1;32m--> 139\u001b[0m \u001b[38;5;28;01mreturn\u001b[39;00m \u001b[43mfunction\u001b[49m\u001b[38;5;241;43m.\u001b[39;49m\u001b[43m_call_flat\u001b[49m\u001b[43m(\u001b[49m\u001b[43m  \u001b[49m\u001b[38;5;66;43;03m# pylint: disable=protected-access\u001b[39;49;00m\n\u001b[0;32m    140\u001b[0m \u001b[43m    \u001b[49m\u001b[43mflat_inputs\u001b[49m\u001b[43m,\u001b[49m\u001b[43m \u001b[49m\u001b[43mcaptured_inputs\u001b[49m\u001b[38;5;241;43m=\u001b[39;49m\u001b[43mfunction\u001b[49m\u001b[38;5;241;43m.\u001b[39;49m\u001b[43mcaptured_inputs\u001b[49m\n\u001b[0;32m    141\u001b[0m \u001b[43m\u001b[49m\u001b[43m)\u001b[49m\n",
      "File \u001b[1;32mD:\\proyectofinal\\env\\Lib\\site-packages\\tensorflow\\python\\eager\\polymorphic_function\\concrete_function.py:1264\u001b[0m, in \u001b[0;36mConcreteFunction._call_flat\u001b[1;34m(self, tensor_inputs, captured_inputs)\u001b[0m\n\u001b[0;32m   1260\u001b[0m possible_gradient_type \u001b[38;5;241m=\u001b[39m gradients_util\u001b[38;5;241m.\u001b[39mPossibleTapeGradientTypes(args)\n\u001b[0;32m   1261\u001b[0m \u001b[38;5;28;01mif\u001b[39;00m (possible_gradient_type \u001b[38;5;241m==\u001b[39m gradients_util\u001b[38;5;241m.\u001b[39mPOSSIBLE_GRADIENT_TYPES_NONE\n\u001b[0;32m   1262\u001b[0m     \u001b[38;5;129;01mand\u001b[39;00m executing_eagerly):\n\u001b[0;32m   1263\u001b[0m   \u001b[38;5;66;03m# No tape is watching; skip to running the function.\u001b[39;00m\n\u001b[1;32m-> 1264\u001b[0m   \u001b[38;5;28;01mreturn\u001b[39;00m \u001b[38;5;28;43mself\u001b[39;49m\u001b[38;5;241;43m.\u001b[39;49m\u001b[43m_inference_function\u001b[49m\u001b[38;5;241;43m.\u001b[39;49m\u001b[43mflat_call\u001b[49m\u001b[43m(\u001b[49m\u001b[43margs\u001b[49m\u001b[43m)\u001b[49m\n\u001b[0;32m   1265\u001b[0m forward_backward \u001b[38;5;241m=\u001b[39m \u001b[38;5;28mself\u001b[39m\u001b[38;5;241m.\u001b[39m_select_forward_and_backward_functions(\n\u001b[0;32m   1266\u001b[0m     args,\n\u001b[0;32m   1267\u001b[0m     possible_gradient_type,\n\u001b[0;32m   1268\u001b[0m     executing_eagerly)\n\u001b[0;32m   1269\u001b[0m forward_function, args_with_tangents \u001b[38;5;241m=\u001b[39m forward_backward\u001b[38;5;241m.\u001b[39mforward()\n",
      "File \u001b[1;32mD:\\proyectofinal\\env\\Lib\\site-packages\\tensorflow\\python\\eager\\polymorphic_function\\atomic_function.py:217\u001b[0m, in \u001b[0;36mAtomicFunction.flat_call\u001b[1;34m(self, args)\u001b[0m\n\u001b[0;32m    215\u001b[0m \u001b[38;5;28;01mdef\u001b[39;00m \u001b[38;5;21mflat_call\u001b[39m(\u001b[38;5;28mself\u001b[39m, args: Sequence[core\u001b[38;5;241m.\u001b[39mTensor]) \u001b[38;5;241m-\u001b[39m\u001b[38;5;241m>\u001b[39m Any:\n\u001b[0;32m    216\u001b[0m \u001b[38;5;250m  \u001b[39m\u001b[38;5;124;03m\"\"\"Calls with tensor inputs and returns the structured output.\"\"\"\u001b[39;00m\n\u001b[1;32m--> 217\u001b[0m   flat_outputs \u001b[38;5;241m=\u001b[39m \u001b[38;5;28;43mself\u001b[39;49m\u001b[43m(\u001b[49m\u001b[38;5;241;43m*\u001b[39;49m\u001b[43margs\u001b[49m\u001b[43m)\u001b[49m\n\u001b[0;32m    218\u001b[0m   \u001b[38;5;28;01mreturn\u001b[39;00m \u001b[38;5;28mself\u001b[39m\u001b[38;5;241m.\u001b[39mfunction_type\u001b[38;5;241m.\u001b[39mpack_output(flat_outputs)\n",
      "File \u001b[1;32mD:\\proyectofinal\\env\\Lib\\site-packages\\tensorflow\\python\\eager\\polymorphic_function\\atomic_function.py:252\u001b[0m, in \u001b[0;36mAtomicFunction.__call__\u001b[1;34m(self, *args)\u001b[0m\n\u001b[0;32m    250\u001b[0m \u001b[38;5;28;01mwith\u001b[39;00m record\u001b[38;5;241m.\u001b[39mstop_recording():\n\u001b[0;32m    251\u001b[0m   \u001b[38;5;28;01mif\u001b[39;00m \u001b[38;5;28mself\u001b[39m\u001b[38;5;241m.\u001b[39m_bound_context\u001b[38;5;241m.\u001b[39mexecuting_eagerly():\n\u001b[1;32m--> 252\u001b[0m     outputs \u001b[38;5;241m=\u001b[39m \u001b[38;5;28;43mself\u001b[39;49m\u001b[38;5;241;43m.\u001b[39;49m\u001b[43m_bound_context\u001b[49m\u001b[38;5;241;43m.\u001b[39;49m\u001b[43mcall_function\u001b[49m\u001b[43m(\u001b[49m\n\u001b[0;32m    253\u001b[0m \u001b[43m        \u001b[49m\u001b[38;5;28;43mself\u001b[39;49m\u001b[38;5;241;43m.\u001b[39;49m\u001b[43mname\u001b[49m\u001b[43m,\u001b[49m\n\u001b[0;32m    254\u001b[0m \u001b[43m        \u001b[49m\u001b[38;5;28;43mlist\u001b[39;49m\u001b[43m(\u001b[49m\u001b[43margs\u001b[49m\u001b[43m)\u001b[49m\u001b[43m,\u001b[49m\n\u001b[0;32m    255\u001b[0m \u001b[43m        \u001b[49m\u001b[38;5;28;43mlen\u001b[39;49m\u001b[43m(\u001b[49m\u001b[38;5;28;43mself\u001b[39;49m\u001b[38;5;241;43m.\u001b[39;49m\u001b[43mfunction_type\u001b[49m\u001b[38;5;241;43m.\u001b[39;49m\u001b[43mflat_outputs\u001b[49m\u001b[43m)\u001b[49m\u001b[43m,\u001b[49m\n\u001b[0;32m    256\u001b[0m \u001b[43m    \u001b[49m\u001b[43m)\u001b[49m\n\u001b[0;32m    257\u001b[0m   \u001b[38;5;28;01melse\u001b[39;00m:\n\u001b[0;32m    258\u001b[0m     outputs \u001b[38;5;241m=\u001b[39m make_call_op_in_graph(\n\u001b[0;32m    259\u001b[0m         \u001b[38;5;28mself\u001b[39m,\n\u001b[0;32m    260\u001b[0m         \u001b[38;5;28mlist\u001b[39m(args),\n\u001b[0;32m    261\u001b[0m         \u001b[38;5;28mself\u001b[39m\u001b[38;5;241m.\u001b[39m_bound_context\u001b[38;5;241m.\u001b[39mfunction_call_options\u001b[38;5;241m.\u001b[39mas_attrs(),\n\u001b[0;32m    262\u001b[0m     )\n",
      "File \u001b[1;32mD:\\proyectofinal\\env\\Lib\\site-packages\\tensorflow\\python\\eager\\context.py:1479\u001b[0m, in \u001b[0;36mContext.call_function\u001b[1;34m(self, name, tensor_inputs, num_outputs)\u001b[0m\n\u001b[0;32m   1477\u001b[0m cancellation_context \u001b[38;5;241m=\u001b[39m cancellation\u001b[38;5;241m.\u001b[39mcontext()\n\u001b[0;32m   1478\u001b[0m \u001b[38;5;28;01mif\u001b[39;00m cancellation_context \u001b[38;5;129;01mis\u001b[39;00m \u001b[38;5;28;01mNone\u001b[39;00m:\n\u001b[1;32m-> 1479\u001b[0m   outputs \u001b[38;5;241m=\u001b[39m \u001b[43mexecute\u001b[49m\u001b[38;5;241;43m.\u001b[39;49m\u001b[43mexecute\u001b[49m\u001b[43m(\u001b[49m\n\u001b[0;32m   1480\u001b[0m \u001b[43m      \u001b[49m\u001b[43mname\u001b[49m\u001b[38;5;241;43m.\u001b[39;49m\u001b[43mdecode\u001b[49m\u001b[43m(\u001b[49m\u001b[38;5;124;43m\"\u001b[39;49m\u001b[38;5;124;43mutf-8\u001b[39;49m\u001b[38;5;124;43m\"\u001b[39;49m\u001b[43m)\u001b[49m\u001b[43m,\u001b[49m\n\u001b[0;32m   1481\u001b[0m \u001b[43m      \u001b[49m\u001b[43mnum_outputs\u001b[49m\u001b[38;5;241;43m=\u001b[39;49m\u001b[43mnum_outputs\u001b[49m\u001b[43m,\u001b[49m\n\u001b[0;32m   1482\u001b[0m \u001b[43m      \u001b[49m\u001b[43minputs\u001b[49m\u001b[38;5;241;43m=\u001b[39;49m\u001b[43mtensor_inputs\u001b[49m\u001b[43m,\u001b[49m\n\u001b[0;32m   1483\u001b[0m \u001b[43m      \u001b[49m\u001b[43mattrs\u001b[49m\u001b[38;5;241;43m=\u001b[39;49m\u001b[43mattrs\u001b[49m\u001b[43m,\u001b[49m\n\u001b[0;32m   1484\u001b[0m \u001b[43m      \u001b[49m\u001b[43mctx\u001b[49m\u001b[38;5;241;43m=\u001b[39;49m\u001b[38;5;28;43mself\u001b[39;49m\u001b[43m,\u001b[49m\n\u001b[0;32m   1485\u001b[0m \u001b[43m  \u001b[49m\u001b[43m)\u001b[49m\n\u001b[0;32m   1486\u001b[0m \u001b[38;5;28;01melse\u001b[39;00m:\n\u001b[0;32m   1487\u001b[0m   outputs \u001b[38;5;241m=\u001b[39m execute\u001b[38;5;241m.\u001b[39mexecute_with_cancellation(\n\u001b[0;32m   1488\u001b[0m       name\u001b[38;5;241m.\u001b[39mdecode(\u001b[38;5;124m\"\u001b[39m\u001b[38;5;124mutf-8\u001b[39m\u001b[38;5;124m\"\u001b[39m),\n\u001b[0;32m   1489\u001b[0m       num_outputs\u001b[38;5;241m=\u001b[39mnum_outputs,\n\u001b[1;32m   (...)\u001b[0m\n\u001b[0;32m   1493\u001b[0m       cancellation_manager\u001b[38;5;241m=\u001b[39mcancellation_context,\n\u001b[0;32m   1494\u001b[0m   )\n",
      "File \u001b[1;32mD:\\proyectofinal\\env\\Lib\\site-packages\\tensorflow\\python\\eager\\execute.py:60\u001b[0m, in \u001b[0;36mquick_execute\u001b[1;34m(op_name, num_outputs, inputs, attrs, ctx, name)\u001b[0m\n\u001b[0;32m     53\u001b[0m   \u001b[38;5;66;03m# Convert any objects of type core_types.Tensor to Tensor.\u001b[39;00m\n\u001b[0;32m     54\u001b[0m   inputs \u001b[38;5;241m=\u001b[39m [\n\u001b[0;32m     55\u001b[0m       tensor_conversion_registry\u001b[38;5;241m.\u001b[39mconvert(t)\n\u001b[0;32m     56\u001b[0m       \u001b[38;5;28;01mif\u001b[39;00m \u001b[38;5;28misinstance\u001b[39m(t, core_types\u001b[38;5;241m.\u001b[39mTensor)\n\u001b[0;32m     57\u001b[0m       \u001b[38;5;28;01melse\u001b[39;00m t\n\u001b[0;32m     58\u001b[0m       \u001b[38;5;28;01mfor\u001b[39;00m t \u001b[38;5;129;01min\u001b[39;00m inputs\n\u001b[0;32m     59\u001b[0m   ]\n\u001b[1;32m---> 60\u001b[0m   tensors \u001b[38;5;241m=\u001b[39m \u001b[43mpywrap_tfe\u001b[49m\u001b[38;5;241;43m.\u001b[39;49m\u001b[43mTFE_Py_Execute\u001b[49m\u001b[43m(\u001b[49m\u001b[43mctx\u001b[49m\u001b[38;5;241;43m.\u001b[39;49m\u001b[43m_handle\u001b[49m\u001b[43m,\u001b[49m\u001b[43m \u001b[49m\u001b[43mdevice_name\u001b[49m\u001b[43m,\u001b[49m\u001b[43m \u001b[49m\u001b[43mop_name\u001b[49m\u001b[43m,\u001b[49m\n\u001b[0;32m     61\u001b[0m \u001b[43m                                      \u001b[49m\u001b[43minputs\u001b[49m\u001b[43m,\u001b[49m\u001b[43m \u001b[49m\u001b[43mattrs\u001b[49m\u001b[43m,\u001b[49m\u001b[43m \u001b[49m\u001b[43mnum_outputs\u001b[49m\u001b[43m)\u001b[49m\n\u001b[0;32m     62\u001b[0m \u001b[38;5;28;01mexcept\u001b[39;00m core\u001b[38;5;241m.\u001b[39m_NotOkStatusException \u001b[38;5;28;01mas\u001b[39;00m e:\n\u001b[0;32m     63\u001b[0m   \u001b[38;5;28;01mif\u001b[39;00m name \u001b[38;5;129;01mis\u001b[39;00m \u001b[38;5;129;01mnot\u001b[39;00m \u001b[38;5;28;01mNone\u001b[39;00m:\n",
      "\u001b[1;31mKeyboardInterrupt\u001b[0m: "
     ]
    }
   ],
   "source": [
    "#score = model_nn.fit(X_train_scaled, y_train, epochs=50, batch_size=64, verbose=1, shuffle=True)\n",
    "score = model_nn.fit(X_train_scaled, y_train, epochs=100, batch_size=64, validation_data=(X_valid_scaled, y_valid), verbose=1, shuffle=True)"
   ]
  },
  {
   "cell_type": "code",
   "execution_count": null,
   "id": "3b6cc3ff-7743-4369-a89b-d46adacc16ea",
   "metadata": {},
   "outputs": [],
   "source": [
    "score_models.append(score)\n",
    "print(\"SCORE: [%s] \" % score)"
   ]
  },
  {
   "cell_type": "markdown",
   "id": "2b400b81-78a7-4b80-96d7-2a72d1eb89a9",
   "metadata": {},
   "source": [
    "### Regresión Lineal\n"
   ]
  },
  {
   "cell_type": "code",
   "execution_count": 33,
   "id": "b360e7c8-898d-4361-a098-5d4e9b357a8d",
   "metadata": {},
   "outputs": [
    {
     "name": "stdout",
     "output_type": "stream",
     "text": [
      "SCORE: [-3.836147199898221e-08] \n"
     ]
    }
   ],
   "source": [
    "np.random.seed(461)\n",
    "from sklearn.linear_model import LinearRegression\n",
    "from sklearn.metrics import mean_squared_error\n",
    "\n",
    "model_lr = LinearRegression()\n",
    "model_lr.fit(X_train_scaled, y_train)\n",
    "score = model_lr.score(X_valid_scaled, y_valid)\n",
    "score_models.append(score)\n",
    "print(\"SCORE: [%s] \" % score)"
   ]
  },
  {
   "cell_type": "markdown",
   "id": "6ffd1b2b-1845-4788-8710-c6d5a33524d3",
   "metadata": {},
   "source": [
    "### Regresión de Máquinas de Soporte Vectorial (SVM)"
   ]
  },
  {
   "cell_type": "code",
   "execution_count": null,
   "id": "b1b4f84f-fd5a-4ffc-a795-ad2f006edf17",
   "metadata": {},
   "outputs": [],
   "source": [
    "np.random.seed(461)\n",
    "from sklearn.svm import SVR\n",
    "\n",
    "model_svm = SVR()\n",
    "model_svm.fit(X_train_scaled, y_train)\n",
    "score = model_svm.score(X_valid_scaled, y_valid)\n",
    "score_models.append(score)\n",
    "print(\"SCORE: [%s] \" % score)"
   ]
  },
  {
   "cell_type": "markdown",
   "id": "709d9b5a-34f4-4ed2-8282-96ea368564c6",
   "metadata": {},
   "source": [
    "### Regresión de Bosques Aleatorios\n"
   ]
  },
  {
   "cell_type": "code",
   "execution_count": null,
   "id": "cd1c8b6d-73be-4ba2-8b4c-182cd385f876",
   "metadata": {},
   "outputs": [],
   "source": [
    "np.random.seed(461)\n",
    "from sklearn.ensemble import RandomForestRegressor\n",
    "\n",
    "model_RF_Regressor = RandomForestRegressor(n_estimators=100, max_depth=10, random_state=7)\n",
    "model_RF_Regressor.fit(X_train_scaled, y_train)\n",
    "score = model_RF_Regressor.score(X_valid_scaled, y_valid)\n",
    "score_models.append(score)\n",
    "print(\"SCORE: [%s] \" % score)"
   ]
  },
  {
   "cell_type": "markdown",
   "id": "d8c28919-0e06-4019-9ab0-7d4b04075c30",
   "metadata": {},
   "source": [
    "#### Regresion logistica"
   ]
  },
  {
   "cell_type": "code",
   "execution_count": null,
   "id": "b2684e40-780b-4bea-a025-aeeb044c2025",
   "metadata": {},
   "outputs": [],
   "source": [
    "np.random.seed(461)\n",
    "from sklearn.linear_model import LogisticRegression\n",
    "\n",
    "model_rl = LogisticRegression()\n",
    "model_rl.fit(X_train_scaled, y_train)\n",
    "score = model_rl.score(X_valid_scaled, y_valid)\n",
    "score_models.append(score)\n",
    "print(\"SCORE: [%s] \" % score)\n"
   ]
  },
  {
   "cell_type": "markdown",
   "id": "c4714071-68ef-471c-b4cc-4777214f0b47",
   "metadata": {},
   "source": []
  },
  {
   "cell_type": "code",
   "execution_count": null,
   "id": "bdc8be2a-bab8-496a-90bb-df39bea3b151",
   "metadata": {},
   "outputs": [],
   "source": [
    "print(score_models)"
   ]
  },
  {
   "cell_type": "code",
   "execution_count": null,
   "id": "bbecfc75-5217-4adc-8664-446b64b05a42",
   "metadata": {},
   "outputs": [],
   "source": []
  },
  {
   "cell_type": "code",
   "execution_count": 34,
   "id": "cc2ad5a4-8e9d-480a-b15e-542bdecaa962",
   "metadata": {},
   "outputs": [
    {
     "name": "stdout",
     "output_type": "stream",
     "text": [
      "R^2 Score: -0.00\n"
     ]
    }
   ],
   "source": [
    "from sklearn.metrics import r2_score\n",
    "\n",
    "predictions = model_lr.predict(X_valid_scaled)\n",
    "r2 = r2_score(y_valid, predictions)\n",
    "print(\"R^2 Score: %.2f\" % r2)"
   ]
  }
 ],
 "metadata": {
  "kernelspec": {
   "display_name": "Python 3 (ipykernel)",
   "language": "python",
   "name": "python3"
  },
  "language_info": {
   "codemirror_mode": {
    "name": "ipython",
    "version": 3
   },
   "file_extension": ".py",
   "mimetype": "text/x-python",
   "name": "python",
   "nbconvert_exporter": "python",
   "pygments_lexer": "ipython3",
   "version": "3.11.6"
  }
 },
 "nbformat": 4,
 "nbformat_minor": 5
}
