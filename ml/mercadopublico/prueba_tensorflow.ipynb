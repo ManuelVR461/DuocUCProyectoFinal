{
 "cells": [
  {
   "cell_type": "code",
   "execution_count": null,
   "metadata": {},
   "outputs": [],
   "source": [
    "!C:\\Users\\victo\\AppData\\Local\\Programs\\Python\\Python311\\python.exe -m pip install tensorflow[and-cuda]"
   ]
  },
  {
   "cell_type": "code",
   "execution_count": null,
   "metadata": {},
   "outputs": [],
   "source": [
    "!pip install pandas\n",
    "!pip install scikit-learn\n",
    "!pip install matplotlib \n",
    "!pip install seaborn\n",
    "!pip install tensorflow\n",
    "!pip install numpy\n",
    "!pip install tensorflow-io\n"
   ]
  },
  {
   "cell_type": "code",
   "execution_count": 1,
   "metadata": {},
   "outputs": [],
   "source": [
    "import os\n",
    "import pandas as pd\n",
    "from sklearn.model_selection import train_test_split\n",
    "from sklearn.preprocessing import StandardScaler, OneHotEncoder\n",
    "from sklearn.metrics import mean_squared_error\n",
    "import matplotlib.pyplot as plt\n",
    "import seaborn as sns\n",
    "from datetime import datetime, timedelta\n",
    "import tensorflow as tf\n",
    "from tensorflow import keras\n",
    "from tensorflow.keras.models import Sequential\n",
    "from tensorflow.keras.layers import Dense\n",
    "import numpy as np"
   ]
  },
  {
   "cell_type": "code",
   "execution_count": null,
   "metadata": {},
   "outputs": [],
   "source": [
    "# NO EJECUTAR, solo experimentación\n",
    "# Configurar TensorFlow para utilizar la GPU\n",
    "# physical_devices = tf.config.list_physical_devices('GPU')\n",
    "# print (physical_devices)\n",
    "# if len(physical_devices) > 0:\n",
    "#    tf.config.experimental.set_memory_growth(physical_devices[0], True)\n",
    "#    print(\"configurado\")"
   ]
  },
  {
   "cell_type": "code",
   "execution_count": 2,
   "metadata": {},
   "outputs": [],
   "source": [
    "# Cargar el CSV\n",
    "archivo_csv = os.path.join('..', '..', 'data', 'fact_licitacion-2007_2023-full.csv')\n",
    "df_csv = pd.read_csv(archivo_csv, encoding=\"ISO-8859-1\", delimiter=\",\")"
   ]
  },
  {
   "cell_type": "code",
   "execution_count": 3,
   "metadata": {},
   "outputs": [],
   "source": [
    "df = df_csv.copy()"
   ]
  },
  {
   "cell_type": "code",
   "execution_count": 4,
   "metadata": {},
   "outputs": [
    {
     "data": {
      "text/plain": [
       "id_fecha                       int64\n",
       "id_rubro                       int64\n",
       "id_sector                      int64\n",
       "id_organismo                   int64\n",
       "id_unidad                      int64\n",
       "id_producto                    int64\n",
       "id_zona                        int64\n",
       "codigo_moneda                  int64\n",
       "cantidad_adjudicada          float64\n",
       "monto_unitario_oferta_usd    float64\n",
       "monto_adjudicado_usd         float64\n",
       "dtype: object"
      ]
     },
     "execution_count": 4,
     "metadata": {},
     "output_type": "execute_result"
    }
   ],
   "source": [
    "df.dtypes"
   ]
  },
  {
   "cell_type": "code",
   "execution_count": 5,
   "metadata": {},
   "outputs": [],
   "source": [
    "# Convertir la fecha a tipo datetime\n",
    "df['id_fecha'] = pd.to_datetime(df['id_fecha'], format='%Y%m%d')\n",
    "\n",
    "# 1. Crear características de fecha\n",
    "df['mes'] = df['id_fecha'].dt.month\n",
    "df['año'] = df['id_fecha'].dt.year\n"
   ]
  },
  {
   "cell_type": "code",
   "execution_count": 6,
   "metadata": {},
   "outputs": [],
   "source": [
    "nombre_columna_objetivo = 'monto_adjudicado_usd'\n",
    "columnas_categoricas = ['id_producto']\n",
    "columnas_numericas = ['año', 'mes']\n",
    "columnas_utilizadas = columnas_numericas + columnas_categoricas + [nombre_columna_objetivo]\n"
   ]
  },
  {
   "cell_type": "code",
   "execution_count": 7,
   "metadata": {},
   "outputs": [],
   "source": [
    "df = df.query(nombre_columna_objetivo + ' >= 0')"
   ]
  },
  {
   "cell_type": "code",
   "execution_count": 8,
   "metadata": {},
   "outputs": [],
   "source": [
    "def filtrar_por_desviacion_estandar(df, factor=1):\n",
    "    # Calcular la media y la desviación estándar para cada id_producto\n",
    "    grouped_stats = df.groupby('id_producto')['monto_adjudicado_usd'].agg(['mean', 'std', 'count']).reset_index()\n",
    "\n",
    "    # Calcular los límites inferior y superior para cada id_producto\n",
    "    grouped_stats['lower_limit'] = grouped_stats['mean'] - factor * grouped_stats['std']\n",
    "    grouped_stats['upper_limit'] = grouped_stats['mean'] + factor * grouped_stats['std']\n",
    "\n",
    "    # Fusionar los límites con el DataFrame original\n",
    "    df_merged = pd.merge(df, grouped_stats[['id_producto', 'lower_limit', 'upper_limit', 'count']], on='id_producto')\n",
    "\n",
    "    # quito los productos con pocos registros\n",
    "    meses = ((2022 - 2007) * 12) / 2\n",
    "    df_merged = df_merged.query('count > ' + str(meses))\n",
    "\n",
    "    # Filtrar los registros que están dentro del rango definido por los límites\n",
    "    df_filtered = df_merged[(df_merged['monto_adjudicado_usd'] >= df_merged['lower_limit']) & \n",
    "                            (df_merged['monto_adjudicado_usd'] <= df_merged['upper_limit'])]\n",
    "\n",
    "    return df_filtered"
   ]
  },
  {
   "cell_type": "code",
   "execution_count": 9,
   "metadata": {},
   "outputs": [],
   "source": [
    "df = filtrar_por_desviacion_estandar(df[columnas_utilizadas])"
   ]
  },
  {
   "cell_type": "code",
   "execution_count": 10,
   "metadata": {},
   "outputs": [
    {
     "name": "stdout",
     "output_type": "stream",
     "text": [
      "(11681065, 7)\n"
     ]
    }
   ],
   "source": [
    "print(df.shape)"
   ]
  },
  {
   "cell_type": "code",
   "execution_count": 11,
   "metadata": {},
   "outputs": [
    {
     "data": {
      "text/plain": [
       "{'whiskers': [<matplotlib.lines.Line2D at 0x260ad234790>,\n",
       "  <matplotlib.lines.Line2D at 0x260ad234a30>],\n",
       " 'caps': [<matplotlib.lines.Line2D at 0x260ad234cd0>,\n",
       "  <matplotlib.lines.Line2D at 0x260ad234f70>],\n",
       " 'boxes': [<matplotlib.lines.Line2D at 0x260ad2344f0>],\n",
       " 'medians': [<matplotlib.lines.Line2D at 0x260ad24d250>],\n",
       " 'fliers': [<matplotlib.lines.Line2D at 0x260ad24d4f0>],\n",
       " 'means': []}"
      ]
     },
     "execution_count": 11,
     "metadata": {},
     "output_type": "execute_result"
    },
    {
     "data": {
      "image/png": "[encoded data removed]",
      "text/plain": [
       "<Figure size 640x480 with 1 Axes>"
      ]
     },
     "metadata": {},
     "output_type": "display_data"
    }
   ],
   "source": [
    "plt.boxplot(df[nombre_columna_objetivo])"
   ]
  },
  {
   "cell_type": "code",
   "execution_count": 12,
   "metadata": {},
   "outputs": [],
   "source": [
    "# Calcula el primer y tercer cuartil (Q1 y Q3) de la columna 'cantidad_adjudicada'\n",
    "Q1 = df[nombre_columna_objetivo].quantile(0.25)\n",
    "Q3 = df[nombre_columna_objetivo].quantile(0.75)\n",
    "\n",
    "# Calcula el rango intercuartil (IQR)\n",
    "IQR = Q3 - Q1\n",
    "\n",
    "# Define un factor multiplicativo para ajustar el umbral (por ejemplo, 1.5 veces el IQR)\n",
    "factor_umbral = 1.5\n",
    "\n",
    "# Calcula el valor umbral\n",
    "umbral = Q3 + factor_umbral * IQR\n",
    "\n",
    "\n",
    "# Crea una nueva columna llamada 'segmento' en función del valor umbral\n",
    "df['segmento'] = [1 if x < umbral else 2 for x in df[nombre_columna_objetivo]]"
   ]
  },
  {
   "cell_type": "code",
   "execution_count": 13,
   "metadata": {},
   "outputs": [
    {
     "name": "stdout",
     "output_type": "stream",
     "text": [
      "[(9945088, 8), (1735977, 8)]\n"
     ]
    }
   ],
   "source": [
    "df_segm_1 = df[df['segmento'] == 1]\n",
    "df_segm_2 = df[df['segmento'] == 2]\n",
    "print([df_segm_1.shape,df_segm_2.shape])"
   ]
  },
  {
   "cell_type": "code",
   "execution_count": 14,
   "metadata": {},
   "outputs": [
    {
     "data": {
      "text/html": [
       "<div>\n",
       "<style scoped>\n",
       "    .dataframe tbody tr th:only-of-type {\n",
       "        vertical-align: middle;\n",
       "    }\n",
       "\n",
       "    .dataframe tbody tr th {\n",
       "        vertical-align: top;\n",
       "    }\n",
       "\n",
       "    .dataframe thead th {\n",
       "        text-align: right;\n",
       "    }\n",
       "</style>\n",
       "<table border=\"1\" class=\"dataframe\">\n",
       "  <thead>\n",
       "    <tr style=\"text-align: right;\">\n",
       "      <th></th>\n",
       "      <th>año</th>\n",
       "      <th>mes</th>\n",
       "      <th>id_producto</th>\n",
       "      <th>monto_adjudicado_usd</th>\n",
       "      <th>lower_limit</th>\n",
       "      <th>upper_limit</th>\n",
       "      <th>count</th>\n",
       "      <th>segmento</th>\n",
       "    </tr>\n",
       "  </thead>\n",
       "  <tbody>\n",
       "    <tr>\n",
       "      <th>0</th>\n",
       "      <td>2007</td>\n",
       "      <td>1</td>\n",
       "      <td>51101720</td>\n",
       "      <td>181.310244</td>\n",
       "      <td>-5.843810e+03</td>\n",
       "      <td>7.359230e+03</td>\n",
       "      <td>2407</td>\n",
       "      <td>1</td>\n",
       "    </tr>\n",
       "    <tr>\n",
       "      <th>1</th>\n",
       "      <td>2007</td>\n",
       "      <td>1</td>\n",
       "      <td>51101720</td>\n",
       "      <td>49.952822</td>\n",
       "      <td>-5.843810e+03</td>\n",
       "      <td>7.359230e+03</td>\n",
       "      <td>2407</td>\n",
       "      <td>1</td>\n",
       "    </tr>\n",
       "    <tr>\n",
       "      <th>2</th>\n",
       "      <td>2007</td>\n",
       "      <td>1</td>\n",
       "      <td>51101720</td>\n",
       "      <td>46.252613</td>\n",
       "      <td>-5.843810e+03</td>\n",
       "      <td>7.359230e+03</td>\n",
       "      <td>2407</td>\n",
       "      <td>1</td>\n",
       "    </tr>\n",
       "    <tr>\n",
       "      <th>3</th>\n",
       "      <td>2007</td>\n",
       "      <td>2</td>\n",
       "      <td>51101720</td>\n",
       "      <td>27.882969</td>\n",
       "      <td>-5.843810e+03</td>\n",
       "      <td>7.359230e+03</td>\n",
       "      <td>2407</td>\n",
       "      <td>1</td>\n",
       "    </tr>\n",
       "    <tr>\n",
       "      <th>4</th>\n",
       "      <td>2007</td>\n",
       "      <td>2</td>\n",
       "      <td>51101720</td>\n",
       "      <td>50.897483</td>\n",
       "      <td>-5.843810e+03</td>\n",
       "      <td>7.359230e+03</td>\n",
       "      <td>2407</td>\n",
       "      <td>1</td>\n",
       "    </tr>\n",
       "    <tr>\n",
       "      <th>...</th>\n",
       "      <td>...</td>\n",
       "      <td>...</td>\n",
       "      <td>...</td>\n",
       "      <td>...</td>\n",
       "      <td>...</td>\n",
       "      <td>...</td>\n",
       "      <td>...</td>\n",
       "      <td>...</td>\n",
       "    </tr>\n",
       "    <tr>\n",
       "      <th>12124043</th>\n",
       "      <td>2022</td>\n",
       "      <td>1</td>\n",
       "      <td>101101001</td>\n",
       "      <td>0.001216</td>\n",
       "      <td>-6.855663e+06</td>\n",
       "      <td>1.121040e+07</td>\n",
       "      <td>2541</td>\n",
       "      <td>1</td>\n",
       "    </tr>\n",
       "    <tr>\n",
       "      <th>12124186</th>\n",
       "      <td>2022</td>\n",
       "      <td>3</td>\n",
       "      <td>101101001</td>\n",
       "      <td>0.001251</td>\n",
       "      <td>-6.855663e+06</td>\n",
       "      <td>1.121040e+07</td>\n",
       "      <td>2541</td>\n",
       "      <td>1</td>\n",
       "    </tr>\n",
       "    <tr>\n",
       "      <th>12124220</th>\n",
       "      <td>2022</td>\n",
       "      <td>3</td>\n",
       "      <td>101101001</td>\n",
       "      <td>0.001251</td>\n",
       "      <td>-6.855663e+06</td>\n",
       "      <td>1.121040e+07</td>\n",
       "      <td>2541</td>\n",
       "      <td>1</td>\n",
       "    </tr>\n",
       "    <tr>\n",
       "      <th>12124255</th>\n",
       "      <td>2022</td>\n",
       "      <td>3</td>\n",
       "      <td>101101001</td>\n",
       "      <td>0.001251</td>\n",
       "      <td>-6.855663e+06</td>\n",
       "      <td>1.121040e+07</td>\n",
       "      <td>2541</td>\n",
       "      <td>1</td>\n",
       "    </tr>\n",
       "    <tr>\n",
       "      <th>12124570</th>\n",
       "      <td>2023</td>\n",
       "      <td>1</td>\n",
       "      <td>101101001</td>\n",
       "      <td>0.001210</td>\n",
       "      <td>-6.855663e+06</td>\n",
       "      <td>1.121040e+07</td>\n",
       "      <td>2541</td>\n",
       "      <td>1</td>\n",
       "    </tr>\n",
       "  </tbody>\n",
       "</table>\n",
       "<p>9945088 rows × 8 columns</p>\n",
       "</div>"
      ],
      "text/plain": [
       "           año  mes  id_producto  monto_adjudicado_usd   lower_limit  \\\n",
       "0         2007    1     51101720            181.310244 -5.843810e+03   \n",
       "1         2007    1     51101720             49.952822 -5.843810e+03   \n",
       "2         2007    1     51101720             46.252613 -5.843810e+03   \n",
       "3         2007    2     51101720             27.882969 -5.843810e+03   \n",
       "4         2007    2     51101720             50.897483 -5.843810e+03   \n",
       "...        ...  ...          ...                   ...           ...   \n",
       "12124043  2022    1    101101001              0.001216 -6.855663e+06   \n",
       "12124186  2022    3    101101001              0.001251 -6.855663e+06   \n",
       "12124220  2022    3    101101001              0.001251 -6.855663e+06   \n",
       "12124255  2022    3    101101001              0.001251 -6.855663e+06   \n",
       "12124570  2023    1    101101001              0.001210 -6.855663e+06   \n",
       "\n",
       "           upper_limit  count  segmento  \n",
       "0         7.359230e+03   2407         1  \n",
       "1         7.359230e+03   2407         1  \n",
       "2         7.359230e+03   2407         1  \n",
       "3         7.359230e+03   2407         1  \n",
       "4         7.359230e+03   2407         1  \n",
       "...                ...    ...       ...  \n",
       "12124043  1.121040e+07   2541         1  \n",
       "12124186  1.121040e+07   2541         1  \n",
       "12124220  1.121040e+07   2541         1  \n",
       "12124255  1.121040e+07   2541         1  \n",
       "12124570  1.121040e+07   2541         1  \n",
       "\n",
       "[9945088 rows x 8 columns]"
      ]
     },
     "execution_count": 14,
     "metadata": {},
     "output_type": "execute_result"
    }
   ],
   "source": [
    "df_segm_1"
   ]
  },
  {
   "cell_type": "code",
   "execution_count": 15,
   "metadata": {},
   "outputs": [
    {
     "data": {
      "text/plain": [
       "{'whiskers': [<matplotlib.lines.Line2D at 0x260ad24de80>,\n",
       "  <matplotlib.lines.Line2D at 0x260a4155e20>],\n",
       " 'caps': [<matplotlib.lines.Line2D at 0x260a4155520>,\n",
       "  <matplotlib.lines.Line2D at 0x260af3c40d0>],\n",
       " 'boxes': [<matplotlib.lines.Line2D at 0x260a415b160>],\n",
       " 'medians': [<matplotlib.lines.Line2D at 0x260ad285ca0>],\n",
       " 'fliers': [<matplotlib.lines.Line2D at 0x260d2f8f880>],\n",
       " 'means': []}"
      ]
     },
     "execution_count": 15,
     "metadata": {},
     "output_type": "execute_result"
    },
    {
     "data": {
      "image/png": "[encoded data removed]",
      "text/plain": [
       "<Figure size 640x480 with 1 Axes>"
      ]
     },
     "metadata": {},
     "output_type": "display_data"
    }
   ],
   "source": [
    "plt.boxplot(df_segm_1[nombre_columna_objetivo])"
   ]
  },
  {
   "cell_type": "code",
   "execution_count": 16,
   "metadata": {},
   "outputs": [
    {
     "data": {
      "text/plain": [
       "(8464246, 7)"
      ]
     },
     "execution_count": 16,
     "metadata": {},
     "output_type": "execute_result"
    }
   ],
   "source": [
    "df_segm_1  = filtrar_por_desviacion_estandar(df_segm_1[columnas_utilizadas])\n",
    "df_segm_1.shape"
   ]
  },
  {
   "cell_type": "code",
   "execution_count": 17,
   "metadata": {},
   "outputs": [
    {
     "data": {
      "text/plain": [
       "{'whiskers': [<matplotlib.lines.Line2D at 0x260ad311f10>,\n",
       "  <matplotlib.lines.Line2D at 0x260ad3211f0>],\n",
       " 'caps': [<matplotlib.lines.Line2D at 0x260ad321490>,\n",
       "  <matplotlib.lines.Line2D at 0x260ad321730>],\n",
       " 'boxes': [<matplotlib.lines.Line2D at 0x260ad311c70>],\n",
       " 'medians': [<matplotlib.lines.Line2D at 0x260ad3219d0>],\n",
       " 'fliers': [<matplotlib.lines.Line2D at 0x260ad321c70>],\n",
       " 'means': []}"
      ]
     },
     "execution_count": 17,
     "metadata": {},
     "output_type": "execute_result"
    },
    {
     "data": {
      "image/png": "[encoded data removed]",
      "text/plain": [
       "<Figure size 640x480 with 1 Axes>"
      ]
     },
     "metadata": {},
     "output_type": "display_data"
    }
   ],
   "source": [
    "plt.boxplot(df_segm_1[nombre_columna_objetivo])"
   ]
  },
  {
   "cell_type": "code",
   "execution_count": 18,
   "metadata": {},
   "outputs": [],
   "source": [
    "# Dividir el conjunto de datos en características (X) y objetivo (y)\n",
    "X = df_segm_1[columnas_numericas + columnas_categoricas]\n",
    "y = df_segm_1[nombre_columna_objetivo]"
   ]
  },
  {
   "cell_type": "code",
   "execution_count": 19,
   "metadata": {},
   "outputs": [
    {
     "name": "stdout",
     "output_type": "stream",
     "text": [
      "Tamaño set de entrenamientos: X: (6771396, 3) y: (6771396,)\n",
      "Tamaño set de validacion: X: (846425, 3) y: (846425,)\n",
      "Tamaño set de prueba: X: (846425, 3) y: (846425,)\n"
     ]
    }
   ],
   "source": [
    "# Dividir el conjunto de datos en entrenamiento y prueba\n",
    "X_train, X_test, y_train, y_test = train_test_split(X, y, test_size=0.2, random_state=42)\n",
    "X_valid, X_test, y_valid, y_test = train_test_split(X_test, y_test, test_size=0.5, random_state=42)\n",
    "\n",
    "print(f'Tamaño set de entrenamientos: X: {X_train.shape} y: {y_train.shape}')\n",
    "print(f'Tamaño set de validacion: X: {X_valid.shape} y: {y_valid.shape}')\n",
    "print(f'Tamaño set de prueba: X: {X_test.shape} y: {y_test.shape}')\n"
   ]
  },
  {
   "cell_type": "markdown",
   "metadata": {},
   "source": [
    "# Técnica ONE-HOT\n",
    "Utiliza esta o la de escalado, no ambas"
   ]
  },
  {
   "cell_type": "code",
   "execution_count": null,
   "metadata": {},
   "outputs": [],
   "source": [
    "# One-hot encoding para la variable categórica 'id_producto'\n",
    "encoder = OneHotEncoder(sparse=False, handle_unknown='ignore')\n",
    "X_train_encoded = encoder.fit_transform(X_train[columnas_categoricas])\n",
    "X_test_encoded = encoder.transform(X_test[columnas_categoricas])"
   ]
  },
  {
   "cell_type": "code",
   "execution_count": null,
   "metadata": {},
   "outputs": [],
   "source": [
    "# Escalar las características numéricas (en este caso, 'fecha')\n",
    "scaler = StandardScaler()\n",
    "X_train_scaled_numeric = scaler.fit_transform(X_train[columnas_numericas])\n",
    "X_test_scaled_numeric = scaler.transform(X_test[columnas_numericas])"
   ]
  },
  {
   "cell_type": "code",
   "execution_count": null,
   "metadata": {},
   "outputs": [],
   "source": [
    "# Concatenar las características one-hot y numéricas\n",
    "X_train_final = np.concatenate([X_train_encoded, X_train_scaled_numeric], axis=1)\n",
    "X_test_final = np.concatenate([X_test_encoded, X_test_scaled_numeric], axis=1)\n"
   ]
  },
  {
   "cell_type": "markdown",
   "metadata": {},
   "source": [
    "# Técnica de escalado\n",
    "Utiliza esta o ONE-HOT, no ambas"
   ]
  },
  {
   "cell_type": "code",
   "execution_count": 20,
   "metadata": {},
   "outputs": [],
   "source": [
    "# Normalizar los datos\n",
    "scaler = StandardScaler()\n",
    "X_train_scaled = scaler.fit_transform(X_train)\n",
    "X_valid_scaled = scaler.transform(X_valid)\n",
    "X_test_scaled = scaler.transform(X_test)"
   ]
  },
  {
   "cell_type": "code",
   "execution_count": 21,
   "metadata": {},
   "outputs": [
    {
     "data": {
      "text/html": [
       "<div>\n",
       "<style scoped>\n",
       "    .dataframe tbody tr th:only-of-type {\n",
       "        vertical-align: middle;\n",
       "    }\n",
       "\n",
       "    .dataframe tbody tr th {\n",
       "        vertical-align: top;\n",
       "    }\n",
       "\n",
       "    .dataframe thead tr th {\n",
       "        text-align: left;\n",
       "    }\n",
       "</style>\n",
       "<table border=\"1\" class=\"dataframe\">\n",
       "  <thead>\n",
       "    <tr>\n",
       "      <th></th>\n",
       "      <th>año</th>\n",
       "      <th>mes</th>\n",
       "      <th>id_producto</th>\n",
       "    </tr>\n",
       "  </thead>\n",
       "  <tbody>\n",
       "    <tr>\n",
       "      <th>0</th>\n",
       "      <td>-0.790174</td>\n",
       "      <td>1.263573</td>\n",
       "      <td>-0.781741</td>\n",
       "    </tr>\n",
       "    <tr>\n",
       "      <th>1</th>\n",
       "      <td>-1.561330</td>\n",
       "      <td>0.096380</td>\n",
       "      <td>-0.270205</td>\n",
       "    </tr>\n",
       "    <tr>\n",
       "      <th>2</th>\n",
       "      <td>-0.019018</td>\n",
       "      <td>-1.362612</td>\n",
       "      <td>-1.887699</td>\n",
       "    </tr>\n",
       "    <tr>\n",
       "      <th>3</th>\n",
       "      <td>2.294449</td>\n",
       "      <td>-1.654411</td>\n",
       "      <td>0.053213</td>\n",
       "    </tr>\n",
       "    <tr>\n",
       "      <th>4</th>\n",
       "      <td>0.495085</td>\n",
       "      <td>-0.487217</td>\n",
       "      <td>-1.887699</td>\n",
       "    </tr>\n",
       "  </tbody>\n",
       "</table>\n",
       "</div>"
      ],
      "text/plain": [
       "        año       mes id_producto\n",
       "0 -0.790174  1.263573   -0.781741\n",
       "1 -1.561330  0.096380   -0.270205\n",
       "2 -0.019018 -1.362612   -1.887699\n",
       "3  2.294449 -1.654411    0.053213\n",
       "4  0.495085 -0.487217   -1.887699"
      ]
     },
     "execution_count": 21,
     "metadata": {},
     "output_type": "execute_result"
    }
   ],
   "source": [
    "df_train_scaled = pd.DataFrame(X_train_scaled, columns=[X_train.columns])\n",
    "df_train_scaled.head()"
   ]
  },
  {
   "cell_type": "markdown",
   "metadata": {},
   "source": [
    "# AHORA ENTRENA"
   ]
  },
  {
   "cell_type": "code",
   "execution_count": null,
   "metadata": {},
   "outputs": [],
   "source": [
    "np.random.seed(461)\n",
    "\n",
    "# Construir el modelo de red neuronal con Keras\n",
    "model = Sequential([\n",
    "    Dense(64, activation='relu', input_shape=(X_train_scaled.shape[1],)),\n",
    "    Dense(32, activation='relu'),\n",
    "    Dense(1)  # Capa de salida, ya que es un problema de regresión\n",
    "])"
   ]
  },
  {
   "cell_type": "code",
   "execution_count": null,
   "metadata": {},
   "outputs": [],
   "source": [
    "learning_rate = 0.002\n",
    "optimizer = keras.optimizers.Adam(learning_rate=learning_rate)\n",
    "model.compile(loss='mean_absolute_error', optimizer=optimizer, metrics=[\"mae\"])  # Cambiar la métrica a 'mae'\n",
    "\n",
    "model.summary()"
   ]
  },
  {
   "cell_type": "code",
   "execution_count": null,
   "metadata": {},
   "outputs": [],
   "source": [
    "# Compilar el modelo\n",
    "# model.compile(optimizer='adam', loss='mean_squared_error')"
   ]
  },
  {
   "cell_type": "code",
   "execution_count": 22,
   "metadata": {},
   "outputs": [],
   "source": [
    "from tensorflow.keras.models import load_model\n",
    "model = load_model(os.path.join('modelos', 'eliminada-ds-mae-64-32-1.h5'))"
   ]
  },
  {
   "cell_type": "code",
   "execution_count": null,
   "metadata": {},
   "outputs": [],
   "source": [
    "# Entrenar el modelo\n",
    "# score = model.fit(X_train_scaled, y_train, epochs=20, batch_size=32, validation_split=0.2)\n",
    "score = model.fit(X_train_scaled, y_train, epochs=20, batch_size=32, validation_data=(X_valid_scaled, y_valid), verbose=1, shuffle=True)\n"
   ]
  },
  {
   "cell_type": "code",
   "execution_count": null,
   "metadata": {},
   "outputs": [],
   "source": [
    "model.save(os.path.join('modelos', 'modelo.h5'))"
   ]
  },
  {
   "cell_type": "code",
   "execution_count": null,
   "metadata": {},
   "outputs": [],
   "source": [
    "# Extraer la pérdida y la validación de la pérdida del historial\n",
    "loss = score.history['loss']\n",
    "val_loss = score.history['val_loss']\n",
    "\n",
    "# Crear un gráfico de línea para visualizar la pérdida durante el entrenamiento\n",
    "epochs = range(1, len(loss) + 1)\n",
    "plt.plot(epochs, loss, 'b-', label='Training Loss')\n",
    "plt.plot(epochs, val_loss, 'g-', label='Validation Loss')\n",
    "plt.title('Training and Validation Loss')\n",
    "plt.xlabel('Epochs')\n",
    "plt.ylabel('Loss')\n",
    "plt.legend()\n",
    "plt.show()"
   ]
  },
  {
   "cell_type": "code",
   "execution_count": null,
   "metadata": {},
   "outputs": [],
   "source": [
    "model.predict()"
   ]
  },
  {
   "cell_type": "markdown",
   "metadata": {},
   "source": [
    "# Predecir"
   ]
  },
  {
   "cell_type": "code",
   "execution_count": 25,
   "metadata": {},
   "outputs": [],
   "source": [
    "df_productos = df_segm_1[['id_producto']]"
   ]
  },
  {
   "cell_type": "code",
   "execution_count": 26,
   "metadata": {},
   "outputs": [
    {
     "data": {
      "text/html": [
       "<div>\n",
       "<style scoped>\n",
       "    .dataframe tbody tr th:only-of-type {\n",
       "        vertical-align: middle;\n",
       "    }\n",
       "\n",
       "    .dataframe tbody tr th {\n",
       "        vertical-align: top;\n",
       "    }\n",
       "\n",
       "    .dataframe thead th {\n",
       "        text-align: right;\n",
       "    }\n",
       "</style>\n",
       "<table border=\"1\" class=\"dataframe\">\n",
       "  <thead>\n",
       "    <tr style=\"text-align: right;\">\n",
       "      <th></th>\n",
       "      <th>id_producto</th>\n",
       "    </tr>\n",
       "  </thead>\n",
       "  <tbody>\n",
       "    <tr>\n",
       "      <th>0</th>\n",
       "      <td>51101720</td>\n",
       "    </tr>\n",
       "    <tr>\n",
       "      <th>1</th>\n",
       "      <td>51101720</td>\n",
       "    </tr>\n",
       "    <tr>\n",
       "      <th>2</th>\n",
       "      <td>51101720</td>\n",
       "    </tr>\n",
       "    <tr>\n",
       "      <th>3</th>\n",
       "      <td>51101720</td>\n",
       "    </tr>\n",
       "    <tr>\n",
       "      <th>4</th>\n",
       "      <td>51101720</td>\n",
       "    </tr>\n",
       "    <tr>\n",
       "      <th>...</th>\n",
       "      <td>...</td>\n",
       "    </tr>\n",
       "    <tr>\n",
       "      <th>9945015</th>\n",
       "      <td>51191502</td>\n",
       "    </tr>\n",
       "    <tr>\n",
       "      <th>9945016</th>\n",
       "      <td>51191502</td>\n",
       "    </tr>\n",
       "    <tr>\n",
       "      <th>9945021</th>\n",
       "      <td>51191502</td>\n",
       "    </tr>\n",
       "    <tr>\n",
       "      <th>9945023</th>\n",
       "      <td>51191502</td>\n",
       "    </tr>\n",
       "    <tr>\n",
       "      <th>9945024</th>\n",
       "      <td>51191502</td>\n",
       "    </tr>\n",
       "  </tbody>\n",
       "</table>\n",
       "<p>8464246 rows × 1 columns</p>\n",
       "</div>"
      ],
      "text/plain": [
       "         id_producto\n",
       "0           51101720\n",
       "1           51101720\n",
       "2           51101720\n",
       "3           51101720\n",
       "4           51101720\n",
       "...              ...\n",
       "9945015     51191502\n",
       "9945016     51191502\n",
       "9945021     51191502\n",
       "9945023     51191502\n",
       "9945024     51191502\n",
       "\n",
       "[8464246 rows x 1 columns]"
      ]
     },
     "execution_count": 26,
     "metadata": {},
     "output_type": "execute_result"
    }
   ],
   "source": [
    "df_productos"
   ]
  },
  {
   "cell_type": "code",
   "execution_count": 29,
   "metadata": {},
   "outputs": [],
   "source": [
    "df_productos = df_productos.drop_duplicates()"
   ]
  },
  {
   "cell_type": "code",
   "execution_count": 30,
   "metadata": {},
   "outputs": [
    {
     "data": {
      "text/html": [
       "<div>\n",
       "<style scoped>\n",
       "    .dataframe tbody tr th:only-of-type {\n",
       "        vertical-align: middle;\n",
       "    }\n",
       "\n",
       "    .dataframe tbody tr th {\n",
       "        vertical-align: top;\n",
       "    }\n",
       "\n",
       "    .dataframe thead th {\n",
       "        text-align: right;\n",
       "    }\n",
       "</style>\n",
       "<table border=\"1\" class=\"dataframe\">\n",
       "  <thead>\n",
       "    <tr style=\"text-align: right;\">\n",
       "      <th></th>\n",
       "      <th>id_producto</th>\n",
       "    </tr>\n",
       "  </thead>\n",
       "  <tbody>\n",
       "    <tr>\n",
       "      <th>0</th>\n",
       "      <td>51101720</td>\n",
       "    </tr>\n",
       "    <tr>\n",
       "      <th>2299</th>\n",
       "      <td>51101811</td>\n",
       "    </tr>\n",
       "    <tr>\n",
       "      <th>3637</th>\n",
       "      <td>51101815</td>\n",
       "    </tr>\n",
       "    <tr>\n",
       "      <th>9774</th>\n",
       "      <td>51131607</td>\n",
       "    </tr>\n",
       "    <tr>\n",
       "      <th>12612</th>\n",
       "      <td>51141502</td>\n",
       "    </tr>\n",
       "    <tr>\n",
       "      <th>...</th>\n",
       "      <td>...</td>\n",
       "    </tr>\n",
       "    <tr>\n",
       "      <th>9944096</th>\n",
       "      <td>23151514</td>\n",
       "    </tr>\n",
       "    <tr>\n",
       "      <th>9944201</th>\n",
       "      <td>77121608</td>\n",
       "    </tr>\n",
       "    <tr>\n",
       "      <th>9944348</th>\n",
       "      <td>51141723</td>\n",
       "    </tr>\n",
       "    <tr>\n",
       "      <th>9944565</th>\n",
       "      <td>51121765</td>\n",
       "    </tr>\n",
       "    <tr>\n",
       "      <th>9944875</th>\n",
       "      <td>51191502</td>\n",
       "    </tr>\n",
       "  </tbody>\n",
       "</table>\n",
       "<p>6416 rows × 1 columns</p>\n",
       "</div>"
      ],
      "text/plain": [
       "         id_producto\n",
       "0           51101720\n",
       "2299        51101811\n",
       "3637        51101815\n",
       "9774        51131607\n",
       "12612       51141502\n",
       "...              ...\n",
       "9944096     23151514\n",
       "9944201     77121608\n",
       "9944348     51141723\n",
       "9944565     51121765\n",
       "9944875     51191502\n",
       "\n",
       "[6416 rows x 1 columns]"
      ]
     },
     "execution_count": 30,
     "metadata": {},
     "output_type": "execute_result"
    }
   ],
   "source": [
    "df_productos"
   ]
  },
  {
   "cell_type": "code",
   "execution_count": 33,
   "metadata": {},
   "outputs": [],
   "source": [
    "años_meses = [(2023, 10), (2023, 11), (2023, 12), (2024, 1)]\n",
    "\n",
    "dfs = []\n",
    "\n",
    "for año, mes in años_meses:\n",
    "    # Crea un DataFrame con la combinación de año y mes actual\n",
    "    df_temp = pd.DataFrame({'año': [año]*len(df_productos),\n",
    "                            'mes': [mes]*len(df_productos),\n",
    "                            'id_producto': df_productos['id_producto'].tolist()})\n",
    "    # Agrega el DataFrame al listado\n",
    "    dfs.append(df_temp)\n",
    "\n",
    "# Concatena todos los DataFrames en uno solo\n",
    "x_prediccion = pd.concat(dfs, ignore_index=True)"
   ]
  },
  {
   "cell_type": "code",
   "execution_count": 34,
   "metadata": {},
   "outputs": [
    {
     "data": {
      "text/html": [
       "<div>\n",
       "<style scoped>\n",
       "    .dataframe tbody tr th:only-of-type {\n",
       "        vertical-align: middle;\n",
       "    }\n",
       "\n",
       "    .dataframe tbody tr th {\n",
       "        vertical-align: top;\n",
       "    }\n",
       "\n",
       "    .dataframe thead th {\n",
       "        text-align: right;\n",
       "    }\n",
       "</style>\n",
       "<table border=\"1\" class=\"dataframe\">\n",
       "  <thead>\n",
       "    <tr style=\"text-align: right;\">\n",
       "      <th></th>\n",
       "      <th>año</th>\n",
       "      <th>mes</th>\n",
       "      <th>id_producto</th>\n",
       "    </tr>\n",
       "  </thead>\n",
       "  <tbody>\n",
       "    <tr>\n",
       "      <th>0</th>\n",
       "      <td>2023</td>\n",
       "      <td>10</td>\n",
       "      <td>51101720</td>\n",
       "    </tr>\n",
       "    <tr>\n",
       "      <th>1</th>\n",
       "      <td>2023</td>\n",
       "      <td>10</td>\n",
       "      <td>51101811</td>\n",
       "    </tr>\n",
       "    <tr>\n",
       "      <th>2</th>\n",
       "      <td>2023</td>\n",
       "      <td>10</td>\n",
       "      <td>51101815</td>\n",
       "    </tr>\n",
       "    <tr>\n",
       "      <th>3</th>\n",
       "      <td>2023</td>\n",
       "      <td>10</td>\n",
       "      <td>51131607</td>\n",
       "    </tr>\n",
       "    <tr>\n",
       "      <th>4</th>\n",
       "      <td>2023</td>\n",
       "      <td>10</td>\n",
       "      <td>51141502</td>\n",
       "    </tr>\n",
       "    <tr>\n",
       "      <th>...</th>\n",
       "      <td>...</td>\n",
       "      <td>...</td>\n",
       "      <td>...</td>\n",
       "    </tr>\n",
       "    <tr>\n",
       "      <th>25659</th>\n",
       "      <td>2024</td>\n",
       "      <td>1</td>\n",
       "      <td>23151514</td>\n",
       "    </tr>\n",
       "    <tr>\n",
       "      <th>25660</th>\n",
       "      <td>2024</td>\n",
       "      <td>1</td>\n",
       "      <td>77121608</td>\n",
       "    </tr>\n",
       "    <tr>\n",
       "      <th>25661</th>\n",
       "      <td>2024</td>\n",
       "      <td>1</td>\n",
       "      <td>51141723</td>\n",
       "    </tr>\n",
       "    <tr>\n",
       "      <th>25662</th>\n",
       "      <td>2024</td>\n",
       "      <td>1</td>\n",
       "      <td>51121765</td>\n",
       "    </tr>\n",
       "    <tr>\n",
       "      <th>25663</th>\n",
       "      <td>2024</td>\n",
       "      <td>1</td>\n",
       "      <td>51191502</td>\n",
       "    </tr>\n",
       "  </tbody>\n",
       "</table>\n",
       "<p>25664 rows × 3 columns</p>\n",
       "</div>"
      ],
      "text/plain": [
       "        año  mes  id_producto\n",
       "0      2023   10     51101720\n",
       "1      2023   10     51101811\n",
       "2      2023   10     51101815\n",
       "3      2023   10     51131607\n",
       "4      2023   10     51141502\n",
       "...     ...  ...          ...\n",
       "25659  2024    1     23151514\n",
       "25660  2024    1     77121608\n",
       "25661  2024    1     51141723\n",
       "25662  2024    1     51121765\n",
       "25663  2024    1     51191502\n",
       "\n",
       "[25664 rows x 3 columns]"
      ]
     },
     "execution_count": 34,
     "metadata": {},
     "output_type": "execute_result"
    }
   ],
   "source": [
    "x_prediccion"
   ]
  },
  {
   "cell_type": "code",
   "execution_count": 35,
   "metadata": {},
   "outputs": [
    {
     "name": "stdout",
     "output_type": "stream",
     "text": [
      "802/802 [==============================] - 0s 444us/step\n",
      "[[72.64293 ]\n",
      " [72.645256]\n",
      " [72.645325]\n",
      " ...\n",
      " [47.832047]\n",
      " [47.59148 ]\n",
      " [48.432045]]\n"
     ]
    }
   ],
   "source": [
    "X_prediccion_scaled = scaler.transform(x_prediccion)\n",
    "\n",
    "# 4. Hacer predicciones utilizando el modelo entrenado\n",
    "predicciones = model.predict(X_prediccion_scaled)\n",
    "\n",
    "# Las predicciones ahora contienen los valores predichos para las instancias en df_prediccion_segm_1\n",
    "\n",
    "# Imprimir algunas de las predicciones\n",
    "print(predicciones)\n"
   ]
  },
  {
   "cell_type": "code",
   "execution_count": 37,
   "metadata": {},
   "outputs": [],
   "source": [
    "x_prediccion['prediccion'] = predicciones"
   ]
  },
  {
   "cell_type": "code",
   "execution_count": 38,
   "metadata": {},
   "outputs": [
    {
     "data": {
      "text/html": [
       "<div>\n",
       "<style scoped>\n",
       "    .dataframe tbody tr th:only-of-type {\n",
       "        vertical-align: middle;\n",
       "    }\n",
       "\n",
       "    .dataframe tbody tr th {\n",
       "        vertical-align: top;\n",
       "    }\n",
       "\n",
       "    .dataframe thead th {\n",
       "        text-align: right;\n",
       "    }\n",
       "</style>\n",
       "<table border=\"1\" class=\"dataframe\">\n",
       "  <thead>\n",
       "    <tr style=\"text-align: right;\">\n",
       "      <th></th>\n",
       "      <th>año</th>\n",
       "      <th>mes</th>\n",
       "      <th>id_producto</th>\n",
       "      <th>prediccion</th>\n",
       "    </tr>\n",
       "  </thead>\n",
       "  <tbody>\n",
       "    <tr>\n",
       "      <th>0</th>\n",
       "      <td>2023</td>\n",
       "      <td>10</td>\n",
       "      <td>51101720</td>\n",
       "      <td>72.642929</td>\n",
       "    </tr>\n",
       "    <tr>\n",
       "      <th>1</th>\n",
       "      <td>2023</td>\n",
       "      <td>10</td>\n",
       "      <td>51101811</td>\n",
       "      <td>72.645256</td>\n",
       "    </tr>\n",
       "    <tr>\n",
       "      <th>2</th>\n",
       "      <td>2023</td>\n",
       "      <td>10</td>\n",
       "      <td>51101815</td>\n",
       "      <td>72.645325</td>\n",
       "    </tr>\n",
       "    <tr>\n",
       "      <th>3</th>\n",
       "      <td>2023</td>\n",
       "      <td>10</td>\n",
       "      <td>51131607</td>\n",
       "      <td>73.409676</td>\n",
       "    </tr>\n",
       "    <tr>\n",
       "      <th>4</th>\n",
       "      <td>2023</td>\n",
       "      <td>10</td>\n",
       "      <td>51141502</td>\n",
       "      <td>73.663544</td>\n",
       "    </tr>\n",
       "    <tr>\n",
       "      <th>...</th>\n",
       "      <td>...</td>\n",
       "      <td>...</td>\n",
       "      <td>...</td>\n",
       "      <td>...</td>\n",
       "    </tr>\n",
       "    <tr>\n",
       "      <th>25659</th>\n",
       "      <td>2024</td>\n",
       "      <td>1</td>\n",
       "      <td>23151514</td>\n",
       "      <td>59.984982</td>\n",
       "    </tr>\n",
       "    <tr>\n",
       "      <th>25660</th>\n",
       "      <td>2024</td>\n",
       "      <td>1</td>\n",
       "      <td>77121608</td>\n",
       "      <td>77.087212</td>\n",
       "    </tr>\n",
       "    <tr>\n",
       "      <th>25661</th>\n",
       "      <td>2024</td>\n",
       "      <td>1</td>\n",
       "      <td>51141723</td>\n",
       "      <td>47.832047</td>\n",
       "    </tr>\n",
       "    <tr>\n",
       "      <th>25662</th>\n",
       "      <td>2024</td>\n",
       "      <td>1</td>\n",
       "      <td>51121765</td>\n",
       "      <td>47.591480</td>\n",
       "    </tr>\n",
       "    <tr>\n",
       "      <th>25663</th>\n",
       "      <td>2024</td>\n",
       "      <td>1</td>\n",
       "      <td>51191502</td>\n",
       "      <td>48.432045</td>\n",
       "    </tr>\n",
       "  </tbody>\n",
       "</table>\n",
       "<p>25664 rows × 4 columns</p>\n",
       "</div>"
      ],
      "text/plain": [
       "        año  mes  id_producto  prediccion\n",
       "0      2023   10     51101720   72.642929\n",
       "1      2023   10     51101811   72.645256\n",
       "2      2023   10     51101815   72.645325\n",
       "3      2023   10     51131607   73.409676\n",
       "4      2023   10     51141502   73.663544\n",
       "...     ...  ...          ...         ...\n",
       "25659  2024    1     23151514   59.984982\n",
       "25660  2024    1     77121608   77.087212\n",
       "25661  2024    1     51141723   47.832047\n",
       "25662  2024    1     51121765   47.591480\n",
       "25663  2024    1     51191502   48.432045\n",
       "\n",
       "[25664 rows x 4 columns]"
      ]
     },
     "execution_count": 38,
     "metadata": {},
     "output_type": "execute_result"
    }
   ],
   "source": [
    "x_prediccion"
   ]
  },
  {
   "cell_type": "code",
   "execution_count": 47,
   "metadata": {},
   "outputs": [
    {
     "data": {
      "text/html": [
       "<div>\n",
       "<style scoped>\n",
       "    .dataframe tbody tr th:only-of-type {\n",
       "        vertical-align: middle;\n",
       "    }\n",
       "\n",
       "    .dataframe tbody tr th {\n",
       "        vertical-align: top;\n",
       "    }\n",
       "\n",
       "    .dataframe thead th {\n",
       "        text-align: right;\n",
       "    }\n",
       "</style>\n",
       "<table border=\"1\" class=\"dataframe\">\n",
       "  <thead>\n",
       "    <tr style=\"text-align: right;\">\n",
       "      <th></th>\n",
       "      <th>año</th>\n",
       "      <th>mes</th>\n",
       "      <th>id_producto</th>\n",
       "      <th>prediccion</th>\n",
       "    </tr>\n",
       "  </thead>\n",
       "  <tbody>\n",
       "    <tr>\n",
       "      <th>count</th>\n",
       "      <td>25664.000000</td>\n",
       "      <td>25664.000000</td>\n",
       "      <td>2.566400e+04</td>\n",
       "      <td>25664.000000</td>\n",
       "    </tr>\n",
       "    <tr>\n",
       "      <th>mean</th>\n",
       "      <td>2023.250000</td>\n",
       "      <td>8.500000</td>\n",
       "      <td>4.326115e+07</td>\n",
       "      <td>72.454620</td>\n",
       "    </tr>\n",
       "    <tr>\n",
       "      <th>std</th>\n",
       "      <td>0.433021</td>\n",
       "      <td>4.387568</td>\n",
       "      <td>1.616480e+07</td>\n",
       "      <td>40.962784</td>\n",
       "    </tr>\n",
       "    <tr>\n",
       "      <th>min</th>\n",
       "      <td>2023.000000</td>\n",
       "      <td>1.000000</td>\n",
       "      <td>1.010150e+07</td>\n",
       "      <td>4.013367</td>\n",
       "    </tr>\n",
       "    <tr>\n",
       "      <th>25%</th>\n",
       "      <td>2023.000000</td>\n",
       "      <td>7.750000</td>\n",
       "      <td>3.121151e+07</td>\n",
       "      <td>47.361830</td>\n",
       "    </tr>\n",
       "    <tr>\n",
       "      <th>50%</th>\n",
       "      <td>2023.000000</td>\n",
       "      <td>10.500000</td>\n",
       "      <td>4.227191e+07</td>\n",
       "      <td>72.225830</td>\n",
       "    </tr>\n",
       "    <tr>\n",
       "      <th>75%</th>\n",
       "      <td>2023.250000</td>\n",
       "      <td>11.250000</td>\n",
       "      <td>5.115161e+07</td>\n",
       "      <td>90.585625</td>\n",
       "    </tr>\n",
       "    <tr>\n",
       "      <th>max</th>\n",
       "      <td>2024.000000</td>\n",
       "      <td>12.000000</td>\n",
       "      <td>1.000000e+08</td>\n",
       "      <td>272.889618</td>\n",
       "    </tr>\n",
       "  </tbody>\n",
       "</table>\n",
       "</div>"
      ],
      "text/plain": [
       "                año           mes   id_producto    prediccion\n",
       "count  25664.000000  25664.000000  2.566400e+04  25664.000000\n",
       "mean    2023.250000      8.500000  4.326115e+07     72.454620\n",
       "std        0.433021      4.387568  1.616480e+07     40.962784\n",
       "min     2023.000000      1.000000  1.010150e+07      4.013367\n",
       "25%     2023.000000      7.750000  3.121151e+07     47.361830\n",
       "50%     2023.000000     10.500000  4.227191e+07     72.225830\n",
       "75%     2023.250000     11.250000  5.115161e+07     90.585625\n",
       "max     2024.000000     12.000000  1.000000e+08    272.889618"
      ]
     },
     "execution_count": 47,
     "metadata": {},
     "output_type": "execute_result"
    }
   ],
   "source": [
    "x_prediccion.describe()"
   ]
  }
 ],
 "metadata": {
  "kernelspec": {
   "display_name": "Python 3",
   "language": "python",
   "name": "python3"
  },
  "language_info": {
   "codemirror_mode": {
    "name": "ipython",
    "version": 3
   },
   "file_extension": ".py",
   "mimetype": "text/x-python",
   "name": "python",
   "nbconvert_exporter": "python",
   "pygments_lexer": "ipython3",
   "version": "3.9.0"
  }
 },
 "nbformat": 4,
 "nbformat_minor": 2
}
