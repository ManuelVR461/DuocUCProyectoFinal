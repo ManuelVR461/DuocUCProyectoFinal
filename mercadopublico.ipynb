{
  "nbformat": 4,
  "nbformat_minor": 0,
  "metadata": {
    "colab": {
      "provenance": [],
      "collapsed_sections": [
        "h_ccy9gQo5VE",
        "TDhjpTY4ofpE",
        "NoWWyTCaz9kS",
        "wEn28cWuyLUj",
        "MB5MHtKWa12i",
        "OyphomyGxvt3",
        "Gceq79yE9wmm",
        "wnni-Ykf9yVq",
        "QdwcmwZ09z06",
        "VTzlIsTI-QFj",
        "vXUrPp4h-UkI"
      ],
      "include_colab_link": true
    },
    "kernelspec": {
      "name": "python3",
      "display_name": "Python 3"
    },
    "language_info": {
      "name": "python"
    }
  },
  "cells": [
    {
      "cell_type": "markdown",
      "metadata": {
        "id": "view-in-github",
        "colab_type": "text"
      },
      "source": [
        "<a href=\"https://colab.research.google.com/github/ManuelVR461/DuocUCProyectoFinal/blob/master/mercadopublico.ipynb\" target=\"_parent\"><img src=\"https://colab.research.google.com/assets/colab-badge.svg\" alt=\"Open In Colab\"/></a>"
      ]
    },
    {
      "cell_type": "markdown",
      "source": [
        "# Analisis Base de datos\n",
        "\n",
        "1. [X] Paso Identificar la base de datos y las columnas a utilizar (2)\n",
        "2. [ ] Obtener el rango de fechas a utilizar y unificarlos en una sola data (1)\n",
        "3. [ ] Proceder con la Limpieza y tranformacion los datos. (1)\n",
        "4. [ ] Determinar la pregunta en question (2)\n",
        "5. [ ] Identificar el modelo a utilizar. (2)\n",
        "6. [ ] Generar los datos de prediccion de tres meses.(1)\n",
        "7. [ ] Generar la estrella. (3)\n",
        "8. [ ] Generar El cubo. (3)\n",
        "9. [ ] Generar El tablero de PowerBi. (4)\n",
        "10.[ ] Preparar el history telling.\n"
      ],
      "metadata": {
        "id": "SfebkjM5yCnr"
      }
    },
    {
      "cell_type": "code",
      "execution_count": null,
      "metadata": {
        "id": "ag_IjcDpg8Nx"
      },
      "outputs": [],
      "source": [
        "import os\n",
        "import numpy as np\n",
        "import pandas as pd\n",
        "import matplotlib.pyplot as plt\n",
        "import seaborn as sn\n",
        "import unicodedata\n",
        "\n",
        "from io import BytesIO\n",
        "import zipfile\n",
        "import requests\n",
        "\n",
        "%matplotlib inline"
      ]
    },
    {
      "cell_type": "code",
      "source": [
        "# Lista de nombres de archivos ZIP a descargar\n",
        "anio = \"2023\"\n",
        "meses = 9\n",
        "archivos_a_descargar = []\n",
        "\n",
        "for mes in range(1, meses + 1):\n",
        "  nombre_archivo = f\"{anio}-{mes}.zip\"\n",
        "  archivos_a_descargar.append(nombre_archivo)\n",
        "\n",
        "print(archivos_a_descargar)"
      ],
      "metadata": {
        "colab": {
          "base_uri": "https://localhost:8080/"
        },
        "id": "CR4MI6wwb-ip",
        "outputId": "607b6ddb-1142-4719-9bed-3f1f1cfaf064"
      },
      "execution_count": null,
      "outputs": [
        {
          "output_type": "stream",
          "name": "stdout",
          "text": [
            "['2023-1.zip', '2023-2.zip', '2023-3.zip', '2023-4.zip', '2023-5.zip', '2023-6.zip', '2023-7.zip', '2023-8.zip', '2023-9.zip']\n"
          ]
        }
      ]
    },
    {
      "cell_type": "code",
      "source": [
        "directorio_archivos = '/content/data_projecto_final/'+anio\n",
        "directorio_tablas_dinamicas = '/content/data_projecto_final/tablas_dinamicas/'+anio\n",
        "directorio_tablas_hecho = '/content/data_projecto_final/tablas_hecho/'+anio\n",
        "\n",
        "if not os.path.exists(directorio_archivos):\n",
        "    os.makedirs(directorio_archivos)\n",
        "\n",
        "if not os.path.exists(directorio_tablas_dinamicas):\n",
        "    os.makedirs(directorio_tablas_dinamicas)\n",
        "\n",
        "if not os.path.exists(directorio_tablas_hecho):\n",
        "    os.makedirs(directorio_tablas_hecho)"
      ],
      "metadata": {
        "id": "Lfoug6lizxvp"
      },
      "execution_count": null,
      "outputs": []
    },
    {
      "cell_type": "code",
      "source": [
        "# Bucle para descargar y extraer los archivos\n",
        "for archivo in archivos_a_descargar:\n",
        "    url = f\"https://transparenciachc.blob.core.windows.net/lic-da/{archivo}\"\n",
        "    response = requests.get(url)\n",
        "    with zipfile.ZipFile(BytesIO(response.content)) as z:\n",
        "        z.extractall(path=directorio_archivos)"
      ],
      "metadata": {
        "id": "mBYLyDiaiJ4F"
      },
      "execution_count": null,
      "outputs": []
    },
    {
      "cell_type": "code",
      "source": [
        "# Inicializar una lista para almacenar los DataFrames individuales\n",
        "dataframes = []\n",
        "\n",
        "# Obtener la lista de archivos CSV en el directorio\n",
        "archivos_csv = [archivo for archivo in os.listdir(directorio_archivos) if archivo.endswith(\".csv\")]\n",
        "\n",
        "# Iterar a través de los archivos y cargarlos en DataFrames individuales\n",
        "for archivo_csv in archivos_csv:\n",
        "    ruta_archivo = os.path.join(directorio_archivos, archivo_csv)\n",
        "    df_individual = pd.read_csv(ruta_archivo, encoding=\"ISO-8859-1\", delimiter=\";\")\n",
        "    #df = pd.read_csv(\"/content/lic_2023-9.csv\", encoding=\"ISO-8859-1\", error_bad_lines=False, delimiter=\";\")\n",
        "    dataframes.append(df_individual)\n",
        "\n",
        "# Combinar todos los DataFrames individuales en uno solo\n",
        "df = pd.concat(dataframes, ignore_index=True)\n",
        "df.shape"
      ],
      "metadata": {
        "id": "0LkLhGJdhLNx",
        "colab": {
          "base_uri": "https://localhost:8080/"
        },
        "outputId": "29e16da3-680f-419c-a2ae-22f8fa926913"
      },
      "execution_count": null,
      "outputs": [
        {
          "output_type": "stream",
          "name": "stderr",
          "text": [
            "<ipython-input-6-2a19e088322c>:10: DtypeWarning: Columns (63,87,97,101) have mixed types. Specify dtype option on import or set low_memory=False.\n",
            "  df_individual = pd.read_csv(ruta_archivo, encoding=\"ISO-8859-1\", delimiter=\";\")\n",
            "<ipython-input-6-2a19e088322c>:10: DtypeWarning: Columns (27,52,63,64,87,97,101) have mixed types. Specify dtype option on import or set low_memory=False.\n",
            "  df_individual = pd.read_csv(ruta_archivo, encoding=\"ISO-8859-1\", delimiter=\";\")\n",
            "<ipython-input-6-2a19e088322c>:10: DtypeWarning: Columns (27,52,63,64,87,94,97,101) have mixed types. Specify dtype option on import or set low_memory=False.\n",
            "  df_individual = pd.read_csv(ruta_archivo, encoding=\"ISO-8859-1\", delimiter=\";\")\n",
            "<ipython-input-6-2a19e088322c>:10: DtypeWarning: Columns (27,52,54,63,64,87,94,97,101,102) have mixed types. Specify dtype option on import or set low_memory=False.\n",
            "  df_individual = pd.read_csv(ruta_archivo, encoding=\"ISO-8859-1\", delimiter=\";\")\n",
            "<ipython-input-6-2a19e088322c>:10: DtypeWarning: Columns (27,52,63,64,87,94,97,101,102) have mixed types. Specify dtype option on import or set low_memory=False.\n",
            "  df_individual = pd.read_csv(ruta_archivo, encoding=\"ISO-8859-1\", delimiter=\";\")\n",
            "<ipython-input-6-2a19e088322c>:10: DtypeWarning: Columns (27,52,63,64,87,94,97,101) have mixed types. Specify dtype option on import or set low_memory=False.\n",
            "  df_individual = pd.read_csv(ruta_archivo, encoding=\"ISO-8859-1\", delimiter=\";\")\n",
            "<ipython-input-6-2a19e088322c>:10: DtypeWarning: Columns (27,52,63,64,87,94,97,101) have mixed types. Specify dtype option on import or set low_memory=False.\n",
            "  df_individual = pd.read_csv(ruta_archivo, encoding=\"ISO-8859-1\", delimiter=\";\")\n"
          ]
        },
        {
          "output_type": "execute_result",
          "data": {
            "text/plain": [
              "(1479006, 105)"
            ]
          },
          "metadata": {},
          "execution_count": 6
        }
      ]
    },
    {
      "cell_type": "code",
      "source": [
        "# Verificamos los nombres de columnas\n",
        "df.columns"
      ],
      "metadata": {
        "colab": {
          "base_uri": "https://localhost:8080/"
        },
        "id": "9uTTzfZJse8K",
        "outputId": "59cd8eba-0ddb-438f-b263-c1f129a92a8c"
      },
      "execution_count": null,
      "outputs": [
        {
          "output_type": "execute_result",
          "data": {
            "text/plain": [
              "Index(['Codigo', 'Link', 'CodigoExterno', 'Nombre', 'Descripcion',\n",
              "       'Tipo de Adquisicion', 'CodigoEstado', 'Estado', 'CodigoOrganismo',\n",
              "       'NombreOrganismo',\n",
              "       ...\n",
              "       'Nombre de la Oferta', 'Estado Oferta', 'Cantidad Ofertada',\n",
              "       'Moneda de la Oferta', 'MontoUnitarioOferta', 'Valor Total Ofertado',\n",
              "       'CantidadAdjudicada', 'MontoLineaAdjudica', 'FechaEnvioOferta',\n",
              "       'Oferta seleccionada'],\n",
              "      dtype='object', length=105)"
            ]
          },
          "metadata": {},
          "execution_count": 7
        }
      ]
    },
    {
      "cell_type": "code",
      "source": [
        "# Procedemos a limpiar los espacios en blanco que pudieran estar en los nombres de las columnas\n",
        "df.columns = df.columns.str.strip()"
      ],
      "metadata": {
        "id": "GYj4hmGNs0am"
      },
      "execution_count": null,
      "outputs": []
    },
    {
      "cell_type": "code",
      "source": [
        "# Convertir campos vacíos o sin registros en None en cada columna\n",
        "df = df.applymap(lambda x: None if pd.isna(x) or x == '' else x)"
      ],
      "metadata": {
        "id": "8qsX5PkpmMMv"
      },
      "execution_count": null,
      "outputs": []
    },
    {
      "cell_type": "code",
      "source": [
        "# Validar la cantidad de duplicados en el DataFrame\n",
        "cantidad_duplicados = df.duplicated().sum()\n",
        "# Imprimir la cantidad de duplicados\n",
        "print(\"Cantidad de duplicados en el DataFrame:\", cantidad_duplicados)"
      ],
      "metadata": {
        "colab": {
          "base_uri": "https://localhost:8080/"
        },
        "id": "r5YEdT53nh_6",
        "outputId": "6b74c7b6-68be-4ac6-af5b-db65d0f08a6c"
      },
      "execution_count": null,
      "outputs": [
        {
          "output_type": "stream",
          "name": "stdout",
          "text": [
            "Cantidad de duplicados en el DataFrame: 383\n"
          ]
        }
      ]
    },
    {
      "cell_type": "code",
      "source": [
        "# Eliminar las filas duplicadas del DataFrame\n",
        "df = df.drop_duplicates()\n",
        "df.shape"
      ],
      "metadata": {
        "colab": {
          "base_uri": "https://localhost:8080/"
        },
        "id": "2_dvM7vDni_3",
        "outputId": "eb31894b-5fa1-4435-d1a3-eb4b6033938d"
      },
      "execution_count": null,
      "outputs": [
        {
          "output_type": "execute_result",
          "data": {
            "text/plain": [
              "(1478623, 105)"
            ]
          },
          "metadata": {},
          "execution_count": 11
        }
      ]
    },
    {
      "cell_type": "code",
      "source": [
        "df.head(5)"
      ],
      "metadata": {
        "colab": {
          "base_uri": "https://localhost:8080/",
          "height": 706
        },
        "id": "VRoY_ffNsr9i",
        "outputId": "e4c961ad-1d4e-4361-acf4-b41dc859ef6f"
      },
      "execution_count": null,
      "outputs": [
        {
          "output_type": "execute_result",
          "data": {
            "text/plain": [
              "    Codigo                                               Link  \\\n",
              "0  8992351  http://www.mercadopublico.cl/fichaLicitacion.h...   \n",
              "1  8992351  http://www.mercadopublico.cl/fichaLicitacion.h...   \n",
              "2  9050946  http://www.mercadopublico.cl/fichaLicitacion.h...   \n",
              "3  9050946  http://www.mercadopublico.cl/fichaLicitacion.h...   \n",
              "4  9050946  http://www.mercadopublico.cl/fichaLicitacion.h...   \n",
              "\n",
              "     CodigoExterno                                             Nombre  \\\n",
              "0   690263-11-LR22  CONVENIO SUMINISTRO DE REACTIVOS E INSUMOS DE ...   \n",
              "1   690263-11-LR22  CONVENIO SUMINISTRO DE REACTIVOS E INSUMOS DE ...   \n",
              "2  886954-286-LR22  Convenio de suministro Prótesis Para la Unidad...   \n",
              "3  886954-286-LR22  Convenio de suministro Prótesis Para la Unidad...   \n",
              "4  886954-286-LR22  Convenio de suministro Prótesis Para la Unidad...   \n",
              "\n",
              "                                         Descripcion  \\\n",
              "0  Proveer el suministro de reactivos e insumos p...   \n",
              "1  Proveer el suministro de reactivos e insumos p...   \n",
              "2  La necesidad de abastecer del insumo para la a...   \n",
              "3  La necesidad de abastecer del insumo para la a...   \n",
              "4  La necesidad de abastecer del insumo para la a...   \n",
              "\n",
              "                    Tipo de Adquisicion  CodigoEstado   Estado  \\\n",
              "0  Licitación Pública Mayor a 5000 (LR)             6  Cerrada   \n",
              "1  Licitación Pública Mayor a 5000 (LR)             6  Cerrada   \n",
              "2  Licitación Pública Mayor a 5000 (LR)             6  Cerrada   \n",
              "3  Licitación Pública Mayor a 5000 (LR)             6  Cerrada   \n",
              "4  Licitación Pública Mayor a 5000 (LR)             6  Cerrada   \n",
              "\n",
              "   CodigoOrganismo                           NombreOrganismo  ...  \\\n",
              "0             6976                  SERVICIO DE SALUD ARAUCO  ...   \n",
              "1             6976                  SERVICIO DE SALUD ARAUCO  ...   \n",
              "2             7324  HOSPITAL GUILLERMO GRANT BENAVENTE DE CO  ...   \n",
              "3             7324  HOSPITAL GUILLERMO GRANT BENAVENTE DE CO  ...   \n",
              "4             7324  HOSPITAL GUILLERMO GRANT BENAVENTE DE CO  ...   \n",
              "\n",
              "                                 Nombre de la Oferta Estado Oferta  \\\n",
              "0  CONVENIO SUMINISTRO DE REACTIVOS E INSUMOS DE ...     Rechazada   \n",
              "1                               Cotización N° 312326      Aceptada   \n",
              "2  Prótesis Para la Unidad de Medicina Fisica y R...      Aceptada   \n",
              "3  CONVENIO SUMINISTRO DE PROTESIS PARA UNIDAD ME...      Aceptada   \n",
              "4  Propuesta para Convenio de suministro Prótesis...      Aceptada   \n",
              "\n",
              "   Cantidad Ofertada Moneda de la Oferta MontoUnitarioOferta  \\\n",
              "0                  1        Peso Chileno          3998400000   \n",
              "1                  1        Peso Chileno                   1   \n",
              "2                  1        Peso Chileno               25000   \n",
              "3                  1        Peso Chileno               25000   \n",
              "4                  1        Peso Chileno               35000   \n",
              "\n",
              "  Valor Total Ofertado CantidadAdjudicada  MontoLineaAdjudica  \\\n",
              "0           3998400000                  0                   0   \n",
              "1                    1                  0                   0   \n",
              "2                25000                  0                   0   \n",
              "3                25000                  0                   0   \n",
              "4                35000                  0                   0   \n",
              "\n",
              "   FechaEnvioOferta Oferta seleccionada  \n",
              "0        2023-07-11     No Seleccionada  \n",
              "1        2023-08-08     No Seleccionada  \n",
              "2        2023-08-10     No Seleccionada  \n",
              "3        2023-08-10     No Seleccionada  \n",
              "4        2023-08-09     No Seleccionada  \n",
              "\n",
              "[5 rows x 105 columns]"
            ],
            "text/html": [
              "\n",
              "  <div id=\"df-574b091a-29a8-4a23-a835-08b3638840a2\" class=\"colab-df-container\">\n",
              "    <div>\n",
              "<style scoped>\n",
              "    .dataframe tbody tr th:only-of-type {\n",
              "        vertical-align: middle;\n",
              "    }\n",
              "\n",
              "    .dataframe tbody tr th {\n",
              "        vertical-align: top;\n",
              "    }\n",
              "\n",
              "    .dataframe thead th {\n",
              "        text-align: right;\n",
              "    }\n",
              "</style>\n",
              "<table border=\"1\" class=\"dataframe\">\n",
              "  <thead>\n",
              "    <tr style=\"text-align: right;\">\n",
              "      <th></th>\n",
              "      <th>Codigo</th>\n",
              "      <th>Link</th>\n",
              "      <th>CodigoExterno</th>\n",
              "      <th>Nombre</th>\n",
              "      <th>Descripcion</th>\n",
              "      <th>Tipo de Adquisicion</th>\n",
              "      <th>CodigoEstado</th>\n",
              "      <th>Estado</th>\n",
              "      <th>CodigoOrganismo</th>\n",
              "      <th>NombreOrganismo</th>\n",
              "      <th>...</th>\n",
              "      <th>Nombre de la Oferta</th>\n",
              "      <th>Estado Oferta</th>\n",
              "      <th>Cantidad Ofertada</th>\n",
              "      <th>Moneda de la Oferta</th>\n",
              "      <th>MontoUnitarioOferta</th>\n",
              "      <th>Valor Total Ofertado</th>\n",
              "      <th>CantidadAdjudicada</th>\n",
              "      <th>MontoLineaAdjudica</th>\n",
              "      <th>FechaEnvioOferta</th>\n",
              "      <th>Oferta seleccionada</th>\n",
              "    </tr>\n",
              "  </thead>\n",
              "  <tbody>\n",
              "    <tr>\n",
              "      <th>0</th>\n",
              "      <td>8992351</td>\n",
              "      <td>http://www.mercadopublico.cl/fichaLicitacion.h...</td>\n",
              "      <td>690263-11-LR22</td>\n",
              "      <td>CONVENIO SUMINISTRO DE REACTIVOS E INSUMOS DE ...</td>\n",
              "      <td>Proveer el suministro de reactivos e insumos p...</td>\n",
              "      <td>Licitación Pública Mayor a 5000 (LR)</td>\n",
              "      <td>6</td>\n",
              "      <td>Cerrada</td>\n",
              "      <td>6976</td>\n",
              "      <td>SERVICIO DE SALUD ARAUCO</td>\n",
              "      <td>...</td>\n",
              "      <td>CONVENIO SUMINISTRO DE REACTIVOS E INSUMOS DE ...</td>\n",
              "      <td>Rechazada</td>\n",
              "      <td>1</td>\n",
              "      <td>Peso Chileno</td>\n",
              "      <td>3998400000</td>\n",
              "      <td>3998400000</td>\n",
              "      <td>0</td>\n",
              "      <td>0</td>\n",
              "      <td>2023-07-11</td>\n",
              "      <td>No Seleccionada</td>\n",
              "    </tr>\n",
              "    <tr>\n",
              "      <th>1</th>\n",
              "      <td>8992351</td>\n",
              "      <td>http://www.mercadopublico.cl/fichaLicitacion.h...</td>\n",
              "      <td>690263-11-LR22</td>\n",
              "      <td>CONVENIO SUMINISTRO DE REACTIVOS E INSUMOS DE ...</td>\n",
              "      <td>Proveer el suministro de reactivos e insumos p...</td>\n",
              "      <td>Licitación Pública Mayor a 5000 (LR)</td>\n",
              "      <td>6</td>\n",
              "      <td>Cerrada</td>\n",
              "      <td>6976</td>\n",
              "      <td>SERVICIO DE SALUD ARAUCO</td>\n",
              "      <td>...</td>\n",
              "      <td>Cotización N° 312326</td>\n",
              "      <td>Aceptada</td>\n",
              "      <td>1</td>\n",
              "      <td>Peso Chileno</td>\n",
              "      <td>1</td>\n",
              "      <td>1</td>\n",
              "      <td>0</td>\n",
              "      <td>0</td>\n",
              "      <td>2023-08-08</td>\n",
              "      <td>No Seleccionada</td>\n",
              "    </tr>\n",
              "    <tr>\n",
              "      <th>2</th>\n",
              "      <td>9050946</td>\n",
              "      <td>http://www.mercadopublico.cl/fichaLicitacion.h...</td>\n",
              "      <td>886954-286-LR22</td>\n",
              "      <td>Convenio de suministro Prótesis Para la Unidad...</td>\n",
              "      <td>La necesidad de abastecer del insumo para la a...</td>\n",
              "      <td>Licitación Pública Mayor a 5000 (LR)</td>\n",
              "      <td>6</td>\n",
              "      <td>Cerrada</td>\n",
              "      <td>7324</td>\n",
              "      <td>HOSPITAL GUILLERMO GRANT BENAVENTE DE CO</td>\n",
              "      <td>...</td>\n",
              "      <td>Prótesis Para la Unidad de Medicina Fisica y R...</td>\n",
              "      <td>Aceptada</td>\n",
              "      <td>1</td>\n",
              "      <td>Peso Chileno</td>\n",
              "      <td>25000</td>\n",
              "      <td>25000</td>\n",
              "      <td>0</td>\n",
              "      <td>0</td>\n",
              "      <td>2023-08-10</td>\n",
              "      <td>No Seleccionada</td>\n",
              "    </tr>\n",
              "    <tr>\n",
              "      <th>3</th>\n",
              "      <td>9050946</td>\n",
              "      <td>http://www.mercadopublico.cl/fichaLicitacion.h...</td>\n",
              "      <td>886954-286-LR22</td>\n",
              "      <td>Convenio de suministro Prótesis Para la Unidad...</td>\n",
              "      <td>La necesidad de abastecer del insumo para la a...</td>\n",
              "      <td>Licitación Pública Mayor a 5000 (LR)</td>\n",
              "      <td>6</td>\n",
              "      <td>Cerrada</td>\n",
              "      <td>7324</td>\n",
              "      <td>HOSPITAL GUILLERMO GRANT BENAVENTE DE CO</td>\n",
              "      <td>...</td>\n",
              "      <td>CONVENIO SUMINISTRO DE PROTESIS PARA UNIDAD ME...</td>\n",
              "      <td>Aceptada</td>\n",
              "      <td>1</td>\n",
              "      <td>Peso Chileno</td>\n",
              "      <td>25000</td>\n",
              "      <td>25000</td>\n",
              "      <td>0</td>\n",
              "      <td>0</td>\n",
              "      <td>2023-08-10</td>\n",
              "      <td>No Seleccionada</td>\n",
              "    </tr>\n",
              "    <tr>\n",
              "      <th>4</th>\n",
              "      <td>9050946</td>\n",
              "      <td>http://www.mercadopublico.cl/fichaLicitacion.h...</td>\n",
              "      <td>886954-286-LR22</td>\n",
              "      <td>Convenio de suministro Prótesis Para la Unidad...</td>\n",
              "      <td>La necesidad de abastecer del insumo para la a...</td>\n",
              "      <td>Licitación Pública Mayor a 5000 (LR)</td>\n",
              "      <td>6</td>\n",
              "      <td>Cerrada</td>\n",
              "      <td>7324</td>\n",
              "      <td>HOSPITAL GUILLERMO GRANT BENAVENTE DE CO</td>\n",
              "      <td>...</td>\n",
              "      <td>Propuesta para Convenio de suministro Prótesis...</td>\n",
              "      <td>Aceptada</td>\n",
              "      <td>1</td>\n",
              "      <td>Peso Chileno</td>\n",
              "      <td>35000</td>\n",
              "      <td>35000</td>\n",
              "      <td>0</td>\n",
              "      <td>0</td>\n",
              "      <td>2023-08-09</td>\n",
              "      <td>No Seleccionada</td>\n",
              "    </tr>\n",
              "  </tbody>\n",
              "</table>\n",
              "<p>5 rows × 105 columns</p>\n",
              "</div>\n",
              "    <div class=\"colab-df-buttons\">\n",
              "\n",
              "  <div class=\"colab-df-container\">\n",
              "    <button class=\"colab-df-convert\" onclick=\"convertToInteractive('df-574b091a-29a8-4a23-a835-08b3638840a2')\"\n",
              "            title=\"Convert this dataframe to an interactive table.\"\n",
              "            style=\"display:none;\">\n",
              "\n",
              "  <svg xmlns=\"http://www.w3.org/2000/svg\" height=\"24px\" viewBox=\"0 -960 960 960\">\n",
              "    <path d=\"M120-120v-720h720v720H120Zm60-500h600v-160H180v160Zm220 220h160v-160H400v160Zm0 220h160v-160H400v160ZM180-400h160v-160H180v160Zm440 0h160v-160H620v160ZM180-180h160v-160H180v160Zm440 0h160v-160H620v160Z\"/>\n",
              "  </svg>\n",
              "    </button>\n",
              "\n",
              "  <style>\n",
              "    .colab-df-container {\n",
              "      display:flex;\n",
              "      gap: 12px;\n",
              "    }\n",
              "\n",
              "    .colab-df-convert {\n",
              "      background-color: #E8F0FE;\n",
              "      border: none;\n",
              "      border-radius: 50%;\n",
              "      cursor: pointer;\n",
              "      display: none;\n",
              "      fill: #1967D2;\n",
              "      height: 32px;\n",
              "      padding: 0 0 0 0;\n",
              "      width: 32px;\n",
              "    }\n",
              "\n",
              "    .colab-df-convert:hover {\n",
              "      background-color: #E2EBFA;\n",
              "      box-shadow: 0px 1px 2px rgba(60, 64, 67, 0.3), 0px 1px 3px 1px rgba(60, 64, 67, 0.15);\n",
              "      fill: #174EA6;\n",
              "    }\n",
              "\n",
              "    .colab-df-buttons div {\n",
              "      margin-bottom: 4px;\n",
              "    }\n",
              "\n",
              "    [theme=dark] .colab-df-convert {\n",
              "      background-color: #3B4455;\n",
              "      fill: #D2E3FC;\n",
              "    }\n",
              "\n",
              "    [theme=dark] .colab-df-convert:hover {\n",
              "      background-color: #434B5C;\n",
              "      box-shadow: 0px 1px 3px 1px rgba(0, 0, 0, 0.15);\n",
              "      filter: drop-shadow(0px 1px 2px rgba(0, 0, 0, 0.3));\n",
              "      fill: #FFFFFF;\n",
              "    }\n",
              "  </style>\n",
              "\n",
              "    <script>\n",
              "      const buttonEl =\n",
              "        document.querySelector('#df-574b091a-29a8-4a23-a835-08b3638840a2 button.colab-df-convert');\n",
              "      buttonEl.style.display =\n",
              "        google.colab.kernel.accessAllowed ? 'block' : 'none';\n",
              "\n",
              "      async function convertToInteractive(key) {\n",
              "        const element = document.querySelector('#df-574b091a-29a8-4a23-a835-08b3638840a2');\n",
              "        const dataTable =\n",
              "          await google.colab.kernel.invokeFunction('convertToInteractive',\n",
              "                                                    [key], {});\n",
              "        if (!dataTable) return;\n",
              "\n",
              "        const docLinkHtml = 'Like what you see? Visit the ' +\n",
              "          '<a target=\"_blank\" href=https://colab.research.google.com/notebooks/data_table.ipynb>data table notebook</a>'\n",
              "          + ' to learn more about interactive tables.';\n",
              "        element.innerHTML = '';\n",
              "        dataTable['output_type'] = 'display_data';\n",
              "        await google.colab.output.renderOutput(dataTable, element);\n",
              "        const docLink = document.createElement('div');\n",
              "        docLink.innerHTML = docLinkHtml;\n",
              "        element.appendChild(docLink);\n",
              "      }\n",
              "    </script>\n",
              "  </div>\n",
              "\n",
              "\n",
              "<div id=\"df-79c3d623-b855-4214-ad8a-fe0c512e29ec\">\n",
              "  <button class=\"colab-df-quickchart\" onclick=\"quickchart('df-79c3d623-b855-4214-ad8a-fe0c512e29ec')\"\n",
              "            title=\"Suggest charts.\"\n",
              "            style=\"display:none;\">\n",
              "\n",
              "<svg xmlns=\"http://www.w3.org/2000/svg\" height=\"24px\"viewBox=\"0 0 24 24\"\n",
              "     width=\"24px\">\n",
              "    <g>\n",
              "        <path d=\"M19 3H5c-1.1 0-2 .9-2 2v14c0 1.1.9 2 2 2h14c1.1 0 2-.9 2-2V5c0-1.1-.9-2-2-2zM9 17H7v-7h2v7zm4 0h-2V7h2v10zm4 0h-2v-4h2v4z\"/>\n",
              "    </g>\n",
              "</svg>\n",
              "  </button>\n",
              "\n",
              "<style>\n",
              "  .colab-df-quickchart {\n",
              "      --bg-color: #E8F0FE;\n",
              "      --fill-color: #1967D2;\n",
              "      --hover-bg-color: #E2EBFA;\n",
              "      --hover-fill-color: #174EA6;\n",
              "      --disabled-fill-color: #AAA;\n",
              "      --disabled-bg-color: #DDD;\n",
              "  }\n",
              "\n",
              "  [theme=dark] .colab-df-quickchart {\n",
              "      --bg-color: #3B4455;\n",
              "      --fill-color: #D2E3FC;\n",
              "      --hover-bg-color: #434B5C;\n",
              "      --hover-fill-color: #FFFFFF;\n",
              "      --disabled-bg-color: #3B4455;\n",
              "      --disabled-fill-color: #666;\n",
              "  }\n",
              "\n",
              "  .colab-df-quickchart {\n",
              "    background-color: var(--bg-color);\n",
              "    border: none;\n",
              "    border-radius: 50%;\n",
              "    cursor: pointer;\n",
              "    display: none;\n",
              "    fill: var(--fill-color);\n",
              "    height: 32px;\n",
              "    padding: 0;\n",
              "    width: 32px;\n",
              "  }\n",
              "\n",
              "  .colab-df-quickchart:hover {\n",
              "    background-color: var(--hover-bg-color);\n",
              "    box-shadow: 0 1px 2px rgba(60, 64, 67, 0.3), 0 1px 3px 1px rgba(60, 64, 67, 0.15);\n",
              "    fill: var(--button-hover-fill-color);\n",
              "  }\n",
              "\n",
              "  .colab-df-quickchart-complete:disabled,\n",
              "  .colab-df-quickchart-complete:disabled:hover {\n",
              "    background-color: var(--disabled-bg-color);\n",
              "    fill: var(--disabled-fill-color);\n",
              "    box-shadow: none;\n",
              "  }\n",
              "\n",
              "  .colab-df-spinner {\n",
              "    border: 2px solid var(--fill-color);\n",
              "    border-color: transparent;\n",
              "    border-bottom-color: var(--fill-color);\n",
              "    animation:\n",
              "      spin 1s steps(1) infinite;\n",
              "  }\n",
              "\n",
              "  @keyframes spin {\n",
              "    0% {\n",
              "      border-color: transparent;\n",
              "      border-bottom-color: var(--fill-color);\n",
              "      border-left-color: var(--fill-color);\n",
              "    }\n",
              "    20% {\n",
              "      border-color: transparent;\n",
              "      border-left-color: var(--fill-color);\n",
              "      border-top-color: var(--fill-color);\n",
              "    }\n",
              "    30% {\n",
              "      border-color: transparent;\n",
              "      border-left-color: var(--fill-color);\n",
              "      border-top-color: var(--fill-color);\n",
              "      border-right-color: var(--fill-color);\n",
              "    }\n",
              "    40% {\n",
              "      border-color: transparent;\n",
              "      border-right-color: var(--fill-color);\n",
              "      border-top-color: var(--fill-color);\n",
              "    }\n",
              "    60% {\n",
              "      border-color: transparent;\n",
              "      border-right-color: var(--fill-color);\n",
              "    }\n",
              "    80% {\n",
              "      border-color: transparent;\n",
              "      border-right-color: var(--fill-color);\n",
              "      border-bottom-color: var(--fill-color);\n",
              "    }\n",
              "    90% {\n",
              "      border-color: transparent;\n",
              "      border-bottom-color: var(--fill-color);\n",
              "    }\n",
              "  }\n",
              "</style>\n",
              "\n",
              "  <script>\n",
              "    async function quickchart(key) {\n",
              "      const quickchartButtonEl =\n",
              "        document.querySelector('#' + key + ' button');\n",
              "      quickchartButtonEl.disabled = true;  // To prevent multiple clicks.\n",
              "      quickchartButtonEl.classList.add('colab-df-spinner');\n",
              "      try {\n",
              "        const charts = await google.colab.kernel.invokeFunction(\n",
              "            'suggestCharts', [key], {});\n",
              "      } catch (error) {\n",
              "        console.error('Error during call to suggestCharts:', error);\n",
              "      }\n",
              "      quickchartButtonEl.classList.remove('colab-df-spinner');\n",
              "      quickchartButtonEl.classList.add('colab-df-quickchart-complete');\n",
              "    }\n",
              "    (() => {\n",
              "      let quickchartButtonEl =\n",
              "        document.querySelector('#df-79c3d623-b855-4214-ad8a-fe0c512e29ec button');\n",
              "      quickchartButtonEl.style.display =\n",
              "        google.colab.kernel.accessAllowed ? 'block' : 'none';\n",
              "    })();\n",
              "  </script>\n",
              "</div>\n",
              "    </div>\n",
              "  </div>\n"
            ]
          },
          "metadata": {},
          "execution_count": 12
        }
      ]
    },
    {
      "cell_type": "markdown",
      "source": [
        "## **Posibles campos para las tablas dimensionales**\n",
        "\n",
        "1. dim_desc_licitaciones (Codigo, Nombre, Descripcion)\n",
        "2. dim_tipo_de_adquisicion (id_tipo, Tipo de Adquisicion,)\n",
        "3. dim_estados (CodigoEstado, Estado)\n",
        "4. dim_sector_organismo (id_sector, sector)\n",
        "5. dim_organismo (CodigoOrganismo, NombreOrganismo, RutUnidad, id_sector)\n",
        "6. dim_unidad (CodigoUnidad, NombreUnidad)\n",
        "7. dim_comuna (id_comuna, ComunaUnidad)\n",
        "8. dim_region (id_region, RegionUnidad)\n",
        "9. dim_rubros1 (id_rubro1, Rubro1)\n",
        "10. dim_rubros2 (id_rubro2, Rubro2)\n",
        "11. dim_rubros3 (id_rubro3, Rubro3)\n",
        "\n",
        "## Tabla de Hecho\n",
        "* Fact_licitaciones:\n",
        "    Codigo, id_tipo, CodigoEstado, CodigoOrganismo, id_sector, CodigoUnidad, id_comuna,id_region, Tipo, Etapas, EstadoPublicidadOfertas, Contrato, CantidadReclamos,FechaCreacion, FechaCierre, FechaInicio, FechaFinal, FechaPubRespuestas, FechaAdjudicacion, etc, id_rubro1,id_rubro2,id_rubro3,)"
      ],
      "metadata": {
        "id": "WLIRKfO4yZx_"
      }
    },
    {
      "cell_type": "code",
      "source": [
        "# Metodo para Normalizar los caracteres especiales que pudieran existir en cada tabla dimencional creada\n",
        "def normalize_text(text):\n",
        "    return unicodedata.normalize('NFKD', text).encode('ASCII', 'ignore').decode()"
      ],
      "metadata": {
        "id": "EWyXXaq5zlSv"
      },
      "execution_count": null,
      "outputs": []
    },
    {
      "cell_type": "markdown",
      "source": [
        "#### 1. Tabla **dim_desc_licitaciones** *(CodigoExterno, Nombre, Descripcion*"
      ],
      "metadata": {
        "id": "h_ccy9gQo5VE"
      }
    },
    {
      "cell_type": "code",
      "source": [
        "#validamos cantidad de valores nulos en el campo objetivo\n",
        "cant_nulos = df['CodigoExterno'].isnull().sum()\n",
        "cant_nulos"
      ],
      "metadata": {
        "colab": {
          "base_uri": "https://localhost:8080/"
        },
        "id": "OXDDqL1ftF2a",
        "outputId": "5eff802e-077b-4733-f4f5-c6faf12cf03b"
      },
      "execution_count": null,
      "outputs": [
        {
          "output_type": "execute_result",
          "data": {
            "text/plain": [
              "0"
            ]
          },
          "metadata": {},
          "execution_count": 14
        }
      ]
    },
    {
      "cell_type": "code",
      "source": [
        "# Crear un nuevo DataFrame con valores únicos\n",
        "df_dim_desc_licitaciones = df[['CodigoExterno', 'Nombre', 'Descripcion']].drop_duplicates()\n",
        "df_dim_desc_licitaciones.head(5)"
      ],
      "metadata": {
        "colab": {
          "base_uri": "https://localhost:8080/",
          "height": 293
        },
        "id": "NoMchkEHpCae",
        "outputId": "b9cd1e90-42f7-48db-e75a-82b85991227e"
      },
      "execution_count": null,
      "outputs": [
        {
          "output_type": "execute_result",
          "data": {
            "text/plain": [
              "       CodigoExterno                                             Nombre  \\\n",
              "0     690263-11-LR22  CONVENIO SUMINISTRO DE REACTIVOS E INSUMOS DE ...   \n",
              "2    886954-286-LR22  Convenio de suministro Prótesis Para la Unidad...   \n",
              "150     2767-97-LE22  ADQUISICIÓN DE 5 CONTAINER PARA SALUD LA CISTERNA   \n",
              "154      2111-2-LE23  SUMINISTRO DE BOLSAS FRASCO ETIQUETA PARA BIOPSIA   \n",
              "163      1704-2-LQ23  SERVICIO DE APOYO ADMINISTRATIVO PARA EL HOSPITAL   \n",
              "\n",
              "                                           Descripcion  \n",
              "0    Proveer el suministro de reactivos e insumos p...  \n",
              "2    La necesidad de abastecer del insumo para la a...  \n",
              "150  La Municipalidad de La Cisterna llama a Propue...  \n",
              "154  ASEGURAR EL ABASTECIMIENTO DE INSUMOS PARA CUB...  \n",
              "163  APOYAR A LAS UNIDADES INVOLUCRADAS A ABORDAR E...  "
            ],
            "text/html": [
              "\n",
              "  <div id=\"df-d6c16210-9dee-45be-b5ee-bc2dced61433\" class=\"colab-df-container\">\n",
              "    <div>\n",
              "<style scoped>\n",
              "    .dataframe tbody tr th:only-of-type {\n",
              "        vertical-align: middle;\n",
              "    }\n",
              "\n",
              "    .dataframe tbody tr th {\n",
              "        vertical-align: top;\n",
              "    }\n",
              "\n",
              "    .dataframe thead th {\n",
              "        text-align: right;\n",
              "    }\n",
              "</style>\n",
              "<table border=\"1\" class=\"dataframe\">\n",
              "  <thead>\n",
              "    <tr style=\"text-align: right;\">\n",
              "      <th></th>\n",
              "      <th>CodigoExterno</th>\n",
              "      <th>Nombre</th>\n",
              "      <th>Descripcion</th>\n",
              "    </tr>\n",
              "  </thead>\n",
              "  <tbody>\n",
              "    <tr>\n",
              "      <th>0</th>\n",
              "      <td>690263-11-LR22</td>\n",
              "      <td>CONVENIO SUMINISTRO DE REACTIVOS E INSUMOS DE ...</td>\n",
              "      <td>Proveer el suministro de reactivos e insumos p...</td>\n",
              "    </tr>\n",
              "    <tr>\n",
              "      <th>2</th>\n",
              "      <td>886954-286-LR22</td>\n",
              "      <td>Convenio de suministro Prótesis Para la Unidad...</td>\n",
              "      <td>La necesidad de abastecer del insumo para la a...</td>\n",
              "    </tr>\n",
              "    <tr>\n",
              "      <th>150</th>\n",
              "      <td>2767-97-LE22</td>\n",
              "      <td>ADQUISICIÓN DE 5 CONTAINER PARA SALUD LA CISTERNA</td>\n",
              "      <td>La Municipalidad de La Cisterna llama a Propue...</td>\n",
              "    </tr>\n",
              "    <tr>\n",
              "      <th>154</th>\n",
              "      <td>2111-2-LE23</td>\n",
              "      <td>SUMINISTRO DE BOLSAS FRASCO ETIQUETA PARA BIOPSIA</td>\n",
              "      <td>ASEGURAR EL ABASTECIMIENTO DE INSUMOS PARA CUB...</td>\n",
              "    </tr>\n",
              "    <tr>\n",
              "      <th>163</th>\n",
              "      <td>1704-2-LQ23</td>\n",
              "      <td>SERVICIO DE APOYO ADMINISTRATIVO PARA EL HOSPITAL</td>\n",
              "      <td>APOYAR A LAS UNIDADES INVOLUCRADAS A ABORDAR E...</td>\n",
              "    </tr>\n",
              "  </tbody>\n",
              "</table>\n",
              "</div>\n",
              "    <div class=\"colab-df-buttons\">\n",
              "\n",
              "  <div class=\"colab-df-container\">\n",
              "    <button class=\"colab-df-convert\" onclick=\"convertToInteractive('df-d6c16210-9dee-45be-b5ee-bc2dced61433')\"\n",
              "            title=\"Convert this dataframe to an interactive table.\"\n",
              "            style=\"display:none;\">\n",
              "\n",
              "  <svg xmlns=\"http://www.w3.org/2000/svg\" height=\"24px\" viewBox=\"0 -960 960 960\">\n",
              "    <path d=\"M120-120v-720h720v720H120Zm60-500h600v-160H180v160Zm220 220h160v-160H400v160Zm0 220h160v-160H400v160ZM180-400h160v-160H180v160Zm440 0h160v-160H620v160ZM180-180h160v-160H180v160Zm440 0h160v-160H620v160Z\"/>\n",
              "  </svg>\n",
              "    </button>\n",
              "\n",
              "  <style>\n",
              "    .colab-df-container {\n",
              "      display:flex;\n",
              "      gap: 12px;\n",
              "    }\n",
              "\n",
              "    .colab-df-convert {\n",
              "      background-color: #E8F0FE;\n",
              "      border: none;\n",
              "      border-radius: 50%;\n",
              "      cursor: pointer;\n",
              "      display: none;\n",
              "      fill: #1967D2;\n",
              "      height: 32px;\n",
              "      padding: 0 0 0 0;\n",
              "      width: 32px;\n",
              "    }\n",
              "\n",
              "    .colab-df-convert:hover {\n",
              "      background-color: #E2EBFA;\n",
              "      box-shadow: 0px 1px 2px rgba(60, 64, 67, 0.3), 0px 1px 3px 1px rgba(60, 64, 67, 0.15);\n",
              "      fill: #174EA6;\n",
              "    }\n",
              "\n",
              "    .colab-df-buttons div {\n",
              "      margin-bottom: 4px;\n",
              "    }\n",
              "\n",
              "    [theme=dark] .colab-df-convert {\n",
              "      background-color: #3B4455;\n",
              "      fill: #D2E3FC;\n",
              "    }\n",
              "\n",
              "    [theme=dark] .colab-df-convert:hover {\n",
              "      background-color: #434B5C;\n",
              "      box-shadow: 0px 1px 3px 1px rgba(0, 0, 0, 0.15);\n",
              "      filter: drop-shadow(0px 1px 2px rgba(0, 0, 0, 0.3));\n",
              "      fill: #FFFFFF;\n",
              "    }\n",
              "  </style>\n",
              "\n",
              "    <script>\n",
              "      const buttonEl =\n",
              "        document.querySelector('#df-d6c16210-9dee-45be-b5ee-bc2dced61433 button.colab-df-convert');\n",
              "      buttonEl.style.display =\n",
              "        google.colab.kernel.accessAllowed ? 'block' : 'none';\n",
              "\n",
              "      async function convertToInteractive(key) {\n",
              "        const element = document.querySelector('#df-d6c16210-9dee-45be-b5ee-bc2dced61433');\n",
              "        const dataTable =\n",
              "          await google.colab.kernel.invokeFunction('convertToInteractive',\n",
              "                                                    [key], {});\n",
              "        if (!dataTable) return;\n",
              "\n",
              "        const docLinkHtml = 'Like what you see? Visit the ' +\n",
              "          '<a target=\"_blank\" href=https://colab.research.google.com/notebooks/data_table.ipynb>data table notebook</a>'\n",
              "          + ' to learn more about interactive tables.';\n",
              "        element.innerHTML = '';\n",
              "        dataTable['output_type'] = 'display_data';\n",
              "        await google.colab.output.renderOutput(dataTable, element);\n",
              "        const docLink = document.createElement('div');\n",
              "        docLink.innerHTML = docLinkHtml;\n",
              "        element.appendChild(docLink);\n",
              "      }\n",
              "    </script>\n",
              "  </div>\n",
              "\n",
              "\n",
              "<div id=\"df-a4b15df4-d2c8-4296-8d01-6e3b3e80fd00\">\n",
              "  <button class=\"colab-df-quickchart\" onclick=\"quickchart('df-a4b15df4-d2c8-4296-8d01-6e3b3e80fd00')\"\n",
              "            title=\"Suggest charts.\"\n",
              "            style=\"display:none;\">\n",
              "\n",
              "<svg xmlns=\"http://www.w3.org/2000/svg\" height=\"24px\"viewBox=\"0 0 24 24\"\n",
              "     width=\"24px\">\n",
              "    <g>\n",
              "        <path d=\"M19 3H5c-1.1 0-2 .9-2 2v14c0 1.1.9 2 2 2h14c1.1 0 2-.9 2-2V5c0-1.1-.9-2-2-2zM9 17H7v-7h2v7zm4 0h-2V7h2v10zm4 0h-2v-4h2v4z\"/>\n",
              "    </g>\n",
              "</svg>\n",
              "  </button>\n",
              "\n",
              "<style>\n",
              "  .colab-df-quickchart {\n",
              "      --bg-color: #E8F0FE;\n",
              "      --fill-color: #1967D2;\n",
              "      --hover-bg-color: #E2EBFA;\n",
              "      --hover-fill-color: #174EA6;\n",
              "      --disabled-fill-color: #AAA;\n",
              "      --disabled-bg-color: #DDD;\n",
              "  }\n",
              "\n",
              "  [theme=dark] .colab-df-quickchart {\n",
              "      --bg-color: #3B4455;\n",
              "      --fill-color: #D2E3FC;\n",
              "      --hover-bg-color: #434B5C;\n",
              "      --hover-fill-color: #FFFFFF;\n",
              "      --disabled-bg-color: #3B4455;\n",
              "      --disabled-fill-color: #666;\n",
              "  }\n",
              "\n",
              "  .colab-df-quickchart {\n",
              "    background-color: var(--bg-color);\n",
              "    border: none;\n",
              "    border-radius: 50%;\n",
              "    cursor: pointer;\n",
              "    display: none;\n",
              "    fill: var(--fill-color);\n",
              "    height: 32px;\n",
              "    padding: 0;\n",
              "    width: 32px;\n",
              "  }\n",
              "\n",
              "  .colab-df-quickchart:hover {\n",
              "    background-color: var(--hover-bg-color);\n",
              "    box-shadow: 0 1px 2px rgba(60, 64, 67, 0.3), 0 1px 3px 1px rgba(60, 64, 67, 0.15);\n",
              "    fill: var(--button-hover-fill-color);\n",
              "  }\n",
              "\n",
              "  .colab-df-quickchart-complete:disabled,\n",
              "  .colab-df-quickchart-complete:disabled:hover {\n",
              "    background-color: var(--disabled-bg-color);\n",
              "    fill: var(--disabled-fill-color);\n",
              "    box-shadow: none;\n",
              "  }\n",
              "\n",
              "  .colab-df-spinner {\n",
              "    border: 2px solid var(--fill-color);\n",
              "    border-color: transparent;\n",
              "    border-bottom-color: var(--fill-color);\n",
              "    animation:\n",
              "      spin 1s steps(1) infinite;\n",
              "  }\n",
              "\n",
              "  @keyframes spin {\n",
              "    0% {\n",
              "      border-color: transparent;\n",
              "      border-bottom-color: var(--fill-color);\n",
              "      border-left-color: var(--fill-color);\n",
              "    }\n",
              "    20% {\n",
              "      border-color: transparent;\n",
              "      border-left-color: var(--fill-color);\n",
              "      border-top-color: var(--fill-color);\n",
              "    }\n",
              "    30% {\n",
              "      border-color: transparent;\n",
              "      border-left-color: var(--fill-color);\n",
              "      border-top-color: var(--fill-color);\n",
              "      border-right-color: var(--fill-color);\n",
              "    }\n",
              "    40% {\n",
              "      border-color: transparent;\n",
              "      border-right-color: var(--fill-color);\n",
              "      border-top-color: var(--fill-color);\n",
              "    }\n",
              "    60% {\n",
              "      border-color: transparent;\n",
              "      border-right-color: var(--fill-color);\n",
              "    }\n",
              "    80% {\n",
              "      border-color: transparent;\n",
              "      border-right-color: var(--fill-color);\n",
              "      border-bottom-color: var(--fill-color);\n",
              "    }\n",
              "    90% {\n",
              "      border-color: transparent;\n",
              "      border-bottom-color: var(--fill-color);\n",
              "    }\n",
              "  }\n",
              "</style>\n",
              "\n",
              "  <script>\n",
              "    async function quickchart(key) {\n",
              "      const quickchartButtonEl =\n",
              "        document.querySelector('#' + key + ' button');\n",
              "      quickchartButtonEl.disabled = true;  // To prevent multiple clicks.\n",
              "      quickchartButtonEl.classList.add('colab-df-spinner');\n",
              "      try {\n",
              "        const charts = await google.colab.kernel.invokeFunction(\n",
              "            'suggestCharts', [key], {});\n",
              "      } catch (error) {\n",
              "        console.error('Error during call to suggestCharts:', error);\n",
              "      }\n",
              "      quickchartButtonEl.classList.remove('colab-df-spinner');\n",
              "      quickchartButtonEl.classList.add('colab-df-quickchart-complete');\n",
              "    }\n",
              "    (() => {\n",
              "      let quickchartButtonEl =\n",
              "        document.querySelector('#df-a4b15df4-d2c8-4296-8d01-6e3b3e80fd00 button');\n",
              "      quickchartButtonEl.style.display =\n",
              "        google.colab.kernel.accessAllowed ? 'block' : 'none';\n",
              "    })();\n",
              "  </script>\n",
              "</div>\n",
              "    </div>\n",
              "  </div>\n"
            ]
          },
          "metadata": {},
          "execution_count": 15
        }
      ]
    },
    {
      "cell_type": "code",
      "source": [
        "df_dim_desc_licitaciones.shape"
      ],
      "metadata": {
        "colab": {
          "base_uri": "https://localhost:8080/"
        },
        "id": "TrunrrgjtXpn",
        "outputId": "0bda2a38-d565-4946-fe39-3a67bdd7e46d"
      },
      "execution_count": null,
      "outputs": [
        {
          "output_type": "execute_result",
          "data": {
            "text/plain": [
              "(82550, 3)"
            ]
          },
          "metadata": {},
          "execution_count": 16
        }
      ]
    },
    {
      "cell_type": "code",
      "source": [
        "#Eliminamos las columnas del dataframe principal y se deja solo la columna CodigoExterno\n",
        "#de esta forma vamos avanzando en la limpieza y reduccion de los datos de la tabla de hecho\n",
        "df.drop([\"Link\",\"Nombre\",\"Descripcion\"],axis='columns',inplace=True)\n",
        "df.shape"
      ],
      "metadata": {
        "colab": {
          "base_uri": "https://localhost:8080/"
        },
        "id": "GfA_wUrPtfzP",
        "outputId": "629305de-f08c-49f4-96c0-62eb643156eb"
      },
      "execution_count": null,
      "outputs": [
        {
          "output_type": "execute_result",
          "data": {
            "text/plain": [
              "(1478623, 102)"
            ]
          },
          "metadata": {},
          "execution_count": 17
        }
      ]
    },
    {
      "cell_type": "code",
      "source": [
        "df_dim_desc_licitaciones.dtypes"
      ],
      "metadata": {
        "colab": {
          "base_uri": "https://localhost:8080/"
        },
        "id": "p_d5y_0Szurs",
        "outputId": "4d22e417-ef67-4407-9891-c0bf49649ce4"
      },
      "execution_count": null,
      "outputs": [
        {
          "output_type": "execute_result",
          "data": {
            "text/plain": [
              "CodigoExterno    object\n",
              "Nombre           object\n",
              "Descripcion      object\n",
              "dtype: object"
            ]
          },
          "metadata": {},
          "execution_count": 18
        }
      ]
    },
    {
      "cell_type": "code",
      "source": [
        "# Iteramos a través de las columnas y aplicamos la función a las columnas de tipo 'object'\n",
        "for columna in df_dim_desc_licitaciones.select_dtypes(include=['object']):\n",
        "    print(columna)\n",
        "    df_dim_desc_licitaciones[columna] = df_dim_desc_licitaciones[columna].apply(normalize_text)"
      ],
      "metadata": {
        "colab": {
          "base_uri": "https://localhost:8080/"
        },
        "id": "ZMMQWgitzpl1",
        "outputId": "d8cab051-1a0c-44c7-f7da-e38edf10fba9"
      },
      "execution_count": null,
      "outputs": [
        {
          "output_type": "stream",
          "name": "stdout",
          "text": [
            "CodigoExterno\n",
            "Nombre\n",
            "Descripcion\n"
          ]
        }
      ]
    },
    {
      "cell_type": "code",
      "source": [
        "# Guardar la tabla dinamica en la carpeta de tablas\n",
        "df_dim_desc_licitaciones.to_csv(directorio_tablas_dinamicas + \"/dim_desc_licitaciones.csv\", index=False)"
      ],
      "metadata": {
        "id": "kHmCGCIq0JS3"
      },
      "execution_count": null,
      "outputs": []
    },
    {
      "cell_type": "markdown",
      "source": [
        "#### 2. Tabla **dim_tipo_de_adquisicion** *(id_tipo, Tipo de Adquisicion)*"
      ],
      "metadata": {
        "id": "TDhjpTY4ofpE"
      }
    },
    {
      "cell_type": "code",
      "source": [
        "#validamos cantidad de valores nulos en el campo objetivo\n",
        "cant_nulos = df['Tipo de Adquisicion'].isnull().sum()\n",
        "cant_nulos"
      ],
      "metadata": {
        "colab": {
          "base_uri": "https://localhost:8080/"
        },
        "id": "fZUJTx86tzgQ",
        "outputId": "1025d3e0-8510-477b-9872-df8238c57ea8"
      },
      "execution_count": null,
      "outputs": [
        {
          "output_type": "execute_result",
          "data": {
            "text/plain": [
              "0"
            ]
          },
          "metadata": {},
          "execution_count": 21
        }
      ]
    },
    {
      "cell_type": "code",
      "source": [
        "# Obtener valores únicos y eliminar duplicados\n",
        "unicos_adquisicion = df['Tipo de Adquisicion'].unique()\n",
        "\n",
        "# Crear un nuevo DataFrame con dos columnas \"id\" y \"valor_unico\"\n",
        "df_dim_tipo_adquisicion = pd.DataFrame({'id_tipo': range(1, len(unicos_adquisicion) + 1),\n",
        "                         'TipoAdquisicion': unicos_adquisicion})\n",
        "\n",
        "df_dim_tipo_adquisicion.head(5)"
      ],
      "metadata": {
        "colab": {
          "base_uri": "https://localhost:8080/",
          "height": 206
        },
        "id": "7KKYfSeFnRMy",
        "outputId": "02991899-7f7e-4c05-9ea0-b9e38a4076e7"
      },
      "execution_count": null,
      "outputs": [
        {
          "output_type": "execute_result",
          "data": {
            "text/plain": [
              "   id_tipo                                  TipoAdquisicion\n",
              "0        1             Licitación Pública Mayor a 5000 (LR)\n",
              "1        2     Licitación Pública Entre 100 y 1000 UTM (LE)\n",
              "2        3  Licitación Pública entre a 2000 y 5000 UTM (LQ)\n",
              "3        4           Licitación Pública Mayor 1000 UTM (LP)\n",
              "4        5          Licitación Pública Menor a 100 UTM (L1)"
            ],
            "text/html": [
              "\n",
              "  <div id=\"df-a2c6b3bb-7fa4-43d1-b422-287727e1c938\" class=\"colab-df-container\">\n",
              "    <div>\n",
              "<style scoped>\n",
              "    .dataframe tbody tr th:only-of-type {\n",
              "        vertical-align: middle;\n",
              "    }\n",
              "\n",
              "    .dataframe tbody tr th {\n",
              "        vertical-align: top;\n",
              "    }\n",
              "\n",
              "    .dataframe thead th {\n",
              "        text-align: right;\n",
              "    }\n",
              "</style>\n",
              "<table border=\"1\" class=\"dataframe\">\n",
              "  <thead>\n",
              "    <tr style=\"text-align: right;\">\n",
              "      <th></th>\n",
              "      <th>id_tipo</th>\n",
              "      <th>TipoAdquisicion</th>\n",
              "    </tr>\n",
              "  </thead>\n",
              "  <tbody>\n",
              "    <tr>\n",
              "      <th>0</th>\n",
              "      <td>1</td>\n",
              "      <td>Licitación Pública Mayor a 5000 (LR)</td>\n",
              "    </tr>\n",
              "    <tr>\n",
              "      <th>1</th>\n",
              "      <td>2</td>\n",
              "      <td>Licitación Pública Entre 100 y 1000 UTM (LE)</td>\n",
              "    </tr>\n",
              "    <tr>\n",
              "      <th>2</th>\n",
              "      <td>3</td>\n",
              "      <td>Licitación Pública entre a 2000 y 5000 UTM (LQ)</td>\n",
              "    </tr>\n",
              "    <tr>\n",
              "      <th>3</th>\n",
              "      <td>4</td>\n",
              "      <td>Licitación Pública Mayor 1000 UTM (LP)</td>\n",
              "    </tr>\n",
              "    <tr>\n",
              "      <th>4</th>\n",
              "      <td>5</td>\n",
              "      <td>Licitación Pública Menor a 100 UTM (L1)</td>\n",
              "    </tr>\n",
              "  </tbody>\n",
              "</table>\n",
              "</div>\n",
              "    <div class=\"colab-df-buttons\">\n",
              "\n",
              "  <div class=\"colab-df-container\">\n",
              "    <button class=\"colab-df-convert\" onclick=\"convertToInteractive('df-a2c6b3bb-7fa4-43d1-b422-287727e1c938')\"\n",
              "            title=\"Convert this dataframe to an interactive table.\"\n",
              "            style=\"display:none;\">\n",
              "\n",
              "  <svg xmlns=\"http://www.w3.org/2000/svg\" height=\"24px\" viewBox=\"0 -960 960 960\">\n",
              "    <path d=\"M120-120v-720h720v720H120Zm60-500h600v-160H180v160Zm220 220h160v-160H400v160Zm0 220h160v-160H400v160ZM180-400h160v-160H180v160Zm440 0h160v-160H620v160ZM180-180h160v-160H180v160Zm440 0h160v-160H620v160Z\"/>\n",
              "  </svg>\n",
              "    </button>\n",
              "\n",
              "  <style>\n",
              "    .colab-df-container {\n",
              "      display:flex;\n",
              "      gap: 12px;\n",
              "    }\n",
              "\n",
              "    .colab-df-convert {\n",
              "      background-color: #E8F0FE;\n",
              "      border: none;\n",
              "      border-radius: 50%;\n",
              "      cursor: pointer;\n",
              "      display: none;\n",
              "      fill: #1967D2;\n",
              "      height: 32px;\n",
              "      padding: 0 0 0 0;\n",
              "      width: 32px;\n",
              "    }\n",
              "\n",
              "    .colab-df-convert:hover {\n",
              "      background-color: #E2EBFA;\n",
              "      box-shadow: 0px 1px 2px rgba(60, 64, 67, 0.3), 0px 1px 3px 1px rgba(60, 64, 67, 0.15);\n",
              "      fill: #174EA6;\n",
              "    }\n",
              "\n",
              "    .colab-df-buttons div {\n",
              "      margin-bottom: 4px;\n",
              "    }\n",
              "\n",
              "    [theme=dark] .colab-df-convert {\n",
              "      background-color: #3B4455;\n",
              "      fill: #D2E3FC;\n",
              "    }\n",
              "\n",
              "    [theme=dark] .colab-df-convert:hover {\n",
              "      background-color: #434B5C;\n",
              "      box-shadow: 0px 1px 3px 1px rgba(0, 0, 0, 0.15);\n",
              "      filter: drop-shadow(0px 1px 2px rgba(0, 0, 0, 0.3));\n",
              "      fill: #FFFFFF;\n",
              "    }\n",
              "  </style>\n",
              "\n",
              "    <script>\n",
              "      const buttonEl =\n",
              "        document.querySelector('#df-a2c6b3bb-7fa4-43d1-b422-287727e1c938 button.colab-df-convert');\n",
              "      buttonEl.style.display =\n",
              "        google.colab.kernel.accessAllowed ? 'block' : 'none';\n",
              "\n",
              "      async function convertToInteractive(key) {\n",
              "        const element = document.querySelector('#df-a2c6b3bb-7fa4-43d1-b422-287727e1c938');\n",
              "        const dataTable =\n",
              "          await google.colab.kernel.invokeFunction('convertToInteractive',\n",
              "                                                    [key], {});\n",
              "        if (!dataTable) return;\n",
              "\n",
              "        const docLinkHtml = 'Like what you see? Visit the ' +\n",
              "          '<a target=\"_blank\" href=https://colab.research.google.com/notebooks/data_table.ipynb>data table notebook</a>'\n",
              "          + ' to learn more about interactive tables.';\n",
              "        element.innerHTML = '';\n",
              "        dataTable['output_type'] = 'display_data';\n",
              "        await google.colab.output.renderOutput(dataTable, element);\n",
              "        const docLink = document.createElement('div');\n",
              "        docLink.innerHTML = docLinkHtml;\n",
              "        element.appendChild(docLink);\n",
              "      }\n",
              "    </script>\n",
              "  </div>\n",
              "\n",
              "\n",
              "<div id=\"df-4677b9a3-5e69-460b-90d1-8602def679e9\">\n",
              "  <button class=\"colab-df-quickchart\" onclick=\"quickchart('df-4677b9a3-5e69-460b-90d1-8602def679e9')\"\n",
              "            title=\"Suggest charts.\"\n",
              "            style=\"display:none;\">\n",
              "\n",
              "<svg xmlns=\"http://www.w3.org/2000/svg\" height=\"24px\"viewBox=\"0 0 24 24\"\n",
              "     width=\"24px\">\n",
              "    <g>\n",
              "        <path d=\"M19 3H5c-1.1 0-2 .9-2 2v14c0 1.1.9 2 2 2h14c1.1 0 2-.9 2-2V5c0-1.1-.9-2-2-2zM9 17H7v-7h2v7zm4 0h-2V7h2v10zm4 0h-2v-4h2v4z\"/>\n",
              "    </g>\n",
              "</svg>\n",
              "  </button>\n",
              "\n",
              "<style>\n",
              "  .colab-df-quickchart {\n",
              "      --bg-color: #E8F0FE;\n",
              "      --fill-color: #1967D2;\n",
              "      --hover-bg-color: #E2EBFA;\n",
              "      --hover-fill-color: #174EA6;\n",
              "      --disabled-fill-color: #AAA;\n",
              "      --disabled-bg-color: #DDD;\n",
              "  }\n",
              "\n",
              "  [theme=dark] .colab-df-quickchart {\n",
              "      --bg-color: #3B4455;\n",
              "      --fill-color: #D2E3FC;\n",
              "      --hover-bg-color: #434B5C;\n",
              "      --hover-fill-color: #FFFFFF;\n",
              "      --disabled-bg-color: #3B4455;\n",
              "      --disabled-fill-color: #666;\n",
              "  }\n",
              "\n",
              "  .colab-df-quickchart {\n",
              "    background-color: var(--bg-color);\n",
              "    border: none;\n",
              "    border-radius: 50%;\n",
              "    cursor: pointer;\n",
              "    display: none;\n",
              "    fill: var(--fill-color);\n",
              "    height: 32px;\n",
              "    padding: 0;\n",
              "    width: 32px;\n",
              "  }\n",
              "\n",
              "  .colab-df-quickchart:hover {\n",
              "    background-color: var(--hover-bg-color);\n",
              "    box-shadow: 0 1px 2px rgba(60, 64, 67, 0.3), 0 1px 3px 1px rgba(60, 64, 67, 0.15);\n",
              "    fill: var(--button-hover-fill-color);\n",
              "  }\n",
              "\n",
              "  .colab-df-quickchart-complete:disabled,\n",
              "  .colab-df-quickchart-complete:disabled:hover {\n",
              "    background-color: var(--disabled-bg-color);\n",
              "    fill: var(--disabled-fill-color);\n",
              "    box-shadow: none;\n",
              "  }\n",
              "\n",
              "  .colab-df-spinner {\n",
              "    border: 2px solid var(--fill-color);\n",
              "    border-color: transparent;\n",
              "    border-bottom-color: var(--fill-color);\n",
              "    animation:\n",
              "      spin 1s steps(1) infinite;\n",
              "  }\n",
              "\n",
              "  @keyframes spin {\n",
              "    0% {\n",
              "      border-color: transparent;\n",
              "      border-bottom-color: var(--fill-color);\n",
              "      border-left-color: var(--fill-color);\n",
              "    }\n",
              "    20% {\n",
              "      border-color: transparent;\n",
              "      border-left-color: var(--fill-color);\n",
              "      border-top-color: var(--fill-color);\n",
              "    }\n",
              "    30% {\n",
              "      border-color: transparent;\n",
              "      border-left-color: var(--fill-color);\n",
              "      border-top-color: var(--fill-color);\n",
              "      border-right-color: var(--fill-color);\n",
              "    }\n",
              "    40% {\n",
              "      border-color: transparent;\n",
              "      border-right-color: var(--fill-color);\n",
              "      border-top-color: var(--fill-color);\n",
              "    }\n",
              "    60% {\n",
              "      border-color: transparent;\n",
              "      border-right-color: var(--fill-color);\n",
              "    }\n",
              "    80% {\n",
              "      border-color: transparent;\n",
              "      border-right-color: var(--fill-color);\n",
              "      border-bottom-color: var(--fill-color);\n",
              "    }\n",
              "    90% {\n",
              "      border-color: transparent;\n",
              "      border-bottom-color: var(--fill-color);\n",
              "    }\n",
              "  }\n",
              "</style>\n",
              "\n",
              "  <script>\n",
              "    async function quickchart(key) {\n",
              "      const quickchartButtonEl =\n",
              "        document.querySelector('#' + key + ' button');\n",
              "      quickchartButtonEl.disabled = true;  // To prevent multiple clicks.\n",
              "      quickchartButtonEl.classList.add('colab-df-spinner');\n",
              "      try {\n",
              "        const charts = await google.colab.kernel.invokeFunction(\n",
              "            'suggestCharts', [key], {});\n",
              "      } catch (error) {\n",
              "        console.error('Error during call to suggestCharts:', error);\n",
              "      }\n",
              "      quickchartButtonEl.classList.remove('colab-df-spinner');\n",
              "      quickchartButtonEl.classList.add('colab-df-quickchart-complete');\n",
              "    }\n",
              "    (() => {\n",
              "      let quickchartButtonEl =\n",
              "        document.querySelector('#df-4677b9a3-5e69-460b-90d1-8602def679e9 button');\n",
              "      quickchartButtonEl.style.display =\n",
              "        google.colab.kernel.accessAllowed ? 'block' : 'none';\n",
              "    })();\n",
              "  </script>\n",
              "</div>\n",
              "    </div>\n",
              "  </div>\n"
            ]
          },
          "metadata": {},
          "execution_count": 22
        }
      ]
    },
    {
      "cell_type": "code",
      "source": [
        "df_dim_tipo_adquisicion.shape"
      ],
      "metadata": {
        "colab": {
          "base_uri": "https://localhost:8080/"
        },
        "id": "sRClixHMvC46",
        "outputId": "1e7fb966-55f8-4f88-fea4-cc4823643390"
      },
      "execution_count": null,
      "outputs": [
        {
          "output_type": "execute_result",
          "data": {
            "text/plain": [
              "(13, 2)"
            ]
          },
          "metadata": {},
          "execution_count": 23
        }
      ]
    },
    {
      "cell_type": "code",
      "source": [
        "#reemplazamos los valores de la columna Tipo de Adquisicion de la tabla principal por los IDs de los valores unicos\n",
        "df['Tipo de Adquisicion'] = df['Tipo de Adquisicion'].replace(df_dim_tipo_adquisicion.set_index('TipoAdquisicion')['id_tipo'])\n",
        "\n",
        "#Se renombra el titulo de la columna para mejor comprension del cambio\n",
        "df.rename(columns={'Tipo de Adquisicion': 'id_tipo'}, inplace=True)\n",
        "\n",
        "#Seteamos a entero el campo\n",
        "df['id_tipo'] = df['id_tipo'].astype(int)\n",
        "\n",
        "df.shape\n"
      ],
      "metadata": {
        "colab": {
          "base_uri": "https://localhost:8080/"
        },
        "id": "nXCcvIW4vAPn",
        "outputId": "3c939950-0e49-429e-f13d-fe470fe43737"
      },
      "execution_count": null,
      "outputs": [
        {
          "output_type": "execute_result",
          "data": {
            "text/plain": [
              "(1478623, 102)"
            ]
          },
          "metadata": {},
          "execution_count": 24
        }
      ]
    },
    {
      "cell_type": "code",
      "source": [
        "df_dim_tipo_adquisicion.dtypes"
      ],
      "metadata": {
        "colab": {
          "base_uri": "https://localhost:8080/"
        },
        "id": "lhcOigpf0vLA",
        "outputId": "5d6d5617-44a1-460d-edbc-a3ace2befe02"
      },
      "execution_count": null,
      "outputs": [
        {
          "output_type": "execute_result",
          "data": {
            "text/plain": [
              "id_tipo             int64\n",
              "TipoAdquisicion    object\n",
              "dtype: object"
            ]
          },
          "metadata": {},
          "execution_count": 25
        }
      ]
    },
    {
      "cell_type": "code",
      "source": [
        "# Iteramos a través de las columnas y aplicamos la función a las columnas de tipo 'object'\n",
        "for columna in df_dim_tipo_adquisicion.select_dtypes(include=['object']):\n",
        "    print(columna)\n",
        "    df_dim_tipo_adquisicion[columna] = df_dim_tipo_adquisicion[columna].apply(normalize_text)"
      ],
      "metadata": {
        "colab": {
          "base_uri": "https://localhost:8080/"
        },
        "id": "89iDMkQ-2y8P",
        "outputId": "3fc719d9-e1aa-4b40-de9f-4ad750ca5a88"
      },
      "execution_count": null,
      "outputs": [
        {
          "output_type": "stream",
          "name": "stdout",
          "text": [
            "TipoAdquisicion\n"
          ]
        }
      ]
    },
    {
      "cell_type": "code",
      "source": [
        "# Guardar la tabla dinamica en la carpeta de tablas\n",
        "df_dim_tipo_adquisicion.to_csv(directorio_tablas_dinamicas + \"/dim_tipo_adquisicion.csv\", index=False)"
      ],
      "metadata": {
        "id": "mGmPxB0b00Ke"
      },
      "execution_count": null,
      "outputs": []
    },
    {
      "cell_type": "markdown",
      "source": [
        "#### 3. Tabla **dim_estados** *(CodigoEstado, Estado)*"
      ],
      "metadata": {
        "id": "NoWWyTCaz9kS"
      }
    },
    {
      "cell_type": "code",
      "source": [
        "#aun no tenemos datos"
      ],
      "metadata": {
        "id": "1eGSGQqg8_lI"
      },
      "execution_count": null,
      "outputs": []
    },
    {
      "cell_type": "markdown",
      "source": [
        "#### 4. Tabla **dim_sector_organismo** *(id_sector, sector)*"
      ],
      "metadata": {
        "id": "wEn28cWuyLUj"
      }
    },
    {
      "cell_type": "code",
      "source": [
        "#validamos cantidad de valores nulos en el campo objetivo\n",
        "cant_nulos = df['sector'].isnull().sum()\n",
        "cant_nulos"
      ],
      "metadata": {
        "colab": {
          "base_uri": "https://localhost:8080/"
        },
        "id": "20eena3JumWd",
        "outputId": "22dccabb-9068-4f0d-8af0-6d0b71af203b"
      },
      "execution_count": null,
      "outputs": [
        {
          "output_type": "execute_result",
          "data": {
            "text/plain": [
              "293"
            ]
          },
          "metadata": {},
          "execution_count": 29
        }
      ]
    },
    {
      "cell_type": "code",
      "source": [
        "df.shape"
      ],
      "metadata": {
        "colab": {
          "base_uri": "https://localhost:8080/"
        },
        "id": "6svmxaP9vMCM",
        "outputId": "51ccd2de-34c4-4d11-e848-4da4afd1575e"
      },
      "execution_count": null,
      "outputs": [
        {
          "output_type": "execute_result",
          "data": {
            "text/plain": [
              "(1478623, 102)"
            ]
          },
          "metadata": {},
          "execution_count": 30
        }
      ]
    },
    {
      "cell_type": "code",
      "source": [
        "# Eliminar registros donde sector tenga valores vacíos\n",
        "df = df.dropna(subset=['sector'])"
      ],
      "metadata": {
        "id": "yjx81bSfu8Pq"
      },
      "execution_count": null,
      "outputs": []
    },
    {
      "cell_type": "code",
      "source": [
        "df.shape"
      ],
      "metadata": {
        "colab": {
          "base_uri": "https://localhost:8080/"
        },
        "id": "vtjCysncvF5T",
        "outputId": "490eae86-d51e-4b0f-83af-5d7b4a6b1a27"
      },
      "execution_count": null,
      "outputs": [
        {
          "output_type": "execute_result",
          "data": {
            "text/plain": [
              "(1478330, 102)"
            ]
          },
          "metadata": {},
          "execution_count": 32
        }
      ]
    },
    {
      "cell_type": "code",
      "source": [
        "# Obtener valores únicos y eliminar duplicados\n",
        "unicos_sector = df['sector'].unique()\n",
        "# Crear un nuevo DataFrame con dos columnas \"id_sector\" y \"sector\"\n",
        "df_dim_sector_organismo = pd.DataFrame({'id_sector': range(1, len(unicos_sector) + 1),\n",
        "                         'sector': unicos_sector})\n",
        "\n",
        "df_dim_sector_organismo.head(5)"
      ],
      "metadata": {
        "colab": {
          "base_uri": "https://localhost:8080/",
          "height": 206
        },
        "id": "vTw_KnRRyKWd",
        "outputId": "44156755-49af-41fd-d7ef-b7bf07890a67"
      },
      "execution_count": null,
      "outputs": [
        {
          "output_type": "execute_result",
          "data": {
            "text/plain": [
              "   id_sector                       sector\n",
              "0          1                        Salud\n",
              "1          2              Municipalidades\n",
              "2          3               Obras Públicas\n",
              "3          4  Gob. Central, Universidades\n",
              "4          5                         FFAA"
            ],
            "text/html": [
              "\n",
              "  <div id=\"df-bb378b7d-ff07-4416-b169-56a562a47726\" class=\"colab-df-container\">\n",
              "    <div>\n",
              "<style scoped>\n",
              "    .dataframe tbody tr th:only-of-type {\n",
              "        vertical-align: middle;\n",
              "    }\n",
              "\n",
              "    .dataframe tbody tr th {\n",
              "        vertical-align: top;\n",
              "    }\n",
              "\n",
              "    .dataframe thead th {\n",
              "        text-align: right;\n",
              "    }\n",
              "</style>\n",
              "<table border=\"1\" class=\"dataframe\">\n",
              "  <thead>\n",
              "    <tr style=\"text-align: right;\">\n",
              "      <th></th>\n",
              "      <th>id_sector</th>\n",
              "      <th>sector</th>\n",
              "    </tr>\n",
              "  </thead>\n",
              "  <tbody>\n",
              "    <tr>\n",
              "      <th>0</th>\n",
              "      <td>1</td>\n",
              "      <td>Salud</td>\n",
              "    </tr>\n",
              "    <tr>\n",
              "      <th>1</th>\n",
              "      <td>2</td>\n",
              "      <td>Municipalidades</td>\n",
              "    </tr>\n",
              "    <tr>\n",
              "      <th>2</th>\n",
              "      <td>3</td>\n",
              "      <td>Obras Públicas</td>\n",
              "    </tr>\n",
              "    <tr>\n",
              "      <th>3</th>\n",
              "      <td>4</td>\n",
              "      <td>Gob. Central, Universidades</td>\n",
              "    </tr>\n",
              "    <tr>\n",
              "      <th>4</th>\n",
              "      <td>5</td>\n",
              "      <td>FFAA</td>\n",
              "    </tr>\n",
              "  </tbody>\n",
              "</table>\n",
              "</div>\n",
              "    <div class=\"colab-df-buttons\">\n",
              "\n",
              "  <div class=\"colab-df-container\">\n",
              "    <button class=\"colab-df-convert\" onclick=\"convertToInteractive('df-bb378b7d-ff07-4416-b169-56a562a47726')\"\n",
              "            title=\"Convert this dataframe to an interactive table.\"\n",
              "            style=\"display:none;\">\n",
              "\n",
              "  <svg xmlns=\"http://www.w3.org/2000/svg\" height=\"24px\" viewBox=\"0 -960 960 960\">\n",
              "    <path d=\"M120-120v-720h720v720H120Zm60-500h600v-160H180v160Zm220 220h160v-160H400v160Zm0 220h160v-160H400v160ZM180-400h160v-160H180v160Zm440 0h160v-160H620v160ZM180-180h160v-160H180v160Zm440 0h160v-160H620v160Z\"/>\n",
              "  </svg>\n",
              "    </button>\n",
              "\n",
              "  <style>\n",
              "    .colab-df-container {\n",
              "      display:flex;\n",
              "      gap: 12px;\n",
              "    }\n",
              "\n",
              "    .colab-df-convert {\n",
              "      background-color: #E8F0FE;\n",
              "      border: none;\n",
              "      border-radius: 50%;\n",
              "      cursor: pointer;\n",
              "      display: none;\n",
              "      fill: #1967D2;\n",
              "      height: 32px;\n",
              "      padding: 0 0 0 0;\n",
              "      width: 32px;\n",
              "    }\n",
              "\n",
              "    .colab-df-convert:hover {\n",
              "      background-color: #E2EBFA;\n",
              "      box-shadow: 0px 1px 2px rgba(60, 64, 67, 0.3), 0px 1px 3px 1px rgba(60, 64, 67, 0.15);\n",
              "      fill: #174EA6;\n",
              "    }\n",
              "\n",
              "    .colab-df-buttons div {\n",
              "      margin-bottom: 4px;\n",
              "    }\n",
              "\n",
              "    [theme=dark] .colab-df-convert {\n",
              "      background-color: #3B4455;\n",
              "      fill: #D2E3FC;\n",
              "    }\n",
              "\n",
              "    [theme=dark] .colab-df-convert:hover {\n",
              "      background-color: #434B5C;\n",
              "      box-shadow: 0px 1px 3px 1px rgba(0, 0, 0, 0.15);\n",
              "      filter: drop-shadow(0px 1px 2px rgba(0, 0, 0, 0.3));\n",
              "      fill: #FFFFFF;\n",
              "    }\n",
              "  </style>\n",
              "\n",
              "    <script>\n",
              "      const buttonEl =\n",
              "        document.querySelector('#df-bb378b7d-ff07-4416-b169-56a562a47726 button.colab-df-convert');\n",
              "      buttonEl.style.display =\n",
              "        google.colab.kernel.accessAllowed ? 'block' : 'none';\n",
              "\n",
              "      async function convertToInteractive(key) {\n",
              "        const element = document.querySelector('#df-bb378b7d-ff07-4416-b169-56a562a47726');\n",
              "        const dataTable =\n",
              "          await google.colab.kernel.invokeFunction('convertToInteractive',\n",
              "                                                    [key], {});\n",
              "        if (!dataTable) return;\n",
              "\n",
              "        const docLinkHtml = 'Like what you see? Visit the ' +\n",
              "          '<a target=\"_blank\" href=https://colab.research.google.com/notebooks/data_table.ipynb>data table notebook</a>'\n",
              "          + ' to learn more about interactive tables.';\n",
              "        element.innerHTML = '';\n",
              "        dataTable['output_type'] = 'display_data';\n",
              "        await google.colab.output.renderOutput(dataTable, element);\n",
              "        const docLink = document.createElement('div');\n",
              "        docLink.innerHTML = docLinkHtml;\n",
              "        element.appendChild(docLink);\n",
              "      }\n",
              "    </script>\n",
              "  </div>\n",
              "\n",
              "\n",
              "<div id=\"df-6010e22c-8474-475a-ad4a-1c21521c7f59\">\n",
              "  <button class=\"colab-df-quickchart\" onclick=\"quickchart('df-6010e22c-8474-475a-ad4a-1c21521c7f59')\"\n",
              "            title=\"Suggest charts.\"\n",
              "            style=\"display:none;\">\n",
              "\n",
              "<svg xmlns=\"http://www.w3.org/2000/svg\" height=\"24px\"viewBox=\"0 0 24 24\"\n",
              "     width=\"24px\">\n",
              "    <g>\n",
              "        <path d=\"M19 3H5c-1.1 0-2 .9-2 2v14c0 1.1.9 2 2 2h14c1.1 0 2-.9 2-2V5c0-1.1-.9-2-2-2zM9 17H7v-7h2v7zm4 0h-2V7h2v10zm4 0h-2v-4h2v4z\"/>\n",
              "    </g>\n",
              "</svg>\n",
              "  </button>\n",
              "\n",
              "<style>\n",
              "  .colab-df-quickchart {\n",
              "      --bg-color: #E8F0FE;\n",
              "      --fill-color: #1967D2;\n",
              "      --hover-bg-color: #E2EBFA;\n",
              "      --hover-fill-color: #174EA6;\n",
              "      --disabled-fill-color: #AAA;\n",
              "      --disabled-bg-color: #DDD;\n",
              "  }\n",
              "\n",
              "  [theme=dark] .colab-df-quickchart {\n",
              "      --bg-color: #3B4455;\n",
              "      --fill-color: #D2E3FC;\n",
              "      --hover-bg-color: #434B5C;\n",
              "      --hover-fill-color: #FFFFFF;\n",
              "      --disabled-bg-color: #3B4455;\n",
              "      --disabled-fill-color: #666;\n",
              "  }\n",
              "\n",
              "  .colab-df-quickchart {\n",
              "    background-color: var(--bg-color);\n",
              "    border: none;\n",
              "    border-radius: 50%;\n",
              "    cursor: pointer;\n",
              "    display: none;\n",
              "    fill: var(--fill-color);\n",
              "    height: 32px;\n",
              "    padding: 0;\n",
              "    width: 32px;\n",
              "  }\n",
              "\n",
              "  .colab-df-quickchart:hover {\n",
              "    background-color: var(--hover-bg-color);\n",
              "    box-shadow: 0 1px 2px rgba(60, 64, 67, 0.3), 0 1px 3px 1px rgba(60, 64, 67, 0.15);\n",
              "    fill: var(--button-hover-fill-color);\n",
              "  }\n",
              "\n",
              "  .colab-df-quickchart-complete:disabled,\n",
              "  .colab-df-quickchart-complete:disabled:hover {\n",
              "    background-color: var(--disabled-bg-color);\n",
              "    fill: var(--disabled-fill-color);\n",
              "    box-shadow: none;\n",
              "  }\n",
              "\n",
              "  .colab-df-spinner {\n",
              "    border: 2px solid var(--fill-color);\n",
              "    border-color: transparent;\n",
              "    border-bottom-color: var(--fill-color);\n",
              "    animation:\n",
              "      spin 1s steps(1) infinite;\n",
              "  }\n",
              "\n",
              "  @keyframes spin {\n",
              "    0% {\n",
              "      border-color: transparent;\n",
              "      border-bottom-color: var(--fill-color);\n",
              "      border-left-color: var(--fill-color);\n",
              "    }\n",
              "    20% {\n",
              "      border-color: transparent;\n",
              "      border-left-color: var(--fill-color);\n",
              "      border-top-color: var(--fill-color);\n",
              "    }\n",
              "    30% {\n",
              "      border-color: transparent;\n",
              "      border-left-color: var(--fill-color);\n",
              "      border-top-color: var(--fill-color);\n",
              "      border-right-color: var(--fill-color);\n",
              "    }\n",
              "    40% {\n",
              "      border-color: transparent;\n",
              "      border-right-color: var(--fill-color);\n",
              "      border-top-color: var(--fill-color);\n",
              "    }\n",
              "    60% {\n",
              "      border-color: transparent;\n",
              "      border-right-color: var(--fill-color);\n",
              "    }\n",
              "    80% {\n",
              "      border-color: transparent;\n",
              "      border-right-color: var(--fill-color);\n",
              "      border-bottom-color: var(--fill-color);\n",
              "    }\n",
              "    90% {\n",
              "      border-color: transparent;\n",
              "      border-bottom-color: var(--fill-color);\n",
              "    }\n",
              "  }\n",
              "</style>\n",
              "\n",
              "  <script>\n",
              "    async function quickchart(key) {\n",
              "      const quickchartButtonEl =\n",
              "        document.querySelector('#' + key + ' button');\n",
              "      quickchartButtonEl.disabled = true;  // To prevent multiple clicks.\n",
              "      quickchartButtonEl.classList.add('colab-df-spinner');\n",
              "      try {\n",
              "        const charts = await google.colab.kernel.invokeFunction(\n",
              "            'suggestCharts', [key], {});\n",
              "      } catch (error) {\n",
              "        console.error('Error during call to suggestCharts:', error);\n",
              "      }\n",
              "      quickchartButtonEl.classList.remove('colab-df-spinner');\n",
              "      quickchartButtonEl.classList.add('colab-df-quickchart-complete');\n",
              "    }\n",
              "    (() => {\n",
              "      let quickchartButtonEl =\n",
              "        document.querySelector('#df-6010e22c-8474-475a-ad4a-1c21521c7f59 button');\n",
              "      quickchartButtonEl.style.display =\n",
              "        google.colab.kernel.accessAllowed ? 'block' : 'none';\n",
              "    })();\n",
              "  </script>\n",
              "</div>\n",
              "    </div>\n",
              "  </div>\n"
            ]
          },
          "metadata": {},
          "execution_count": 33
        }
      ]
    },
    {
      "cell_type": "code",
      "source": [
        "df_dim_sector_organismo.shape"
      ],
      "metadata": {
        "colab": {
          "base_uri": "https://localhost:8080/"
        },
        "id": "3qhuGOPUZXCO",
        "outputId": "a2be9c19-3fbe-466b-df5a-6f5739979724"
      },
      "execution_count": null,
      "outputs": [
        {
          "output_type": "execute_result",
          "data": {
            "text/plain": [
              "(7, 2)"
            ]
          },
          "metadata": {},
          "execution_count": 34
        }
      ]
    },
    {
      "cell_type": "code",
      "source": [
        "#reemplazamos los valores de la columna sector de la tabla principal por los IDs de los valores unicos\n",
        "df['sector'] = df['sector'].replace(df_dim_sector_organismo.set_index('sector')['id_sector'])\n",
        "#Se renombra el titulo de la columna para mejor comprension del cambio\n",
        "df.rename(columns={'sector': 'id_sector'}, inplace=True)\n",
        "#Seteamos a entero el campo\n",
        "df['id_sector'] = df['id_sector'].astype(int)\n",
        "df.shape"
      ],
      "metadata": {
        "colab": {
          "base_uri": "https://localhost:8080/"
        },
        "id": "VmENldXxZhBk",
        "outputId": "19cf2511-6fe2-4e14-90df-4061b8983d07"
      },
      "execution_count": null,
      "outputs": [
        {
          "output_type": "execute_result",
          "data": {
            "text/plain": [
              "(1478330, 102)"
            ]
          },
          "metadata": {},
          "execution_count": 35
        }
      ]
    },
    {
      "cell_type": "code",
      "source": [
        "df_dim_sector_organismo.dtypes"
      ],
      "metadata": {
        "colab": {
          "base_uri": "https://localhost:8080/"
        },
        "id": "JwhMLpVp3hDQ",
        "outputId": "8b3b894c-4141-4579-82e2-4ed491ba0d9c"
      },
      "execution_count": null,
      "outputs": [
        {
          "output_type": "execute_result",
          "data": {
            "text/plain": [
              "id_sector     int64\n",
              "sector       object\n",
              "dtype: object"
            ]
          },
          "metadata": {},
          "execution_count": 36
        }
      ]
    },
    {
      "cell_type": "code",
      "source": [
        "# Iteramos a través de las columnas y aplicamos la función a las columnas de tipo 'object'\n",
        "for columna in df_dim_sector_organismo.select_dtypes(include=['object']):\n",
        "    print(columna)\n",
        "    df_dim_sector_organismo[columna] = df_dim_sector_organismo[columna].apply(normalize_text)"
      ],
      "metadata": {
        "colab": {
          "base_uri": "https://localhost:8080/"
        },
        "id": "8-F_O2Xt3kxo",
        "outputId": "c444bdf9-8b86-481c-e1fb-2752f0c7e16b"
      },
      "execution_count": null,
      "outputs": [
        {
          "output_type": "stream",
          "name": "stdout",
          "text": [
            "sector\n"
          ]
        }
      ]
    },
    {
      "cell_type": "code",
      "source": [
        "# Guardar la tabla dinamica en la carpeta de tablas\n",
        "df_dim_sector_organismo.to_csv(directorio_tablas_dinamicas + \"/dim_sector_organismo.csv\", index=False)"
      ],
      "metadata": {
        "id": "ojGmU4O13mD-"
      },
      "execution_count": null,
      "outputs": []
    },
    {
      "cell_type": "markdown",
      "source": [
        "#### 5. Tabla **dim_organismo** *(CodigoOrganismo, NombreOrganismo, RutUnidad, id_sector)*"
      ],
      "metadata": {
        "id": "MB5MHtKWa12i"
      }
    },
    {
      "cell_type": "code",
      "source": [
        "#validamos cantidad de valores nulos en el campo objetivo\n",
        "cant_nulos = df['CodigoOrganismo'].isnull().sum()\n",
        "cant_nulos"
      ],
      "metadata": {
        "colab": {
          "base_uri": "https://localhost:8080/"
        },
        "id": "7gF-vca4v62s",
        "outputId": "21a75ed8-4806-4e72-8cc4-9f99bb669d92"
      },
      "execution_count": null,
      "outputs": [
        {
          "output_type": "execute_result",
          "data": {
            "text/plain": [
              "0"
            ]
          },
          "metadata": {},
          "execution_count": 39
        }
      ]
    },
    {
      "cell_type": "code",
      "source": [
        "df['CodigoOrganismo'] = df['CodigoOrganismo'].astype(int)\n",
        "# Crear un nuevo DataFrame con valores únicos\n",
        "df_dim_organismos = df[['CodigoOrganismo', 'NombreOrganismo', 'RutUnidad','id_sector']].drop_duplicates()\n",
        "df_dim_organismos.head(5)"
      ],
      "metadata": {
        "colab": {
          "base_uri": "https://localhost:8080/",
          "height": 206
        },
        "id": "BV36IVbCwqhl",
        "outputId": "b60b1941-9ff6-44bc-c604-7453e43bfbd0"
      },
      "execution_count": null,
      "outputs": [
        {
          "output_type": "execute_result",
          "data": {
            "text/plain": [
              "     CodigoOrganismo                                    NombreOrganismo  \\\n",
              "0               6976                           SERVICIO DE SALUD ARAUCO   \n",
              "2               7324           HOSPITAL GUILLERMO GRANT BENAVENTE DE CO   \n",
              "150           100488                     I MUNICIPALIDAD DE LA CISTERNA   \n",
              "154             7460  HOSPITAL DE URGENCIA ASISTENCIA PUBLICA DR ALE...   \n",
              "163             7345            SERVICIO DE SALUD VINA DEL MAR QUILLOTA   \n",
              "\n",
              "        RutUnidad  id_sector  \n",
              "0    61.954.500-1          1  \n",
              "2    61.602.189-3          1  \n",
              "150  69.072.000-0          2  \n",
              "154  61.608.602-2          1  \n",
              "163  61.606.608-0          1  "
            ],
            "text/html": [
              "\n",
              "  <div id=\"df-0873657e-fac6-4ca2-a532-4cf74fcd7f41\" class=\"colab-df-container\">\n",
              "    <div>\n",
              "<style scoped>\n",
              "    .dataframe tbody tr th:only-of-type {\n",
              "        vertical-align: middle;\n",
              "    }\n",
              "\n",
              "    .dataframe tbody tr th {\n",
              "        vertical-align: top;\n",
              "    }\n",
              "\n",
              "    .dataframe thead th {\n",
              "        text-align: right;\n",
              "    }\n",
              "</style>\n",
              "<table border=\"1\" class=\"dataframe\">\n",
              "  <thead>\n",
              "    <tr style=\"text-align: right;\">\n",
              "      <th></th>\n",
              "      <th>CodigoOrganismo</th>\n",
              "      <th>NombreOrganismo</th>\n",
              "      <th>RutUnidad</th>\n",
              "      <th>id_sector</th>\n",
              "    </tr>\n",
              "  </thead>\n",
              "  <tbody>\n",
              "    <tr>\n",
              "      <th>0</th>\n",
              "      <td>6976</td>\n",
              "      <td>SERVICIO DE SALUD ARAUCO</td>\n",
              "      <td>61.954.500-1</td>\n",
              "      <td>1</td>\n",
              "    </tr>\n",
              "    <tr>\n",
              "      <th>2</th>\n",
              "      <td>7324</td>\n",
              "      <td>HOSPITAL GUILLERMO GRANT BENAVENTE DE CO</td>\n",
              "      <td>61.602.189-3</td>\n",
              "      <td>1</td>\n",
              "    </tr>\n",
              "    <tr>\n",
              "      <th>150</th>\n",
              "      <td>100488</td>\n",
              "      <td>I MUNICIPALIDAD DE LA CISTERNA</td>\n",
              "      <td>69.072.000-0</td>\n",
              "      <td>2</td>\n",
              "    </tr>\n",
              "    <tr>\n",
              "      <th>154</th>\n",
              "      <td>7460</td>\n",
              "      <td>HOSPITAL DE URGENCIA ASISTENCIA PUBLICA DR ALE...</td>\n",
              "      <td>61.608.602-2</td>\n",
              "      <td>1</td>\n",
              "    </tr>\n",
              "    <tr>\n",
              "      <th>163</th>\n",
              "      <td>7345</td>\n",
              "      <td>SERVICIO DE SALUD VINA DEL MAR QUILLOTA</td>\n",
              "      <td>61.606.608-0</td>\n",
              "      <td>1</td>\n",
              "    </tr>\n",
              "  </tbody>\n",
              "</table>\n",
              "</div>\n",
              "    <div class=\"colab-df-buttons\">\n",
              "\n",
              "  <div class=\"colab-df-container\">\n",
              "    <button class=\"colab-df-convert\" onclick=\"convertToInteractive('df-0873657e-fac6-4ca2-a532-4cf74fcd7f41')\"\n",
              "            title=\"Convert this dataframe to an interactive table.\"\n",
              "            style=\"display:none;\">\n",
              "\n",
              "  <svg xmlns=\"http://www.w3.org/2000/svg\" height=\"24px\" viewBox=\"0 -960 960 960\">\n",
              "    <path d=\"M120-120v-720h720v720H120Zm60-500h600v-160H180v160Zm220 220h160v-160H400v160Zm0 220h160v-160H400v160ZM180-400h160v-160H180v160Zm440 0h160v-160H620v160ZM180-180h160v-160H180v160Zm440 0h160v-160H620v160Z\"/>\n",
              "  </svg>\n",
              "    </button>\n",
              "\n",
              "  <style>\n",
              "    .colab-df-container {\n",
              "      display:flex;\n",
              "      gap: 12px;\n",
              "    }\n",
              "\n",
              "    .colab-df-convert {\n",
              "      background-color: #E8F0FE;\n",
              "      border: none;\n",
              "      border-radius: 50%;\n",
              "      cursor: pointer;\n",
              "      display: none;\n",
              "      fill: #1967D2;\n",
              "      height: 32px;\n",
              "      padding: 0 0 0 0;\n",
              "      width: 32px;\n",
              "    }\n",
              "\n",
              "    .colab-df-convert:hover {\n",
              "      background-color: #E2EBFA;\n",
              "      box-shadow: 0px 1px 2px rgba(60, 64, 67, 0.3), 0px 1px 3px 1px rgba(60, 64, 67, 0.15);\n",
              "      fill: #174EA6;\n",
              "    }\n",
              "\n",
              "    .colab-df-buttons div {\n",
              "      margin-bottom: 4px;\n",
              "    }\n",
              "\n",
              "    [theme=dark] .colab-df-convert {\n",
              "      background-color: #3B4455;\n",
              "      fill: #D2E3FC;\n",
              "    }\n",
              "\n",
              "    [theme=dark] .colab-df-convert:hover {\n",
              "      background-color: #434B5C;\n",
              "      box-shadow: 0px 1px 3px 1px rgba(0, 0, 0, 0.15);\n",
              "      filter: drop-shadow(0px 1px 2px rgba(0, 0, 0, 0.3));\n",
              "      fill: #FFFFFF;\n",
              "    }\n",
              "  </style>\n",
              "\n",
              "    <script>\n",
              "      const buttonEl =\n",
              "        document.querySelector('#df-0873657e-fac6-4ca2-a532-4cf74fcd7f41 button.colab-df-convert');\n",
              "      buttonEl.style.display =\n",
              "        google.colab.kernel.accessAllowed ? 'block' : 'none';\n",
              "\n",
              "      async function convertToInteractive(key) {\n",
              "        const element = document.querySelector('#df-0873657e-fac6-4ca2-a532-4cf74fcd7f41');\n",
              "        const dataTable =\n",
              "          await google.colab.kernel.invokeFunction('convertToInteractive',\n",
              "                                                    [key], {});\n",
              "        if (!dataTable) return;\n",
              "\n",
              "        const docLinkHtml = 'Like what you see? Visit the ' +\n",
              "          '<a target=\"_blank\" href=https://colab.research.google.com/notebooks/data_table.ipynb>data table notebook</a>'\n",
              "          + ' to learn more about interactive tables.';\n",
              "        element.innerHTML = '';\n",
              "        dataTable['output_type'] = 'display_data';\n",
              "        await google.colab.output.renderOutput(dataTable, element);\n",
              "        const docLink = document.createElement('div');\n",
              "        docLink.innerHTML = docLinkHtml;\n",
              "        element.appendChild(docLink);\n",
              "      }\n",
              "    </script>\n",
              "  </div>\n",
              "\n",
              "\n",
              "<div id=\"df-56f60251-8d46-4ec1-aaa0-15a13cc61ce5\">\n",
              "  <button class=\"colab-df-quickchart\" onclick=\"quickchart('df-56f60251-8d46-4ec1-aaa0-15a13cc61ce5')\"\n",
              "            title=\"Suggest charts.\"\n",
              "            style=\"display:none;\">\n",
              "\n",
              "<svg xmlns=\"http://www.w3.org/2000/svg\" height=\"24px\"viewBox=\"0 0 24 24\"\n",
              "     width=\"24px\">\n",
              "    <g>\n",
              "        <path d=\"M19 3H5c-1.1 0-2 .9-2 2v14c0 1.1.9 2 2 2h14c1.1 0 2-.9 2-2V5c0-1.1-.9-2-2-2zM9 17H7v-7h2v7zm4 0h-2V7h2v10zm4 0h-2v-4h2v4z\"/>\n",
              "    </g>\n",
              "</svg>\n",
              "  </button>\n",
              "\n",
              "<style>\n",
              "  .colab-df-quickchart {\n",
              "      --bg-color: #E8F0FE;\n",
              "      --fill-color: #1967D2;\n",
              "      --hover-bg-color: #E2EBFA;\n",
              "      --hover-fill-color: #174EA6;\n",
              "      --disabled-fill-color: #AAA;\n",
              "      --disabled-bg-color: #DDD;\n",
              "  }\n",
              "\n",
              "  [theme=dark] .colab-df-quickchart {\n",
              "      --bg-color: #3B4455;\n",
              "      --fill-color: #D2E3FC;\n",
              "      --hover-bg-color: #434B5C;\n",
              "      --hover-fill-color: #FFFFFF;\n",
              "      --disabled-bg-color: #3B4455;\n",
              "      --disabled-fill-color: #666;\n",
              "  }\n",
              "\n",
              "  .colab-df-quickchart {\n",
              "    background-color: var(--bg-color);\n",
              "    border: none;\n",
              "    border-radius: 50%;\n",
              "    cursor: pointer;\n",
              "    display: none;\n",
              "    fill: var(--fill-color);\n",
              "    height: 32px;\n",
              "    padding: 0;\n",
              "    width: 32px;\n",
              "  }\n",
              "\n",
              "  .colab-df-quickchart:hover {\n",
              "    background-color: var(--hover-bg-color);\n",
              "    box-shadow: 0 1px 2px rgba(60, 64, 67, 0.3), 0 1px 3px 1px rgba(60, 64, 67, 0.15);\n",
              "    fill: var(--button-hover-fill-color);\n",
              "  }\n",
              "\n",
              "  .colab-df-quickchart-complete:disabled,\n",
              "  .colab-df-quickchart-complete:disabled:hover {\n",
              "    background-color: var(--disabled-bg-color);\n",
              "    fill: var(--disabled-fill-color);\n",
              "    box-shadow: none;\n",
              "  }\n",
              "\n",
              "  .colab-df-spinner {\n",
              "    border: 2px solid var(--fill-color);\n",
              "    border-color: transparent;\n",
              "    border-bottom-color: var(--fill-color);\n",
              "    animation:\n",
              "      spin 1s steps(1) infinite;\n",
              "  }\n",
              "\n",
              "  @keyframes spin {\n",
              "    0% {\n",
              "      border-color: transparent;\n",
              "      border-bottom-color: var(--fill-color);\n",
              "      border-left-color: var(--fill-color);\n",
              "    }\n",
              "    20% {\n",
              "      border-color: transparent;\n",
              "      border-left-color: var(--fill-color);\n",
              "      border-top-color: var(--fill-color);\n",
              "    }\n",
              "    30% {\n",
              "      border-color: transparent;\n",
              "      border-left-color: var(--fill-color);\n",
              "      border-top-color: var(--fill-color);\n",
              "      border-right-color: var(--fill-color);\n",
              "    }\n",
              "    40% {\n",
              "      border-color: transparent;\n",
              "      border-right-color: var(--fill-color);\n",
              "      border-top-color: var(--fill-color);\n",
              "    }\n",
              "    60% {\n",
              "      border-color: transparent;\n",
              "      border-right-color: var(--fill-color);\n",
              "    }\n",
              "    80% {\n",
              "      border-color: transparent;\n",
              "      border-right-color: var(--fill-color);\n",
              "      border-bottom-color: var(--fill-color);\n",
              "    }\n",
              "    90% {\n",
              "      border-color: transparent;\n",
              "      border-bottom-color: var(--fill-color);\n",
              "    }\n",
              "  }\n",
              "</style>\n",
              "\n",
              "  <script>\n",
              "    async function quickchart(key) {\n",
              "      const quickchartButtonEl =\n",
              "        document.querySelector('#' + key + ' button');\n",
              "      quickchartButtonEl.disabled = true;  // To prevent multiple clicks.\n",
              "      quickchartButtonEl.classList.add('colab-df-spinner');\n",
              "      try {\n",
              "        const charts = await google.colab.kernel.invokeFunction(\n",
              "            'suggestCharts', [key], {});\n",
              "      } catch (error) {\n",
              "        console.error('Error during call to suggestCharts:', error);\n",
              "      }\n",
              "      quickchartButtonEl.classList.remove('colab-df-spinner');\n",
              "      quickchartButtonEl.classList.add('colab-df-quickchart-complete');\n",
              "    }\n",
              "    (() => {\n",
              "      let quickchartButtonEl =\n",
              "        document.querySelector('#df-56f60251-8d46-4ec1-aaa0-15a13cc61ce5 button');\n",
              "      quickchartButtonEl.style.display =\n",
              "        google.colab.kernel.accessAllowed ? 'block' : 'none';\n",
              "    })();\n",
              "  </script>\n",
              "</div>\n",
              "    </div>\n",
              "  </div>\n"
            ]
          },
          "metadata": {},
          "execution_count": 40
        }
      ]
    },
    {
      "cell_type": "code",
      "source": [
        "df_dim_organismos.shape"
      ],
      "metadata": {
        "colab": {
          "base_uri": "https://localhost:8080/"
        },
        "id": "X4cuZXlTxWSR",
        "outputId": "b5bee475-b081-4a61-d456-16e6112721ef"
      },
      "execution_count": null,
      "outputs": [
        {
          "output_type": "execute_result",
          "data": {
            "text/plain": [
              "(1620, 4)"
            ]
          },
          "metadata": {},
          "execution_count": 41
        }
      ]
    },
    {
      "cell_type": "code",
      "source": [
        "#Eliminamos las columnas del dataframe principal y se deja solo la columna CodigoExterno\n",
        "#de esta forma vamos avanzando en la limpieza y reduccion de los datos de la tabla de hecho\n",
        "df.drop(['NombreOrganismo', 'RutUnidad','id_sector','DireccionUnidad'],axis='columns',inplace=True)\n",
        "df.shape"
      ],
      "metadata": {
        "colab": {
          "base_uri": "https://localhost:8080/"
        },
        "id": "6YRs0dWjxc3N",
        "outputId": "a7ce6b53-e741-4ef0-fd2e-510a3755a862"
      },
      "execution_count": null,
      "outputs": [
        {
          "output_type": "execute_result",
          "data": {
            "text/plain": [
              "(1478330, 98)"
            ]
          },
          "metadata": {},
          "execution_count": 42
        }
      ]
    },
    {
      "cell_type": "code",
      "source": [
        "df_dim_organismos.dtypes"
      ],
      "metadata": {
        "colab": {
          "base_uri": "https://localhost:8080/"
        },
        "id": "-lu205We3z9S",
        "outputId": "986562af-0057-4973-fcb8-5a2f54eb9b03"
      },
      "execution_count": null,
      "outputs": [
        {
          "output_type": "execute_result",
          "data": {
            "text/plain": [
              "CodigoOrganismo     int64\n",
              "NombreOrganismo    object\n",
              "RutUnidad          object\n",
              "id_sector           int64\n",
              "dtype: object"
            ]
          },
          "metadata": {},
          "execution_count": 43
        }
      ]
    },
    {
      "cell_type": "code",
      "source": [
        "# Iteramos a través de las columnas y aplicamos la función a las columnas de tipo 'object'\n",
        "for columna in df_dim_organismos.select_dtypes(include=['object']):\n",
        "    print(columna)\n",
        "    df_dim_organismos[columna] = df_dim_organismos[columna].apply(normalize_text)"
      ],
      "metadata": {
        "colab": {
          "base_uri": "https://localhost:8080/"
        },
        "id": "gwDdOMx232fI",
        "outputId": "51237b4d-8745-4ec8-a4ae-d6321bef95b9"
      },
      "execution_count": null,
      "outputs": [
        {
          "output_type": "stream",
          "name": "stdout",
          "text": [
            "NombreOrganismo\n",
            "RutUnidad\n"
          ]
        }
      ]
    },
    {
      "cell_type": "code",
      "source": [
        "# Guardar la tabla dinamica en la carpeta de tablas\n",
        "df_dim_organismos.to_csv(directorio_tablas_dinamicas + \"/dim_organismos.csv\", index=False)"
      ],
      "metadata": {
        "id": "8v0oMbpn33L0"
      },
      "execution_count": null,
      "outputs": []
    },
    {
      "cell_type": "markdown",
      "source": [
        "#### 6. Tabla **dim_unidad** *(CodigoUnidad, NombreUnidad)*"
      ],
      "metadata": {
        "id": "OyphomyGxvt3"
      }
    },
    {
      "cell_type": "code",
      "source": [
        "#validamos cantidad de valores nulos en el campo objetivo\n",
        "cant_nulos = df['CodigoUnidad'].isnull().sum()\n",
        "cant_nulos"
      ],
      "metadata": {
        "colab": {
          "base_uri": "https://localhost:8080/"
        },
        "id": "0VeE80muxzJT",
        "outputId": "b056c03c-6b34-479d-8ee6-ea487ae66b3e"
      },
      "execution_count": null,
      "outputs": [
        {
          "output_type": "execute_result",
          "data": {
            "text/plain": [
              "0"
            ]
          },
          "metadata": {},
          "execution_count": 46
        }
      ]
    },
    {
      "cell_type": "code",
      "source": [
        "df['CodigoUnidad'] = df['CodigoUnidad'].astype(int)\n",
        "# Crear un nuevo DataFrame con valores únicos\n",
        "df_dim_unidad = df[['CodigoUnidad','NombreUnidad']].drop_duplicates()\n",
        "df_dim_unidad.head(5)"
      ],
      "metadata": {
        "colab": {
          "base_uri": "https://localhost:8080/",
          "height": 206
        },
        "id": "XvJA0-Jk05-R",
        "outputId": "b1dae6b1-a476-4c67-be14-8f5b87e1e24e"
      },
      "execution_count": null,
      "outputs": [
        {
          "output_type": "execute_result",
          "data": {
            "text/plain": [
              "     CodigoUnidad                                NombreUnidad\n",
              "0          690263  ABASTECIMIENTO FÁRMACOS E INSUMOS CLÍNICOS\n",
              "2          886954                      Abastecimiento Insumos\n",
              "150          3756                                     SECPLAC\n",
              "154          3106     Hospital de Urgencia Asistencia Pública\n",
              "163          2700             Hospital San Martín de Quillota"
            ],
            "text/html": [
              "\n",
              "  <div id=\"df-6917c0b5-72f7-4688-8004-84850cec7146\" class=\"colab-df-container\">\n",
              "    <div>\n",
              "<style scoped>\n",
              "    .dataframe tbody tr th:only-of-type {\n",
              "        vertical-align: middle;\n",
              "    }\n",
              "\n",
              "    .dataframe tbody tr th {\n",
              "        vertical-align: top;\n",
              "    }\n",
              "\n",
              "    .dataframe thead th {\n",
              "        text-align: right;\n",
              "    }\n",
              "</style>\n",
              "<table border=\"1\" class=\"dataframe\">\n",
              "  <thead>\n",
              "    <tr style=\"text-align: right;\">\n",
              "      <th></th>\n",
              "      <th>CodigoUnidad</th>\n",
              "      <th>NombreUnidad</th>\n",
              "    </tr>\n",
              "  </thead>\n",
              "  <tbody>\n",
              "    <tr>\n",
              "      <th>0</th>\n",
              "      <td>690263</td>\n",
              "      <td>ABASTECIMIENTO FÁRMACOS E INSUMOS CLÍNICOS</td>\n",
              "    </tr>\n",
              "    <tr>\n",
              "      <th>2</th>\n",
              "      <td>886954</td>\n",
              "      <td>Abastecimiento Insumos</td>\n",
              "    </tr>\n",
              "    <tr>\n",
              "      <th>150</th>\n",
              "      <td>3756</td>\n",
              "      <td>SECPLAC</td>\n",
              "    </tr>\n",
              "    <tr>\n",
              "      <th>154</th>\n",
              "      <td>3106</td>\n",
              "      <td>Hospital de Urgencia Asistencia Pública</td>\n",
              "    </tr>\n",
              "    <tr>\n",
              "      <th>163</th>\n",
              "      <td>2700</td>\n",
              "      <td>Hospital San Martín de Quillota</td>\n",
              "    </tr>\n",
              "  </tbody>\n",
              "</table>\n",
              "</div>\n",
              "    <div class=\"colab-df-buttons\">\n",
              "\n",
              "  <div class=\"colab-df-container\">\n",
              "    <button class=\"colab-df-convert\" onclick=\"convertToInteractive('df-6917c0b5-72f7-4688-8004-84850cec7146')\"\n",
              "            title=\"Convert this dataframe to an interactive table.\"\n",
              "            style=\"display:none;\">\n",
              "\n",
              "  <svg xmlns=\"http://www.w3.org/2000/svg\" height=\"24px\" viewBox=\"0 -960 960 960\">\n",
              "    <path d=\"M120-120v-720h720v720H120Zm60-500h600v-160H180v160Zm220 220h160v-160H400v160Zm0 220h160v-160H400v160ZM180-400h160v-160H180v160Zm440 0h160v-160H620v160ZM180-180h160v-160H180v160Zm440 0h160v-160H620v160Z\"/>\n",
              "  </svg>\n",
              "    </button>\n",
              "\n",
              "  <style>\n",
              "    .colab-df-container {\n",
              "      display:flex;\n",
              "      gap: 12px;\n",
              "    }\n",
              "\n",
              "    .colab-df-convert {\n",
              "      background-color: #E8F0FE;\n",
              "      border: none;\n",
              "      border-radius: 50%;\n",
              "      cursor: pointer;\n",
              "      display: none;\n",
              "      fill: #1967D2;\n",
              "      height: 32px;\n",
              "      padding: 0 0 0 0;\n",
              "      width: 32px;\n",
              "    }\n",
              "\n",
              "    .colab-df-convert:hover {\n",
              "      background-color: #E2EBFA;\n",
              "      box-shadow: 0px 1px 2px rgba(60, 64, 67, 0.3), 0px 1px 3px 1px rgba(60, 64, 67, 0.15);\n",
              "      fill: #174EA6;\n",
              "    }\n",
              "\n",
              "    .colab-df-buttons div {\n",
              "      margin-bottom: 4px;\n",
              "    }\n",
              "\n",
              "    [theme=dark] .colab-df-convert {\n",
              "      background-color: #3B4455;\n",
              "      fill: #D2E3FC;\n",
              "    }\n",
              "\n",
              "    [theme=dark] .colab-df-convert:hover {\n",
              "      background-color: #434B5C;\n",
              "      box-shadow: 0px 1px 3px 1px rgba(0, 0, 0, 0.15);\n",
              "      filter: drop-shadow(0px 1px 2px rgba(0, 0, 0, 0.3));\n",
              "      fill: #FFFFFF;\n",
              "    }\n",
              "  </style>\n",
              "\n",
              "    <script>\n",
              "      const buttonEl =\n",
              "        document.querySelector('#df-6917c0b5-72f7-4688-8004-84850cec7146 button.colab-df-convert');\n",
              "      buttonEl.style.display =\n",
              "        google.colab.kernel.accessAllowed ? 'block' : 'none';\n",
              "\n",
              "      async function convertToInteractive(key) {\n",
              "        const element = document.querySelector('#df-6917c0b5-72f7-4688-8004-84850cec7146');\n",
              "        const dataTable =\n",
              "          await google.colab.kernel.invokeFunction('convertToInteractive',\n",
              "                                                    [key], {});\n",
              "        if (!dataTable) return;\n",
              "\n",
              "        const docLinkHtml = 'Like what you see? Visit the ' +\n",
              "          '<a target=\"_blank\" href=https://colab.research.google.com/notebooks/data_table.ipynb>data table notebook</a>'\n",
              "          + ' to learn more about interactive tables.';\n",
              "        element.innerHTML = '';\n",
              "        dataTable['output_type'] = 'display_data';\n",
              "        await google.colab.output.renderOutput(dataTable, element);\n",
              "        const docLink = document.createElement('div');\n",
              "        docLink.innerHTML = docLinkHtml;\n",
              "        element.appendChild(docLink);\n",
              "      }\n",
              "    </script>\n",
              "  </div>\n",
              "\n",
              "\n",
              "<div id=\"df-095f89c8-78cd-4d56-8200-98053ee16bd4\">\n",
              "  <button class=\"colab-df-quickchart\" onclick=\"quickchart('df-095f89c8-78cd-4d56-8200-98053ee16bd4')\"\n",
              "            title=\"Suggest charts.\"\n",
              "            style=\"display:none;\">\n",
              "\n",
              "<svg xmlns=\"http://www.w3.org/2000/svg\" height=\"24px\"viewBox=\"0 0 24 24\"\n",
              "     width=\"24px\">\n",
              "    <g>\n",
              "        <path d=\"M19 3H5c-1.1 0-2 .9-2 2v14c0 1.1.9 2 2 2h14c1.1 0 2-.9 2-2V5c0-1.1-.9-2-2-2zM9 17H7v-7h2v7zm4 0h-2V7h2v10zm4 0h-2v-4h2v4z\"/>\n",
              "    </g>\n",
              "</svg>\n",
              "  </button>\n",
              "\n",
              "<style>\n",
              "  .colab-df-quickchart {\n",
              "      --bg-color: #E8F0FE;\n",
              "      --fill-color: #1967D2;\n",
              "      --hover-bg-color: #E2EBFA;\n",
              "      --hover-fill-color: #174EA6;\n",
              "      --disabled-fill-color: #AAA;\n",
              "      --disabled-bg-color: #DDD;\n",
              "  }\n",
              "\n",
              "  [theme=dark] .colab-df-quickchart {\n",
              "      --bg-color: #3B4455;\n",
              "      --fill-color: #D2E3FC;\n",
              "      --hover-bg-color: #434B5C;\n",
              "      --hover-fill-color: #FFFFFF;\n",
              "      --disabled-bg-color: #3B4455;\n",
              "      --disabled-fill-color: #666;\n",
              "  }\n",
              "\n",
              "  .colab-df-quickchart {\n",
              "    background-color: var(--bg-color);\n",
              "    border: none;\n",
              "    border-radius: 50%;\n",
              "    cursor: pointer;\n",
              "    display: none;\n",
              "    fill: var(--fill-color);\n",
              "    height: 32px;\n",
              "    padding: 0;\n",
              "    width: 32px;\n",
              "  }\n",
              "\n",
              "  .colab-df-quickchart:hover {\n",
              "    background-color: var(--hover-bg-color);\n",
              "    box-shadow: 0 1px 2px rgba(60, 64, 67, 0.3), 0 1px 3px 1px rgba(60, 64, 67, 0.15);\n",
              "    fill: var(--button-hover-fill-color);\n",
              "  }\n",
              "\n",
              "  .colab-df-quickchart-complete:disabled,\n",
              "  .colab-df-quickchart-complete:disabled:hover {\n",
              "    background-color: var(--disabled-bg-color);\n",
              "    fill: var(--disabled-fill-color);\n",
              "    box-shadow: none;\n",
              "  }\n",
              "\n",
              "  .colab-df-spinner {\n",
              "    border: 2px solid var(--fill-color);\n",
              "    border-color: transparent;\n",
              "    border-bottom-color: var(--fill-color);\n",
              "    animation:\n",
              "      spin 1s steps(1) infinite;\n",
              "  }\n",
              "\n",
              "  @keyframes spin {\n",
              "    0% {\n",
              "      border-color: transparent;\n",
              "      border-bottom-color: var(--fill-color);\n",
              "      border-left-color: var(--fill-color);\n",
              "    }\n",
              "    20% {\n",
              "      border-color: transparent;\n",
              "      border-left-color: var(--fill-color);\n",
              "      border-top-color: var(--fill-color);\n",
              "    }\n",
              "    30% {\n",
              "      border-color: transparent;\n",
              "      border-left-color: var(--fill-color);\n",
              "      border-top-color: var(--fill-color);\n",
              "      border-right-color: var(--fill-color);\n",
              "    }\n",
              "    40% {\n",
              "      border-color: transparent;\n",
              "      border-right-color: var(--fill-color);\n",
              "      border-top-color: var(--fill-color);\n",
              "    }\n",
              "    60% {\n",
              "      border-color: transparent;\n",
              "      border-right-color: var(--fill-color);\n",
              "    }\n",
              "    80% {\n",
              "      border-color: transparent;\n",
              "      border-right-color: var(--fill-color);\n",
              "      border-bottom-color: var(--fill-color);\n",
              "    }\n",
              "    90% {\n",
              "      border-color: transparent;\n",
              "      border-bottom-color: var(--fill-color);\n",
              "    }\n",
              "  }\n",
              "</style>\n",
              "\n",
              "  <script>\n",
              "    async function quickchart(key) {\n",
              "      const quickchartButtonEl =\n",
              "        document.querySelector('#' + key + ' button');\n",
              "      quickchartButtonEl.disabled = true;  // To prevent multiple clicks.\n",
              "      quickchartButtonEl.classList.add('colab-df-spinner');\n",
              "      try {\n",
              "        const charts = await google.colab.kernel.invokeFunction(\n",
              "            'suggestCharts', [key], {});\n",
              "      } catch (error) {\n",
              "        console.error('Error during call to suggestCharts:', error);\n",
              "      }\n",
              "      quickchartButtonEl.classList.remove('colab-df-spinner');\n",
              "      quickchartButtonEl.classList.add('colab-df-quickchart-complete');\n",
              "    }\n",
              "    (() => {\n",
              "      let quickchartButtonEl =\n",
              "        document.querySelector('#df-095f89c8-78cd-4d56-8200-98053ee16bd4 button');\n",
              "      quickchartButtonEl.style.display =\n",
              "        google.colab.kernel.accessAllowed ? 'block' : 'none';\n",
              "    })();\n",
              "  </script>\n",
              "</div>\n",
              "    </div>\n",
              "  </div>\n"
            ]
          },
          "metadata": {},
          "execution_count": 47
        }
      ]
    },
    {
      "cell_type": "code",
      "source": [
        "df_dim_unidad.shape"
      ],
      "metadata": {
        "colab": {
          "base_uri": "https://localhost:8080/"
        },
        "id": "xiNiIOWr1MYa",
        "outputId": "d0b8e2cd-c313-426c-d8f5-6a5b77866562"
      },
      "execution_count": null,
      "outputs": [
        {
          "output_type": "execute_result",
          "data": {
            "text/plain": [
              "(3636, 2)"
            ]
          },
          "metadata": {},
          "execution_count": 48
        }
      ]
    },
    {
      "cell_type": "code",
      "source": [
        "#Eliminamos las columnas del dataframe principal y se deja solo la columna CodigoExterno\n",
        "#de esta forma vamos avanzando en la limpieza y reduccion de los datos de la tabla de hecho\n",
        "df.drop(['NombreUnidad'],axis='columns',inplace=True)\n",
        "df.shape"
      ],
      "metadata": {
        "colab": {
          "base_uri": "https://localhost:8080/"
        },
        "id": "1DYFrNT31N5C",
        "outputId": "514f4244-0d90-4b68-cecc-683c8fb187b9"
      },
      "execution_count": null,
      "outputs": [
        {
          "output_type": "execute_result",
          "data": {
            "text/plain": [
              "(1478330, 97)"
            ]
          },
          "metadata": {},
          "execution_count": 49
        }
      ]
    },
    {
      "cell_type": "code",
      "source": [
        "df_dim_unidad.dtypes"
      ],
      "metadata": {
        "colab": {
          "base_uri": "https://localhost:8080/"
        },
        "id": "APtCRQxb4MuB",
        "outputId": "4cd92d2a-2f68-4b49-b744-8036c708bf17"
      },
      "execution_count": null,
      "outputs": [
        {
          "output_type": "execute_result",
          "data": {
            "text/plain": [
              "CodigoUnidad     int64\n",
              "NombreUnidad    object\n",
              "dtype: object"
            ]
          },
          "metadata": {},
          "execution_count": 50
        }
      ]
    },
    {
      "cell_type": "code",
      "source": [
        "# Iteramos a través de las columnas y aplicamos la función a las columnas de tipo 'object'\n",
        "for columna in df_dim_unidad.select_dtypes(include=['object']):\n",
        "    print(columna)\n",
        "    df_dim_unidad[columna] = df_dim_unidad[columna].apply(normalize_text)"
      ],
      "metadata": {
        "colab": {
          "base_uri": "https://localhost:8080/"
        },
        "id": "D9d4ZClE4Mlg",
        "outputId": "9f1720b8-ecaf-4471-f348-4c8064aabccc"
      },
      "execution_count": null,
      "outputs": [
        {
          "output_type": "stream",
          "name": "stdout",
          "text": [
            "NombreUnidad\n"
          ]
        }
      ]
    },
    {
      "cell_type": "code",
      "source": [
        "# Guardar la tabla dinamica en la carpeta de tablas\n",
        "df_dim_unidad.to_csv(directorio_tablas_dinamicas + \"/dim_unidad.csv\", index=False)"
      ],
      "metadata": {
        "id": "FNJgNGSI4MZz"
      },
      "execution_count": null,
      "outputs": []
    },
    {
      "cell_type": "markdown",
      "source": [
        "#### 7. Tabla **dim_comuna** *(id_comuna,ComunaUnidad)*"
      ],
      "metadata": {
        "id": "Gceq79yE9wmm"
      }
    },
    {
      "cell_type": "code",
      "source": [
        "#validamos cantidad de valores nulos en el campo objetivo\n",
        "cant_nulos = df['ComunaUnidad'].isnull().sum()\n",
        "cant_nulos"
      ],
      "metadata": {
        "id": "25zfTzQH-ZCQ",
        "colab": {
          "base_uri": "https://localhost:8080/"
        },
        "outputId": "53e907e9-c28f-451b-81b8-9f09931d5626"
      },
      "execution_count": null,
      "outputs": [
        {
          "output_type": "execute_result",
          "data": {
            "text/plain": [
              "89095"
            ]
          },
          "metadata": {},
          "execution_count": 53
        }
      ]
    },
    {
      "cell_type": "code",
      "source": [
        "df.shape"
      ],
      "metadata": {
        "colab": {
          "base_uri": "https://localhost:8080/"
        },
        "id": "m6UPlF9h5cNd",
        "outputId": "cfc624ff-50c8-4272-e189-ea2a92816752"
      },
      "execution_count": null,
      "outputs": [
        {
          "output_type": "execute_result",
          "data": {
            "text/plain": [
              "(1478330, 97)"
            ]
          },
          "metadata": {},
          "execution_count": 54
        }
      ]
    },
    {
      "cell_type": "code",
      "source": [
        "# Eliminar registros donde sector tenga valores vacíos\n",
        "df = df.dropna(subset=['ComunaUnidad'])"
      ],
      "metadata": {
        "id": "ODaqrQQw5j5s"
      },
      "execution_count": null,
      "outputs": []
    },
    {
      "cell_type": "code",
      "source": [
        "df.shape"
      ],
      "metadata": {
        "colab": {
          "base_uri": "https://localhost:8080/"
        },
        "id": "TfCNIeGx9R3q",
        "outputId": "1d923c5a-ac7b-4188-a8ef-8f842375d635"
      },
      "execution_count": null,
      "outputs": [
        {
          "output_type": "execute_result",
          "data": {
            "text/plain": [
              "(1389235, 97)"
            ]
          },
          "metadata": {},
          "execution_count": 56
        }
      ]
    },
    {
      "cell_type": "code",
      "source": [
        "# Obtener valores únicos y eliminar duplicados\n",
        "unicos_comuna = df['ComunaUnidad'].unique()\n",
        "# Crear un nuevo DataFrame con dos columnas \"id_comuna\" y \"comunaunidad\"\n",
        "df_dim_comuna = pd.DataFrame({'id_comuna': range(1, len(unicos_comuna) + 1),\n",
        "                         'ComunaUnidad': unicos_comuna})\n",
        "\n",
        "df_dim_comuna.head(5)"
      ],
      "metadata": {
        "colab": {
          "base_uri": "https://localhost:8080/",
          "height": 206
        },
        "id": "NGJ6lQFi9aUd",
        "outputId": "f66a05dd-a661-42be-a977-437ed6a258b3"
      },
      "execution_count": null,
      "outputs": [
        {
          "output_type": "execute_result",
          "data": {
            "text/plain": [
              "   id_comuna ComunaUnidad\n",
              "0          1         Lebu\n",
              "1          2   Concepción\n",
              "2          3  La Cisterna\n",
              "3          4     Santiago\n",
              "4          5      Illapel"
            ],
            "text/html": [
              "\n",
              "  <div id=\"df-e519e24b-f0d7-4041-aaf6-8d3b7beff33e\" class=\"colab-df-container\">\n",
              "    <div>\n",
              "<style scoped>\n",
              "    .dataframe tbody tr th:only-of-type {\n",
              "        vertical-align: middle;\n",
              "    }\n",
              "\n",
              "    .dataframe tbody tr th {\n",
              "        vertical-align: top;\n",
              "    }\n",
              "\n",
              "    .dataframe thead th {\n",
              "        text-align: right;\n",
              "    }\n",
              "</style>\n",
              "<table border=\"1\" class=\"dataframe\">\n",
              "  <thead>\n",
              "    <tr style=\"text-align: right;\">\n",
              "      <th></th>\n",
              "      <th>id_comuna</th>\n",
              "      <th>ComunaUnidad</th>\n",
              "    </tr>\n",
              "  </thead>\n",
              "  <tbody>\n",
              "    <tr>\n",
              "      <th>0</th>\n",
              "      <td>1</td>\n",
              "      <td>Lebu</td>\n",
              "    </tr>\n",
              "    <tr>\n",
              "      <th>1</th>\n",
              "      <td>2</td>\n",
              "      <td>Concepción</td>\n",
              "    </tr>\n",
              "    <tr>\n",
              "      <th>2</th>\n",
              "      <td>3</td>\n",
              "      <td>La Cisterna</td>\n",
              "    </tr>\n",
              "    <tr>\n",
              "      <th>3</th>\n",
              "      <td>4</td>\n",
              "      <td>Santiago</td>\n",
              "    </tr>\n",
              "    <tr>\n",
              "      <th>4</th>\n",
              "      <td>5</td>\n",
              "      <td>Illapel</td>\n",
              "    </tr>\n",
              "  </tbody>\n",
              "</table>\n",
              "</div>\n",
              "    <div class=\"colab-df-buttons\">\n",
              "\n",
              "  <div class=\"colab-df-container\">\n",
              "    <button class=\"colab-df-convert\" onclick=\"convertToInteractive('df-e519e24b-f0d7-4041-aaf6-8d3b7beff33e')\"\n",
              "            title=\"Convert this dataframe to an interactive table.\"\n",
              "            style=\"display:none;\">\n",
              "\n",
              "  <svg xmlns=\"http://www.w3.org/2000/svg\" height=\"24px\" viewBox=\"0 -960 960 960\">\n",
              "    <path d=\"M120-120v-720h720v720H120Zm60-500h600v-160H180v160Zm220 220h160v-160H400v160Zm0 220h160v-160H400v160ZM180-400h160v-160H180v160Zm440 0h160v-160H620v160ZM180-180h160v-160H180v160Zm440 0h160v-160H620v160Z\"/>\n",
              "  </svg>\n",
              "    </button>\n",
              "\n",
              "  <style>\n",
              "    .colab-df-container {\n",
              "      display:flex;\n",
              "      gap: 12px;\n",
              "    }\n",
              "\n",
              "    .colab-df-convert {\n",
              "      background-color: #E8F0FE;\n",
              "      border: none;\n",
              "      border-radius: 50%;\n",
              "      cursor: pointer;\n",
              "      display: none;\n",
              "      fill: #1967D2;\n",
              "      height: 32px;\n",
              "      padding: 0 0 0 0;\n",
              "      width: 32px;\n",
              "    }\n",
              "\n",
              "    .colab-df-convert:hover {\n",
              "      background-color: #E2EBFA;\n",
              "      box-shadow: 0px 1px 2px rgba(60, 64, 67, 0.3), 0px 1px 3px 1px rgba(60, 64, 67, 0.15);\n",
              "      fill: #174EA6;\n",
              "    }\n",
              "\n",
              "    .colab-df-buttons div {\n",
              "      margin-bottom: 4px;\n",
              "    }\n",
              "\n",
              "    [theme=dark] .colab-df-convert {\n",
              "      background-color: #3B4455;\n",
              "      fill: #D2E3FC;\n",
              "    }\n",
              "\n",
              "    [theme=dark] .colab-df-convert:hover {\n",
              "      background-color: #434B5C;\n",
              "      box-shadow: 0px 1px 3px 1px rgba(0, 0, 0, 0.15);\n",
              "      filter: drop-shadow(0px 1px 2px rgba(0, 0, 0, 0.3));\n",
              "      fill: #FFFFFF;\n",
              "    }\n",
              "  </style>\n",
              "\n",
              "    <script>\n",
              "      const buttonEl =\n",
              "        document.querySelector('#df-e519e24b-f0d7-4041-aaf6-8d3b7beff33e button.colab-df-convert');\n",
              "      buttonEl.style.display =\n",
              "        google.colab.kernel.accessAllowed ? 'block' : 'none';\n",
              "\n",
              "      async function convertToInteractive(key) {\n",
              "        const element = document.querySelector('#df-e519e24b-f0d7-4041-aaf6-8d3b7beff33e');\n",
              "        const dataTable =\n",
              "          await google.colab.kernel.invokeFunction('convertToInteractive',\n",
              "                                                    [key], {});\n",
              "        if (!dataTable) return;\n",
              "\n",
              "        const docLinkHtml = 'Like what you see? Visit the ' +\n",
              "          '<a target=\"_blank\" href=https://colab.research.google.com/notebooks/data_table.ipynb>data table notebook</a>'\n",
              "          + ' to learn more about interactive tables.';\n",
              "        element.innerHTML = '';\n",
              "        dataTable['output_type'] = 'display_data';\n",
              "        await google.colab.output.renderOutput(dataTable, element);\n",
              "        const docLink = document.createElement('div');\n",
              "        docLink.innerHTML = docLinkHtml;\n",
              "        element.appendChild(docLink);\n",
              "      }\n",
              "    </script>\n",
              "  </div>\n",
              "\n",
              "\n",
              "<div id=\"df-3b6bdadc-72b0-4f13-91f5-bdf3d0da71f1\">\n",
              "  <button class=\"colab-df-quickchart\" onclick=\"quickchart('df-3b6bdadc-72b0-4f13-91f5-bdf3d0da71f1')\"\n",
              "            title=\"Suggest charts.\"\n",
              "            style=\"display:none;\">\n",
              "\n",
              "<svg xmlns=\"http://www.w3.org/2000/svg\" height=\"24px\"viewBox=\"0 0 24 24\"\n",
              "     width=\"24px\">\n",
              "    <g>\n",
              "        <path d=\"M19 3H5c-1.1 0-2 .9-2 2v14c0 1.1.9 2 2 2h14c1.1 0 2-.9 2-2V5c0-1.1-.9-2-2-2zM9 17H7v-7h2v7zm4 0h-2V7h2v10zm4 0h-2v-4h2v4z\"/>\n",
              "    </g>\n",
              "</svg>\n",
              "  </button>\n",
              "\n",
              "<style>\n",
              "  .colab-df-quickchart {\n",
              "      --bg-color: #E8F0FE;\n",
              "      --fill-color: #1967D2;\n",
              "      --hover-bg-color: #E2EBFA;\n",
              "      --hover-fill-color: #174EA6;\n",
              "      --disabled-fill-color: #AAA;\n",
              "      --disabled-bg-color: #DDD;\n",
              "  }\n",
              "\n",
              "  [theme=dark] .colab-df-quickchart {\n",
              "      --bg-color: #3B4455;\n",
              "      --fill-color: #D2E3FC;\n",
              "      --hover-bg-color: #434B5C;\n",
              "      --hover-fill-color: #FFFFFF;\n",
              "      --disabled-bg-color: #3B4455;\n",
              "      --disabled-fill-color: #666;\n",
              "  }\n",
              "\n",
              "  .colab-df-quickchart {\n",
              "    background-color: var(--bg-color);\n",
              "    border: none;\n",
              "    border-radius: 50%;\n",
              "    cursor: pointer;\n",
              "    display: none;\n",
              "    fill: var(--fill-color);\n",
              "    height: 32px;\n",
              "    padding: 0;\n",
              "    width: 32px;\n",
              "  }\n",
              "\n",
              "  .colab-df-quickchart:hover {\n",
              "    background-color: var(--hover-bg-color);\n",
              "    box-shadow: 0 1px 2px rgba(60, 64, 67, 0.3), 0 1px 3px 1px rgba(60, 64, 67, 0.15);\n",
              "    fill: var(--button-hover-fill-color);\n",
              "  }\n",
              "\n",
              "  .colab-df-quickchart-complete:disabled,\n",
              "  .colab-df-quickchart-complete:disabled:hover {\n",
              "    background-color: var(--disabled-bg-color);\n",
              "    fill: var(--disabled-fill-color);\n",
              "    box-shadow: none;\n",
              "  }\n",
              "\n",
              "  .colab-df-spinner {\n",
              "    border: 2px solid var(--fill-color);\n",
              "    border-color: transparent;\n",
              "    border-bottom-color: var(--fill-color);\n",
              "    animation:\n",
              "      spin 1s steps(1) infinite;\n",
              "  }\n",
              "\n",
              "  @keyframes spin {\n",
              "    0% {\n",
              "      border-color: transparent;\n",
              "      border-bottom-color: var(--fill-color);\n",
              "      border-left-color: var(--fill-color);\n",
              "    }\n",
              "    20% {\n",
              "      border-color: transparent;\n",
              "      border-left-color: var(--fill-color);\n",
              "      border-top-color: var(--fill-color);\n",
              "    }\n",
              "    30% {\n",
              "      border-color: transparent;\n",
              "      border-left-color: var(--fill-color);\n",
              "      border-top-color: var(--fill-color);\n",
              "      border-right-color: var(--fill-color);\n",
              "    }\n",
              "    40% {\n",
              "      border-color: transparent;\n",
              "      border-right-color: var(--fill-color);\n",
              "      border-top-color: var(--fill-color);\n",
              "    }\n",
              "    60% {\n",
              "      border-color: transparent;\n",
              "      border-right-color: var(--fill-color);\n",
              "    }\n",
              "    80% {\n",
              "      border-color: transparent;\n",
              "      border-right-color: var(--fill-color);\n",
              "      border-bottom-color: var(--fill-color);\n",
              "    }\n",
              "    90% {\n",
              "      border-color: transparent;\n",
              "      border-bottom-color: var(--fill-color);\n",
              "    }\n",
              "  }\n",
              "</style>\n",
              "\n",
              "  <script>\n",
              "    async function quickchart(key) {\n",
              "      const quickchartButtonEl =\n",
              "        document.querySelector('#' + key + ' button');\n",
              "      quickchartButtonEl.disabled = true;  // To prevent multiple clicks.\n",
              "      quickchartButtonEl.classList.add('colab-df-spinner');\n",
              "      try {\n",
              "        const charts = await google.colab.kernel.invokeFunction(\n",
              "            'suggestCharts', [key], {});\n",
              "      } catch (error) {\n",
              "        console.error('Error during call to suggestCharts:', error);\n",
              "      }\n",
              "      quickchartButtonEl.classList.remove('colab-df-spinner');\n",
              "      quickchartButtonEl.classList.add('colab-df-quickchart-complete');\n",
              "    }\n",
              "    (() => {\n",
              "      let quickchartButtonEl =\n",
              "        document.querySelector('#df-3b6bdadc-72b0-4f13-91f5-bdf3d0da71f1 button');\n",
              "      quickchartButtonEl.style.display =\n",
              "        google.colab.kernel.accessAllowed ? 'block' : 'none';\n",
              "    })();\n",
              "  </script>\n",
              "</div>\n",
              "    </div>\n",
              "  </div>\n"
            ]
          },
          "metadata": {},
          "execution_count": 57
        }
      ]
    },
    {
      "cell_type": "code",
      "source": [
        "df_dim_comuna.shape"
      ],
      "metadata": {
        "colab": {
          "base_uri": "https://localhost:8080/"
        },
        "id": "L_Z5qv_A9at8",
        "outputId": "b0e07ac4-0c9a-426e-db86-a0e07d7f7997"
      },
      "execution_count": null,
      "outputs": [
        {
          "output_type": "execute_result",
          "data": {
            "text/plain": [
              "(346, 2)"
            ]
          },
          "metadata": {},
          "execution_count": 58
        }
      ]
    },
    {
      "cell_type": "code",
      "source": [
        "#reemplazamos los valores de la columna sector de la tabla principal por los IDs de los valores unicos\n",
        "df['ComunaUnidad'] = df['ComunaUnidad'].replace(df_dim_comuna.set_index('ComunaUnidad')['id_comuna'])\n",
        "#Se renombra el titulo de la columna para mejor comprension del cambio\n",
        "df.rename(columns={'ComunaUnidad': 'id_comuna'}, inplace=True)\n",
        "#Seteamos a entero el campo\n",
        "df['id_comuna'] = df['id_comuna'].astype(int)\n",
        "df.shape"
      ],
      "metadata": {
        "colab": {
          "base_uri": "https://localhost:8080/"
        },
        "id": "R6GE-o-c-fPY",
        "outputId": "9b7ad485-610e-4339-ad36-91e1ba5e125b"
      },
      "execution_count": null,
      "outputs": [
        {
          "output_type": "execute_result",
          "data": {
            "text/plain": [
              "(1389235, 97)"
            ]
          },
          "metadata": {},
          "execution_count": 59
        }
      ]
    },
    {
      "cell_type": "code",
      "source": [
        "df_dim_comuna.dtypes"
      ],
      "metadata": {
        "colab": {
          "base_uri": "https://localhost:8080/"
        },
        "id": "CR0NAdTf-78A",
        "outputId": "7d0b0989-04ce-4a76-c23a-9bce7f0b8244"
      },
      "execution_count": null,
      "outputs": [
        {
          "output_type": "execute_result",
          "data": {
            "text/plain": [
              "id_comuna        int64\n",
              "ComunaUnidad    object\n",
              "dtype: object"
            ]
          },
          "metadata": {},
          "execution_count": 60
        }
      ]
    },
    {
      "cell_type": "code",
      "source": [
        "# Iteramos a través de las columnas y aplicamos la función a las columnas de tipo 'object'\n",
        "for columna in df_dim_comuna.select_dtypes(include=['object']):\n",
        "    print(columna)\n",
        "    df_dim_comuna[columna] = df_dim_comuna[columna].apply(normalize_text)"
      ],
      "metadata": {
        "colab": {
          "base_uri": "https://localhost:8080/"
        },
        "id": "BUDC8gqS4RGA",
        "outputId": "42e8bcec-686e-4414-9036-bfd0bea0f097"
      },
      "execution_count": null,
      "outputs": [
        {
          "output_type": "stream",
          "name": "stdout",
          "text": [
            "ComunaUnidad\n"
          ]
        }
      ]
    },
    {
      "cell_type": "code",
      "source": [
        "# Guardar la tabla dinamica en la carpeta de tablas\n",
        "df_dim_comuna.to_csv(directorio_tablas_dinamicas + \"/dim_comuna.csv\", index=False)"
      ],
      "metadata": {
        "id": "iU-sWQGL4Q6o"
      },
      "execution_count": null,
      "outputs": []
    },
    {
      "cell_type": "markdown",
      "source": [
        "#### 8. Tabla **dim_region** *(id_region,RegionUnidad)*"
      ],
      "metadata": {
        "id": "wnni-Ykf9yVq"
      }
    },
    {
      "cell_type": "code",
      "source": [
        "#validamos cantidad de valores nulos en el campo objetivo\n",
        "cant_nulos = df['RegionUnidad'].isnull().sum()\n",
        "cant_nulos"
      ],
      "metadata": {
        "id": "qtFqmTPa-ZgM",
        "colab": {
          "base_uri": "https://localhost:8080/"
        },
        "outputId": "ac1889ce-32e7-4f3b-f9e0-73493d36ffbf"
      },
      "execution_count": null,
      "outputs": [
        {
          "output_type": "execute_result",
          "data": {
            "text/plain": [
              "0"
            ]
          },
          "metadata": {},
          "execution_count": 63
        }
      ]
    },
    {
      "cell_type": "code",
      "source": [
        "# Obtener valores únicos y eliminar duplicados\n",
        "unicos_region = df['RegionUnidad'].unique()\n",
        "# Crear un nuevo DataFrame con dos columnas \"id_comuna\" y \"comunaunidad\"\n",
        "df_dim_region = pd.DataFrame({'id_region': range(1, len(unicos_region) + 1),\n",
        "                         'RegionUnidad': unicos_region})\n",
        "\n",
        "df_dim_region.head(5)"
      ],
      "metadata": {
        "colab": {
          "base_uri": "https://localhost:8080/",
          "height": 206
        },
        "id": "wafUdvFy_SVJ",
        "outputId": "a8e89e6a-a23f-465d-ab73-eaba0025c8ce"
      },
      "execution_count": null,
      "outputs": [
        {
          "output_type": "execute_result",
          "data": {
            "text/plain": [
              "   id_region                      RegionUnidad\n",
              "0          1                Región del Biobío \n",
              "1          2  Región Metropolitana de Santiago\n",
              "2          3               Región de Coquimbo \n",
              "3          4      Región de Arica y Parinacota\n",
              "4          5                 Región del Maule "
            ],
            "text/html": [
              "\n",
              "  <div id=\"df-9a2951ba-819c-4210-9de4-150e163d43f2\" class=\"colab-df-container\">\n",
              "    <div>\n",
              "<style scoped>\n",
              "    .dataframe tbody tr th:only-of-type {\n",
              "        vertical-align: middle;\n",
              "    }\n",
              "\n",
              "    .dataframe tbody tr th {\n",
              "        vertical-align: top;\n",
              "    }\n",
              "\n",
              "    .dataframe thead th {\n",
              "        text-align: right;\n",
              "    }\n",
              "</style>\n",
              "<table border=\"1\" class=\"dataframe\">\n",
              "  <thead>\n",
              "    <tr style=\"text-align: right;\">\n",
              "      <th></th>\n",
              "      <th>id_region</th>\n",
              "      <th>RegionUnidad</th>\n",
              "    </tr>\n",
              "  </thead>\n",
              "  <tbody>\n",
              "    <tr>\n",
              "      <th>0</th>\n",
              "      <td>1</td>\n",
              "      <td>Región del Biobío</td>\n",
              "    </tr>\n",
              "    <tr>\n",
              "      <th>1</th>\n",
              "      <td>2</td>\n",
              "      <td>Región Metropolitana de Santiago</td>\n",
              "    </tr>\n",
              "    <tr>\n",
              "      <th>2</th>\n",
              "      <td>3</td>\n",
              "      <td>Región de Coquimbo</td>\n",
              "    </tr>\n",
              "    <tr>\n",
              "      <th>3</th>\n",
              "      <td>4</td>\n",
              "      <td>Región de Arica y Parinacota</td>\n",
              "    </tr>\n",
              "    <tr>\n",
              "      <th>4</th>\n",
              "      <td>5</td>\n",
              "      <td>Región del Maule</td>\n",
              "    </tr>\n",
              "  </tbody>\n",
              "</table>\n",
              "</div>\n",
              "    <div class=\"colab-df-buttons\">\n",
              "\n",
              "  <div class=\"colab-df-container\">\n",
              "    <button class=\"colab-df-convert\" onclick=\"convertToInteractive('df-9a2951ba-819c-4210-9de4-150e163d43f2')\"\n",
              "            title=\"Convert this dataframe to an interactive table.\"\n",
              "            style=\"display:none;\">\n",
              "\n",
              "  <svg xmlns=\"http://www.w3.org/2000/svg\" height=\"24px\" viewBox=\"0 -960 960 960\">\n",
              "    <path d=\"M120-120v-720h720v720H120Zm60-500h600v-160H180v160Zm220 220h160v-160H400v160Zm0 220h160v-160H400v160ZM180-400h160v-160H180v160Zm440 0h160v-160H620v160ZM180-180h160v-160H180v160Zm440 0h160v-160H620v160Z\"/>\n",
              "  </svg>\n",
              "    </button>\n",
              "\n",
              "  <style>\n",
              "    .colab-df-container {\n",
              "      display:flex;\n",
              "      gap: 12px;\n",
              "    }\n",
              "\n",
              "    .colab-df-convert {\n",
              "      background-color: #E8F0FE;\n",
              "      border: none;\n",
              "      border-radius: 50%;\n",
              "      cursor: pointer;\n",
              "      display: none;\n",
              "      fill: #1967D2;\n",
              "      height: 32px;\n",
              "      padding: 0 0 0 0;\n",
              "      width: 32px;\n",
              "    }\n",
              "\n",
              "    .colab-df-convert:hover {\n",
              "      background-color: #E2EBFA;\n",
              "      box-shadow: 0px 1px 2px rgba(60, 64, 67, 0.3), 0px 1px 3px 1px rgba(60, 64, 67, 0.15);\n",
              "      fill: #174EA6;\n",
              "    }\n",
              "\n",
              "    .colab-df-buttons div {\n",
              "      margin-bottom: 4px;\n",
              "    }\n",
              "\n",
              "    [theme=dark] .colab-df-convert {\n",
              "      background-color: #3B4455;\n",
              "      fill: #D2E3FC;\n",
              "    }\n",
              "\n",
              "    [theme=dark] .colab-df-convert:hover {\n",
              "      background-color: #434B5C;\n",
              "      box-shadow: 0px 1px 3px 1px rgba(0, 0, 0, 0.15);\n",
              "      filter: drop-shadow(0px 1px 2px rgba(0, 0, 0, 0.3));\n",
              "      fill: #FFFFFF;\n",
              "    }\n",
              "  </style>\n",
              "\n",
              "    <script>\n",
              "      const buttonEl =\n",
              "        document.querySelector('#df-9a2951ba-819c-4210-9de4-150e163d43f2 button.colab-df-convert');\n",
              "      buttonEl.style.display =\n",
              "        google.colab.kernel.accessAllowed ? 'block' : 'none';\n",
              "\n",
              "      async function convertToInteractive(key) {\n",
              "        const element = document.querySelector('#df-9a2951ba-819c-4210-9de4-150e163d43f2');\n",
              "        const dataTable =\n",
              "          await google.colab.kernel.invokeFunction('convertToInteractive',\n",
              "                                                    [key], {});\n",
              "        if (!dataTable) return;\n",
              "\n",
              "        const docLinkHtml = 'Like what you see? Visit the ' +\n",
              "          '<a target=\"_blank\" href=https://colab.research.google.com/notebooks/data_table.ipynb>data table notebook</a>'\n",
              "          + ' to learn more about interactive tables.';\n",
              "        element.innerHTML = '';\n",
              "        dataTable['output_type'] = 'display_data';\n",
              "        await google.colab.output.renderOutput(dataTable, element);\n",
              "        const docLink = document.createElement('div');\n",
              "        docLink.innerHTML = docLinkHtml;\n",
              "        element.appendChild(docLink);\n",
              "      }\n",
              "    </script>\n",
              "  </div>\n",
              "\n",
              "\n",
              "<div id=\"df-b8410fac-0270-48ce-a420-acd928434aa6\">\n",
              "  <button class=\"colab-df-quickchart\" onclick=\"quickchart('df-b8410fac-0270-48ce-a420-acd928434aa6')\"\n",
              "            title=\"Suggest charts.\"\n",
              "            style=\"display:none;\">\n",
              "\n",
              "<svg xmlns=\"http://www.w3.org/2000/svg\" height=\"24px\"viewBox=\"0 0 24 24\"\n",
              "     width=\"24px\">\n",
              "    <g>\n",
              "        <path d=\"M19 3H5c-1.1 0-2 .9-2 2v14c0 1.1.9 2 2 2h14c1.1 0 2-.9 2-2V5c0-1.1-.9-2-2-2zM9 17H7v-7h2v7zm4 0h-2V7h2v10zm4 0h-2v-4h2v4z\"/>\n",
              "    </g>\n",
              "</svg>\n",
              "  </button>\n",
              "\n",
              "<style>\n",
              "  .colab-df-quickchart {\n",
              "      --bg-color: #E8F0FE;\n",
              "      --fill-color: #1967D2;\n",
              "      --hover-bg-color: #E2EBFA;\n",
              "      --hover-fill-color: #174EA6;\n",
              "      --disabled-fill-color: #AAA;\n",
              "      --disabled-bg-color: #DDD;\n",
              "  }\n",
              "\n",
              "  [theme=dark] .colab-df-quickchart {\n",
              "      --bg-color: #3B4455;\n",
              "      --fill-color: #D2E3FC;\n",
              "      --hover-bg-color: #434B5C;\n",
              "      --hover-fill-color: #FFFFFF;\n",
              "      --disabled-bg-color: #3B4455;\n",
              "      --disabled-fill-color: #666;\n",
              "  }\n",
              "\n",
              "  .colab-df-quickchart {\n",
              "    background-color: var(--bg-color);\n",
              "    border: none;\n",
              "    border-radius: 50%;\n",
              "    cursor: pointer;\n",
              "    display: none;\n",
              "    fill: var(--fill-color);\n",
              "    height: 32px;\n",
              "    padding: 0;\n",
              "    width: 32px;\n",
              "  }\n",
              "\n",
              "  .colab-df-quickchart:hover {\n",
              "    background-color: var(--hover-bg-color);\n",
              "    box-shadow: 0 1px 2px rgba(60, 64, 67, 0.3), 0 1px 3px 1px rgba(60, 64, 67, 0.15);\n",
              "    fill: var(--button-hover-fill-color);\n",
              "  }\n",
              "\n",
              "  .colab-df-quickchart-complete:disabled,\n",
              "  .colab-df-quickchart-complete:disabled:hover {\n",
              "    background-color: var(--disabled-bg-color);\n",
              "    fill: var(--disabled-fill-color);\n",
              "    box-shadow: none;\n",
              "  }\n",
              "\n",
              "  .colab-df-spinner {\n",
              "    border: 2px solid var(--fill-color);\n",
              "    border-color: transparent;\n",
              "    border-bottom-color: var(--fill-color);\n",
              "    animation:\n",
              "      spin 1s steps(1) infinite;\n",
              "  }\n",
              "\n",
              "  @keyframes spin {\n",
              "    0% {\n",
              "      border-color: transparent;\n",
              "      border-bottom-color: var(--fill-color);\n",
              "      border-left-color: var(--fill-color);\n",
              "    }\n",
              "    20% {\n",
              "      border-color: transparent;\n",
              "      border-left-color: var(--fill-color);\n",
              "      border-top-color: var(--fill-color);\n",
              "    }\n",
              "    30% {\n",
              "      border-color: transparent;\n",
              "      border-left-color: var(--fill-color);\n",
              "      border-top-color: var(--fill-color);\n",
              "      border-right-color: var(--fill-color);\n",
              "    }\n",
              "    40% {\n",
              "      border-color: transparent;\n",
              "      border-right-color: var(--fill-color);\n",
              "      border-top-color: var(--fill-color);\n",
              "    }\n",
              "    60% {\n",
              "      border-color: transparent;\n",
              "      border-right-color: var(--fill-color);\n",
              "    }\n",
              "    80% {\n",
              "      border-color: transparent;\n",
              "      border-right-color: var(--fill-color);\n",
              "      border-bottom-color: var(--fill-color);\n",
              "    }\n",
              "    90% {\n",
              "      border-color: transparent;\n",
              "      border-bottom-color: var(--fill-color);\n",
              "    }\n",
              "  }\n",
              "</style>\n",
              "\n",
              "  <script>\n",
              "    async function quickchart(key) {\n",
              "      const quickchartButtonEl =\n",
              "        document.querySelector('#' + key + ' button');\n",
              "      quickchartButtonEl.disabled = true;  // To prevent multiple clicks.\n",
              "      quickchartButtonEl.classList.add('colab-df-spinner');\n",
              "      try {\n",
              "        const charts = await google.colab.kernel.invokeFunction(\n",
              "            'suggestCharts', [key], {});\n",
              "      } catch (error) {\n",
              "        console.error('Error during call to suggestCharts:', error);\n",
              "      }\n",
              "      quickchartButtonEl.classList.remove('colab-df-spinner');\n",
              "      quickchartButtonEl.classList.add('colab-df-quickchart-complete');\n",
              "    }\n",
              "    (() => {\n",
              "      let quickchartButtonEl =\n",
              "        document.querySelector('#df-b8410fac-0270-48ce-a420-acd928434aa6 button');\n",
              "      quickchartButtonEl.style.display =\n",
              "        google.colab.kernel.accessAllowed ? 'block' : 'none';\n",
              "    })();\n",
              "  </script>\n",
              "</div>\n",
              "    </div>\n",
              "  </div>\n"
            ]
          },
          "metadata": {},
          "execution_count": 64
        }
      ]
    },
    {
      "cell_type": "code",
      "source": [
        "df_dim_region.shape"
      ],
      "metadata": {
        "colab": {
          "base_uri": "https://localhost:8080/"
        },
        "id": "usX4YL1d_R2h",
        "outputId": "fa5c4c6f-a93e-469c-9c00-09e8faee8365"
      },
      "execution_count": null,
      "outputs": [
        {
          "output_type": "execute_result",
          "data": {
            "text/plain": [
              "(16, 2)"
            ]
          },
          "metadata": {},
          "execution_count": 65
        }
      ]
    },
    {
      "cell_type": "code",
      "source": [
        "#reemplazamos los valores de la columna sector de la tabla principal por los IDs de los valores unicos\n",
        "df['RegionUnidad'] = df['RegionUnidad'].replace(df_dim_region.set_index('RegionUnidad')['id_region'])\n",
        "#Se renombra el titulo de la columna para mejor comprension del cambio\n",
        "df.rename(columns={'RegionUnidad': 'id_region'}, inplace=True)\n",
        "#Seteamos a entero el campo\n",
        "df['id_region'] = df['id_region'].astype(int)\n",
        "df.shape"
      ],
      "metadata": {
        "colab": {
          "base_uri": "https://localhost:8080/"
        },
        "id": "D3FmRwyl_mJx",
        "outputId": "c8ba27d7-c837-436b-e92c-00eb984ec1d6"
      },
      "execution_count": null,
      "outputs": [
        {
          "output_type": "execute_result",
          "data": {
            "text/plain": [
              "(1389235, 97)"
            ]
          },
          "metadata": {},
          "execution_count": 66
        }
      ]
    },
    {
      "cell_type": "code",
      "source": [
        "df_dim_region.dtypes"
      ],
      "metadata": {
        "colab": {
          "base_uri": "https://localhost:8080/"
        },
        "id": "-XkCzaM6ACZX",
        "outputId": "66fd5e62-b69f-4bbf-f1ba-4973d993f24e"
      },
      "execution_count": null,
      "outputs": [
        {
          "output_type": "execute_result",
          "data": {
            "text/plain": [
              "id_region        int64\n",
              "RegionUnidad    object\n",
              "dtype: object"
            ]
          },
          "metadata": {},
          "execution_count": 67
        }
      ]
    },
    {
      "cell_type": "code",
      "source": [
        "# Iteramos a través de las columnas y aplicamos la función a las columnas de tipo 'object'\n",
        "for columna in df_dim_region.select_dtypes(include=['object']):\n",
        "    print(columna)\n",
        "    df_dim_region[columna] = df_dim_region[columna].apply(normalize_text)"
      ],
      "metadata": {
        "colab": {
          "base_uri": "https://localhost:8080/"
        },
        "id": "NbiPFxYt4WY_",
        "outputId": "8f63e46f-97eb-4c0e-d32f-ec4ee18f8c41"
      },
      "execution_count": null,
      "outputs": [
        {
          "output_type": "stream",
          "name": "stdout",
          "text": [
            "RegionUnidad\n"
          ]
        }
      ]
    },
    {
      "cell_type": "code",
      "source": [
        "# Guardar la tabla dinamica en la carpeta de tablas\n",
        "df_dim_region.to_csv(directorio_tablas_dinamicas + \"/dim_region.csv\", index=False)"
      ],
      "metadata": {
        "id": "4HI-5HZD4WNS"
      },
      "execution_count": null,
      "outputs": []
    },
    {
      "cell_type": "code",
      "source": [
        "#Eliminamos las columnas del dataframe principal y se deja solo la columna CodigoExterno\n",
        "#de esta forma vamos avanzando en la limpieza y reduccion de los datos de la tabla de hecho\n",
        "df.drop(['Informada','CodigoTipo','TipoConvocatoria','CodigoMoneda','Moneda Adquisicion','EstadoEtapas','TomaRazon',\n",
        "         'EstadoPublicidadOfertas','JustificacionPublicidad','EstadoCS','Obras','FechaActoAperturaTecnica',\n",
        "         'FechaActoAperturaEconomica','FechaPublicacion','FechaEstimadaAdjudicacion','FechaSoporteFisico',\n",
        "         'FechaVisitaTerreno','DireccionVisita','FechaEntregaAntecedentes','DireccionEntrega','FuenteFinanciamiento',\n",
        "         'ProhibicionContratacion','TipoDuracionContrato','JustificacionMontoEstimado','ObservacionContrato',\n",
        "         'EsBaseTipo','ValorTiempoRenovacion','PeriodoTiempoRenovacion','EsRenovable','NumeroAprobacion'\n",
        "         ],axis='columns',inplace=True)\n",
        "df.shape"
      ],
      "metadata": {
        "colab": {
          "base_uri": "https://localhost:8080/"
        },
        "id": "9XawHbMRCXas",
        "outputId": "ce98b2c7-f182-4945-ea3a-45352cd170aa"
      },
      "execution_count": null,
      "outputs": [
        {
          "output_type": "execute_result",
          "data": {
            "text/plain": [
              "(1389235, 68)"
            ]
          },
          "metadata": {},
          "execution_count": 70
        }
      ]
    },
    {
      "cell_type": "markdown",
      "source": [
        "#### 9. Tabla **dim_rubros1** *(id_rubro1, Rubro1)*"
      ],
      "metadata": {
        "id": "QdwcmwZ09z06"
      }
    },
    {
      "cell_type": "code",
      "source": [
        "#validamos cantidad de valores nulos en el campo objetivo\n",
        "cant_nulos = df['Rubro1'].isnull().sum()\n",
        "cant_nulos"
      ],
      "metadata": {
        "id": "3IWRGL_0-Z3q",
        "colab": {
          "base_uri": "https://localhost:8080/"
        },
        "outputId": "ba8a92d9-fb29-4e11-f75d-7349e18862e8"
      },
      "execution_count": null,
      "outputs": [
        {
          "output_type": "execute_result",
          "data": {
            "text/plain": [
              "0"
            ]
          },
          "metadata": {},
          "execution_count": 71
        }
      ]
    },
    {
      "cell_type": "code",
      "source": [
        "# Obtener valores únicos y eliminar duplicados\n",
        "unicos_rubros1 = df['Rubro1'].unique()\n",
        "# Crear un nuevo DataFrame con dos columnas \"id_comuna\" y \"comunaunidad\"\n",
        "df_dim_rubro1 = pd.DataFrame({'id_rubro1': range(1, len(unicos_rubros1) + 1),\n",
        "                         'Rubro1': unicos_rubros1})\n",
        "\n",
        "df_dim_rubro1.head(5)"
      ],
      "metadata": {
        "colab": {
          "base_uri": "https://localhost:8080/",
          "height": 206
        },
        "id": "6njfcb7bJxzX",
        "outputId": "ee7161ea-5ad6-40ee-a9af-a62c347e689e"
      },
      "execution_count": null,
      "outputs": [
        {
          "output_type": "execute_result",
          "data": {
            "text/plain": [
              "   id_rubro1                                             Rubro1\n",
              "0          1                     EQUIPAMIENTO PARA LABORATORIOS\n",
              "1          2                 EQUIPAMIENTO Y SUMINISTROS MÉDICOS\n",
              "2          3  ARTÍCULOS PARA ESTRUCTURAS, OBRAS Y CONSTRUCCI...\n",
              "3          4                VEHÍCULOS Y EQUIPAMIENTO EN GENERAL\n",
              "4          5  SERVICIOS BASADOS EN INGENIERÍA, CIENCIAS SOCI..."
            ],
            "text/html": [
              "\n",
              "  <div id=\"df-58fea574-861b-4127-85b2-df5ee17a5c9e\" class=\"colab-df-container\">\n",
              "    <div>\n",
              "<style scoped>\n",
              "    .dataframe tbody tr th:only-of-type {\n",
              "        vertical-align: middle;\n",
              "    }\n",
              "\n",
              "    .dataframe tbody tr th {\n",
              "        vertical-align: top;\n",
              "    }\n",
              "\n",
              "    .dataframe thead th {\n",
              "        text-align: right;\n",
              "    }\n",
              "</style>\n",
              "<table border=\"1\" class=\"dataframe\">\n",
              "  <thead>\n",
              "    <tr style=\"text-align: right;\">\n",
              "      <th></th>\n",
              "      <th>id_rubro1</th>\n",
              "      <th>Rubro1</th>\n",
              "    </tr>\n",
              "  </thead>\n",
              "  <tbody>\n",
              "    <tr>\n",
              "      <th>0</th>\n",
              "      <td>1</td>\n",
              "      <td>EQUIPAMIENTO PARA LABORATORIOS</td>\n",
              "    </tr>\n",
              "    <tr>\n",
              "      <th>1</th>\n",
              "      <td>2</td>\n",
              "      <td>EQUIPAMIENTO Y SUMINISTROS MÉDICOS</td>\n",
              "    </tr>\n",
              "    <tr>\n",
              "      <th>2</th>\n",
              "      <td>3</td>\n",
              "      <td>ARTÍCULOS PARA ESTRUCTURAS, OBRAS Y CONSTRUCCI...</td>\n",
              "    </tr>\n",
              "    <tr>\n",
              "      <th>3</th>\n",
              "      <td>4</td>\n",
              "      <td>VEHÍCULOS Y EQUIPAMIENTO EN GENERAL</td>\n",
              "    </tr>\n",
              "    <tr>\n",
              "      <th>4</th>\n",
              "      <td>5</td>\n",
              "      <td>SERVICIOS BASADOS EN INGENIERÍA, CIENCIAS SOCI...</td>\n",
              "    </tr>\n",
              "  </tbody>\n",
              "</table>\n",
              "</div>\n",
              "    <div class=\"colab-df-buttons\">\n",
              "\n",
              "  <div class=\"colab-df-container\">\n",
              "    <button class=\"colab-df-convert\" onclick=\"convertToInteractive('df-58fea574-861b-4127-85b2-df5ee17a5c9e')\"\n",
              "            title=\"Convert this dataframe to an interactive table.\"\n",
              "            style=\"display:none;\">\n",
              "\n",
              "  <svg xmlns=\"http://www.w3.org/2000/svg\" height=\"24px\" viewBox=\"0 -960 960 960\">\n",
              "    <path d=\"M120-120v-720h720v720H120Zm60-500h600v-160H180v160Zm220 220h160v-160H400v160Zm0 220h160v-160H400v160ZM180-400h160v-160H180v160Zm440 0h160v-160H620v160ZM180-180h160v-160H180v160Zm440 0h160v-160H620v160Z\"/>\n",
              "  </svg>\n",
              "    </button>\n",
              "\n",
              "  <style>\n",
              "    .colab-df-container {\n",
              "      display:flex;\n",
              "      gap: 12px;\n",
              "    }\n",
              "\n",
              "    .colab-df-convert {\n",
              "      background-color: #E8F0FE;\n",
              "      border: none;\n",
              "      border-radius: 50%;\n",
              "      cursor: pointer;\n",
              "      display: none;\n",
              "      fill: #1967D2;\n",
              "      height: 32px;\n",
              "      padding: 0 0 0 0;\n",
              "      width: 32px;\n",
              "    }\n",
              "\n",
              "    .colab-df-convert:hover {\n",
              "      background-color: #E2EBFA;\n",
              "      box-shadow: 0px 1px 2px rgba(60, 64, 67, 0.3), 0px 1px 3px 1px rgba(60, 64, 67, 0.15);\n",
              "      fill: #174EA6;\n",
              "    }\n",
              "\n",
              "    .colab-df-buttons div {\n",
              "      margin-bottom: 4px;\n",
              "    }\n",
              "\n",
              "    [theme=dark] .colab-df-convert {\n",
              "      background-color: #3B4455;\n",
              "      fill: #D2E3FC;\n",
              "    }\n",
              "\n",
              "    [theme=dark] .colab-df-convert:hover {\n",
              "      background-color: #434B5C;\n",
              "      box-shadow: 0px 1px 3px 1px rgba(0, 0, 0, 0.15);\n",
              "      filter: drop-shadow(0px 1px 2px rgba(0, 0, 0, 0.3));\n",
              "      fill: #FFFFFF;\n",
              "    }\n",
              "  </style>\n",
              "\n",
              "    <script>\n",
              "      const buttonEl =\n",
              "        document.querySelector('#df-58fea574-861b-4127-85b2-df5ee17a5c9e button.colab-df-convert');\n",
              "      buttonEl.style.display =\n",
              "        google.colab.kernel.accessAllowed ? 'block' : 'none';\n",
              "\n",
              "      async function convertToInteractive(key) {\n",
              "        const element = document.querySelector('#df-58fea574-861b-4127-85b2-df5ee17a5c9e');\n",
              "        const dataTable =\n",
              "          await google.colab.kernel.invokeFunction('convertToInteractive',\n",
              "                                                    [key], {});\n",
              "        if (!dataTable) return;\n",
              "\n",
              "        const docLinkHtml = 'Like what you see? Visit the ' +\n",
              "          '<a target=\"_blank\" href=https://colab.research.google.com/notebooks/data_table.ipynb>data table notebook</a>'\n",
              "          + ' to learn more about interactive tables.';\n",
              "        element.innerHTML = '';\n",
              "        dataTable['output_type'] = 'display_data';\n",
              "        await google.colab.output.renderOutput(dataTable, element);\n",
              "        const docLink = document.createElement('div');\n",
              "        docLink.innerHTML = docLinkHtml;\n",
              "        element.appendChild(docLink);\n",
              "      }\n",
              "    </script>\n",
              "  </div>\n",
              "\n",
              "\n",
              "<div id=\"df-51b5781d-e5ed-4a4c-a7b4-7f2a713f8f8a\">\n",
              "  <button class=\"colab-df-quickchart\" onclick=\"quickchart('df-51b5781d-e5ed-4a4c-a7b4-7f2a713f8f8a')\"\n",
              "            title=\"Suggest charts.\"\n",
              "            style=\"display:none;\">\n",
              "\n",
              "<svg xmlns=\"http://www.w3.org/2000/svg\" height=\"24px\"viewBox=\"0 0 24 24\"\n",
              "     width=\"24px\">\n",
              "    <g>\n",
              "        <path d=\"M19 3H5c-1.1 0-2 .9-2 2v14c0 1.1.9 2 2 2h14c1.1 0 2-.9 2-2V5c0-1.1-.9-2-2-2zM9 17H7v-7h2v7zm4 0h-2V7h2v10zm4 0h-2v-4h2v4z\"/>\n",
              "    </g>\n",
              "</svg>\n",
              "  </button>\n",
              "\n",
              "<style>\n",
              "  .colab-df-quickchart {\n",
              "      --bg-color: #E8F0FE;\n",
              "      --fill-color: #1967D2;\n",
              "      --hover-bg-color: #E2EBFA;\n",
              "      --hover-fill-color: #174EA6;\n",
              "      --disabled-fill-color: #AAA;\n",
              "      --disabled-bg-color: #DDD;\n",
              "  }\n",
              "\n",
              "  [theme=dark] .colab-df-quickchart {\n",
              "      --bg-color: #3B4455;\n",
              "      --fill-color: #D2E3FC;\n",
              "      --hover-bg-color: #434B5C;\n",
              "      --hover-fill-color: #FFFFFF;\n",
              "      --disabled-bg-color: #3B4455;\n",
              "      --disabled-fill-color: #666;\n",
              "  }\n",
              "\n",
              "  .colab-df-quickchart {\n",
              "    background-color: var(--bg-color);\n",
              "    border: none;\n",
              "    border-radius: 50%;\n",
              "    cursor: pointer;\n",
              "    display: none;\n",
              "    fill: var(--fill-color);\n",
              "    height: 32px;\n",
              "    padding: 0;\n",
              "    width: 32px;\n",
              "  }\n",
              "\n",
              "  .colab-df-quickchart:hover {\n",
              "    background-color: var(--hover-bg-color);\n",
              "    box-shadow: 0 1px 2px rgba(60, 64, 67, 0.3), 0 1px 3px 1px rgba(60, 64, 67, 0.15);\n",
              "    fill: var(--button-hover-fill-color);\n",
              "  }\n",
              "\n",
              "  .colab-df-quickchart-complete:disabled,\n",
              "  .colab-df-quickchart-complete:disabled:hover {\n",
              "    background-color: var(--disabled-bg-color);\n",
              "    fill: var(--disabled-fill-color);\n",
              "    box-shadow: none;\n",
              "  }\n",
              "\n",
              "  .colab-df-spinner {\n",
              "    border: 2px solid var(--fill-color);\n",
              "    border-color: transparent;\n",
              "    border-bottom-color: var(--fill-color);\n",
              "    animation:\n",
              "      spin 1s steps(1) infinite;\n",
              "  }\n",
              "\n",
              "  @keyframes spin {\n",
              "    0% {\n",
              "      border-color: transparent;\n",
              "      border-bottom-color: var(--fill-color);\n",
              "      border-left-color: var(--fill-color);\n",
              "    }\n",
              "    20% {\n",
              "      border-color: transparent;\n",
              "      border-left-color: var(--fill-color);\n",
              "      border-top-color: var(--fill-color);\n",
              "    }\n",
              "    30% {\n",
              "      border-color: transparent;\n",
              "      border-left-color: var(--fill-color);\n",
              "      border-top-color: var(--fill-color);\n",
              "      border-right-color: var(--fill-color);\n",
              "    }\n",
              "    40% {\n",
              "      border-color: transparent;\n",
              "      border-right-color: var(--fill-color);\n",
              "      border-top-color: var(--fill-color);\n",
              "    }\n",
              "    60% {\n",
              "      border-color: transparent;\n",
              "      border-right-color: var(--fill-color);\n",
              "    }\n",
              "    80% {\n",
              "      border-color: transparent;\n",
              "      border-right-color: var(--fill-color);\n",
              "      border-bottom-color: var(--fill-color);\n",
              "    }\n",
              "    90% {\n",
              "      border-color: transparent;\n",
              "      border-bottom-color: var(--fill-color);\n",
              "    }\n",
              "  }\n",
              "</style>\n",
              "\n",
              "  <script>\n",
              "    async function quickchart(key) {\n",
              "      const quickchartButtonEl =\n",
              "        document.querySelector('#' + key + ' button');\n",
              "      quickchartButtonEl.disabled = true;  // To prevent multiple clicks.\n",
              "      quickchartButtonEl.classList.add('colab-df-spinner');\n",
              "      try {\n",
              "        const charts = await google.colab.kernel.invokeFunction(\n",
              "            'suggestCharts', [key], {});\n",
              "      } catch (error) {\n",
              "        console.error('Error during call to suggestCharts:', error);\n",
              "      }\n",
              "      quickchartButtonEl.classList.remove('colab-df-spinner');\n",
              "      quickchartButtonEl.classList.add('colab-df-quickchart-complete');\n",
              "    }\n",
              "    (() => {\n",
              "      let quickchartButtonEl =\n",
              "        document.querySelector('#df-51b5781d-e5ed-4a4c-a7b4-7f2a713f8f8a button');\n",
              "      quickchartButtonEl.style.display =\n",
              "        google.colab.kernel.accessAllowed ? 'block' : 'none';\n",
              "    })();\n",
              "  </script>\n",
              "</div>\n",
              "    </div>\n",
              "  </div>\n"
            ]
          },
          "metadata": {},
          "execution_count": 72
        }
      ]
    },
    {
      "cell_type": "code",
      "source": [
        "df_dim_rubro1.shape"
      ],
      "metadata": {
        "colab": {
          "base_uri": "https://localhost:8080/"
        },
        "id": "Nd67-A2CKGWu",
        "outputId": "5d2de16a-5175-43e3-8167-185dde58c4cd"
      },
      "execution_count": null,
      "outputs": [
        {
          "output_type": "execute_result",
          "data": {
            "text/plain": [
              "(58, 2)"
            ]
          },
          "metadata": {},
          "execution_count": 73
        }
      ]
    },
    {
      "cell_type": "code",
      "source": [
        "#reemplazamos los valores de la columna sector de la tabla principal por los IDs de los valores unicos\n",
        "df['Rubro1'] = df['Rubro1'].replace(df_dim_rubro1.set_index('Rubro1')['id_rubro1'])\n",
        "#Se renombra el titulo de la columna para mejor comprension del cambio\n",
        "df.rename(columns={'Rubro1': 'id_rubro1'}, inplace=True)\n",
        "#Seteamos a entero el campo\n",
        "df['id_rubro1'] = df['id_rubro1'].astype(int)\n",
        "df.shape"
      ],
      "metadata": {
        "colab": {
          "base_uri": "https://localhost:8080/"
        },
        "id": "pG1WqFcNKOV2",
        "outputId": "8373d4ce-0415-42a7-c4d7-e00a72df1b6c"
      },
      "execution_count": null,
      "outputs": [
        {
          "output_type": "execute_result",
          "data": {
            "text/plain": [
              "(1389235, 68)"
            ]
          },
          "metadata": {},
          "execution_count": 74
        }
      ]
    },
    {
      "cell_type": "code",
      "source": [
        "df_dim_rubro1.dtypes"
      ],
      "metadata": {
        "colab": {
          "base_uri": "https://localhost:8080/"
        },
        "id": "DU14TT9mKgjZ",
        "outputId": "e1436548-5344-40fd-a470-325cb784949b"
      },
      "execution_count": null,
      "outputs": [
        {
          "output_type": "execute_result",
          "data": {
            "text/plain": [
              "id_rubro1     int64\n",
              "Rubro1       object\n",
              "dtype: object"
            ]
          },
          "metadata": {},
          "execution_count": 75
        }
      ]
    },
    {
      "cell_type": "code",
      "source": [
        "# Iteramos a través de las columnas y aplicamos la función a las columnas de tipo 'object'\n",
        "for columna in df_dim_rubro1.select_dtypes(include=['object']):\n",
        "    print(columna)\n",
        "    df_dim_rubro1[columna] = df_dim_rubro1[columna].apply(normalize_text)"
      ],
      "metadata": {
        "colab": {
          "base_uri": "https://localhost:8080/"
        },
        "id": "VFowPIJq4oDK",
        "outputId": "49d5d9c2-d6f7-4748-b2a9-0169f62e7050"
      },
      "execution_count": null,
      "outputs": [
        {
          "output_type": "stream",
          "name": "stdout",
          "text": [
            "Rubro1\n"
          ]
        }
      ]
    },
    {
      "cell_type": "code",
      "source": [
        "# Guardar la tabla dinamica en la carpeta de tablas\n",
        "df_dim_rubro1.to_csv(directorio_tablas_dinamicas + \"/dim_rubro1.csv\", index=False)"
      ],
      "metadata": {
        "id": "Cnu_EnYh4n6_"
      },
      "execution_count": null,
      "outputs": []
    },
    {
      "cell_type": "markdown",
      "source": [
        "#### 10. Tabla **dim_rubros2** *(id_rubro2, Rubro2)*"
      ],
      "metadata": {
        "id": "VTzlIsTI-QFj"
      }
    },
    {
      "cell_type": "code",
      "source": [
        "#validamos cantidad de valores nulos en el campo objetivo\n",
        "cant_nulos = df['Rubro2'].isnull().sum()\n",
        "cant_nulos"
      ],
      "metadata": {
        "id": "Y-rkDyI6-aaO",
        "colab": {
          "base_uri": "https://localhost:8080/"
        },
        "outputId": "c3e98681-a202-44bf-8e80-d031cf57c959"
      },
      "execution_count": null,
      "outputs": [
        {
          "output_type": "execute_result",
          "data": {
            "text/plain": [
              "0"
            ]
          },
          "metadata": {},
          "execution_count": 78
        }
      ]
    },
    {
      "cell_type": "code",
      "source": [
        "# Obtener valores únicos y eliminar duplicados\n",
        "unicos_rubros2 = df['Rubro2'].unique()\n",
        "# Crear un nuevo DataFrame con dos columnas \"id_comuna\" y \"comunaunidad\"\n",
        "df_dim_rubro2 = pd.DataFrame({'id_rubro2': range(1, len(unicos_rubros2) + 1),\n",
        "                         'Rubro2': unicos_rubros2})\n",
        "\n",
        "df_dim_rubro2.head(5)"
      ],
      "metadata": {
        "colab": {
          "base_uri": "https://localhost:8080/",
          "height": 206
        },
        "id": "GjqK0lG0KyXf",
        "outputId": "be95e146-08eb-45bf-81ad-f61a1771e701"
      },
      "execution_count": null,
      "outputs": [
        {
          "output_type": "execute_result",
          "data": {
            "text/plain": [
              "   id_rubro2                                             Rubro2\n",
              "0          1           INSTRUMENTOS DE MEDIDA Y EXPERIMENTACIÓN\n",
              "1          2  PRODUCTOS MEDICINALES PARA DEPORTES, PROSTÉTIC...\n",
              "2          3                          ESTRUCTURAS PREFABRICADAS\n",
              "3          4                   SUMINISTROS Y PRODUCTOS CLÍNICOS\n",
              "4          5                              VEHÍCULOS MOTORIZADOS"
            ],
            "text/html": [
              "\n",
              "  <div id=\"df-66339a3e-1c02-4cab-8682-4f0652cc99e8\" class=\"colab-df-container\">\n",
              "    <div>\n",
              "<style scoped>\n",
              "    .dataframe tbody tr th:only-of-type {\n",
              "        vertical-align: middle;\n",
              "    }\n",
              "\n",
              "    .dataframe tbody tr th {\n",
              "        vertical-align: top;\n",
              "    }\n",
              "\n",
              "    .dataframe thead th {\n",
              "        text-align: right;\n",
              "    }\n",
              "</style>\n",
              "<table border=\"1\" class=\"dataframe\">\n",
              "  <thead>\n",
              "    <tr style=\"text-align: right;\">\n",
              "      <th></th>\n",
              "      <th>id_rubro2</th>\n",
              "      <th>Rubro2</th>\n",
              "    </tr>\n",
              "  </thead>\n",
              "  <tbody>\n",
              "    <tr>\n",
              "      <th>0</th>\n",
              "      <td>1</td>\n",
              "      <td>INSTRUMENTOS DE MEDIDA Y EXPERIMENTACIÓN</td>\n",
              "    </tr>\n",
              "    <tr>\n",
              "      <th>1</th>\n",
              "      <td>2</td>\n",
              "      <td>PRODUCTOS MEDICINALES PARA DEPORTES, PROSTÉTIC...</td>\n",
              "    </tr>\n",
              "    <tr>\n",
              "      <th>2</th>\n",
              "      <td>3</td>\n",
              "      <td>ESTRUCTURAS PREFABRICADAS</td>\n",
              "    </tr>\n",
              "    <tr>\n",
              "      <th>3</th>\n",
              "      <td>4</td>\n",
              "      <td>SUMINISTROS Y PRODUCTOS CLÍNICOS</td>\n",
              "    </tr>\n",
              "    <tr>\n",
              "      <th>4</th>\n",
              "      <td>5</td>\n",
              "      <td>VEHÍCULOS MOTORIZADOS</td>\n",
              "    </tr>\n",
              "  </tbody>\n",
              "</table>\n",
              "</div>\n",
              "    <div class=\"colab-df-buttons\">\n",
              "\n",
              "  <div class=\"colab-df-container\">\n",
              "    <button class=\"colab-df-convert\" onclick=\"convertToInteractive('df-66339a3e-1c02-4cab-8682-4f0652cc99e8')\"\n",
              "            title=\"Convert this dataframe to an interactive table.\"\n",
              "            style=\"display:none;\">\n",
              "\n",
              "  <svg xmlns=\"http://www.w3.org/2000/svg\" height=\"24px\" viewBox=\"0 -960 960 960\">\n",
              "    <path d=\"M120-120v-720h720v720H120Zm60-500h600v-160H180v160Zm220 220h160v-160H400v160Zm0 220h160v-160H400v160ZM180-400h160v-160H180v160Zm440 0h160v-160H620v160ZM180-180h160v-160H180v160Zm440 0h160v-160H620v160Z\"/>\n",
              "  </svg>\n",
              "    </button>\n",
              "\n",
              "  <style>\n",
              "    .colab-df-container {\n",
              "      display:flex;\n",
              "      gap: 12px;\n",
              "    }\n",
              "\n",
              "    .colab-df-convert {\n",
              "      background-color: #E8F0FE;\n",
              "      border: none;\n",
              "      border-radius: 50%;\n",
              "      cursor: pointer;\n",
              "      display: none;\n",
              "      fill: #1967D2;\n",
              "      height: 32px;\n",
              "      padding: 0 0 0 0;\n",
              "      width: 32px;\n",
              "    }\n",
              "\n",
              "    .colab-df-convert:hover {\n",
              "      background-color: #E2EBFA;\n",
              "      box-shadow: 0px 1px 2px rgba(60, 64, 67, 0.3), 0px 1px 3px 1px rgba(60, 64, 67, 0.15);\n",
              "      fill: #174EA6;\n",
              "    }\n",
              "\n",
              "    .colab-df-buttons div {\n",
              "      margin-bottom: 4px;\n",
              "    }\n",
              "\n",
              "    [theme=dark] .colab-df-convert {\n",
              "      background-color: #3B4455;\n",
              "      fill: #D2E3FC;\n",
              "    }\n",
              "\n",
              "    [theme=dark] .colab-df-convert:hover {\n",
              "      background-color: #434B5C;\n",
              "      box-shadow: 0px 1px 3px 1px rgba(0, 0, 0, 0.15);\n",
              "      filter: drop-shadow(0px 1px 2px rgba(0, 0, 0, 0.3));\n",
              "      fill: #FFFFFF;\n",
              "    }\n",
              "  </style>\n",
              "\n",
              "    <script>\n",
              "      const buttonEl =\n",
              "        document.querySelector('#df-66339a3e-1c02-4cab-8682-4f0652cc99e8 button.colab-df-convert');\n",
              "      buttonEl.style.display =\n",
              "        google.colab.kernel.accessAllowed ? 'block' : 'none';\n",
              "\n",
              "      async function convertToInteractive(key) {\n",
              "        const element = document.querySelector('#df-66339a3e-1c02-4cab-8682-4f0652cc99e8');\n",
              "        const dataTable =\n",
              "          await google.colab.kernel.invokeFunction('convertToInteractive',\n",
              "                                                    [key], {});\n",
              "        if (!dataTable) return;\n",
              "\n",
              "        const docLinkHtml = 'Like what you see? Visit the ' +\n",
              "          '<a target=\"_blank\" href=https://colab.research.google.com/notebooks/data_table.ipynb>data table notebook</a>'\n",
              "          + ' to learn more about interactive tables.';\n",
              "        element.innerHTML = '';\n",
              "        dataTable['output_type'] = 'display_data';\n",
              "        await google.colab.output.renderOutput(dataTable, element);\n",
              "        const docLink = document.createElement('div');\n",
              "        docLink.innerHTML = docLinkHtml;\n",
              "        element.appendChild(docLink);\n",
              "      }\n",
              "    </script>\n",
              "  </div>\n",
              "\n",
              "\n",
              "<div id=\"df-6f603c40-e467-487a-b6e8-60582b6e112e\">\n",
              "  <button class=\"colab-df-quickchart\" onclick=\"quickchart('df-6f603c40-e467-487a-b6e8-60582b6e112e')\"\n",
              "            title=\"Suggest charts.\"\n",
              "            style=\"display:none;\">\n",
              "\n",
              "<svg xmlns=\"http://www.w3.org/2000/svg\" height=\"24px\"viewBox=\"0 0 24 24\"\n",
              "     width=\"24px\">\n",
              "    <g>\n",
              "        <path d=\"M19 3H5c-1.1 0-2 .9-2 2v14c0 1.1.9 2 2 2h14c1.1 0 2-.9 2-2V5c0-1.1-.9-2-2-2zM9 17H7v-7h2v7zm4 0h-2V7h2v10zm4 0h-2v-4h2v4z\"/>\n",
              "    </g>\n",
              "</svg>\n",
              "  </button>\n",
              "\n",
              "<style>\n",
              "  .colab-df-quickchart {\n",
              "      --bg-color: #E8F0FE;\n",
              "      --fill-color: #1967D2;\n",
              "      --hover-bg-color: #E2EBFA;\n",
              "      --hover-fill-color: #174EA6;\n",
              "      --disabled-fill-color: #AAA;\n",
              "      --disabled-bg-color: #DDD;\n",
              "  }\n",
              "\n",
              "  [theme=dark] .colab-df-quickchart {\n",
              "      --bg-color: #3B4455;\n",
              "      --fill-color: #D2E3FC;\n",
              "      --hover-bg-color: #434B5C;\n",
              "      --hover-fill-color: #FFFFFF;\n",
              "      --disabled-bg-color: #3B4455;\n",
              "      --disabled-fill-color: #666;\n",
              "  }\n",
              "\n",
              "  .colab-df-quickchart {\n",
              "    background-color: var(--bg-color);\n",
              "    border: none;\n",
              "    border-radius: 50%;\n",
              "    cursor: pointer;\n",
              "    display: none;\n",
              "    fill: var(--fill-color);\n",
              "    height: 32px;\n",
              "    padding: 0;\n",
              "    width: 32px;\n",
              "  }\n",
              "\n",
              "  .colab-df-quickchart:hover {\n",
              "    background-color: var(--hover-bg-color);\n",
              "    box-shadow: 0 1px 2px rgba(60, 64, 67, 0.3), 0 1px 3px 1px rgba(60, 64, 67, 0.15);\n",
              "    fill: var(--button-hover-fill-color);\n",
              "  }\n",
              "\n",
              "  .colab-df-quickchart-complete:disabled,\n",
              "  .colab-df-quickchart-complete:disabled:hover {\n",
              "    background-color: var(--disabled-bg-color);\n",
              "    fill: var(--disabled-fill-color);\n",
              "    box-shadow: none;\n",
              "  }\n",
              "\n",
              "  .colab-df-spinner {\n",
              "    border: 2px solid var(--fill-color);\n",
              "    border-color: transparent;\n",
              "    border-bottom-color: var(--fill-color);\n",
              "    animation:\n",
              "      spin 1s steps(1) infinite;\n",
              "  }\n",
              "\n",
              "  @keyframes spin {\n",
              "    0% {\n",
              "      border-color: transparent;\n",
              "      border-bottom-color: var(--fill-color);\n",
              "      border-left-color: var(--fill-color);\n",
              "    }\n",
              "    20% {\n",
              "      border-color: transparent;\n",
              "      border-left-color: var(--fill-color);\n",
              "      border-top-color: var(--fill-color);\n",
              "    }\n",
              "    30% {\n",
              "      border-color: transparent;\n",
              "      border-left-color: var(--fill-color);\n",
              "      border-top-color: var(--fill-color);\n",
              "      border-right-color: var(--fill-color);\n",
              "    }\n",
              "    40% {\n",
              "      border-color: transparent;\n",
              "      border-right-color: var(--fill-color);\n",
              "      border-top-color: var(--fill-color);\n",
              "    }\n",
              "    60% {\n",
              "      border-color: transparent;\n",
              "      border-right-color: var(--fill-color);\n",
              "    }\n",
              "    80% {\n",
              "      border-color: transparent;\n",
              "      border-right-color: var(--fill-color);\n",
              "      border-bottom-color: var(--fill-color);\n",
              "    }\n",
              "    90% {\n",
              "      border-color: transparent;\n",
              "      border-bottom-color: var(--fill-color);\n",
              "    }\n",
              "  }\n",
              "</style>\n",
              "\n",
              "  <script>\n",
              "    async function quickchart(key) {\n",
              "      const quickchartButtonEl =\n",
              "        document.querySelector('#' + key + ' button');\n",
              "      quickchartButtonEl.disabled = true;  // To prevent multiple clicks.\n",
              "      quickchartButtonEl.classList.add('colab-df-spinner');\n",
              "      try {\n",
              "        const charts = await google.colab.kernel.invokeFunction(\n",
              "            'suggestCharts', [key], {});\n",
              "      } catch (error) {\n",
              "        console.error('Error during call to suggestCharts:', error);\n",
              "      }\n",
              "      quickchartButtonEl.classList.remove('colab-df-spinner');\n",
              "      quickchartButtonEl.classList.add('colab-df-quickchart-complete');\n",
              "    }\n",
              "    (() => {\n",
              "      let quickchartButtonEl =\n",
              "        document.querySelector('#df-6f603c40-e467-487a-b6e8-60582b6e112e button');\n",
              "      quickchartButtonEl.style.display =\n",
              "        google.colab.kernel.accessAllowed ? 'block' : 'none';\n",
              "    })();\n",
              "  </script>\n",
              "</div>\n",
              "    </div>\n",
              "  </div>\n"
            ]
          },
          "metadata": {},
          "execution_count": 79
        }
      ]
    },
    {
      "cell_type": "code",
      "source": [
        "df_dim_rubro2.shape"
      ],
      "metadata": {
        "colab": {
          "base_uri": "https://localhost:8080/"
        },
        "id": "QzY_sijVKyMm",
        "outputId": "8339009f-49dd-47f7-c184-03db74f354bb"
      },
      "execution_count": null,
      "outputs": [
        {
          "output_type": "execute_result",
          "data": {
            "text/plain": [
              "(342, 2)"
            ]
          },
          "metadata": {},
          "execution_count": 80
        }
      ]
    },
    {
      "cell_type": "code",
      "source": [
        "#reemplazamos los valores de la columna sector de la tabla principal por los IDs de los valores unicos\n",
        "df['Rubro2'] = df['Rubro2'].replace(df_dim_rubro2.set_index('Rubro2')['id_rubro2'])\n",
        "#Se renombra el titulo de la columna para mejor comprension del cambio\n",
        "df.rename(columns={'Rubro2': 'id_rubro2'}, inplace=True)\n",
        "#Seteamos a entero el campo\n",
        "df['id_rubro2'] = df['id_rubro2'].astype(int)\n",
        "df.shape"
      ],
      "metadata": {
        "colab": {
          "base_uri": "https://localhost:8080/"
        },
        "id": "gxmJ1ukQKyC9",
        "outputId": "b18d8ffd-7f67-4c24-901f-6812679c6258"
      },
      "execution_count": null,
      "outputs": [
        {
          "output_type": "execute_result",
          "data": {
            "text/plain": [
              "(1389235, 68)"
            ]
          },
          "metadata": {},
          "execution_count": 81
        }
      ]
    },
    {
      "cell_type": "code",
      "source": [
        "df_dim_rubro2.dtypes"
      ],
      "metadata": {
        "colab": {
          "base_uri": "https://localhost:8080/"
        },
        "id": "Pvxi8TDIMegw",
        "outputId": "2af42404-0ccd-4109-a3cb-5908c38568dd"
      },
      "execution_count": null,
      "outputs": [
        {
          "output_type": "execute_result",
          "data": {
            "text/plain": [
              "id_rubro2     int64\n",
              "Rubro2       object\n",
              "dtype: object"
            ]
          },
          "metadata": {},
          "execution_count": 82
        }
      ]
    },
    {
      "cell_type": "code",
      "source": [
        "# Iteramos a través de las columnas y aplicamos la función a las columnas de tipo 'object'\n",
        "for columna in df_dim_rubro2.select_dtypes(include=['object']):\n",
        "    print(columna)\n",
        "    df_dim_rubro2[columna] = df_dim_rubro2[columna].apply(normalize_text)"
      ],
      "metadata": {
        "colab": {
          "base_uri": "https://localhost:8080/"
        },
        "id": "mct2UnHK4lSH",
        "outputId": "abba0f64-3d56-4787-b9f1-80faba2f6621"
      },
      "execution_count": null,
      "outputs": [
        {
          "output_type": "stream",
          "name": "stdout",
          "text": [
            "Rubro2\n"
          ]
        }
      ]
    },
    {
      "cell_type": "code",
      "source": [
        "# Guardar la tabla dinamica en la carpeta de tablas\n",
        "df_dim_rubro2.to_csv(directorio_tablas_dinamicas + \"/dim_rubro2.csv\", index=False)"
      ],
      "metadata": {
        "id": "I27XNUew4lHX"
      },
      "execution_count": null,
      "outputs": []
    },
    {
      "cell_type": "markdown",
      "source": [
        "#### 11. Tabla **dim_rubros3** *(id_rubro3, Rubro3)*"
      ],
      "metadata": {
        "id": "vXUrPp4h-UkI"
      }
    },
    {
      "cell_type": "code",
      "source": [
        "#validamos cantidad de valores nulos en el campo objetivo\n",
        "cant_nulos = df['Rubro3'].isnull().sum()\n",
        "cant_nulos"
      ],
      "metadata": {
        "id": "7YtjI2rB1L-t",
        "colab": {
          "base_uri": "https://localhost:8080/"
        },
        "outputId": "842b6f91-b137-4479-c1b3-b1e4a80bb2d0"
      },
      "execution_count": null,
      "outputs": [
        {
          "output_type": "execute_result",
          "data": {
            "text/plain": [
              "0"
            ]
          },
          "metadata": {},
          "execution_count": 85
        }
      ]
    },
    {
      "cell_type": "code",
      "source": [
        "# Obtener valores únicos y eliminar duplicados\n",
        "unicos_rubros3 = df['Rubro3'].unique()\n",
        "# Crear un nuevo DataFrame con dos columnas \"id_comuna\" y \"comunaunidad\"\n",
        "df_dim_rubro3 = pd.DataFrame({'id_rubro3': range(1, len(unicos_rubros3) + 1),\n",
        "                         'Rubro3': unicos_rubros3})\n",
        "\n",
        "df_dim_rubro3.head(5)"
      ],
      "metadata": {
        "colab": {
          "base_uri": "https://localhost:8080/",
          "height": 206
        },
        "id": "oNyZRgThMjP_",
        "outputId": "edd44ed1-7c0a-4f02-8d11-3cfb46600568"
      },
      "execution_count": null,
      "outputs": [
        {
          "output_type": "execute_result",
          "data": {
            "text/plain": [
              "   id_rubro3                                             Rubro3\n",
              "0          1  REACTIVOS DE ANALIZADORES CLÍNICOS Y DIAGNÓSTICOS\n",
              "1          2  PRODUCTOS ORTOPÉDICOS BLANDOS PARA LA EXTREMID...\n",
              "2          3  DISPOSITIVOS, ACCESORIOS Y SUMINISTROS PROTÉSICOS\n",
              "3          4      CONSTRUCCIONES PREFABRICADAS PARA EMERGENCIAS\n",
              "4          5                                    AGUJAS CLÍNICAS"
            ],
            "text/html": [
              "\n",
              "  <div id=\"df-cc6d9012-c217-467f-91d8-c2f525560f89\" class=\"colab-df-container\">\n",
              "    <div>\n",
              "<style scoped>\n",
              "    .dataframe tbody tr th:only-of-type {\n",
              "        vertical-align: middle;\n",
              "    }\n",
              "\n",
              "    .dataframe tbody tr th {\n",
              "        vertical-align: top;\n",
              "    }\n",
              "\n",
              "    .dataframe thead th {\n",
              "        text-align: right;\n",
              "    }\n",
              "</style>\n",
              "<table border=\"1\" class=\"dataframe\">\n",
              "  <thead>\n",
              "    <tr style=\"text-align: right;\">\n",
              "      <th></th>\n",
              "      <th>id_rubro3</th>\n",
              "      <th>Rubro3</th>\n",
              "    </tr>\n",
              "  </thead>\n",
              "  <tbody>\n",
              "    <tr>\n",
              "      <th>0</th>\n",
              "      <td>1</td>\n",
              "      <td>REACTIVOS DE ANALIZADORES CLÍNICOS Y DIAGNÓSTICOS</td>\n",
              "    </tr>\n",
              "    <tr>\n",
              "      <th>1</th>\n",
              "      <td>2</td>\n",
              "      <td>PRODUCTOS ORTOPÉDICOS BLANDOS PARA LA EXTREMID...</td>\n",
              "    </tr>\n",
              "    <tr>\n",
              "      <th>2</th>\n",
              "      <td>3</td>\n",
              "      <td>DISPOSITIVOS, ACCESORIOS Y SUMINISTROS PROTÉSICOS</td>\n",
              "    </tr>\n",
              "    <tr>\n",
              "      <th>3</th>\n",
              "      <td>4</td>\n",
              "      <td>CONSTRUCCIONES PREFABRICADAS PARA EMERGENCIAS</td>\n",
              "    </tr>\n",
              "    <tr>\n",
              "      <th>4</th>\n",
              "      <td>5</td>\n",
              "      <td>AGUJAS CLÍNICAS</td>\n",
              "    </tr>\n",
              "  </tbody>\n",
              "</table>\n",
              "</div>\n",
              "    <div class=\"colab-df-buttons\">\n",
              "\n",
              "  <div class=\"colab-df-container\">\n",
              "    <button class=\"colab-df-convert\" onclick=\"convertToInteractive('df-cc6d9012-c217-467f-91d8-c2f525560f89')\"\n",
              "            title=\"Convert this dataframe to an interactive table.\"\n",
              "            style=\"display:none;\">\n",
              "\n",
              "  <svg xmlns=\"http://www.w3.org/2000/svg\" height=\"24px\" viewBox=\"0 -960 960 960\">\n",
              "    <path d=\"M120-120v-720h720v720H120Zm60-500h600v-160H180v160Zm220 220h160v-160H400v160Zm0 220h160v-160H400v160ZM180-400h160v-160H180v160Zm440 0h160v-160H620v160ZM180-180h160v-160H180v160Zm440 0h160v-160H620v160Z\"/>\n",
              "  </svg>\n",
              "    </button>\n",
              "\n",
              "  <style>\n",
              "    .colab-df-container {\n",
              "      display:flex;\n",
              "      gap: 12px;\n",
              "    }\n",
              "\n",
              "    .colab-df-convert {\n",
              "      background-color: #E8F0FE;\n",
              "      border: none;\n",
              "      border-radius: 50%;\n",
              "      cursor: pointer;\n",
              "      display: none;\n",
              "      fill: #1967D2;\n",
              "      height: 32px;\n",
              "      padding: 0 0 0 0;\n",
              "      width: 32px;\n",
              "    }\n",
              "\n",
              "    .colab-df-convert:hover {\n",
              "      background-color: #E2EBFA;\n",
              "      box-shadow: 0px 1px 2px rgba(60, 64, 67, 0.3), 0px 1px 3px 1px rgba(60, 64, 67, 0.15);\n",
              "      fill: #174EA6;\n",
              "    }\n",
              "\n",
              "    .colab-df-buttons div {\n",
              "      margin-bottom: 4px;\n",
              "    }\n",
              "\n",
              "    [theme=dark] .colab-df-convert {\n",
              "      background-color: #3B4455;\n",
              "      fill: #D2E3FC;\n",
              "    }\n",
              "\n",
              "    [theme=dark] .colab-df-convert:hover {\n",
              "      background-color: #434B5C;\n",
              "      box-shadow: 0px 1px 3px 1px rgba(0, 0, 0, 0.15);\n",
              "      filter: drop-shadow(0px 1px 2px rgba(0, 0, 0, 0.3));\n",
              "      fill: #FFFFFF;\n",
              "    }\n",
              "  </style>\n",
              "\n",
              "    <script>\n",
              "      const buttonEl =\n",
              "        document.querySelector('#df-cc6d9012-c217-467f-91d8-c2f525560f89 button.colab-df-convert');\n",
              "      buttonEl.style.display =\n",
              "        google.colab.kernel.accessAllowed ? 'block' : 'none';\n",
              "\n",
              "      async function convertToInteractive(key) {\n",
              "        const element = document.querySelector('#df-cc6d9012-c217-467f-91d8-c2f525560f89');\n",
              "        const dataTable =\n",
              "          await google.colab.kernel.invokeFunction('convertToInteractive',\n",
              "                                                    [key], {});\n",
              "        if (!dataTable) return;\n",
              "\n",
              "        const docLinkHtml = 'Like what you see? Visit the ' +\n",
              "          '<a target=\"_blank\" href=https://colab.research.google.com/notebooks/data_table.ipynb>data table notebook</a>'\n",
              "          + ' to learn more about interactive tables.';\n",
              "        element.innerHTML = '';\n",
              "        dataTable['output_type'] = 'display_data';\n",
              "        await google.colab.output.renderOutput(dataTable, element);\n",
              "        const docLink = document.createElement('div');\n",
              "        docLink.innerHTML = docLinkHtml;\n",
              "        element.appendChild(docLink);\n",
              "      }\n",
              "    </script>\n",
              "  </div>\n",
              "\n",
              "\n",
              "<div id=\"df-b4bed19d-3b1b-4341-af47-70a453dfcaca\">\n",
              "  <button class=\"colab-df-quickchart\" onclick=\"quickchart('df-b4bed19d-3b1b-4341-af47-70a453dfcaca')\"\n",
              "            title=\"Suggest charts.\"\n",
              "            style=\"display:none;\">\n",
              "\n",
              "<svg xmlns=\"http://www.w3.org/2000/svg\" height=\"24px\"viewBox=\"0 0 24 24\"\n",
              "     width=\"24px\">\n",
              "    <g>\n",
              "        <path d=\"M19 3H5c-1.1 0-2 .9-2 2v14c0 1.1.9 2 2 2h14c1.1 0 2-.9 2-2V5c0-1.1-.9-2-2-2zM9 17H7v-7h2v7zm4 0h-2V7h2v10zm4 0h-2v-4h2v4z\"/>\n",
              "    </g>\n",
              "</svg>\n",
              "  </button>\n",
              "\n",
              "<style>\n",
              "  .colab-df-quickchart {\n",
              "      --bg-color: #E8F0FE;\n",
              "      --fill-color: #1967D2;\n",
              "      --hover-bg-color: #E2EBFA;\n",
              "      --hover-fill-color: #174EA6;\n",
              "      --disabled-fill-color: #AAA;\n",
              "      --disabled-bg-color: #DDD;\n",
              "  }\n",
              "\n",
              "  [theme=dark] .colab-df-quickchart {\n",
              "      --bg-color: #3B4455;\n",
              "      --fill-color: #D2E3FC;\n",
              "      --hover-bg-color: #434B5C;\n",
              "      --hover-fill-color: #FFFFFF;\n",
              "      --disabled-bg-color: #3B4455;\n",
              "      --disabled-fill-color: #666;\n",
              "  }\n",
              "\n",
              "  .colab-df-quickchart {\n",
              "    background-color: var(--bg-color);\n",
              "    border: none;\n",
              "    border-radius: 50%;\n",
              "    cursor: pointer;\n",
              "    display: none;\n",
              "    fill: var(--fill-color);\n",
              "    height: 32px;\n",
              "    padding: 0;\n",
              "    width: 32px;\n",
              "  }\n",
              "\n",
              "  .colab-df-quickchart:hover {\n",
              "    background-color: var(--hover-bg-color);\n",
              "    box-shadow: 0 1px 2px rgba(60, 64, 67, 0.3), 0 1px 3px 1px rgba(60, 64, 67, 0.15);\n",
              "    fill: var(--button-hover-fill-color);\n",
              "  }\n",
              "\n",
              "  .colab-df-quickchart-complete:disabled,\n",
              "  .colab-df-quickchart-complete:disabled:hover {\n",
              "    background-color: var(--disabled-bg-color);\n",
              "    fill: var(--disabled-fill-color);\n",
              "    box-shadow: none;\n",
              "  }\n",
              "\n",
              "  .colab-df-spinner {\n",
              "    border: 2px solid var(--fill-color);\n",
              "    border-color: transparent;\n",
              "    border-bottom-color: var(--fill-color);\n",
              "    animation:\n",
              "      spin 1s steps(1) infinite;\n",
              "  }\n",
              "\n",
              "  @keyframes spin {\n",
              "    0% {\n",
              "      border-color: transparent;\n",
              "      border-bottom-color: var(--fill-color);\n",
              "      border-left-color: var(--fill-color);\n",
              "    }\n",
              "    20% {\n",
              "      border-color: transparent;\n",
              "      border-left-color: var(--fill-color);\n",
              "      border-top-color: var(--fill-color);\n",
              "    }\n",
              "    30% {\n",
              "      border-color: transparent;\n",
              "      border-left-color: var(--fill-color);\n",
              "      border-top-color: var(--fill-color);\n",
              "      border-right-color: var(--fill-color);\n",
              "    }\n",
              "    40% {\n",
              "      border-color: transparent;\n",
              "      border-right-color: var(--fill-color);\n",
              "      border-top-color: var(--fill-color);\n",
              "    }\n",
              "    60% {\n",
              "      border-color: transparent;\n",
              "      border-right-color: var(--fill-color);\n",
              "    }\n",
              "    80% {\n",
              "      border-color: transparent;\n",
              "      border-right-color: var(--fill-color);\n",
              "      border-bottom-color: var(--fill-color);\n",
              "    }\n",
              "    90% {\n",
              "      border-color: transparent;\n",
              "      border-bottom-color: var(--fill-color);\n",
              "    }\n",
              "  }\n",
              "</style>\n",
              "\n",
              "  <script>\n",
              "    async function quickchart(key) {\n",
              "      const quickchartButtonEl =\n",
              "        document.querySelector('#' + key + ' button');\n",
              "      quickchartButtonEl.disabled = true;  // To prevent multiple clicks.\n",
              "      quickchartButtonEl.classList.add('colab-df-spinner');\n",
              "      try {\n",
              "        const charts = await google.colab.kernel.invokeFunction(\n",
              "            'suggestCharts', [key], {});\n",
              "      } catch (error) {\n",
              "        console.error('Error during call to suggestCharts:', error);\n",
              "      }\n",
              "      quickchartButtonEl.classList.remove('colab-df-spinner');\n",
              "      quickchartButtonEl.classList.add('colab-df-quickchart-complete');\n",
              "    }\n",
              "    (() => {\n",
              "      let quickchartButtonEl =\n",
              "        document.querySelector('#df-b4bed19d-3b1b-4341-af47-70a453dfcaca button');\n",
              "      quickchartButtonEl.style.display =\n",
              "        google.colab.kernel.accessAllowed ? 'block' : 'none';\n",
              "    })();\n",
              "  </script>\n",
              "</div>\n",
              "    </div>\n",
              "  </div>\n"
            ]
          },
          "metadata": {},
          "execution_count": 86
        }
      ]
    },
    {
      "cell_type": "code",
      "source": [
        "df_dim_rubro3.shape"
      ],
      "metadata": {
        "colab": {
          "base_uri": "https://localhost:8080/"
        },
        "id": "7zQtEg1UMjIj",
        "outputId": "b7c9810c-bfa7-4b07-d855-fce7d4b54dda"
      },
      "execution_count": null,
      "outputs": [
        {
          "output_type": "execute_result",
          "data": {
            "text/plain": [
              "(1747, 2)"
            ]
          },
          "metadata": {},
          "execution_count": 87
        }
      ]
    },
    {
      "cell_type": "code",
      "source": [
        "#reemplazamos los valores de la columna sector de la tabla principal por los IDs de los valores unicos\n",
        "df['Rubro3'] = df['Rubro3'].replace(df_dim_rubro3.set_index('Rubro3')['id_rubro3'])\n",
        "#Se renombra el titulo de la columna para mejor comprension del cambio\n",
        "df.rename(columns={'Rubro3': 'id_rubro3'}, inplace=True)\n",
        "#Seteamos a entero el campo\n",
        "df['id_rubro3'] = df['id_rubro3'].astype(int)\n",
        "df.shape"
      ],
      "metadata": {
        "colab": {
          "base_uri": "https://localhost:8080/"
        },
        "id": "wvyQpKMWMjA4",
        "outputId": "bc214fbc-5679-431a-c235-d9de3e1dc5b9"
      },
      "execution_count": null,
      "outputs": [
        {
          "output_type": "execute_result",
          "data": {
            "text/plain": [
              "(1389235, 68)"
            ]
          },
          "metadata": {},
          "execution_count": 88
        }
      ]
    },
    {
      "cell_type": "code",
      "source": [
        "df_dim_rubro3.dtypes"
      ],
      "metadata": {
        "colab": {
          "base_uri": "https://localhost:8080/"
        },
        "id": "tZxK1IsLMi4y",
        "outputId": "69976495-2ab9-4ca6-b8ef-85e031a8f61d"
      },
      "execution_count": null,
      "outputs": [
        {
          "output_type": "execute_result",
          "data": {
            "text/plain": [
              "id_rubro3     int64\n",
              "Rubro3       object\n",
              "dtype: object"
            ]
          },
          "metadata": {},
          "execution_count": 89
        }
      ]
    },
    {
      "cell_type": "code",
      "source": [
        "# Iteramos a través de las columnas y aplicamos la función a las columnas de tipo 'object'\n",
        "for columna in df_dim_rubro3.select_dtypes(include=['object']):\n",
        "    print(columna)\n",
        "    df_dim_rubro3[columna] = df_dim_rubro3[columna].apply(normalize_text)"
      ],
      "metadata": {
        "colab": {
          "base_uri": "https://localhost:8080/"
        },
        "id": "H_FK1owl4jez",
        "outputId": "9f7652ed-801c-4e07-b9d0-9e6a2c69e51d"
      },
      "execution_count": null,
      "outputs": [
        {
          "output_type": "stream",
          "name": "stdout",
          "text": [
            "Rubro3\n"
          ]
        }
      ]
    },
    {
      "cell_type": "code",
      "source": [
        "# Guardar la tabla dinamica en la carpeta de tablas\n",
        "df_dim_rubro3.to_csv(directorio_tablas_dinamicas + \"/dim_rubro3.csv\", index=False)"
      ],
      "metadata": {
        "id": "MlA8BYqa4jOb"
      },
      "execution_count": null,
      "outputs": []
    },
    {
      "cell_type": "markdown",
      "source": [
        "-----------------------------------------------------------------------\n"
      ],
      "metadata": {
        "id": "BWcRoMFfxwzP"
      }
    },
    {
      "cell_type": "code",
      "source": [
        "df.shape"
      ],
      "metadata": {
        "colab": {
          "base_uri": "https://localhost:8080/"
        },
        "id": "JeLxHq43_YcO",
        "outputId": "31a22585-ee3b-4ee8-edaa-ee089756973b"
      },
      "execution_count": null,
      "outputs": [
        {
          "output_type": "execute_result",
          "data": {
            "text/plain": [
              "(1389235, 68)"
            ]
          },
          "metadata": {},
          "execution_count": 92
        }
      ]
    },
    {
      "cell_type": "code",
      "source": [
        "# Ahora si podemos contar la cantidad de NaN totales en los registros a eliminar\n",
        "cols_with_nan = []\n",
        "nan_for_cols =  df.isnull().sum()\n",
        "total_nulos = 0\n",
        "total_registros = len(df)\n",
        "print('Recuento de valores nulos')\n",
        "for col in nan_for_cols.index:\n",
        "  total_nulos += nan_for_cols.get(col)\n",
        "  porcentaje_nulos = (nan_for_cols.get(col) / total_registros) * 100\n",
        "  porcentaje_nulos = \"{:.2f}%\".format(porcentaje_nulos)\n",
        "  if nan_for_cols.get(col) > 0:\n",
        "    print(f'{col}: {nan_for_cols.get(col)} = {porcentaje_nulos}%')\n",
        "\n",
        "print(f'total: {total_nulos}')\n"
      ],
      "metadata": {
        "colab": {
          "base_uri": "https://localhost:8080/"
        },
        "id": "96xziuBoA2n9",
        "outputId": "f8763ab8-2603-4386-a4dc-764425edf59f"
      },
      "execution_count": null,
      "outputs": [
        {
          "output_type": "stream",
          "name": "stdout",
          "text": [
            "Recuento de valores nulos\n",
            "Contrato: 55689 = 4.01%%\n",
            "FechaAdjudicacion: 2489 = 0.18%%\n",
            "UnidadTiempoEvaluacion: 23226 = 1.67%%\n",
            "Estimacion: 3049 = 0.22%%\n",
            "MontoEstimado: 1570 = 0.11%%\n",
            "Tiempo: 1070402 = 77.05%%\n",
            "ObservacionContrato: 1110027 = 79.90%%\n",
            "TipoAprobacion: 291199 = 20.96%%\n",
            "FechaAprobacion: 291199 = 20.96%%\n",
            "Descripcion linea Adquisicion: 5082 = 0.37%%\n",
            "NombreProveedor: 75 = 0.01%%\n",
            "DescripcionProveedor: 4 = 0.00%%\n",
            "Monto Estimado Adjudicado: 212607 = 15.30%%\n",
            "FechaEnvioOferta: 10 = 0.00%%\n",
            "total: 3066628\n"
          ]
        }
      ]
    },
    {
      "cell_type": "code",
      "source": [
        "#procedemos a eliminar los registros que tengan valore nulos por debajo del 5%\n",
        "# Eliminar registros donde sector tenga valores vacíos\n",
        "df = df.dropna(subset=['Contrato','FechaAdjudicacion','UnidadTiempoEvaluacion','Estimacion','MontoEstimado',\n",
        "                       'Descripcion linea Adquisicion','NombreProveedor','DescripcionProveedor',\n",
        "                       'FechaEnvioOferta'])"
      ],
      "metadata": {
        "id": "k9Q7YDC0uxx6"
      },
      "execution_count": null,
      "outputs": []
    },
    {
      "cell_type": "code",
      "source": [
        "# Ahora si podemos contar la cantidad de NaN totales en los registros a eliminar\n",
        "cols_with_nan = []\n",
        "nan_for_cols =  df.isnull().sum()\n",
        "total_nulos = 0\n",
        "total_registros = len(df)\n",
        "print('Recuento de valores nulos')\n",
        "for col in nan_for_cols.index:\n",
        "  total_nulos += nan_for_cols.get(col)\n",
        "  porcentaje_nulos = (nan_for_cols.get(col) / total_registros) * 100\n",
        "  porcentaje_nulos = \"{:.2f}%\".format(porcentaje_nulos)\n",
        "  if nan_for_cols.get(col) > 0:\n",
        "    print(f'{col}: {nan_for_cols.get(col)} = {porcentaje_nulos}%')\n",
        "\n",
        "print(f'total: {total_nulos}')"
      ],
      "metadata": {
        "colab": {
          "base_uri": "https://localhost:8080/"
        },
        "id": "shAgesb1znkx",
        "outputId": "dd70d266-9f5b-4994-861a-d8616a0cad47"
      },
      "execution_count": null,
      "outputs": [
        {
          "output_type": "stream",
          "name": "stdout",
          "text": [
            "Recuento de valores nulos\n",
            "Tiempo: 1001443 = 76.62%%\n",
            "ObservacionContrato: 1049696 = 80.31%%\n",
            "TipoAprobacion: 279959 = 21.42%%\n",
            "FechaAprobacion: 279959 = 21.42%%\n",
            "Monto Estimado Adjudicado: 206195 = 15.78%%\n",
            "total: 2817252\n"
          ]
        }
      ]
    },
    {
      "cell_type": "code",
      "source": [
        "#hacemos las tranformaciones de las columnas restantes si es posible\n",
        "#Tiempo es entero y de no haber valor se considera que el valor debe ser cero\n",
        "df['Tiempo'] = df['Tiempo'].fillna(0).astype(int)\n",
        "df['Tiempo']"
      ],
      "metadata": {
        "colab": {
          "base_uri": "https://localhost:8080/"
        },
        "id": "5uE1l8aBkJFL",
        "outputId": "bee5194b-61aa-4b8f-af25-8c4581a82084"
      },
      "execution_count": null,
      "outputs": [
        {
          "output_type": "stream",
          "name": "stderr",
          "text": [
            "<ipython-input-123-1b44f0efe8a7>:2: SettingWithCopyWarning: \n",
            "A value is trying to be set on a copy of a slice from a DataFrame.\n",
            "Try using .loc[row_indexer,col_indexer] = value instead\n",
            "\n",
            "See the caveats in the documentation: https://pandas.pydata.org/pandas-docs/stable/user_guide/indexing.html#returning-a-view-versus-a-copy\n",
            "  df['Tiempo'] = df['Tiempo'].fillna(0).astype(int)\n"
          ]
        },
        {
          "output_type": "execute_result",
          "data": {
            "text/plain": [
              "0          60\n",
              "1          60\n",
              "2          12\n",
              "3          12\n",
              "4          12\n",
              "           ..\n",
              "1468631     0\n",
              "1468632     0\n",
              "1468633     0\n",
              "1468634     0\n",
              "1468635     0\n",
              "Name: Tiempo, Length: 1307068, dtype: int64"
            ]
          },
          "metadata": {},
          "execution_count": 123
        }
      ]
    },
    {
      "cell_type": "code",
      "source": [
        "#TipoAprobacion es entero y de no haber valor se considera que el valor debe ser cero\n",
        "df['TipoAprobacion'] = df['TipoAprobacion'].fillna(0).astype(int)\n",
        "df['TipoAprobacion']"
      ],
      "metadata": {
        "colab": {
          "base_uri": "https://localhost:8080/"
        },
        "id": "H5x9GIAT4ZEM",
        "outputId": "bca2d97c-7838-46cd-d702-19d2b2576bf2"
      },
      "execution_count": null,
      "outputs": [
        {
          "output_type": "stream",
          "name": "stderr",
          "text": [
            "<ipython-input-124-f6291e742564>:2: SettingWithCopyWarning: \n",
            "A value is trying to be set on a copy of a slice from a DataFrame.\n",
            "Try using .loc[row_indexer,col_indexer] = value instead\n",
            "\n",
            "See the caveats in the documentation: https://pandas.pydata.org/pandas-docs/stable/user_guide/indexing.html#returning-a-view-versus-a-copy\n",
            "  df['TipoAprobacion'] = df['TipoAprobacion'].fillna(0).astype(int)\n"
          ]
        },
        {
          "output_type": "execute_result",
          "data": {
            "text/plain": [
              "0          0\n",
              "1          0\n",
              "2          0\n",
              "3          0\n",
              "4          0\n",
              "          ..\n",
              "1468631    2\n",
              "1468632    2\n",
              "1468633    2\n",
              "1468634    2\n",
              "1468635    2\n",
              "Name: TipoAprobacion, Length: 1307068, dtype: int64"
            ]
          },
          "metadata": {},
          "execution_count": 124
        }
      ]
    },
    {
      "cell_type": "code",
      "source": [
        "#FechaAprobacion es una fecha y exactamente tiene la misma cantidad de valores nulos\n",
        "#que tipo de aprobacion 0 por lo que podemos establecer una fecha de 01/01/1900 a los\n",
        "#que esten tipo 0\n",
        "df['FechaAprobacion'] = df['FechaAprobacion'].fillna('01-01-1900')\n",
        "df['FechaAprobacion']"
      ],
      "metadata": {
        "colab": {
          "base_uri": "https://localhost:8080/"
        },
        "id": "WaaD2jEx438c",
        "outputId": "a4e7ecd3-035f-40ac-d396-541d40fd978f"
      },
      "execution_count": null,
      "outputs": [
        {
          "output_type": "stream",
          "name": "stderr",
          "text": [
            "<ipython-input-125-0d451d7373e4>:4: SettingWithCopyWarning: \n",
            "A value is trying to be set on a copy of a slice from a DataFrame.\n",
            "Try using .loc[row_indexer,col_indexer] = value instead\n",
            "\n",
            "See the caveats in the documentation: https://pandas.pydata.org/pandas-docs/stable/user_guide/indexing.html#returning-a-view-versus-a-copy\n",
            "  df['FechaAprobacion'] = df['FechaAprobacion'].fillna('01-01-1900')\n"
          ]
        },
        {
          "output_type": "execute_result",
          "data": {
            "text/plain": [
              "0          01-01-1900\n",
              "1          01-01-1900\n",
              "2          01-01-1900\n",
              "3          01-01-1900\n",
              "4          01-01-1900\n",
              "              ...    \n",
              "1468631    2023-04-21\n",
              "1468632    2023-04-21\n",
              "1468633    2023-04-21\n",
              "1468634    2023-04-21\n",
              "1468635    2023-04-21\n",
              "Name: FechaAprobacion, Length: 1307068, dtype: object"
            ]
          },
          "metadata": {},
          "execution_count": 125
        }
      ]
    },
    {
      "cell_type": "code",
      "source": [
        "df.shape"
      ],
      "metadata": {
        "colab": {
          "base_uri": "https://localhost:8080/"
        },
        "id": "Ld7LDq2z-jMs",
        "outputId": "e5cb04d1-f063-4a46-ac3b-001655427a8c"
      },
      "execution_count": null,
      "outputs": [
        {
          "output_type": "execute_result",
          "data": {
            "text/plain": [
              "(1307068, 68)"
            ]
          },
          "metadata": {},
          "execution_count": 136
        }
      ]
    },
    {
      "cell_type": "code",
      "source": [
        "#Monto Estimado Adjudicado es entero y esta relacionado a tipo aprobacion por lo que si esta en estado 0\n",
        "# no tiene monto estimado aun, por lo que se puede establecer a cero\n",
        "df['Monto Estimado Adjudicado'] = pd.to_numeric(df['Monto Estimado Adjudicado'], errors='coerce')\n",
        "df = df[~df['Monto Estimado Adjudicado'].isna()]\n",
        "\n",
        "# Convertir la columna 'Monto Estimado Adjudicado' a tipo entero\n",
        "df['Monto Estimado Adjudicado'] = df['Monto Estimado Adjudicado'].astype(int)\n",
        "df['Monto Estimado Adjudicado']"
      ],
      "metadata": {
        "colab": {
          "base_uri": "https://localhost:8080/"
        },
        "id": "nRjmiZDX6LKO",
        "outputId": "2d7fc116-8d7f-408e-f1f7-3bdd8b2ac174"
      },
      "execution_count": null,
      "outputs": [
        {
          "output_type": "execute_result",
          "data": {
            "text/plain": [
              "0           61197907\n",
              "1           61197907\n",
              "2          117740940\n",
              "3          117740940\n",
              "4          117740940\n",
              "             ...    \n",
              "1468631     14266151\n",
              "1468632     14266151\n",
              "1468633     14266151\n",
              "1468634     14266151\n",
              "1468635     14266151\n",
              "Name: Monto Estimado Adjudicado, Length: 1288670, dtype: int64"
            ]
          },
          "metadata": {},
          "execution_count": 139
        }
      ]
    },
    {
      "cell_type": "code",
      "source": [
        "# Ahora si podemos contar la cantidad de NaN totales en los registros a eliminar\n",
        "cols_with_nan = []\n",
        "nan_for_cols =  df.isnull().sum()\n",
        "total_nulos = 0\n",
        "total_registros = len(df)\n",
        "print('Recuento de valores nulos')\n",
        "for col in nan_for_cols.index:\n",
        "  total_nulos += nan_for_cols.get(col)\n",
        "  porcentaje_nulos = (nan_for_cols.get(col) / total_registros) * 100\n",
        "  porcentaje_nulos = \"{:.2f}%\".format(porcentaje_nulos)\n",
        "  if nan_for_cols.get(col) > 0:\n",
        "    print(f'{col}: {nan_for_cols.get(col)} = {porcentaje_nulos}%')\n",
        "\n",
        "print(f'total: {total_nulos}')"
      ],
      "metadata": {
        "colab": {
          "base_uri": "https://localhost:8080/"
        },
        "id": "oidnBZfw6xpT",
        "outputId": "3f700b81-49e3-48d1-affc-09f263ac7826"
      },
      "execution_count": null,
      "outputs": [
        {
          "output_type": "stream",
          "name": "stdout",
          "text": [
            "Recuento de valores nulos\n",
            "ObservacionContrato: 1036863 = 80.46%%\n",
            "total: 1036863\n"
          ]
        }
      ]
    },
    {
      "cell_type": "markdown",
      "source": [
        "#### Limpiamos los caracteres especiales y guardamos los archivos de las tablas creadas"
      ],
      "metadata": {
        "id": "UO2QG-vDiRFB"
      }
    },
    {
      "cell_type": "code",
      "source": [
        "# Guardar la tabla dinamica en la carpeta de tablas\n",
        "df.to_csv(directorio_tablas_hecho + \"/fact_mercado_publico.csv\", index=False)"
      ],
      "metadata": {
        "id": "Bw2xakXa-0dG"
      },
      "execution_count": null,
      "outputs": []
    },
    {
      "cell_type": "code",
      "source": [],
      "metadata": {
        "id": "s7b14w7Z_8l1"
      },
      "execution_count": null,
      "outputs": []
    }
  ]
}